{
 "cells": [
  {
   "cell_type": "markdown",
   "id": "d8938f03-9e6e-4f75-9d65-7c58a925f79c",
   "metadata": {},
   "source": [
    "# Data Analysis Project Roadmap\n",
    "In this notebook we will be experimenting how does a data analysis project work and what points to keep in mind.\n",
    "I believe there are 2 approaches to have in mind before performing data analysis.\n",
    "- What does the data speak or what is the problem at hand?\n",
    "- Do we have a predicting label in the data?\n",
    "\n",
    "After giving a little research on this, i can conclude weather to perform predictive analysis or descriptive analysis.\n"
   ]
  },
  {
   "cell_type": "markdown",
   "id": "26ea239c-8e7d-43e2-89e5-61f5bcb99870",
   "metadata": {},
   "source": [
    "This notebook mainly focuses on descriptive analysis and following points to be kept in mind\n",
    "1. Agenda\n",
    "2. KPI's for solving the problem\n",
    "3. Data collection\n",
    "4. Data Exploration\n",
    "5. Cleaning the data\n",
    "6. Analysing and Visualizing the data"
   ]
  },
  {
   "cell_type": "markdown",
   "id": "418d3234-9b32-41d5-9e87-54499568a70c",
   "metadata": {},
   "source": [
    "### Agenda/Problem Statement:\n",
    "Below are the problem statements and we will see how we can use data to solve them\n",
    "- Skill Based job search\n",
    "- Job analysis based on location\n",
    "- Salary Comparision"
   ]
  },
  {
   "cell_type": "code",
   "execution_count": 1,
   "id": "8a9a77c6-9b3f-4cf5-b6c7-d3f9fe2449ec",
   "metadata": {
    "ExecuteTime": {
     "end_time": "2025-05-21T04:19:15.261297Z",
     "start_time": "2025-05-21T04:19:14.984579Z"
    }
   },
   "outputs": [],
   "source": [
    "import pandas as pd\n",
    "import numpy as np\n",
    "import matplotlib.pyplot as plt\n",
    "%matplotlib inline\n",
    "import seaborn as sns"
   ]
  },
  {
   "cell_type": "markdown",
   "id": "a533b21a-494d-49e5-a056-7af01b9ee6b0",
   "metadata": {},
   "source": [
    "### Data Collection:\n",
    "We have collected the data by cloning from the github"
   ]
  },
  {
   "cell_type": "code",
   "execution_count": 2,
   "id": "5cb85801-40fc-4ed2-aea3-5d83ea252a75",
   "metadata": {
    "ExecuteTime": {
     "end_time": "2025-05-21T04:19:15.470868Z",
     "start_time": "2025-05-21T04:19:15.322184Z"
    }
   },
   "outputs": [
    {
     "name": "stderr",
     "output_type": "stream",
     "text": [
      "fatal: destination path 'datasets' already exists and is not an empty directory.\n"
     ]
    }
   ],
   "source": [
    "!git clone https://github.com/AshishJangra27/datasets"
   ]
  },
  {
   "cell_type": "code",
   "execution_count": 3,
   "id": "8339bb86-2d2e-4a2b-b840-ca24f7553fe4",
   "metadata": {
    "ExecuteTime": {
     "end_time": "2025-05-21T04:19:15.660437Z",
     "start_time": "2025-05-21T04:19:15.654356Z"
    }
   },
   "outputs": [
    {
     "name": "stdout",
     "output_type": "stream",
     "text": [
      "Contents of the existing datasets directory:\n",
      "['.git', 'Airbnb', 'Cooking Labels', 'Cricket Players', 'Gaana', 'GFG Articles', 'Goodread Books', 'Hindi Corpus', 'IMDB Celeb', 'IMDB Movies', 'Job Postings', 'LICENSE', 'Myntra Products', 'OpenBook', 'README.md', 'Sherlock', 'Sneaker Sales', 'Swiggy Restaurants']\n"
     ]
    }
   ],
   "source": [
    "import os\n",
    "print('Contents of the existing datasets directory:')\n",
    "if os.path.exists('datasets'):\n",
    "    print(os.listdir('datasets'))"
   ]
  },
  {
   "cell_type": "code",
   "execution_count": 4,
   "id": "80003288-3016-47d0-8801-8d9aeb0db2ae",
   "metadata": {
    "ExecuteTime": {
     "end_time": "2025-05-21T04:19:16.604436Z",
     "start_time": "2025-05-21T04:19:15.678049Z"
    }
   },
   "outputs": [
    {
     "name": "stdout",
     "output_type": "stream",
     "text": [
      "files in the job posting directory: ['jobs.csv.zip']\n"
     ]
    }
   ],
   "source": [
    "job_path = 'datasets/Job Postings'\n",
    "files = os.listdir(job_path)\n",
    "print(f'files in the job posting directory: {files}')\n",
    "csv_files = [f for f in files if f.endswith('.csv.zip')]\n",
    "if csv_files:\n",
    "    data = pd.read_csv(os.path.join(job_path, csv_files[0]))\n",
    "else:\n",
    "    print('no csv files found in job postings')"
   ]
  },
  {
   "cell_type": "markdown",
   "id": "c7904f14-749d-42ec-afd1-856010ea79e4",
   "metadata": {},
   "source": [
    "### Summary Statistics/Data Exploration:\n",
    "1. Gather information about the data\n",
    "2. What are numerical and categorical variables\n",
    "3. What does the data describe\n",
    "4. How many null values per column\n",
    "5. Find the Duplicate values"
   ]
  },
  {
   "cell_type": "code",
   "execution_count": 5,
   "id": "cacb9d2f-eebe-4636-9ebe-67c8168baebd",
   "metadata": {
    "ExecuteTime": {
     "end_time": "2025-05-21T04:19:16.701546Z",
     "start_time": "2025-05-21T04:19:16.692763Z"
    }
   },
   "outputs": [
    {
     "data": {
      "text/plain": [
       "(79147, 12)"
      ]
     },
     "execution_count": 5,
     "metadata": {},
     "output_type": "execute_result"
    }
   ],
   "source": [
    "data.shape"
   ]
  },
  {
   "cell_type": "code",
   "execution_count": 6,
   "id": "d040b469-d7fe-423a-8f67-87de3c5c9e0b",
   "metadata": {
    "ExecuteTime": {
     "end_time": "2025-05-21T04:19:16.786180Z",
     "start_time": "2025-05-21T04:19:16.754634Z"
    }
   },
   "outputs": [
    {
     "data": {
      "text/html": [
       "<div>\n",
       "<style scoped>\n",
       "    .dataframe tbody tr th:only-of-type {\n",
       "        vertical-align: middle;\n",
       "    }\n",
       "\n",
       "    .dataframe tbody tr th {\n",
       "        vertical-align: top;\n",
       "    }\n",
       "\n",
       "    .dataframe thead th {\n",
       "        text-align: right;\n",
       "    }\n",
       "</style>\n",
       "<table border=\"1\" class=\"dataframe\">\n",
       "  <thead>\n",
       "    <tr style=\"text-align: right;\">\n",
       "      <th></th>\n",
       "      <th>job_id</th>\n",
       "      <th>job_role</th>\n",
       "      <th>company</th>\n",
       "      <th>experience</th>\n",
       "      <th>salary</th>\n",
       "      <th>location</th>\n",
       "      <th>rating</th>\n",
       "      <th>reviews</th>\n",
       "      <th>resposibilities</th>\n",
       "      <th>posted_on</th>\n",
       "      <th>job_link</th>\n",
       "      <th>company_link</th>\n",
       "    </tr>\n",
       "  </thead>\n",
       "  <tbody>\n",
       "    <tr>\n",
       "      <th>0</th>\n",
       "      <td>7.012301e+10</td>\n",
       "      <td>Branch Banking - Calling For Women Candidates</td>\n",
       "      <td>Hdfc Bank</td>\n",
       "      <td>1-6 Yrs</td>\n",
       "      <td>Not disclosed</td>\n",
       "      <td>Kolkata, Hyderabad/Secunderabad, Pune, Ahmedab...</td>\n",
       "      <td>4.0</td>\n",
       "      <td>39110 Reviews</td>\n",
       "      <td>Customer Service,Sales,Relationship Management</td>\n",
       "      <td>1 Day Ago</td>\n",
       "      <td>https://www.naukri.com/job-listings-branch-ban...</td>\n",
       "      <td>https://www.naukri.com/hdfc-bank-jobs-careers-213</td>\n",
       "    </tr>\n",
       "    <tr>\n",
       "      <th>1</th>\n",
       "      <td>6.012391e+10</td>\n",
       "      <td>Product Owner Senior Manager</td>\n",
       "      <td>Accenture</td>\n",
       "      <td>11-15 Yrs</td>\n",
       "      <td>Not disclosed</td>\n",
       "      <td>Kolkata, Mumbai, Hyderabad/Secunderabad, Pune,...</td>\n",
       "      <td>4.1</td>\n",
       "      <td>32129 Reviews</td>\n",
       "      <td>Product management,Market analysis,Change mana...</td>\n",
       "      <td>1 Day Ago</td>\n",
       "      <td>https://www.naukri.com/job-listings-product-ow...</td>\n",
       "      <td>https://www.naukri.com/accenture-jobs-careers-...</td>\n",
       "    </tr>\n",
       "    <tr>\n",
       "      <th>2</th>\n",
       "      <td>6.012391e+10</td>\n",
       "      <td>Employee Relations and Policies Associate Manager</td>\n",
       "      <td>Accenture</td>\n",
       "      <td>3-7 Yrs</td>\n",
       "      <td>Not disclosed</td>\n",
       "      <td>Kolkata, Mumbai, Hyderabad/Secunderabad, Pune,...</td>\n",
       "      <td>4.1</td>\n",
       "      <td>32129 Reviews</td>\n",
       "      <td>Business process,Change management,Team manage...</td>\n",
       "      <td>1 Day Ago</td>\n",
       "      <td>https://www.naukri.com/job-listings-employee-r...</td>\n",
       "      <td>https://www.naukri.com/accenture-jobs-careers-...</td>\n",
       "    </tr>\n",
       "    <tr>\n",
       "      <th>3</th>\n",
       "      <td>6.012391e+10</td>\n",
       "      <td>Employee Relations and Policies Specialist</td>\n",
       "      <td>Accenture</td>\n",
       "      <td>3-7 Yrs</td>\n",
       "      <td>Not disclosed</td>\n",
       "      <td>Kolkata, Mumbai, Hyderabad/Secunderabad, Pune,...</td>\n",
       "      <td>4.1</td>\n",
       "      <td>32129 Reviews</td>\n",
       "      <td>Business process,Change management,Team manage...</td>\n",
       "      <td>1 Day Ago</td>\n",
       "      <td>https://www.naukri.com/job-listings-employee-r...</td>\n",
       "      <td>https://www.naukri.com/accenture-jobs-careers-...</td>\n",
       "    </tr>\n",
       "    <tr>\n",
       "      <th>4</th>\n",
       "      <td>6.012301e+10</td>\n",
       "      <td>SAP BO Consultant</td>\n",
       "      <td>Mindtree</td>\n",
       "      <td>5-7 Yrs</td>\n",
       "      <td>Not disclosed</td>\n",
       "      <td>Hybrid - Kolkata, Hyderabad/Secunderabad, Pune...</td>\n",
       "      <td>4.1</td>\n",
       "      <td>3759 Reviews</td>\n",
       "      <td>SAP BO,PL / SQL,Oracle SQL,SAP Business Object...</td>\n",
       "      <td>1 Day Ago</td>\n",
       "      <td>https://www.naukri.com/job-listings-sap-bo-con...</td>\n",
       "      <td>https://www.naukri.com/mindtree-jobs-careers-3...</td>\n",
       "    </tr>\n",
       "  </tbody>\n",
       "</table>\n",
       "</div>"
      ],
      "text/plain": [
       "         job_id                                           job_role    company  \\\n",
       "0  7.012301e+10      Branch Banking - Calling For Women Candidates  Hdfc Bank   \n",
       "1  6.012391e+10                       Product Owner Senior Manager  Accenture   \n",
       "2  6.012391e+10  Employee Relations and Policies Associate Manager  Accenture   \n",
       "3  6.012391e+10         Employee Relations and Policies Specialist  Accenture   \n",
       "4  6.012301e+10                                  SAP BO Consultant   Mindtree   \n",
       "\n",
       "  experience         salary  \\\n",
       "0    1-6 Yrs  Not disclosed   \n",
       "1  11-15 Yrs  Not disclosed   \n",
       "2    3-7 Yrs  Not disclosed   \n",
       "3    3-7 Yrs  Not disclosed   \n",
       "4    5-7 Yrs  Not disclosed   \n",
       "\n",
       "                                            location  rating        reviews  \\\n",
       "0  Kolkata, Hyderabad/Secunderabad, Pune, Ahmedab...     4.0  39110 Reviews   \n",
       "1  Kolkata, Mumbai, Hyderabad/Secunderabad, Pune,...     4.1  32129 Reviews   \n",
       "2  Kolkata, Mumbai, Hyderabad/Secunderabad, Pune,...     4.1  32129 Reviews   \n",
       "3  Kolkata, Mumbai, Hyderabad/Secunderabad, Pune,...     4.1  32129 Reviews   \n",
       "4  Hybrid - Kolkata, Hyderabad/Secunderabad, Pune...     4.1   3759 Reviews   \n",
       "\n",
       "                                     resposibilities  posted_on  \\\n",
       "0     Customer Service,Sales,Relationship Management  1 Day Ago   \n",
       "1  Product management,Market analysis,Change mana...  1 Day Ago   \n",
       "2  Business process,Change management,Team manage...  1 Day Ago   \n",
       "3  Business process,Change management,Team manage...  1 Day Ago   \n",
       "4  SAP BO,PL / SQL,Oracle SQL,SAP Business Object...  1 Day Ago   \n",
       "\n",
       "                                            job_link  \\\n",
       "0  https://www.naukri.com/job-listings-branch-ban...   \n",
       "1  https://www.naukri.com/job-listings-product-ow...   \n",
       "2  https://www.naukri.com/job-listings-employee-r...   \n",
       "3  https://www.naukri.com/job-listings-employee-r...   \n",
       "4  https://www.naukri.com/job-listings-sap-bo-con...   \n",
       "\n",
       "                                        company_link  \n",
       "0  https://www.naukri.com/hdfc-bank-jobs-careers-213  \n",
       "1  https://www.naukri.com/accenture-jobs-careers-...  \n",
       "2  https://www.naukri.com/accenture-jobs-careers-...  \n",
       "3  https://www.naukri.com/accenture-jobs-careers-...  \n",
       "4  https://www.naukri.com/mindtree-jobs-careers-3...  "
      ]
     },
     "execution_count": 6,
     "metadata": {},
     "output_type": "execute_result"
    }
   ],
   "source": [
    "data.head()"
   ]
  },
  {
   "cell_type": "code",
   "execution_count": 7,
   "id": "b0a6e91d-74fc-4207-a78b-69f3c4421d39",
   "metadata": {
    "ExecuteTime": {
     "end_time": "2025-05-21T04:19:16.823192Z",
     "start_time": "2025-05-21T04:19:16.817203Z"
    }
   },
   "outputs": [
    {
     "data": {
      "text/plain": [
       "Index(['job_id', 'job_role', 'company', 'experience', 'salary', 'location',\n",
       "       'rating', 'reviews', 'resposibilities', 'posted_on', 'job_link',\n",
       "       'company_link'],\n",
       "      dtype='object')"
      ]
     },
     "execution_count": 7,
     "metadata": {},
     "output_type": "execute_result"
    }
   ],
   "source": [
    "data.columns"
   ]
  },
  {
   "cell_type": "code",
   "execution_count": 8,
   "id": "d985c98b-176b-4748-95b1-8e2a8941a03f",
   "metadata": {
    "ExecuteTime": {
     "end_time": "2025-05-21T04:19:17.174959Z",
     "start_time": "2025-05-21T04:19:16.901321Z"
    }
   },
   "outputs": [
    {
     "name": "stdout",
     "output_type": "stream",
     "text": [
      "<class 'pandas.core.frame.DataFrame'>\n",
      "RangeIndex: 79147 entries, 0 to 79146\n",
      "Data columns (total 12 columns):\n",
      " #   Column           Non-Null Count  Dtype  \n",
      "---  ------           --------------  -----  \n",
      " 0   job_id           78667 non-null  float64\n",
      " 1   job_role         78667 non-null  object \n",
      " 2   company          78666 non-null  object \n",
      " 3   experience       77398 non-null  object \n",
      " 4   salary           78667 non-null  object \n",
      " 5   location         77441 non-null  object \n",
      " 6   rating           42948 non-null  float64\n",
      " 7   reviews          42948 non-null  object \n",
      " 8   resposibilities  78647 non-null  object \n",
      " 9   posted_on        78667 non-null  object \n",
      " 10  job_link         78667 non-null  object \n",
      " 11  company_link     78667 non-null  object \n",
      "dtypes: float64(2), object(10)\n",
      "memory usage: 7.2+ MB\n"
     ]
    }
   ],
   "source": [
    "data.info()"
   ]
  },
  {
   "cell_type": "code",
   "execution_count": 9,
   "id": "ab662453-02a4-4110-83d8-d6804aee139e",
   "metadata": {
    "ExecuteTime": {
     "end_time": "2025-05-21T04:19:17.419719Z",
     "start_time": "2025-05-21T04:19:17.368241Z"
    }
   },
   "outputs": [
    {
     "data": {
      "text/html": [
       "<div>\n",
       "<style scoped>\n",
       "    .dataframe tbody tr th:only-of-type {\n",
       "        vertical-align: middle;\n",
       "    }\n",
       "\n",
       "    .dataframe tbody tr th {\n",
       "        vertical-align: top;\n",
       "    }\n",
       "\n",
       "    .dataframe thead th {\n",
       "        text-align: right;\n",
       "    }\n",
       "</style>\n",
       "<table border=\"1\" class=\"dataframe\">\n",
       "  <thead>\n",
       "    <tr style=\"text-align: right;\">\n",
       "      <th></th>\n",
       "      <th>job_id</th>\n",
       "      <th>rating</th>\n",
       "    </tr>\n",
       "  </thead>\n",
       "  <tbody>\n",
       "    <tr>\n",
       "      <th>count</th>\n",
       "      <td>7.866700e+04</td>\n",
       "      <td>42948.000000</td>\n",
       "    </tr>\n",
       "    <tr>\n",
       "      <th>mean</th>\n",
       "      <td>1.255071e+11</td>\n",
       "      <td>3.940144</td>\n",
       "    </tr>\n",
       "    <tr>\n",
       "      <th>std</th>\n",
       "      <td>1.097464e+11</td>\n",
       "      <td>0.519211</td>\n",
       "    </tr>\n",
       "    <tr>\n",
       "      <th>min</th>\n",
       "      <td>1.012200e+10</td>\n",
       "      <td>1.000000</td>\n",
       "    </tr>\n",
       "    <tr>\n",
       "      <th>25%</th>\n",
       "      <td>4.012350e+10</td>\n",
       "      <td>3.700000</td>\n",
       "    </tr>\n",
       "    <tr>\n",
       "      <th>50%</th>\n",
       "      <td>6.012350e+10</td>\n",
       "      <td>4.000000</td>\n",
       "    </tr>\n",
       "    <tr>\n",
       "      <th>75%</th>\n",
       "      <td>2.610226e+11</td>\n",
       "      <td>4.200000</td>\n",
       "    </tr>\n",
       "    <tr>\n",
       "      <th>max</th>\n",
       "      <td>3.112229e+11</td>\n",
       "      <td>5.000000</td>\n",
       "    </tr>\n",
       "  </tbody>\n",
       "</table>\n",
       "</div>"
      ],
      "text/plain": [
       "             job_id        rating\n",
       "count  7.866700e+04  42948.000000\n",
       "mean   1.255071e+11      3.940144\n",
       "std    1.097464e+11      0.519211\n",
       "min    1.012200e+10      1.000000\n",
       "25%    4.012350e+10      3.700000\n",
       "50%    6.012350e+10      4.000000\n",
       "75%    2.610226e+11      4.200000\n",
       "max    3.112229e+11      5.000000"
      ]
     },
     "execution_count": 9,
     "metadata": {},
     "output_type": "execute_result"
    }
   ],
   "source": [
    "data.describe()#will work on numerical cols"
   ]
  },
  {
   "cell_type": "code",
   "execution_count": 10,
   "id": "67da7d35-5f9f-49e7-b0b0-7a6a6bf92245",
   "metadata": {
    "ExecuteTime": {
     "end_time": "2025-05-21T04:19:17.562667Z",
     "start_time": "2025-05-21T04:19:17.533829Z"
    }
   },
   "outputs": [],
   "source": [
    "null_values = [i for i in data.columns if data[i].isnull().sum() > 1]\n"
   ]
  },
  {
   "cell_type": "code",
   "execution_count": 11,
   "id": "da69df48-aea0-48a4-b5b1-17fad3ae20bc",
   "metadata": {
    "ExecuteTime": {
     "end_time": "2025-05-21T04:19:17.705421Z",
     "start_time": "2025-05-21T04:19:17.673437Z"
    }
   },
   "outputs": [
    {
     "data": {
      "text/plain": [
       "job_id               480\n",
       "job_role             480\n",
       "company              481\n",
       "experience          1749\n",
       "salary               480\n",
       "location            1706\n",
       "rating             36199\n",
       "reviews            36199\n",
       "resposibilities      500\n",
       "posted_on            480\n",
       "job_link             480\n",
       "company_link         480\n",
       "dtype: int64"
      ]
     },
     "execution_count": 11,
     "metadata": {},
     "output_type": "execute_result"
    }
   ],
   "source": [
    "data.isnull().sum()"
   ]
  },
  {
   "cell_type": "code",
   "execution_count": 12,
   "id": "b0747f31-e3fe-487a-b616-af71633f9a83",
   "metadata": {
    "ExecuteTime": {
     "end_time": "2025-05-21T04:19:17.829370Z",
     "start_time": "2025-05-21T04:19:17.797453Z"
    }
   },
   "outputs": [
    {
     "name": "stdout",
     "output_type": "stream",
     "text": [
      "job_id 0.6065%\n",
      "job_role 0.6065%\n",
      "company 0.6077%\n",
      "experience 2.2098%\n",
      "salary 0.6065%\n",
      "location 2.1555%\n",
      "rating 45.7364%\n",
      "reviews 45.7364%\n",
      "resposibilities 0.6317%\n",
      "posted_on 0.6065%\n",
      "job_link 0.6065%\n",
      "company_link 0.6065%\n"
     ]
    }
   ],
   "source": [
    "for i in null_values:\n",
    "    print(f'{i} {np.round(data[i].isnull().sum()/len(data)*100, 4)}%')"
   ]
  },
  {
   "cell_type": "code",
   "execution_count": 13,
   "id": "7d44e73e-c922-4a59-b215-f8337729348f",
   "metadata": {
    "ExecuteTime": {
     "end_time": "2025-05-21T04:19:17.942042Z",
     "start_time": "2025-05-21T04:19:17.935269Z"
    }
   },
   "outputs": [
    {
     "data": {
      "text/plain": [
       "['job_id', 'rating']"
      ]
     },
     "execution_count": 13,
     "metadata": {},
     "output_type": "execute_result"
    }
   ],
   "source": [
    "numerical_cols = [i for i in data.columns if data[i].dtypes != 'O']\n",
    "numerical_cols"
   ]
  },
  {
   "cell_type": "code",
   "execution_count": 14,
   "id": "b4c2e8e0-ce55-45f7-a6fd-490ef2b95820",
   "metadata": {
    "ExecuteTime": {
     "end_time": "2025-05-21T04:19:18.047040Z",
     "start_time": "2025-05-21T04:19:18.041240Z"
    }
   },
   "outputs": [
    {
     "data": {
      "text/plain": [
       "['job_role',\n",
       " 'company',\n",
       " 'experience',\n",
       " 'salary',\n",
       " 'location',\n",
       " 'reviews',\n",
       " 'resposibilities',\n",
       " 'posted_on',\n",
       " 'job_link',\n",
       " 'company_link']"
      ]
     },
     "execution_count": 14,
     "metadata": {},
     "output_type": "execute_result"
    }
   ],
   "source": [
    "categorical_cols = [i for i in data.columns if data[i].dtypes == 'O']\n",
    "categorical_cols "
   ]
  },
  {
   "cell_type": "code",
   "execution_count": 15,
   "id": "a1d95e53-28b8-48eb-8ace-ed0fb767718d",
   "metadata": {
    "ExecuteTime": {
     "end_time": "2025-05-21T04:19:18.120564Z",
     "start_time": "2025-05-21T04:19:18.112206Z"
    }
   },
   "outputs": [
    {
     "data": {
      "text/plain": [
       "6137"
      ]
     },
     "execution_count": 15,
     "metadata": {},
     "output_type": "execute_result"
    }
   ],
   "source": [
    "data.duplicated(subset = 'job_id').sum() #this suggests that there are some id's that have been repeated multiple times"
   ]
  },
  {
   "cell_type": "markdown",
   "id": "664982a5-ad13-473a-982a-3b29df199480",
   "metadata": {},
   "source": [
    "Observation: There are 6137 job_id , that are the same "
   ]
  },
  {
   "cell_type": "markdown",
   "id": "b31305f5-7a56-4094-b9da-1e40941d6f0b",
   "metadata": {},
   "source": [
    "**Now i will be evaluating each and every column and check for observations and changes that need to be made**\n"
   ]
  },
  {
   "cell_type": "code",
   "execution_count": 16,
   "id": "2ad1c9f3-e80d-4556-a9c1-7a2c5b6c58f9",
   "metadata": {
    "ExecuteTime": {
     "end_time": "2025-05-21T04:19:18.185273Z",
     "start_time": "2025-05-21T04:19:18.170229Z"
    }
   },
   "outputs": [
    {
     "data": {
      "text/plain": [
       "51051"
      ]
     },
     "execution_count": 16,
     "metadata": {},
     "output_type": "execute_result"
    }
   ],
   "source": [
    "len(data['job_role'].unique())\n",
    "# 51,000 unique values are too much , we need to deal_with this "
   ]
  },
  {
   "cell_type": "code",
   "execution_count": 17,
   "id": "f7094b16-cb05-40b4-aa2b-da777ef6ca0f",
   "metadata": {
    "ExecuteTime": {
     "end_time": "2025-05-21T04:19:18.261802Z",
     "start_time": "2025-05-21T04:19:18.229167Z"
    }
   },
   "outputs": [
    {
     "data": {
      "text/plain": [
       "job_role\n",
       "Business Development Executive                                     305\n",
       "Solution Architect                                                 278\n",
       "Customer Service Associate                                         277\n",
       "Sales Executive                                                    275\n",
       ".Net Fullstack Developer                                           258\n",
       "People Advisor Senior Analyst                                      256\n",
       "SAP BO Consultant                                                  255\n",
       "Business Development Manager                                       254\n",
       "Senior Java BED ( PAN India)- KG                                   254\n",
       "PowerBI Developer                                                  254\n",
       "Senior (BI) Business Intelligence Architect                        254\n",
       "Product Owner Senior Manager                                       254\n",
       "Senior Product Experience Engineer                                 254\n",
       "Unified Functional Testing/UFT Automation Testing                  254\n",
       "Branch Banking - Calling For Women Candidates                      254\n",
       "Employee Relations and Policies Specialist                         254\n",
       "Solution Designer                                                  254\n",
       "Data Science Specialist                                            254\n",
       "HR Service Delivery Senior Analyst                                 254\n",
       "Functional Architect -  Oracle Supply Chain Management (Fusion)    254\n",
       "Name: count, dtype: int64"
      ]
     },
     "execution_count": 17,
     "metadata": {},
     "output_type": "execute_result"
    }
   ],
   "source": [
    "data['job_role'].value_counts().head(20)"
   ]
  },
  {
   "cell_type": "code",
   "execution_count": 18,
   "id": "60c6484e-3e52-4eaf-a91d-8518ecc5a1ad",
   "metadata": {
    "ExecuteTime": {
     "end_time": "2025-05-21T04:19:18.333165Z",
     "start_time": "2025-05-21T04:19:18.317145Z"
    }
   },
   "outputs": [
    {
     "data": {
      "text/plain": [
       "company\n",
       "Lavya Associates          5131\n",
       "Accenture                 4446\n",
       "Tech Mahindra             1285\n",
       "Varite India Pvt. Ltd.     882\n",
       "Hucon                      852\n",
       "IBM                        656\n",
       "Megma Services             525\n",
       "Citiustech                 511\n",
       "Infosys                    505\n",
       "D'source                   502\n",
       "RCPC                       449\n",
       "Hexaware Technologies      431\n",
       "Tekpillar Services         377\n",
       "Mindtree                   368\n",
       "Capgemini                  338\n",
       "BAJAJ FINSERVE             317\n",
       "Oracle                     304\n",
       "Hdfc Bank                  300\n",
       "Deloitte                   285\n",
       "Radical Technologies       283\n",
       "Name: count, dtype: int64"
      ]
     },
     "execution_count": 18,
     "metadata": {},
     "output_type": "execute_result"
    }
   ],
   "source": [
    "data['company'].value_counts().head(20)"
   ]
  },
  {
   "cell_type": "code",
   "execution_count": 19,
   "id": "f9f0c80b-cf04-496e-9022-5b295dafa8ea",
   "metadata": {
    "ExecuteTime": {
     "end_time": "2025-05-21T04:19:18.460132Z",
     "start_time": "2025-05-21T04:19:18.453530Z"
    }
   },
   "outputs": [
    {
     "data": {
      "text/plain": [
       "231"
      ]
     },
     "execution_count": 19,
     "metadata": {},
     "output_type": "execute_result"
    }
   ],
   "source": [
    "data['experience'].nunique()"
   ]
  },
  {
   "cell_type": "code",
   "execution_count": 20,
   "id": "e3afd18e-2c63-411b-a571-b774e97027cf",
   "metadata": {
    "ExecuteTime": {
     "end_time": "2025-05-21T04:19:18.620766Z",
     "start_time": "2025-05-21T04:19:18.612057Z"
    }
   },
   "outputs": [
    {
     "data": {
      "text/plain": [
       "experience\n",
       "5-10 Yrs    8041\n",
       "3-8 Yrs     4451\n",
       "1-6 Yrs     3302\n",
       "4-9 Yrs     3186\n",
       "2-7 Yrs     3079\n",
       "0-5 Yrs     2825\n",
       "2-5 Yrs     2778\n",
       "1-3 Yrs     2706\n",
       "2-4 Yrs     2488\n",
       "4-6 Yrs     2435\n",
       "Name: count, dtype: int64"
      ]
     },
     "execution_count": 20,
     "metadata": {},
     "output_type": "execute_result"
    }
   ],
   "source": [
    "data['experience'].value_counts().head(10)\n",
    "\n",
    "#data.groupby(['experience']).size().sort_values(ascending= False).head(10)"
   ]
  },
  {
   "cell_type": "code",
   "execution_count": 21,
   "id": "a0c2072f-03b7-406f-9544-c8933bcd2989",
   "metadata": {
    "ExecuteTime": {
     "end_time": "2025-05-21T04:19:18.727764Z",
     "start_time": "2025-05-21T04:19:18.718457Z"
    }
   },
   "outputs": [
    {
     "data": {
      "text/plain": [
       "salary\n",
       "Not disclosed                45544\n",
       "6,50,000 - 9,00,000 PA.       3330\n",
       "6,00,000 - 8,00,000 PA.       1114\n",
       "5,00,000 - 10,00,000 PA.      1087\n",
       "2,50,000 - 3,50,000 PA.        599\n",
       "2,00,000 - 3,00,000 PA.        486\n",
       "3,00,000 - 5,00,000 PA.        450\n",
       "3,00,000 - 6,00,000 PA.        424\n",
       "2,00,000 - 4,00,000 PA.        382\n",
       "2,00,000 - 5,00,000 PA.        367\n",
       "3,00,000 - 4,00,000 PA.        355\n",
       "3,00,000 - 8,00,000 PA.        349\n",
       "10,00,000 - 20,00,000 PA.      346\n",
       "4,00,000 - 6,00,000 PA.        331\n",
       "50,000 - 3,00,000 PA.          328\n",
       "2,00,000 - 3,50,000 PA.        323\n",
       "7,00,000 - 17,00,000 PA.       321\n",
       "4,00,000 - 9,00,000 PA.        291\n",
       "2,50,000 - 4,00,000 PA.        281\n",
       "1,50,000 - 3,00,000 PA.        268\n",
       "Name: count, dtype: int64"
      ]
     },
     "execution_count": 21,
     "metadata": {},
     "output_type": "execute_result"
    }
   ],
   "source": [
    "data['salary'].value_counts().head(20)"
   ]
  },
  {
   "cell_type": "code",
   "execution_count": 22,
   "id": "53aa6cd9-16fa-43b4-8dfc-4a0387cea476",
   "metadata": {
    "ExecuteTime": {
     "end_time": "2025-05-21T04:19:18.851967Z",
     "start_time": "2025-05-21T04:19:18.840235Z"
    }
   },
   "outputs": [
    {
     "data": {
      "text/plain": [
       "location\n",
       "Bangalore/Bengaluru       10035\n",
       "Hyderabad/Secunderabad     3736\n",
       "Pune                       3216\n",
       "Chennai                    2953\n",
       "Mumbai                     2818\n",
       "Gurgaon/Gurugram           2733\n",
       "Noida                      1678\n",
       "Permanent Remote           1644\n",
       "Ahmedabad                  1227\n",
       "Kolkata                     923\n",
       "Name: count, dtype: int64"
      ]
     },
     "execution_count": 22,
     "metadata": {},
     "output_type": "execute_result"
    }
   ],
   "source": [
    "data['location'].value_counts().head(10)"
   ]
  },
  {
   "cell_type": "code",
   "execution_count": 23,
   "id": "7d8c81d9-b882-4af9-8e96-7ceff60412ee",
   "metadata": {
    "ExecuteTime": {
     "end_time": "2025-05-21T04:19:19.016904Z",
     "start_time": "2025-05-21T04:19:19.009938Z"
    }
   },
   "outputs": [
    {
     "data": {
      "text/plain": [
       "rating\n",
       "4.1    7931\n",
       "4.0    5239\n",
       "4.2    4007\n",
       "3.9    3995\n",
       "3.7    3487\n",
       "Name: count, dtype: int64"
      ]
     },
     "execution_count": 23,
     "metadata": {},
     "output_type": "execute_result"
    }
   ],
   "source": [
    "data['rating'].value_counts().head()"
   ]
  },
  {
   "cell_type": "markdown",
   "id": "8576e567-a8d5-4ad7-853c-baccc12a2db6",
   "metadata": {},
   "source": [
    "### Data Cleaning:\n",
    "\n",
    "1. Dealing with null values (columns)\n",
    "2. Dealing with Duplicate values\n",
    "3. Depending on the problem statement , remove the unwanted columns"
   ]
  },
  {
   "cell_type": "markdown",
   "id": "26271092-f490-452e-b978-ee4d6aeb926f",
   "metadata": {},
   "source": [
    "As per my problem at hand , i dont require a few columns such as \n",
    "1. 'posted_on'\n",
    "2. 'job_link'\n",
    "3. 'company_link'\n",
    "\n",
    "I can create a new df that can not include the columns above"
   ]
  },
  {
   "cell_type": "code",
   "execution_count": 24,
   "id": "90c23765-deaf-46cd-ab4a-0aeaadfc8a75",
   "metadata": {
    "ExecuteTime": {
     "end_time": "2025-05-21T04:19:19.200461Z",
     "start_time": "2025-05-21T04:19:19.181910Z"
    }
   },
   "outputs": [],
   "source": [
    "df = data.drop(columns = ['posted_on', 'job_link', 'company_link'])"
   ]
  },
  {
   "cell_type": "code",
   "execution_count": 25,
   "id": "dc48e2fe-66d1-42d9-ad12-ffee34cf143c",
   "metadata": {
    "ExecuteTime": {
     "end_time": "2025-05-21T04:19:19.373958Z",
     "start_time": "2025-05-21T04:19:19.369215Z"
    }
   },
   "outputs": [
    {
     "data": {
      "text/plain": [
       "(79147, 9)"
      ]
     },
     "execution_count": 25,
     "metadata": {},
     "output_type": "execute_result"
    }
   ],
   "source": [
    "df.shape"
   ]
  },
  {
   "cell_type": "markdown",
   "id": "cbd76e2d-dd54-4a74-abe0-1eb17f1ac96b",
   "metadata": {},
   "source": [
    "1. Handling Null Values\n",
    "   - handling the null values except on rating and reviews\n",
    "   - Deal with rating and reviews seperately\n",
    "   "
   ]
  },
  {
   "cell_type": "code",
   "execution_count": 26,
   "id": "84486242-58cd-4a4f-b865-29fb69eb2cdc",
   "metadata": {
    "ExecuteTime": {
     "end_time": "2025-05-21T04:19:19.459681Z",
     "start_time": "2025-05-21T04:19:19.438437Z"
    }
   },
   "outputs": [
    {
     "data": {
      "text/plain": [
       "job_id               480\n",
       "job_role             480\n",
       "company              481\n",
       "experience          1749\n",
       "salary               480\n",
       "location            1706\n",
       "rating             36199\n",
       "reviews            36199\n",
       "resposibilities      500\n",
       "dtype: int64"
      ]
     },
     "execution_count": 26,
     "metadata": {},
     "output_type": "execute_result"
    }
   ],
   "source": [
    "df.isnull().sum()"
   ]
  },
  {
   "cell_type": "code",
   "execution_count": 27,
   "id": "72331e44-14a2-4c0d-b073-86ec7db091f8",
   "metadata": {
    "ExecuteTime": {
     "end_time": "2025-05-21T04:19:19.604033Z",
     "start_time": "2025-05-21T04:19:19.581696Z"
    }
   },
   "outputs": [],
   "source": [
    "df = df.dropna(subset = ['job_id', 'resposibilities', 'company'])"
   ]
  },
  {
   "cell_type": "code",
   "execution_count": 28,
   "id": "179f384a-4f6d-4368-b565-6528e51d163c",
   "metadata": {
    "ExecuteTime": {
     "end_time": "2025-05-21T04:19:19.709934Z",
     "start_time": "2025-05-21T04:19:19.686831Z"
    }
   },
   "outputs": [
    {
     "data": {
      "text/plain": [
       "job_id                 0\n",
       "job_role               0\n",
       "company                0\n",
       "experience          1268\n",
       "salary                 0\n",
       "location            1226\n",
       "rating             35718\n",
       "reviews            35718\n",
       "resposibilities        0\n",
       "dtype: int64"
      ]
     },
     "execution_count": 28,
     "metadata": {},
     "output_type": "execute_result"
    }
   ],
   "source": [
    "df.isnull().sum()"
   ]
  },
  {
   "cell_type": "code",
   "execution_count": 29,
   "id": "159d2669-fd8f-4d8f-aca5-fde697cff36a",
   "metadata": {
    "ExecuteTime": {
     "end_time": "2025-05-21T04:19:19.822082Z",
     "start_time": "2025-05-21T04:19:19.812570Z"
    }
   },
   "outputs": [],
   "source": [
    "df['experience'] = df['experience'].fillna('5-10 Yrs')"
   ]
  },
  {
   "cell_type": "code",
   "execution_count": 30,
   "id": "3703fd28-c689-480e-9b18-89983696541a",
   "metadata": {
    "ExecuteTime": {
     "end_time": "2025-05-21T04:19:19.901263Z",
     "start_time": "2025-05-21T04:19:19.892211Z"
    }
   },
   "outputs": [],
   "source": [
    "df['location'] = df['location'].fillna('Bangalore/Bengaluru')"
   ]
  },
  {
   "cell_type": "code",
   "execution_count": 31,
   "id": "18fa74be-8dcb-405d-b4bc-6efcf2b37fca",
   "metadata": {
    "ExecuteTime": {
     "end_time": "2025-05-21T04:19:20.064162Z",
     "start_time": "2025-05-21T04:19:20.059122Z"
    }
   },
   "outputs": [],
   "source": [
    "df['rating'] = df.rating.fillna(0.0)"
   ]
  },
  {
   "cell_type": "code",
   "execution_count": 32,
   "id": "62c970ad-98df-4e48-a1df-ae2ab50d7843",
   "metadata": {
    "ExecuteTime": {
     "end_time": "2025-05-21T04:19:20.140114Z",
     "start_time": "2025-05-21T04:19:20.134815Z"
    }
   },
   "outputs": [
    {
     "data": {
      "text/plain": [
       "<bound method Series.unique of 0        39110 Reviews\n",
       "1        32129 Reviews\n",
       "2        32129 Reviews\n",
       "3        32129 Reviews\n",
       "4         3759 Reviews\n",
       "             ...      \n",
       "79142      742 Reviews\n",
       "79143     3172 Reviews\n",
       "79144     6267 Reviews\n",
       "79145    21440 Reviews\n",
       "79146    21440 Reviews\n",
       "Name: reviews, Length: 78646, dtype: object>"
      ]
     },
     "execution_count": 32,
     "metadata": {},
     "output_type": "execute_result"
    }
   ],
   "source": [
    "df.reviews.unique"
   ]
  },
  {
   "cell_type": "code",
   "execution_count": 33,
   "id": "d62763fa-0cb9-439a-85b8-4ca80108763f",
   "metadata": {
    "ExecuteTime": {
     "end_time": "2025-05-21T04:19:20.233652Z",
     "start_time": "2025-05-21T04:19:20.209889Z"
    }
   },
   "outputs": [
    {
     "data": {
      "text/plain": [
       "job_id                 0\n",
       "job_role               0\n",
       "company                0\n",
       "experience             0\n",
       "salary                 0\n",
       "location               0\n",
       "rating                 0\n",
       "reviews            35718\n",
       "resposibilities        0\n",
       "dtype: int64"
      ]
     },
     "execution_count": 33,
     "metadata": {},
     "output_type": "execute_result"
    }
   ],
   "source": [
    "df.isnull().sum()"
   ]
  },
  {
   "cell_type": "markdown",
   "id": "b453d15b-d253-493b-b5db-f67359b010ed",
   "metadata": {},
   "source": [
    "We can see that the missing values for rating and reviews are the same, so for 35718 missing ratings, there are 35718 missing reviews.\n",
    "what we can do is , instead of dropping , we can replace or fill the null values with 0.0 as rating , why ? because 0 rating - 0 reviews"
   ]
  },
  {
   "cell_type": "code",
   "execution_count": 34,
   "id": "fa2a3ba8-b17d-4d93-98ae-6bd2a4a4c75e",
   "metadata": {
    "ExecuteTime": {
     "end_time": "2025-05-21T04:19:20.318233Z",
     "start_time": "2025-05-21T04:19:20.311205Z"
    }
   },
   "outputs": [],
   "source": [
    "df['reviews'] = df.reviews.fillna('0 Reviews')"
   ]
  },
  {
   "cell_type": "code",
   "execution_count": 35,
   "id": "62a4ecff-a626-409d-808f-91f55bc89f52",
   "metadata": {
    "ExecuteTime": {
     "end_time": "2025-05-21T04:19:20.397587Z",
     "start_time": "2025-05-21T04:19:20.374634Z"
    }
   },
   "outputs": [
    {
     "data": {
      "text/plain": [
       "job_id             0\n",
       "job_role           0\n",
       "company            0\n",
       "experience         0\n",
       "salary             0\n",
       "location           0\n",
       "rating             0\n",
       "reviews            0\n",
       "resposibilities    0\n",
       "dtype: int64"
      ]
     },
     "execution_count": 35,
     "metadata": {},
     "output_type": "execute_result"
    }
   ],
   "source": [
    "df.isnull().sum()"
   ]
  },
  {
   "cell_type": "markdown",
   "id": "09807382-97dc-46ed-a2ff-f04ef9aba81f",
   "metadata": {},
   "source": [
    "2. Remove the duplicates"
   ]
  },
  {
   "cell_type": "code",
   "execution_count": 36,
   "id": "3ebeaa22-11f9-4647-8a38-a1ec526c841f",
   "metadata": {
    "ExecuteTime": {
     "end_time": "2025-05-21T04:19:20.481639Z",
     "start_time": "2025-05-21T04:19:20.465493Z"
    }
   },
   "outputs": [],
   "source": [
    "df = df.drop_duplicates(subset = 'job_id')"
   ]
  },
  {
   "cell_type": "markdown",
   "id": "49a77d8c-2402-41a2-b35b-a91eaec1466f",
   "metadata": {},
   "source": [
    "4. Clean the Experince column\n"
   ]
  },
  {
   "cell_type": "markdown",
   "id": "bbb88e9b-f2b8-4d24-9701-cd5857fb81f7",
   "metadata": {},
   "source": [
    "**Note**\n",
    ": To clean the experience column, as per the problem at hand, we have to divide the experience col into 2 half's. <br> \n",
    "One for min experience and another for max experience , and they should be in integer format to perform arithmetic operations."
   ]
  },
  {
   "cell_type": "code",
   "execution_count": 37,
   "id": "4923adb1-89a3-40cb-98fb-bda89f2a096e",
   "metadata": {
    "ExecuteTime": {
     "end_time": "2025-05-21T04:19:20.568344Z",
     "start_time": "2025-05-21T04:19:20.560312Z"
    }
   },
   "outputs": [
    {
     "data": {
      "text/plain": [
       "array(['1-6 Yrs', '11-15 Yrs', '3-7 Yrs', '5-7 Yrs', '5-10 Yrs',\n",
       "       '7-12 Yrs', '2-6 Yrs', '2-4 Yrs', '4-9 Yrs', '3-8 Yrs', '4-6 Yrs',\n",
       "       '5-9 Yrs', '10-17 Yrs', '10-13 Yrs', '6-11 Yrs', '2-7 Yrs',\n",
       "       '0-2 Yrs', '8-12 Yrs', '3-6 Yrs', '9-14 Yrs', '0-5 Yrs', '4-7 Yrs',\n",
       "       '4-8 Yrs', '8-13 Yrs', '7-11 Yrs', '3-4 Yrs', '15-22 Yrs',\n",
       "       '2-5 Yrs', '10-18 Yrs', '10-15 Yrs', '0-3 Yrs', '5-12 Yrs',\n",
       "       '10-14 Yrs', '3-5 Yrs', '6-8 Yrs', '8-10 Yrs', '12-14 Yrs',\n",
       "       '10-20 Yrs', '12-22 Yrs', '9-15 Yrs', '6-9 Yrs', '14-18 Yrs',\n",
       "       '9-12 Yrs', '6-10 Yrs', '8-11 Yrs', '17-22 Yrs', '1-5 Yrs',\n",
       "       '0-4 Yrs', '5-8 Yrs', '0-0 Yrs', '0-13 Yrs', '1-3 Yrs', '3-10 Yrs',\n",
       "       '13-20 Yrs', '12-17 Yrs', '11-16 Yrs', '15-20 Yrs', '1-4 Yrs',\n",
       "       '0-1 Yrs', '0-8 Yrs', '2-3 Yrs', '8-9 Yrs', '7-10 Yrs', '4-5 Yrs',\n",
       "       '14-20 Yrs', '7-9 Yrs', '10-12 Yrs', '10-16 Yrs', '12-15 Yrs',\n",
       "       '12-18 Yrs', '7-8 Yrs', '16-20 Yrs', '5-6 Yrs', '1-2 Yrs',\n",
       "       '9-13 Yrs', '6-7 Yrs', '8-15 Yrs', '6-12 Yrs', '3-3 Yrs',\n",
       "       '11-13 Yrs', '4-15 Yrs', '12-16 Yrs', '16-23 Yrs', '15-24 Yrs',\n",
       "       '12-20 Yrs', '11-19 Yrs', '15-19 Yrs', '13-23 Yrs', '2-9 Yrs',\n",
       "       '12-19 Yrs', '14-16 Yrs', '5-15 Yrs', '11-20 Yrs', '9-10 Yrs',\n",
       "       '11-21 Yrs', '6-15 Yrs', '13-17 Yrs', '20-25 Yrs', '14-24 Yrs',\n",
       "       '2-10 Yrs', '13-21 Yrs', '5-11 Yrs', '12-21 Yrs', '13-19 Yrs',\n",
       "       '3-12 Yrs', '14-19 Yrs', '9-11 Yrs', '13-18 Yrs', '16-25 Yrs',\n",
       "       '18-20 Yrs', '13-16 Yrs', '2-8 Yrs', '11-14 Yrs', '2-12 Yrs',\n",
       "       '11-12 Yrs', '0-6 Yrs', '0-7 Yrs', '13-15 Yrs', '11-18 Yrs',\n",
       "       '0-10 Yrs', '2-2 Yrs', '8-14 Yrs', '7-13 Yrs', '14-21 Yrs',\n",
       "       '14-22 Yrs', '18-28 Yrs', '4-11 Yrs', '3-9 Yrs', '15-17 Yrs',\n",
       "       '14-17 Yrs', '4-10 Yrs', '16-18 Yrs', '20-22 Yrs', '7-7 Yrs',\n",
       "       '20-24 Yrs', '6-13 Yrs', '15-18 Yrs', '20-30 Yrs', '6-6 Yrs',\n",
       "       '1-11 Yrs', '1-8 Yrs', '1-10 Yrs', '1-7 Yrs', '5-14 Yrs',\n",
       "       '1-1 Yrs', '5-5 Yrs', '16-26 Yrs', '14-23 Yrs', '20-27 Yrs',\n",
       "       '4-12 Yrs', '15-25 Yrs', '8-16 Yrs', '6-14 Yrs', '17-25 Yrs',\n",
       "       '12-13 Yrs', '7-14 Yrs', '18-25 Yrs', '10-11 Yrs', '8-8 Yrs',\n",
       "       '7-15 Yrs', '16-17 Yrs', '2-15 Yrs', '10-19 Yrs', '18-24 Yrs',\n",
       "       '17-20 Yrs', '3-15 Yrs', '5-20 Yrs', '15-21 Yrs', '8-20 Yrs',\n",
       "       '6-20 Yrs', '19-29 Yrs', '24-24 Yrs', '9-9 Yrs', '5-13 Yrs',\n",
       "       '2-11 Yrs', '16-22 Yrs', '0-12 Yrs', '20-21 Yrs', '15-16 Yrs',\n",
       "       '15-23 Yrs', '18-22 Yrs', '25-31 Yrs', '0-15 Yrs', '1-9 Yrs',\n",
       "       '25-30 Yrs', '26-31 Yrs', '19-20 Yrs', '22-26 Yrs', '10-10 Yrs',\n",
       "       '28-29 Yrs', '23-26 Yrs', '25-25 Yrs', '18-27 Yrs', '4-4 Yrs',\n",
       "       '1-14 Yrs', '1-12 Yrs', '1-16 Yrs', '20-20 Yrs', '14-15 Yrs',\n",
       "       '21-28 Yrs', '18-26 Yrs', '2-21 Yrs', '25-28 Yrs', '21-25 Yrs',\n",
       "       '19-25 Yrs', '17-27 Yrs', '22-31 Yrs', '17-21 Yrs', '27-29 Yrs',\n",
       "       '28-28 Yrs', '21-22 Yrs', '20-28 Yrs', '19-22 Yrs', '14-14 Yrs',\n",
       "       '26-27 Yrs', '21-27 Yrs', '15-15 Yrs', '25-26 Yrs', '16-19 Yrs',\n",
       "       '13-22 Yrs', '11-17 Yrs', '18-23 Yrs', '21-31 Yrs', '22-25 Yrs',\n",
       "       '20-26 Yrs', '19-24 Yrs', '22-28 Yrs', '21-30 Yrs', '17-24 Yrs',\n",
       "       '16-21 Yrs', '20-29 Yrs'], dtype=object)"
      ]
     },
     "execution_count": 37,
     "metadata": {},
     "output_type": "execute_result"
    }
   ],
   "source": [
    "df['experience'].unique()"
   ]
  },
  {
   "cell_type": "code",
   "execution_count": 38,
   "id": "4745d0c5-7a28-47ad-83c3-2a69c94bf8e2",
   "metadata": {
    "ExecuteTime": {
     "end_time": "2025-05-21T04:19:20.680356Z",
     "start_time": "2025-05-21T04:19:20.676877Z"
    }
   },
   "outputs": [
    {
     "name": "stdout",
     "output_type": "stream",
     "text": [
      "1-6\n",
      "11-15\n",
      "3-7\n",
      "3-7\n",
      "5-7\n",
      "5-10\n",
      "5-10\n",
      "7-12\n",
      "2-6\n",
      "3-7\n"
     ]
    }
   ],
   "source": [
    "for i in df['experience'][:10]:\n",
    "    print(i.replace('Yrs', '').split('-')[0].strip(),end = '-')\n",
    "    print(i.replace('Yrs', '').split('-')[-1].strip())\n",
    "    "
   ]
  },
  {
   "cell_type": "code",
   "execution_count": 39,
   "id": "3f60a117-cd0a-4514-ae6b-38f8a7b3fc4f",
   "metadata": {
    "ExecuteTime": {
     "end_time": "2025-05-21T04:19:20.910743Z",
     "start_time": "2025-05-21T04:19:20.772245Z"
    }
   },
   "outputs": [],
   "source": [
    "df['min_exp'] = df['experience'].str.replace('Yrs', '').str.split('-').str[0].str.strip().astype('int')\n"
   ]
  },
  {
   "cell_type": "code",
   "execution_count": 40,
   "id": "41429050-196d-498d-8822-d7c145a05628",
   "metadata": {
    "ExecuteTime": {
     "end_time": "2025-05-21T04:19:21.073396Z",
     "start_time": "2025-05-21T04:19:20.932293Z"
    }
   },
   "outputs": [],
   "source": [
    "df['max_exp'] = df['experience'].str.replace('Yrs', '').str.replace('Yr', '').str.split('-').str[-1].str.strip().astype('int')"
   ]
  },
  {
   "cell_type": "code",
   "execution_count": 41,
   "id": "45a7383d-744c-4614-ac98-e044f1aeb578",
   "metadata": {
    "ExecuteTime": {
     "end_time": "2025-05-21T04:19:21.113464Z",
     "start_time": "2025-05-21T04:19:21.091351Z"
    }
   },
   "outputs": [
    {
     "data": {
      "text/html": [
       "<div>\n",
       "<style scoped>\n",
       "    .dataframe tbody tr th:only-of-type {\n",
       "        vertical-align: middle;\n",
       "    }\n",
       "\n",
       "    .dataframe tbody tr th {\n",
       "        vertical-align: top;\n",
       "    }\n",
       "\n",
       "    .dataframe thead th {\n",
       "        text-align: right;\n",
       "    }\n",
       "</style>\n",
       "<table border=\"1\" class=\"dataframe\">\n",
       "  <thead>\n",
       "    <tr style=\"text-align: right;\">\n",
       "      <th></th>\n",
       "      <th>job_id</th>\n",
       "      <th>job_role</th>\n",
       "      <th>company</th>\n",
       "      <th>experience</th>\n",
       "      <th>salary</th>\n",
       "      <th>location</th>\n",
       "      <th>rating</th>\n",
       "      <th>reviews</th>\n",
       "      <th>resposibilities</th>\n",
       "      <th>min_exp</th>\n",
       "      <th>max_exp</th>\n",
       "    </tr>\n",
       "  </thead>\n",
       "  <tbody>\n",
       "    <tr>\n",
       "      <th>0</th>\n",
       "      <td>7.012301e+10</td>\n",
       "      <td>Branch Banking - Calling For Women Candidates</td>\n",
       "      <td>Hdfc Bank</td>\n",
       "      <td>1-6 Yrs</td>\n",
       "      <td>Not disclosed</td>\n",
       "      <td>Kolkata, Hyderabad/Secunderabad, Pune, Ahmedab...</td>\n",
       "      <td>4.0</td>\n",
       "      <td>39110 Reviews</td>\n",
       "      <td>Customer Service,Sales,Relationship Management</td>\n",
       "      <td>1</td>\n",
       "      <td>6</td>\n",
       "    </tr>\n",
       "    <tr>\n",
       "      <th>1</th>\n",
       "      <td>6.012391e+10</td>\n",
       "      <td>Product Owner Senior Manager</td>\n",
       "      <td>Accenture</td>\n",
       "      <td>11-15 Yrs</td>\n",
       "      <td>Not disclosed</td>\n",
       "      <td>Kolkata, Mumbai, Hyderabad/Secunderabad, Pune,...</td>\n",
       "      <td>4.1</td>\n",
       "      <td>32129 Reviews</td>\n",
       "      <td>Product management,Market analysis,Change mana...</td>\n",
       "      <td>11</td>\n",
       "      <td>15</td>\n",
       "    </tr>\n",
       "    <tr>\n",
       "      <th>2</th>\n",
       "      <td>6.012391e+10</td>\n",
       "      <td>Employee Relations and Policies Associate Manager</td>\n",
       "      <td>Accenture</td>\n",
       "      <td>3-7 Yrs</td>\n",
       "      <td>Not disclosed</td>\n",
       "      <td>Kolkata, Mumbai, Hyderabad/Secunderabad, Pune,...</td>\n",
       "      <td>4.1</td>\n",
       "      <td>32129 Reviews</td>\n",
       "      <td>Business process,Change management,Team manage...</td>\n",
       "      <td>3</td>\n",
       "      <td>7</td>\n",
       "    </tr>\n",
       "    <tr>\n",
       "      <th>3</th>\n",
       "      <td>6.012391e+10</td>\n",
       "      <td>Employee Relations and Policies Specialist</td>\n",
       "      <td>Accenture</td>\n",
       "      <td>3-7 Yrs</td>\n",
       "      <td>Not disclosed</td>\n",
       "      <td>Kolkata, Mumbai, Hyderabad/Secunderabad, Pune,...</td>\n",
       "      <td>4.1</td>\n",
       "      <td>32129 Reviews</td>\n",
       "      <td>Business process,Change management,Team manage...</td>\n",
       "      <td>3</td>\n",
       "      <td>7</td>\n",
       "    </tr>\n",
       "    <tr>\n",
       "      <th>4</th>\n",
       "      <td>6.012301e+10</td>\n",
       "      <td>SAP BO Consultant</td>\n",
       "      <td>Mindtree</td>\n",
       "      <td>5-7 Yrs</td>\n",
       "      <td>Not disclosed</td>\n",
       "      <td>Hybrid - Kolkata, Hyderabad/Secunderabad, Pune...</td>\n",
       "      <td>4.1</td>\n",
       "      <td>3759 Reviews</td>\n",
       "      <td>SAP BO,PL / SQL,Oracle SQL,SAP Business Object...</td>\n",
       "      <td>5</td>\n",
       "      <td>7</td>\n",
       "    </tr>\n",
       "    <tr>\n",
       "      <th>...</th>\n",
       "      <td>...</td>\n",
       "      <td>...</td>\n",
       "      <td>...</td>\n",
       "      <td>...</td>\n",
       "      <td>...</td>\n",
       "      <td>...</td>\n",
       "      <td>...</td>\n",
       "      <td>...</td>\n",
       "      <td>...</td>\n",
       "      <td>...</td>\n",
       "      <td>...</td>\n",
       "    </tr>\n",
       "    <tr>\n",
       "      <th>73762</th>\n",
       "      <td>2.012300e+10</td>\n",
       "      <td>Partner Success Executive/Edtech/Punjab</td>\n",
       "      <td>Parth Associates</td>\n",
       "      <td>1-5 Yrs</td>\n",
       "      <td>7,00,000 - 8,50,000 PA.</td>\n",
       "      <td>Jalandhar, Chandigarh, Amritsar</td>\n",
       "      <td>0.0</td>\n",
       "      <td>0 Reviews</td>\n",
       "      <td>CRM,Communication Skills,Presentation Skills,C...</td>\n",
       "      <td>1</td>\n",
       "      <td>5</td>\n",
       "    </tr>\n",
       "    <tr>\n",
       "      <th>73763</th>\n",
       "      <td>2.012300e+10</td>\n",
       "      <td>Partner Success Associate/Edtech/Punjab</td>\n",
       "      <td>Parth Associates</td>\n",
       "      <td>1-5 Yrs</td>\n",
       "      <td>7,00,000 - 8,50,000 PA.</td>\n",
       "      <td>Ludhiana, Patiala, Moga</td>\n",
       "      <td>0.0</td>\n",
       "      <td>0 Reviews</td>\n",
       "      <td>CRM,Communication Skills,Presentation Skills,C...</td>\n",
       "      <td>1</td>\n",
       "      <td>5</td>\n",
       "    </tr>\n",
       "    <tr>\n",
       "      <th>73764</th>\n",
       "      <td>2.312220e+11</td>\n",
       "      <td>Hiring For International Voice Process | Gurga...</td>\n",
       "      <td>First Step Solutions</td>\n",
       "      <td>1-4 Yrs</td>\n",
       "      <td>3,00,000 - 4,50,000 PA.</td>\n",
       "      <td>New Delhi, Gurgaon/Gurugram</td>\n",
       "      <td>0.0</td>\n",
       "      <td>0 Reviews</td>\n",
       "      <td>Customer Service,US Process,Hospitality,Custom...</td>\n",
       "      <td>1</td>\n",
       "      <td>4</td>\n",
       "    </tr>\n",
       "    <tr>\n",
       "      <th>73765</th>\n",
       "      <td>1.712200e+11</td>\n",
       "      <td>Fresher Engineer</td>\n",
       "      <td>Sofcon</td>\n",
       "      <td>0-2 Yrs</td>\n",
       "      <td>Not disclosed</td>\n",
       "      <td>Kota, Udaipur, Banswara, Bhiwadi, Jaipur, Alwa...</td>\n",
       "      <td>2.8</td>\n",
       "      <td>3 Reviews</td>\n",
       "      <td>ENGINEERING,B Tech Fresher,AutoCAD,Degree,PLC,...</td>\n",
       "      <td>0</td>\n",
       "      <td>2</td>\n",
       "    </tr>\n",
       "    <tr>\n",
       "      <th>73766</th>\n",
       "      <td>7.102201e+10</td>\n",
       "      <td>Anatomy Trainer - Part Time / Full time</td>\n",
       "      <td>Indian Healthcare BPO</td>\n",
       "      <td>1-6 Yrs</td>\n",
       "      <td>Not disclosed</td>\n",
       "      <td>Hybrid - Pondicherry/Puducherry, Salem, Chennai</td>\n",
       "      <td>0.0</td>\n",
       "      <td>0 Reviews</td>\n",
       "      <td>Lecturer Activities,Nursing Education,Trainer,...</td>\n",
       "      <td>1</td>\n",
       "      <td>6</td>\n",
       "    </tr>\n",
       "  </tbody>\n",
       "</table>\n",
       "<p>72988 rows × 11 columns</p>\n",
       "</div>"
      ],
      "text/plain": [
       "             job_id                                           job_role  \\\n",
       "0      7.012301e+10      Branch Banking - Calling For Women Candidates   \n",
       "1      6.012391e+10                       Product Owner Senior Manager   \n",
       "2      6.012391e+10  Employee Relations and Policies Associate Manager   \n",
       "3      6.012391e+10         Employee Relations and Policies Specialist   \n",
       "4      6.012301e+10                                  SAP BO Consultant   \n",
       "...             ...                                                ...   \n",
       "73762  2.012300e+10            Partner Success Executive/Edtech/Punjab   \n",
       "73763  2.012300e+10            Partner Success Associate/Edtech/Punjab   \n",
       "73764  2.312220e+11  Hiring For International Voice Process | Gurga...   \n",
       "73765  1.712200e+11                                   Fresher Engineer   \n",
       "73766  7.102201e+10            Anatomy Trainer - Part Time / Full time   \n",
       "\n",
       "                     company experience                   salary  \\\n",
       "0                  Hdfc Bank    1-6 Yrs            Not disclosed   \n",
       "1                  Accenture  11-15 Yrs            Not disclosed   \n",
       "2                  Accenture    3-7 Yrs            Not disclosed   \n",
       "3                  Accenture    3-7 Yrs            Not disclosed   \n",
       "4                   Mindtree    5-7 Yrs            Not disclosed   \n",
       "...                      ...        ...                      ...   \n",
       "73762       Parth Associates    1-5 Yrs  7,00,000 - 8,50,000 PA.   \n",
       "73763       Parth Associates    1-5 Yrs  7,00,000 - 8,50,000 PA.   \n",
       "73764   First Step Solutions    1-4 Yrs  3,00,000 - 4,50,000 PA.   \n",
       "73765                 Sofcon    0-2 Yrs            Not disclosed   \n",
       "73766  Indian Healthcare BPO    1-6 Yrs            Not disclosed   \n",
       "\n",
       "                                                location  rating  \\\n",
       "0      Kolkata, Hyderabad/Secunderabad, Pune, Ahmedab...     4.0   \n",
       "1      Kolkata, Mumbai, Hyderabad/Secunderabad, Pune,...     4.1   \n",
       "2      Kolkata, Mumbai, Hyderabad/Secunderabad, Pune,...     4.1   \n",
       "3      Kolkata, Mumbai, Hyderabad/Secunderabad, Pune,...     4.1   \n",
       "4      Hybrid - Kolkata, Hyderabad/Secunderabad, Pune...     4.1   \n",
       "...                                                  ...     ...   \n",
       "73762                    Jalandhar, Chandigarh, Amritsar     0.0   \n",
       "73763                            Ludhiana, Patiala, Moga     0.0   \n",
       "73764                        New Delhi, Gurgaon/Gurugram     0.0   \n",
       "73765  Kota, Udaipur, Banswara, Bhiwadi, Jaipur, Alwa...     2.8   \n",
       "73766    Hybrid - Pondicherry/Puducherry, Salem, Chennai     0.0   \n",
       "\n",
       "             reviews                                    resposibilities  \\\n",
       "0      39110 Reviews     Customer Service,Sales,Relationship Management   \n",
       "1      32129 Reviews  Product management,Market analysis,Change mana...   \n",
       "2      32129 Reviews  Business process,Change management,Team manage...   \n",
       "3      32129 Reviews  Business process,Change management,Team manage...   \n",
       "4       3759 Reviews  SAP BO,PL / SQL,Oracle SQL,SAP Business Object...   \n",
       "...              ...                                                ...   \n",
       "73762      0 Reviews  CRM,Communication Skills,Presentation Skills,C...   \n",
       "73763      0 Reviews  CRM,Communication Skills,Presentation Skills,C...   \n",
       "73764      0 Reviews  Customer Service,US Process,Hospitality,Custom...   \n",
       "73765      3 Reviews  ENGINEERING,B Tech Fresher,AutoCAD,Degree,PLC,...   \n",
       "73766      0 Reviews  Lecturer Activities,Nursing Education,Trainer,...   \n",
       "\n",
       "       min_exp  max_exp  \n",
       "0            1        6  \n",
       "1           11       15  \n",
       "2            3        7  \n",
       "3            3        7  \n",
       "4            5        7  \n",
       "...        ...      ...  \n",
       "73762        1        5  \n",
       "73763        1        5  \n",
       "73764        1        4  \n",
       "73765        0        2  \n",
       "73766        1        6  \n",
       "\n",
       "[72988 rows x 11 columns]"
      ]
     },
     "execution_count": 41,
     "metadata": {},
     "output_type": "execute_result"
    }
   ],
   "source": [
    "df"
   ]
  },
  {
   "cell_type": "markdown",
   "id": "ffe07612-41d2-4f28-8993-37a6c67adaa8",
   "metadata": {},
   "source": [
    "5. Clean the Salary column"
   ]
  },
  {
   "cell_type": "code",
   "execution_count": 42,
   "id": "9b48a3b2-3233-40ac-a1e8-0646dac89e95",
   "metadata": {
    "ExecuteTime": {
     "end_time": "2025-05-21T04:19:21.204736Z",
     "start_time": "2025-05-21T04:19:21.191076Z"
    }
   },
   "outputs": [
    {
     "data": {
      "text/plain": [
       "array(['Not disclosed', '700000', '1000000', '400000', '250000',\n",
       "       '2500000', '1300000', '850000', '425000', '550000', '800000',\n",
       "       '50000', '475000', '600000', '500000', '1800000', '200000',\n",
       "       '2000000', '300000', '1500000', '900000', '2250000',\n",
       "       '9.5 Cr and above', '950000', '1200000', '100000', '350000',\n",
       "       '175000', '225000', '650000', '325000', '375000', '1400000',\n",
       "       '150000', '60000', '3000000', '1700000', '450000', '750000',\n",
       "       '4000000', '125000', '3500000', '275000', '50000000', '1600000',\n",
       "       'Any Graduate', '80000', '10000', '1100000', '40000000', '90000',\n",
       "       '500000 (Including Variable: 20.0%)', '2750000', '70000000',\n",
       "       '1900000', '5500000', '35000000', 'Less than 50000', '15000',\n",
       "       'Any Postgraduate Any Graduate', '70000', '20000000',\n",
       "       'Graduation Not Required', '85000000', '10000000',\n",
       "       'M.Tech MCA MS/M.Sc(Science) B.Tech/B.E.', '80000000', '6000000',\n",
       "       '15000000', '3750000', 'CA MBA/PGDM M.Com B.Com', '65000000',\n",
       "       '5000000', '60000000', '27500000', '30000000', 'MBA/PGDM',\n",
       "       '4500000', 'MBBS', 'B.Tech/B.E. BCA', 'MS/M.Sc(Science) M.A',\n",
       "       'MCA B.Tech/B.E.', '90000000', 'MS/M.Sc(Science) MBA/PGDM M.A',\n",
       "       '3250000', '8000000', '9000000', '17500000', '42500000', '7000000',\n",
       "       'Less than 5000', '5000', '32500000', '7500000', '75000000',\n",
       "       '22500000', '400000 (Including Variable: 50.0%)', '37500000'],\n",
       "      dtype=object)"
      ]
     },
     "execution_count": 42,
     "metadata": {},
     "output_type": "execute_result"
    }
   ],
   "source": [
    "df['clean salary'] = df['salary'].str.replace(' PA.', '').str.replace(',', '').str.split('-').str[0].str.strip()\n",
    "df['clean salary'].unique()"
   ]
  },
  {
   "cell_type": "code",
   "execution_count": 43,
   "id": "9dcb75bd-b61e-4aca-8745-05127cd9b43f",
   "metadata": {},
   "outputs": [
    {
     "data": {
      "text/plain": [
       "array(['Not disclosed', '700000', '1000000', '400000', '250000',\n",
       "       '2500000', '1300000', '850000', '425000', '550000', '800000',\n",
       "       '50000', '475000', '600000', '500000', '1800000', '200000',\n",
       "       '2000000', '300000', '1500000', '900000', '2250000', '950000',\n",
       "       '1200000', '100000', '350000', '175000', '225000', '650000',\n",
       "       '325000', '375000', '1400000', '150000', '60000', '3000000',\n",
       "       '1700000', '450000', '750000', '4000000', '125000', '3500000',\n",
       "       '275000', '50000000', '1600000', 'Any Graduate', '80000', '10000',\n",
       "       '1100000', '40000000', '90000',\n",
       "       '500000 (Including Variable: 20.0%)', '2750000', '70000000',\n",
       "       '1900000', '5500000', '35000000', '15000',\n",
       "       'Any Postgraduate Any Graduate', '70000', '20000000',\n",
       "       'Graduation Not Required', '85000000', '10000000',\n",
       "       'M.Tech MCA MS/M.Sc(Science) B.Tech/B.E.', '80000000', '6000000',\n",
       "       '15000000', '3750000', 'CA MBA/PGDM M.Com B.Com', '65000000',\n",
       "       '5000000', '60000000', '27500000', '30000000', 'MBA/PGDM',\n",
       "       '4500000', 'MBBS', 'B.Tech/B.E. BCA', 'MS/M.Sc(Science) M.A',\n",
       "       'MCA B.Tech/B.E.', '90000000', 'MS/M.Sc(Science) MBA/PGDM M.A',\n",
       "       '3250000', '8000000', '9000000', '17500000', '42500000', '7000000',\n",
       "       '5000', '32500000', '7500000', '75000000', '22500000',\n",
       "       '400000 (Including Variable: 50.0%)', '37500000'], dtype=object)"
      ]
     },
     "execution_count": 43,
     "metadata": {},
     "output_type": "execute_result"
    }
   ],
   "source": [
    "df = df[(df['clean salary'] != '9.5 Cr and above') & (df['clean salary'] != 'Less than 5000') &  (df['clean salary'] != 'Less than 50000')]\n",
    "df['clean salary'].unique()"
   ]
  },
  {
   "cell_type": "code",
   "execution_count": 44,
   "id": "08340744-fa6d-4913-b8c4-9d39d1b4d24d",
   "metadata": {},
   "outputs": [
    {
     "name": "stderr",
     "output_type": "stream",
     "text": [
      "C:\\Users\\moham\\AppData\\Local\\Temp\\ipykernel_8016\\2891854389.py:1: SettingWithCopyWarning: \n",
      "A value is trying to be set on a copy of a slice from a DataFrame.\n",
      "Try using .loc[row_indexer,col_indexer] = value instead\n",
      "\n",
      "See the caveats in the documentation: https://pandas.pydata.org/pandas-docs/stable/user_guide/indexing.html#returning-a-view-versus-a-copy\n",
      "  df['min_salary'] = df['clean salary'].str.split('(').str[0].str.strip()\n"
     ]
    },
    {
     "data": {
      "text/plain": [
       "array(['Not disclosed', '700000', '1000000', '400000', '250000',\n",
       "       '2500000', '1300000', '850000', '425000', '550000', '800000',\n",
       "       '50000', '475000', '600000', '500000', '1800000', '200000',\n",
       "       '2000000', '300000', '1500000', '900000', '2250000', '950000',\n",
       "       '1200000', '100000', '350000', '175000', '225000', '650000',\n",
       "       '325000', '375000', '1400000', '150000', '60000', '3000000',\n",
       "       '1700000', '450000', '750000', '4000000', '125000', '3500000',\n",
       "       '275000', '50000000', '1600000', 'Any Graduate', '80000', '10000',\n",
       "       '1100000', '40000000', '90000', '2750000', '70000000', '1900000',\n",
       "       '5500000', '35000000', '15000', 'Any Postgraduate Any Graduate',\n",
       "       '70000', '20000000', 'Graduation Not Required', '85000000',\n",
       "       '10000000', 'M.Tech MCA MS/M.Sc', '80000000', '6000000',\n",
       "       '15000000', '3750000', 'CA MBA/PGDM M.Com B.Com', '65000000',\n",
       "       '5000000', '60000000', '27500000', '30000000', 'MBA/PGDM',\n",
       "       '4500000', 'MBBS', 'B.Tech/B.E. BCA', 'MS/M.Sc', 'MCA B.Tech/B.E.',\n",
       "       '90000000', '3250000', '8000000', '9000000', '17500000',\n",
       "       '42500000', '7000000', '5000', '32500000', '7500000', '75000000',\n",
       "       '22500000', '37500000'], dtype=object)"
      ]
     },
     "execution_count": 44,
     "metadata": {},
     "output_type": "execute_result"
    }
   ],
   "source": [
    "df['min_salary'] = df['clean salary'].str.split('(').str[0].str.strip()\n",
    "df['min_salary'].unique()"
   ]
  },
  {
   "cell_type": "code",
   "execution_count": 45,
   "id": "5690aacd-6708-496a-8370-f52434faebab",
   "metadata": {},
   "outputs": [
    {
     "name": "stderr",
     "output_type": "stream",
     "text": [
      "C:\\Users\\moham\\AppData\\Local\\Temp\\ipykernel_8016\\1188611455.py:1: SettingWithCopyWarning: \n",
      "A value is trying to be set on a copy of a slice from a DataFrame.\n",
      "Try using .loc[row_indexer,col_indexer] = value instead\n",
      "\n",
      "See the caveats in the documentation: https://pandas.pydata.org/pandas-docs/stable/user_guide/indexing.html#returning-a-view-versus-a-copy\n",
      "  df['min_salary']= df['min_salary'].replace(['Any Graduate', 'Any Postgraduate Any Graduate', 'Graduation Not Required', 'M.Tech MCA MS/M.Sc', 'CA MBA/PGDM M.Com B.Com','MBBS', 'B.Tech/B.E. BCA', 'MS/M.Sc', 'MCA B.Tech/B.E.'], 'Not disclosed')\n"
     ]
    }
   ],
   "source": [
    "df['min_salary']= df['min_salary'].replace(['Any Graduate', 'Any Postgraduate Any Graduate', 'Graduation Not Required', 'M.Tech MCA MS/M.Sc', 'CA MBA/PGDM M.Com B.Com','MBBS', 'B.Tech/B.E. BCA', 'MS/M.Sc', 'MCA B.Tech/B.E.'], 'Not disclosed')"
   ]
  },
  {
   "cell_type": "code",
   "execution_count": 46,
   "id": "34a5538c-4c98-4f39-8683-1f56b2411c7e",
   "metadata": {},
   "outputs": [
    {
     "data": {
      "text/plain": [
       "array(['Not disclosed', '700000', '1000000', '400000', '250000',\n",
       "       '2500000', '1300000', '850000', '425000', '550000', '800000',\n",
       "       '50000', '475000', '600000', '500000', '1800000', '200000',\n",
       "       '2000000', '300000', '1500000', '900000', '2250000', '950000',\n",
       "       '1200000', '100000', '350000', '175000', '225000', '650000',\n",
       "       '325000', '375000', '1400000', '150000', '60000', '3000000',\n",
       "       '1700000', '450000', '750000', '4000000', '125000', '3500000',\n",
       "       '275000', '50000000', '1600000', '80000', '10000', '1100000',\n",
       "       '40000000', '90000', '2750000', '70000000', '1900000', '5500000',\n",
       "       '35000000', '15000', '70000', '20000000', '85000000', '10000000',\n",
       "       '80000000', '6000000', '15000000', '3750000', '65000000',\n",
       "       '5000000', '60000000', '27500000', '30000000', 'MBA/PGDM',\n",
       "       '4500000', '90000000', '3250000', '8000000', '9000000', '17500000',\n",
       "       '42500000', '7000000', '5000', '32500000', '7500000', '75000000',\n",
       "       '22500000', '37500000'], dtype=object)"
      ]
     },
     "execution_count": 46,
     "metadata": {},
     "output_type": "execute_result"
    }
   ],
   "source": [
    "df['min_salary'].unique()"
   ]
  },
  {
   "cell_type": "code",
   "execution_count": 47,
   "id": "fc8d8631-59f2-4bbd-a805-235106dd634f",
   "metadata": {},
   "outputs": [],
   "source": [
    "del df['clean salary']"
   ]
  },
  {
   "cell_type": "code",
   "execution_count": 48,
   "id": "1c050a65-6bb0-40df-ae61-df6957a563ba",
   "metadata": {},
   "outputs": [],
   "source": [
    "del df['experience']"
   ]
  },
  {
   "cell_type": "code",
   "execution_count": 49,
   "id": "ed129064-7596-4f18-b5d1-fb77b571dd2d",
   "metadata": {},
   "outputs": [
    {
     "name": "stderr",
     "output_type": "stream",
     "text": [
      "C:\\Users\\moham\\AppData\\Local\\Temp\\ipykernel_8016\\2177875179.py:1: SettingWithCopyWarning: \n",
      "A value is trying to be set on a copy of a slice from a DataFrame.\n",
      "Try using .loc[row_indexer,col_indexer] = value instead\n",
      "\n",
      "See the caveats in the documentation: https://pandas.pydata.org/pandas-docs/stable/user_guide/indexing.html#returning-a-view-versus-a-copy\n",
      "  df['clean salary'] = df['salary'].str.replace(' PA.', '').str.replace(',','').str.split('-').str[1].str.strip()\n"
     ]
    }
   ],
   "source": [
    "df['clean salary'] = df['salary'].str.replace(' PA.', '').str.replace(',','').str.split('-').str[1].str.strip()\n",
    "\n",
    "\n"
   ]
  },
  {
   "cell_type": "code",
   "execution_count": 50,
   "id": "2f74c1b5-a5d1-4ed3-af93-64f2f56fb227",
   "metadata": {},
   "outputs": [],
   "source": [
    "df = df[(df['clean salary'] != '9.5 Cr and above')]"
   ]
  },
  {
   "cell_type": "code",
   "execution_count": 51,
   "id": "7deb42e8-5d9f-4844-a611-474bcfa1ca62",
   "metadata": {},
   "outputs": [
    {
     "data": {
      "text/plain": [
       "array([nan, '1700000', '2000000', '900000', '350000', '2750000',\n",
       "       '2250000', '1850000', '450000', '1550000', '1400000', '1800000',\n",
       "       '300000', '800000', '1200000', '1500000', '1600000', '700000',\n",
       "       '3000000', '650000', '600000', '1900000', '2500000', '3500000',\n",
       "       '850000', '1300000', '90000', '475000', '750000', '500000',\n",
       "       '425000', '250000', '1650000', '400000', '70000', '1000000',\n",
       "       '325000', '200000', '4000000', '550000', '150000', '275000',\n",
       "       '2400000', '1100000', '375000', '4500000', '675000', '2200000',\n",
       "       '225000', '2300000', '5000000', '975000', '3250000', '6500000',\n",
       "       '175000', '3300000', '950000', '3100000', '825000', '80000',\n",
       "       '15000', '100000', '60000000', '125000', '4250000', '725000',\n",
       "       '60000', '2100000', '50000000', '90000000', '9000000', '1750000',\n",
       "       '37500000', '25000', '3200000', '7000000', '1950000', '6000000',\n",
       "       '625000', '30000000', '925000', '3750000', '8000000', '775000',\n",
       "       '10000000', '85000000', '8500000', '75000000', '875000',\n",
       "       '40000000', '45000000', '80000000', '9500000', '5500000',\n",
       "       '70000000', '7500000', '17500000', '12500000', '4750000',\n",
       "       '20000000', '10000', '15000000', '32500000', '25000000',\n",
       "       '65000000'], dtype=object)"
      ]
     },
     "execution_count": 51,
     "metadata": {},
     "output_type": "execute_result"
    }
   ],
   "source": [
    "df['max_salary'] = df['clean salary'].str.split('(').str[0].str.strip()\n",
    "df['max_salary'].unique()"
   ]
  },
  {
   "cell_type": "code",
   "execution_count": 52,
   "id": "f61b8125-6e95-4513-bb8e-16e592c1922f",
   "metadata": {},
   "outputs": [
    {
     "data": {
      "text/plain": [
       "array([nan, '1700000', '2000000', '900000', '350000', '2750000',\n",
       "       '2250000', '1850000', '450000', '1550000', '1400000', '1800000',\n",
       "       '300000', '800000', '1200000', '1500000', '1600000', '700000',\n",
       "       '3000000', '650000', '600000', '1900000', '2500000', '3500000',\n",
       "       '850000', '1300000', '90000', '475000', '750000', '500000',\n",
       "       '425000', '250000', '1650000', '400000', '70000', '1000000',\n",
       "       '325000', '200000', '4000000', '550000', '150000', '275000',\n",
       "       '2400000', '1100000', '375000', '4500000', '675000', '2200000',\n",
       "       '225000', '2300000', '5000000', '975000', '3250000', '6500000',\n",
       "       '175000', '3300000', '950000', '3100000', '825000', '80000',\n",
       "       '15000', '100000', '60000000', '125000', '4250000', '725000',\n",
       "       '60000', '2100000', '50000000', '90000000', '9000000', '1750000',\n",
       "       '37500000', '25000', '3200000', '7000000', '1950000', '6000000',\n",
       "       '625000', '30000000', '925000', '3750000', '8000000', '775000',\n",
       "       '10000000', '85000000', '8500000', '75000000', '875000',\n",
       "       '40000000', '45000000', '80000000', '9500000', '5500000',\n",
       "       '70000000', '7500000', '17500000', '12500000', '4750000',\n",
       "       '20000000', '10000', '15000000', '32500000', '25000000',\n",
       "       '65000000'], dtype=object)"
      ]
     },
     "execution_count": 52,
     "metadata": {},
     "output_type": "execute_result"
    }
   ],
   "source": [
    "df['max_salary'].unique()"
   ]
  },
  {
   "cell_type": "code",
   "execution_count": 53,
   "id": "13547a74-94a2-4c00-b19c-393097ca2246",
   "metadata": {},
   "outputs": [],
   "source": [
    "df['max_salary'] = df['max_salary'].fillna('Not disclosed')"
   ]
  },
  {
   "cell_type": "code",
   "execution_count": 54,
   "id": "9e3840d8-64b7-43fc-91e4-f0baec4877ed",
   "metadata": {},
   "outputs": [
    {
     "data": {
      "text/plain": [
       "array(['Not disclosed', '1700000', '2000000', '900000', '350000',\n",
       "       '2750000', '2250000', '1850000', '450000', '1550000', '1400000',\n",
       "       '1800000', '300000', '800000', '1200000', '1500000', '1600000',\n",
       "       '700000', '3000000', '650000', '600000', '1900000', '2500000',\n",
       "       '3500000', '850000', '1300000', '90000', '475000', '750000',\n",
       "       '500000', '425000', '250000', '1650000', '400000', '70000',\n",
       "       '1000000', '325000', '200000', '4000000', '550000', '150000',\n",
       "       '275000', '2400000', '1100000', '375000', '4500000', '675000',\n",
       "       '2200000', '225000', '2300000', '5000000', '975000', '3250000',\n",
       "       '6500000', '175000', '3300000', '950000', '3100000', '825000',\n",
       "       '80000', '15000', '100000', '60000000', '125000', '4250000',\n",
       "       '725000', '60000', '2100000', '50000000', '90000000', '9000000',\n",
       "       '1750000', '37500000', '25000', '3200000', '7000000', '1950000',\n",
       "       '6000000', '625000', '30000000', '925000', '3750000', '8000000',\n",
       "       '775000', '10000000', '85000000', '8500000', '75000000', '875000',\n",
       "       '40000000', '45000000', '80000000', '9500000', '5500000',\n",
       "       '70000000', '7500000', '17500000', '12500000', '4750000',\n",
       "       '20000000', '10000', '15000000', '32500000', '25000000',\n",
       "       '65000000'], dtype=object)"
      ]
     },
     "execution_count": 54,
     "metadata": {},
     "output_type": "execute_result"
    }
   ],
   "source": [
    "df['max_salary'].unique()"
   ]
  },
  {
   "cell_type": "code",
   "execution_count": 55,
   "id": "b7a5cf04-9013-4d60-89aa-8b203c0113dc",
   "metadata": {},
   "outputs": [],
   "source": [
    "del df['clean salary']"
   ]
  },
  {
   "cell_type": "code",
   "execution_count": 56,
   "id": "b559559f-cc96-4175-aa3f-4eca3b4eb3aa",
   "metadata": {},
   "outputs": [],
   "source": [
    "del df['salary']"
   ]
  },
  {
   "cell_type": "markdown",
   "id": "53f5aca1-849b-479b-b826-fa1141fb303d",
   "metadata": {},
   "source": [
    "6. Clean the location column"
   ]
  },
  {
   "cell_type": "code",
   "execution_count": 57,
   "id": "ae5642ce-f8bf-4fb5-9719-33b0b6c53d02",
   "metadata": {
    "ExecuteTime": {
     "end_time": "2025-05-21T04:19:21.362243Z",
     "start_time": "2025-05-21T04:19:21.349146Z"
    }
   },
   "outputs": [
    {
     "data": {
      "text/plain": [
       "array(['Kolkata, Hyderabad/Secunderabad, Pune, Ahmedabad, Chennai, Bangalore/Bengaluru, Delhi / NCR, Mumbai (All Areas), rajasthan',\n",
       "       'Kolkata, Mumbai, Hyderabad/Secunderabad, Pune, Chennai, Bangalore/Bengaluru, delhi ncr',\n",
       "       'Hybrid - Kolkata, Hyderabad/Secunderabad, Pune, Chennai, Coimbatore, Bangalore/Bengaluru, Delhi / NCR, Mumbai (All Areas)',\n",
       "       ..., 'Ludhiana, Patiala, Moga',\n",
       "       'Kota, Udaipur, Banswara, Bhiwadi, Jaipur, Alwar, Jaisalmer, Bikaner, Jodhpur',\n",
       "       'Hybrid - Pondicherry/Puducherry, Salem, Chennai'], dtype=object)"
      ]
     },
     "execution_count": 57,
     "metadata": {},
     "output_type": "execute_result"
    }
   ],
   "source": [
    "df['location'].unique()"
   ]
  },
  {
   "cell_type": "code",
   "execution_count": 58,
   "id": "89b02780-8347-48ea-9c6a-272ef7389d86",
   "metadata": {
    "ExecuteTime": {
     "end_time": "2025-05-21T07:17:03.508762Z",
     "start_time": "2025-05-21T07:17:03.416247Z"
    }
   },
   "outputs": [],
   "source": [
    "df['clean_location'] = df['location'].str.replace('(All Areas)', '').str.replace(',', '').str.replace('/', ' ').str.strip().str.split(' ')"
   ]
  },
  {
   "cell_type": "code",
   "execution_count": 59,
   "id": "5bf0b30e94818aab",
   "metadata": {
    "ExecuteTime": {
     "end_time": "2025-05-21T07:18:09.615424Z",
     "start_time": "2025-05-21T07:18:09.608296Z"
    }
   },
   "outputs": [
    {
     "data": {
      "text/plain": [
       "0        [Kolkata, Hyderabad, Secunderabad, Pune, Ahmed...\n",
       "1        [Kolkata, Mumbai, Hyderabad, Secunderabad, Pun...\n",
       "2        [Kolkata, Mumbai, Hyderabad, Secunderabad, Pun...\n",
       "3        [Kolkata, Mumbai, Hyderabad, Secunderabad, Pun...\n",
       "4        [Hybrid, -, Kolkata, Hyderabad, Secunderabad, ...\n",
       "                               ...                        \n",
       "73762                    [Jalandhar, Chandigarh, Amritsar]\n",
       "73763                            [Ludhiana, Patiala, Moga]\n",
       "73764                      [New, Delhi, Gurgaon, Gurugram]\n",
       "73765    [Kota, Udaipur, Banswara, Bhiwadi, Jaipur, Alw...\n",
       "73766    [Hybrid, -, Pondicherry, Puducherry, Salem, Ch...\n",
       "Name: clean_location, Length: 72967, dtype: object"
      ]
     },
     "execution_count": 59,
     "metadata": {},
     "output_type": "execute_result"
    }
   ],
   "source": [
    "df['clean_location']"
   ]
  },
  {
   "cell_type": "markdown",
   "id": "2346fdbc-c53d-4c53-9396-ce9c232a40ee",
   "metadata": {},
   "source": [
    "7. Clean the rating and reviews columns"
   ]
  },
  {
   "cell_type": "code",
   "execution_count": 60,
   "id": "7f8cf68c-bf63-4b92-9e70-c11a0a0f98e6",
   "metadata": {},
   "outputs": [],
   "source": [
    "df['reviews'] = df['reviews'].str.split(' ').str[0].astype('int')"
   ]
  },
  {
   "cell_type": "markdown",
   "id": "e8fef39f-241e-4789-8126-628df157deaa",
   "metadata": {},
   "source": [
    "8. Change the data type of job_id"
   ]
  },
  {
   "cell_type": "code",
   "execution_count": 61,
   "id": "48e1135a-e759-443d-8f67-af4daa9575a2",
   "metadata": {
    "ExecuteTime": {
     "end_time": "2025-05-21T04:19:21.918776Z",
     "start_time": "2025-05-21T04:19:21.895058Z"
    }
   },
   "outputs": [],
   "source": [
    "df['job_id'] = df['job_id'].astype('int64').astype(str)"
   ]
  },
  {
   "cell_type": "markdown",
   "id": "751c796a-dcf7-41a8-8b09-8f1721b9f254",
   "metadata": {},
   "source": [
    "### Analyze Data\n",
    "\n",
    "Answer the Questions by showing appropriate Visuals and analyse the data\n",
    "   - total Number of jobs\n",
    "   -  total number of companies\n",
    "   -  top 5 companies\n",
    "       - based on rating\n",
    "       - on reviews\n",
    "       - salary\n",
    "       - no of job posting\n",
    "       - no of different locations\n",
    "    \n",
    "   -  Skills needed for almost all the jobs\n",
    "   -  skills needed to get hired in the HDFC bank\n",
    "   -  skills needed to become a data analyst\n",
    "   -  no of jobs as per year's of experience\n",
    "   -  avg salary as per year's of experience"
   ]
  },
  {
   "cell_type": "markdown",
   "id": "68fff5df-0080-47af-af10-fbb1cd48efd0",
   "metadata": {},
   "source": [
    "1. Number of job's as per experience"
   ]
  },
  {
   "cell_type": "code",
   "execution_count": 62,
   "id": "e9b71921b627a784",
   "metadata": {
    "ExecuteTime": {
     "end_time": "2025-05-21T10:06:00.718432Z",
     "start_time": "2025-05-21T10:06:00.663229Z"
    }
   },
   "outputs": [
    {
     "name": "stdout",
     "output_type": "stream",
     "text": [
      "-----------------------------------\n",
      "total jobs       72967\n",
      "total Companies  15310\n",
      "-----------------------------------\n"
     ]
    }
   ],
   "source": [
    "print('-'*35)\n",
    "print('total jobs      ', df['job_id'].nunique())\n",
    "print('total Companies ', df['company'].nunique())\n",
    "print('-'*35)"
   ]
  },
  {
   "cell_type": "markdown",
   "id": "ce98a4c5a65160ac",
   "metadata": {},
   "source": [
    "### Top 5 Companies (Review)"
   ]
  },
  {
   "cell_type": "markdown",
   "id": "32d69e78-08c6-4c4f-9dde-9d36adcf4c24",
   "metadata": {},
   "source": [
    "Weighted avg of review and filter. This is done for better understand companies based on reviews & ratings"
   ]
  },
  {
   "cell_type": "code",
   "execution_count": 63,
   "id": "aa242aea-4fc2-44c5-8c5e-f0196729d203",
   "metadata": {},
   "outputs": [
    {
     "ename": "KeyError",
     "evalue": "'Column not found: rating_review_filter'",
     "output_type": "error",
     "traceback": [
      "\u001b[1;31m---------------------------------------------------------------------------\u001b[0m",
      "\u001b[1;31mKeyError\u001b[0m                                  Traceback (most recent call last)",
      "Cell \u001b[1;32mIn[63], line 5\u001b[0m\n\u001b[0;32m      2\u001b[0m \u001b[38;5;28;01mimport\u001b[39;00m \u001b[38;5;21;01mpandas\u001b[39;00m \u001b[38;5;28;01mas\u001b[39;00m \u001b[38;5;21;01mpd\u001b[39;00m\n\u001b[0;32m      4\u001b[0m \u001b[38;5;66;03m# Assuming 'df' is your DataFrame and it has been defined earlier\u001b[39;00m\n\u001b[1;32m----> 5\u001b[0m \u001b[38;5;28mfilter\u001b[39m \u001b[38;5;241m=\u001b[39m df\u001b[38;5;241m.\u001b[39mgroupby([\u001b[38;5;124m'\u001b[39m\u001b[38;5;124mcompany\u001b[39m\u001b[38;5;124m'\u001b[39m])[\u001b[38;5;124m'\u001b[39m\u001b[38;5;124mrating_review_filter\u001b[39m\u001b[38;5;124m'\u001b[39m]\u001b[38;5;241m.\u001b[39mmax()\u001b[38;5;241m.\u001b[39msort_values(ascending\u001b[38;5;241m=\u001b[39m\u001b[38;5;28;01mFalse\u001b[39;00m)\u001b[38;5;241m.\u001b[39mhead(\u001b[38;5;241m10\u001b[39m)\n\u001b[0;32m      6\u001b[0m \u001b[38;5;28mfilter\u001b[39m \u001b[38;5;241m=\u001b[39m \u001b[38;5;28mfilter\u001b[39m\u001b[38;5;241m.\u001b[39mreset_index()\n\u001b[0;32m      7\u001b[0m \u001b[38;5;28mfilter\u001b[39m\u001b[38;5;241m.\u001b[39mcolumns \u001b[38;5;241m=\u001b[39m [\u001b[38;5;124m'\u001b[39m\u001b[38;5;124mcompany\u001b[39m\u001b[38;5;124m'\u001b[39m, \u001b[38;5;124m'\u001b[39m\u001b[38;5;124mfilter\u001b[39m\u001b[38;5;124m'\u001b[39m]\n",
      "File \u001b[1;32mD:\\Anaconda\\Lib\\site-packages\\pandas\\core\\groupby\\generic.py:1951\u001b[0m, in \u001b[0;36mDataFrameGroupBy.__getitem__\u001b[1;34m(self, key)\u001b[0m\n\u001b[0;32m   1944\u001b[0m \u001b[38;5;28;01mif\u001b[39;00m \u001b[38;5;28misinstance\u001b[39m(key, \u001b[38;5;28mtuple\u001b[39m) \u001b[38;5;129;01mand\u001b[39;00m \u001b[38;5;28mlen\u001b[39m(key) \u001b[38;5;241m>\u001b[39m \u001b[38;5;241m1\u001b[39m:\n\u001b[0;32m   1945\u001b[0m     \u001b[38;5;66;03m# if len == 1, then it becomes a SeriesGroupBy and this is actually\u001b[39;00m\n\u001b[0;32m   1946\u001b[0m     \u001b[38;5;66;03m# valid syntax, so don't raise\u001b[39;00m\n\u001b[0;32m   1947\u001b[0m     \u001b[38;5;28;01mraise\u001b[39;00m \u001b[38;5;167;01mValueError\u001b[39;00m(\n\u001b[0;32m   1948\u001b[0m         \u001b[38;5;124m\"\u001b[39m\u001b[38;5;124mCannot subset columns with a tuple with more than one element. \u001b[39m\u001b[38;5;124m\"\u001b[39m\n\u001b[0;32m   1949\u001b[0m         \u001b[38;5;124m\"\u001b[39m\u001b[38;5;124mUse a list instead.\u001b[39m\u001b[38;5;124m\"\u001b[39m\n\u001b[0;32m   1950\u001b[0m     )\n\u001b[1;32m-> 1951\u001b[0m \u001b[38;5;28;01mreturn\u001b[39;00m \u001b[38;5;28msuper\u001b[39m()\u001b[38;5;241m.\u001b[39m\u001b[38;5;21m__getitem__\u001b[39m(key)\n",
      "File \u001b[1;32mD:\\Anaconda\\Lib\\site-packages\\pandas\\core\\base.py:244\u001b[0m, in \u001b[0;36mSelectionMixin.__getitem__\u001b[1;34m(self, key)\u001b[0m\n\u001b[0;32m    242\u001b[0m \u001b[38;5;28;01melse\u001b[39;00m:\n\u001b[0;32m    243\u001b[0m     \u001b[38;5;28;01mif\u001b[39;00m key \u001b[38;5;129;01mnot\u001b[39;00m \u001b[38;5;129;01min\u001b[39;00m \u001b[38;5;28mself\u001b[39m\u001b[38;5;241m.\u001b[39mobj:\n\u001b[1;32m--> 244\u001b[0m         \u001b[38;5;28;01mraise\u001b[39;00m \u001b[38;5;167;01mKeyError\u001b[39;00m(\u001b[38;5;124mf\u001b[39m\u001b[38;5;124m\"\u001b[39m\u001b[38;5;124mColumn not found: \u001b[39m\u001b[38;5;132;01m{\u001b[39;00mkey\u001b[38;5;132;01m}\u001b[39;00m\u001b[38;5;124m\"\u001b[39m)\n\u001b[0;32m    245\u001b[0m     ndim \u001b[38;5;241m=\u001b[39m \u001b[38;5;28mself\u001b[39m\u001b[38;5;241m.\u001b[39mobj[key]\u001b[38;5;241m.\u001b[39mndim\n\u001b[0;32m    246\u001b[0m     \u001b[38;5;28;01mreturn\u001b[39;00m \u001b[38;5;28mself\u001b[39m\u001b[38;5;241m.\u001b[39m_gotitem(key, ndim\u001b[38;5;241m=\u001b[39mndim)\n",
      "\u001b[1;31mKeyError\u001b[0m: 'Column not found: rating_review_filter'"
     ]
    }
   ],
   "source": [
    "import plotly.express as px\n",
    "import pandas as pd\n",
    "\n",
    "# Assuming 'df' is your DataFrame and it has been defined earlier\n",
    "filter = df.groupby(['company'])['rating_review_filter'].max().sort_values(ascending=False).head(10)\n",
    "filter = filter.reset_index()\n",
    "filter.columns = ['company', 'filter']\n",
    "\n",
    "# Normalize the color values to range from 0 to 1\n",
    "filter['color'] = (filter['filter'] - filter['filter'].min()) / (filter['filter'].max() - filter['filter'].min())\n",
    "\n",
    "# Create an interactive pie chart with Plotly\n",
    "fig = px.pie(\n",
    "    filter,\n",
    "    values='filter',\n",
    "    names='company',\n",
    "    title='Top 10 Companies Based on Reviews and Ratings',\n",
    "    color='color',  # Use the normalized color for the pie slices\n",
    "    color_discrete_sequence=px.colors.sequential.Blues_r,  # Using reversed blues color scheme\n",
    "    hover_data=['filter']  # Show filter value on hover\n",
    ")\n",
    "\n",
    "# Update layout for better appearance\n",
    "fig.update_layout(\n",
    "    title_font_family=\"monospace\",\n",
    "    title_x=0.5,  # Center the title\n",
    "    margin=dict(t=80, b=20, l=20, r=20)\n",
    ")\n",
    "\n",
    "# Make the chart interactive with labels outside and percentages inside\n",
    "fig.update_traces(\n",
    "    textposition='outside',  # Put labels outside\n",
    "    textinfo='percent',      # Show only percentages inside\n",
    "    hoverinfo='label+percent+value',\n",
    "    pull=[0.05 if i == 0 else 0 for i in range(len(filter))]  # Pull out the first slice slightly\n",
    ")\n",
    "\n",
    "# Add the labels to the legend instead of on the pie\n",
    "fig.update_layout(showlegend=True)\n",
    "\n",
    "# Show the figure\n",
    "fig.show()\n"
   ]
  },
  {
   "cell_type": "markdown",
   "id": "14107470-0a78-47e9-9ead-a24c3f54db01",
   "metadata": {},
   "source": [
    "### Companies hiring for data analyst\n"
   ]
  },
  {
   "cell_type": "code",
   "execution_count": null,
   "id": "5ad46556-adee-4998-ab06-24b4bf6309bd",
   "metadata": {},
   "outputs": [],
   "source": [
    "data_analyst_df = df[df['job_role'] == 'Data Analyst']\n",
    "len(data_analyst_df)"
   ]
  },
  {
   "cell_type": "code",
   "execution_count": null,
   "id": "b8c0fda4-7d95-4bc9-9451-ab4dbb6015d1",
   "metadata": {},
   "outputs": [],
   "source": [
    "data_analyst_df.groupby(['company'])['job_role'].size().reset_index().sort_values(by = 'job_role', ascending = False)[:10]"
   ]
  },
  {
   "cell_type": "code",
   "execution_count": null,
   "id": "8ff882f1-5d5c-4c32-9469-6043c81fcd56",
   "metadata": {},
   "outputs": [],
   "source": [
    "df['rating_review_filter'] = (df['rating']*0.1) + (df['reviews']*0.9)"
   ]
  },
  {
   "cell_type": "code",
   "execution_count": null,
   "id": "740aed2c-bf7c-41f8-a831-a227c97744ab",
   "metadata": {},
   "outputs": [],
   "source": [
    "df.groupby(['company'])['rating_review_filter'].min().reset_index().sort_values(by = 'rating_review_filter', ascending = False).head(10)"
   ]
  },
  {
   "cell_type": "markdown",
   "id": "52f54023-e4ef-4d40-9bb2-cff74b795ba0",
   "metadata": {},
   "source": [
    "### Skills needed for almost all the jobs"
   ]
  },
  {
   "cell_type": "code",
   "execution_count": null,
   "id": "6b24db0a-236d-453e-9c77-a38a4b15bf1c",
   "metadata": {},
   "outputs": [],
   "source": [
    "# we need to find which responsibility has the highest frequency"
   ]
  },
  {
   "cell_type": "code",
   "execution_count": null,
   "id": "beab9354-0e1f-46ee-a1ca-4c2c27f8bd78",
   "metadata": {},
   "outputs": [],
   "source": [
    "df.rename(columns = {'resposibilities': 'responsibilities'}, inplace = True)"
   ]
  },
  {
   "cell_type": "markdown",
   "id": "d16964d0-d864-46cb-8b0c-95d04c578053",
   "metadata": {},
   "source": [
    "according to the data most of the common skills needed for jobs on Naukri are shown below"
   ]
  },
  {
   "cell_type": "code",
   "execution_count": null,
   "id": "0027ee91-139f-4a85-a9d3-94ce5ef85338",
   "metadata": {},
   "outputs": [],
   "source": [
    "import plotly.express as px\n",
    "skills_df_1 = df['responsibilities'].str.lower().str.split(',').explode().value_counts().head(15)\n",
    "skills_df_1 = skills_df_1.reset_index()\n",
    "skills_df_1.columns = ['skills', 'count']\n",
    "fig = px.bar(skills_df_1 , x = 'skills', y = 'count', title = 'Most demanding skills across all the job roles' , color = 'count', labels = {'count': 'count of occurances'}, color_continuous_scale=px.colors.sequential.Blues)\n",
    "fig.show()"
   ]
  },
  {
   "cell_type": "markdown",
   "id": "2281a242-11d6-4150-8089-cadca3f7b843",
   "metadata": {},
   "source": [
    "### Skills needed to hired into hdfc bank"
   ]
  },
  {
   "cell_type": "code",
   "execution_count": null,
   "id": "7899a28b-21ae-4c3b-8650-0ef51e745185",
   "metadata": {},
   "outputs": [],
   "source": [
    "df_hdfc = df[df['company'] == 'Hdfc Bank']\n"
   ]
  },
  {
   "cell_type": "code",
   "execution_count": null,
   "id": "b9785f58-2710-4641-8500-af75ebfbed44",
   "metadata": {},
   "outputs": [],
   "source": [
    "# df_hdfc['responsibilities'].str.lower().str.split(',').explode().value_counts().head(10).plot(kind = 'bar')\n",
    "import pandas as pd\n",
    "import plotly.express as px\n",
    "\n",
    "\n",
    "\n",
    "# Process the data\n",
    "responsibilities_counts = df_hdfc['responsibilities'].str.lower().str.split(',').explode().value_counts().head(10)\n",
    "skills_df_2 = responsibilities_counts.reset_index()\n",
    "skills_df_2.columns = ['skills', 'count']\n",
    "fig = px.bar(skills_df_2,x = 'skills', y= 'count', title = 'skills needed for getting hired in HDFC', labels = {'Count': 'Count of occurences'}, color = 'count', color_continuous_scale = px.colors.sequential.Blues)\n",
    "fig.show()\n"
   ]
  },
  {
   "cell_type": "markdown",
   "id": "c0d44a3e-9338-43b1-a477-432a7a9fa9d2",
   "metadata": {},
   "source": [
    "### Skills needed to hired as Data Analyst"
   ]
  },
  {
   "cell_type": "code",
   "execution_count": null,
   "id": "8404fc32-45db-49e5-8996-e4c08e974214",
   "metadata": {},
   "outputs": [],
   "source": [
    "data_analyst_skills = data_analyst_df['resposibilities'].str.lower().str.split(',').explode().value_counts()[:10]"
   ]
  },
  {
   "cell_type": "code",
   "execution_count": null,
   "id": "91e291c4-62bf-4fd7-a0d9-ad82d5293e34",
   "metadata": {},
   "outputs": [],
   "source": [
    "values = data_analyst_skills.values"
   ]
  },
  {
   "cell_type": "code",
   "execution_count": null,
   "id": "60cffbda-d887-4789-ab8f-551eb03d7646",
   "metadata": {},
   "outputs": [],
   "source": [
    "index = data_analyst_skills.index"
   ]
  },
  {
   "cell_type": "code",
   "execution_count": null,
   "id": "8507b43c-9e88-4472-bcd1-ffef310a9ae9",
   "metadata": {},
   "outputs": [],
   "source": [
    "# import matplotlib.cm as cm\n",
    "# plt.figure(figsize= (8,6))\n",
    "# blues = plt.cm.Blues(np.linspace(0.4,0.8, len(index)))\n",
    "# plt.pie(x = values, labels = index, autopct = \"%1.1f%%\", startangle = 160, colors = blues)\n",
    "\n",
    "# plt.title('Skills required for data analyst role as per naukri data', fontname = 'monospace', pad = 30)\n",
    "# plt.axis('equal')\n",
    "# plt.tight_layout()\n",
    "# plt.show()\n",
    "\n",
    "\n",
    "import plotly.express as px\n",
    "import pandas as pd\n",
    "\n",
    "# Create a DataFrame from your data\n",
    "skills_df = pd.DataFrame({\n",
    "    'Skill': index,\n",
    "    'Count': values\n",
    "})\n",
    "\n",
    "# Create an interactive pie chart with Plotly\n",
    "fig = px.pie(\n",
    "    skills_df, \n",
    "    values='Count', \n",
    "    names='Skill',\n",
    "    title='Skills required for data analyst role as per naukri data',\n",
    "    color_discrete_sequence=px.colors.sequential.Blues_r,  # Using blues color scheme\n",
    "    hover_data=['Count']  # Show count on hover\n",
    ")\n",
    "\n",
    "# Update layout for better appearance\n",
    "fig.update_layout(\n",
    "    title_font_family=\"monospace\",\n",
    "    title_x=0.5,  # Center the title\n",
    "    margin=dict(t=80, b=20, l=20, r=20)\n",
    ")\n",
    "\n",
    "# Make the chart interactive with labels outside and percentages inside\n",
    "fig.update_traces(\n",
    "    textposition='outside',  # Put labels outside\n",
    "    textinfo='percent',      # Show only percentages inside\n",
    "    hoverinfo='label+percent+value',\n",
    "    pull=[0.05 if i == 0 else 0 for i in range(len(index))]  # Pull out the first slice slightly\n",
    ")\n",
    "\n",
    "# Add the labels to the legend instead of on the pie\n",
    "fig.update_layout(showlegend=True)\n",
    "\n",
    "fig.show()"
   ]
  },
  {
   "cell_type": "markdown",
   "id": "fee1e167-af96-4ce2-889f-31e44a44ca6e",
   "metadata": {},
   "source": [
    "Steps to data visualization:\n",
    "- get the things done\n",
    "- show the graph ||.plot\n",
    "- finalize the visualization format\n",
    "- select the appropriate colors , themes font , etc\n",
    "- seaborn and plotly to finalize it\n",
    "\n",
    "     1. Matplotlib\n",
    "     2. seaborn\n",
    "     3. plotly\n",
    "     4. dash/dask"
   ]
  },
  {
   "cell_type": "markdown",
   "id": "9c1c17d2-5a25-440d-ae42-65e9fe33dc53",
   "metadata": {},
   "source": [
    "### Further Analysis"
   ]
  },
  {
   "cell_type": "code",
   "execution_count": null,
   "id": "7dfada04-e450-42c2-b5ec-2efc187147c9",
   "metadata": {},
   "outputs": [],
   "source": [
    "experience = []\n",
    "job_counts = []\n",
    "for exp in range(0,32):\n",
    "    experience.append(exp)\n",
    "    job_counts.append(len(df[(df['max_exp'] >= exp) & (df['min_exp'] <= exp)]))\n",
    "plt.figure(figsize = (12,8))\n",
    "plt.style.use('default')\n",
    "plt.grid(True)\n",
    "plt.bar(experience, job_counts, color = 'blue')\n",
    "plt.xlabel(\"Year's of experience\")\n",
    "plt.ylabel(\"Number of jobs\")\n",
    "plt.title(\"years of experience vs Number of jobs\", font = 'monospace')"
   ]
  },
  {
   "cell_type": "markdown",
   "id": "d36a40ec-f864-4444-a606-ae9083737b29",
   "metadata": {},
   "source": [
    "### Year's of Experience vs. Number of Jobs\n",
    "- The highest demand in the job market is for candidates with 4-6 years of experience, peaking at 5 years.\r\n",
    "- \r\n",
    "Jobs requiring 0-3 years of experience also show strong demand, indicating good opportunities for early-career professional\n",
    "-  After 6 years, the number of job opportunities gradually decreases, suggesting that mid-level positions dominate the market, while senior roles (10+ years) become progressively fewer.\n",
    "-  Niche or leadership positions for candidates with 15+ years of experience exist but are significantly limited.mited."
   ]
  },
  {
   "cell_type": "markdown",
   "id": "9bd7791e-4d40-4fe2-95ff-7ddcccea34f2",
   "metadata": {},
   "source": [
    "## Conclusion:\n",
    " the job market is centered around **mid-level experience**, with **early-career roles** also in demand. Professinals should focus on skill development within 4-6 year window to leverage maximum job opportunities"
   ]
  },
  {
   "cell_type": "markdown",
   "id": "5606c94a-aa5e-4f83-af40-a7d227b0f088",
   "metadata": {},
   "source": [
    "### Average Salary of data analyst\n"
   ]
  },
  {
   "cell_type": "code",
   "execution_count": null,
   "id": "38c57bdc-49af-4b1c-92e5-9ca03e841d7d",
   "metadata": {},
   "outputs": [],
   "source": [
    "df_data_analyst = df[df['job_role'] == 'Data Analyst']\n",
    "df_data_analyst"
   ]
  },
  {
   "cell_type": "code",
   "execution_count": null,
   "id": "99b0a317-61fd-40f7-875f-600a0f3b151f",
   "metadata": {},
   "outputs": [],
   "source": [
    "filtered_df = df_data_analyst[(df_data_analyst['min_salary'] != 'Not disclosed') & (df_data_analyst['max_salary'] != 'Not disclosed')]\n",
    "midpoint_salaries = (filtered_df['min_salary'].astype('int') + filtered_df['max_salary'].astype('int')) / 2\n",
    "avg_salary = midpoint_salaries.mean()\n",
    "avg_salary"
   ]
  },
  {
   "cell_type": "markdown",
   "id": "84c6a007-f63e-43b8-8af7-41cfe0cec27a",
   "metadata": {},
   "source": [
    "## Average Salary by every company\n"
   ]
  },
  {
   "cell_type": "code",
   "execution_count": null,
   "id": "58cb8f99-0d68-4a59-9ca7-c373ea3ed027",
   "metadata": {},
   "outputs": [],
   "source": [
    "df['min_salary'] = df['min_salary'].replace('MBA/PGDM', 'Not disclosed')"
   ]
  },
  {
   "cell_type": "code",
   "execution_count": null,
   "id": "6d8de616-175d-4f89-aa06-500cb22e7295",
   "metadata": {},
   "outputs": [],
   "source": [
    "new_df = df[(df['min_salary'] != 'Not disclosed') & (['max_salary'] != 'Not disclosed')]"
   ]
  },
  {
   "cell_type": "code",
   "execution_count": null,
   "id": "f8981516-0357-4deb-93ef-399aa971df27",
   "metadata": {},
   "outputs": [],
   "source": [
    "import pandas as pd\n",
    "import matplotlib.pyplot as plt\n",
    "import plotly.express as px\n",
    "\n",
    "# Assuming new_df is already defined and contains the relevant data\n",
    "# Convert 'min_salary' to integer\n",
    "new_df['min_salary'] = new_df['min_salary'].astype(int)\n",
    "\n",
    "# Calculate the average minimum salary by company\n",
    "top_companies = new_df.groupby('company')['min_salary'].mean().sort_values(ascending=False).reset_index().head(10)\n",
    "top_companies.columns = ['company', 'salary']\n",
    "\n",
    "# Plotting the results\n",
    "fig = px.bar(top_companies, \n",
    "             x='company', \n",
    "             y='salary', \n",
    "             title='Average Salary by Company', \n",
    "             labels={'salary': 'Average Salary'}, \n",
    "             color='salary', \n",
    "             color_continuous_scale=px.colors.sequential.Blues)  # Use continuous color scale\n",
    "\n",
    "# Update layout for better appearance\n",
    "fig.update_layout(\n",
    "    title_font_family=\"monospace\",\n",
    "    title_x=0.5,  # Center the title\n",
    "    margin=dict(t=80, b=20, l=20, r=20)\n",
    ")\n",
    "\n",
    "fig.show()\n"
   ]
  },
  {
   "cell_type": "code",
   "execution_count": null,
   "id": "7d1b7a76-5ae9-4a3c-be96-8fee9f0fdfcd",
   "metadata": {},
   "outputs": [],
   "source": [
    "df"
   ]
  },
  {
   "cell_type": "code",
   "execution_count": null,
   "id": "2d34c5a2-2c20-4762-a9e7-823f3cd1c439",
   "metadata": {},
   "outputs": [],
   "source": [
    "# Assuming 'df' is your DataFrame and 'clean_location' is a column in it\n",
    "locations = df['clean_location'].explode().value_counts().head(20).reset_index()\n",
    "locations.columns = ['location', 'count']\n",
    "\n",
    "# Process each location\n",
    "for i in locations.index:\n",
    "    location = locations.at[i, 'location']\n",
    "    \n",
    "    # Convert to lowercase\n",
    "    location = location.lower()\n",
    "    \n",
    "    # Replace specific values\n",
    "    location = location.replace('bengaluru', 'bangalore')  # Replace 'bengaluru' with 'bangalore'\n",
    "    location = location.replace('-', ' ')  # Replace hyphens with a space (or remove them)\n",
    "    \n",
    "    # Update the DataFrame with the modified location\n",
    "    locations.at[i, 'location'] = location.strip()  # Strip any leading/trailing whitespace\n",
    "\n",
    "# Remove rows with blank locations\n",
    "locations = locations[locations['location'] != '']\n",
    "locations = locations.groupby('location', as_index=False).sum()\n",
    "locations = locations.reset_index(drop = True)\n",
    "\n",
    "# Print the updated locations\n",
    "print(locations)\n"
   ]
  },
  {
   "cell_type": "code",
   "execution_count": null,
   "id": "637b0053-1b94-47e9-a13c-1e0cf00221fb",
   "metadata": {},
   "outputs": [],
   "source": [
    "locations = locations.reset_index(drop = True)\n",
    "locations = locations.sort_values(by = 'count', ascending = False)"
   ]
  },
  {
   "cell_type": "code",
   "execution_count": null,
   "id": "a88b2fb4-ce63-47af-8c30-8f743616c531",
   "metadata": {},
   "outputs": [],
   "source": [
    "fig = px.bar(locations , x = 'location' , y = 'count' ,labels = {'count': 'count'}, title = 'Companies preferred location', color = 'count',color_continuous_scale = px.colors.sequential.Blues)\n",
    "fig.show()"
   ]
  },
  {
   "cell_type": "code",
   "execution_count": 64,
   "id": "4bae50df-de08-4639-af79-e4e934d0278d",
   "metadata": {},
   "outputs": [],
   "source": [
    "df.to_csv('jobdataset.csv')"
   ]
  },
  {
   "cell_type": "code",
   "execution_count": null,
   "id": "e96ba73a-951e-4073-a63d-454f6d11f885",
   "metadata": {},
   "outputs": [],
   "source": []
  }
 ],
 "metadata": {
  "kernelspec": {
   "display_name": "Python [conda env:base] *",
   "language": "python",
   "name": "conda-base-py"
  },
  "language_info": {
   "codemirror_mode": {
    "name": "ipython",
    "version": 3
   },
   "file_extension": ".py",
   "mimetype": "text/x-python",
   "name": "python",
   "nbconvert_exporter": "python",
   "pygments_lexer": "ipython3",
   "version": "3.12.4"
  }
 },
 "nbformat": 4,
 "nbformat_minor": 5
}
