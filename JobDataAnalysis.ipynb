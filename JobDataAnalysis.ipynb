{
 "cells": [
  {
   "cell_type": "markdown",
   "id": "d8938f03-9e6e-4f75-9d65-7c58a925f79c",
   "metadata": {},
   "source": [
    "# Data Analysis Project Roadmap\n",
    "In this notebook we will be experimenting how does a data analysis project work and what points to keep in mind.\n",
    "I believe there are 2 approaches to have in mind before performing data analysis.\n",
    "- What does the data speak or what is the problem at hand?\n",
    "- Do we have a predicting label in the data?\n",
    "\n",
    "After giving a little research on this, i can conclude weather to perform predictive analysis or descriptive analysis.\n"
   ]
  },
  {
   "cell_type": "markdown",
   "id": "26ea239c-8e7d-43e2-89e5-61f5bcb99870",
   "metadata": {},
   "source": [
    "This notebook mainly focuses on descriptive analysis and following points to be kept in mind\n",
    "1. Agenda\n",
    "2. KPI's for solving the problem\n",
    "3. Data collection\n",
    "4. Data Exploration\n",
    "5. Cleaning the data\n",
    "6. Analysing and Visualizing the data"
   ]
  },
  {
   "cell_type": "markdown",
   "id": "418d3234-9b32-41d5-9e87-54499568a70c",
   "metadata": {},
   "source": [
    "### Agenda/Problem Statement:\n",
    "Below are the problem statements and we will see how we can use data to solve them\n",
    "- Skill Based job search\n",
    "- Job analysis based on location\n",
    "- Salary Comparision"
   ]
  },
  {
   "cell_type": "code",
   "execution_count": 1,
   "id": "8a9a77c6-9b3f-4cf5-b6c7-d3f9fe2449ec",
   "metadata": {
    "ExecuteTime": {
     "end_time": "2025-05-21T04:19:15.261297Z",
     "start_time": "2025-05-21T04:19:14.984579Z"
    }
   },
   "outputs": [],
   "source": [
    "import pandas as pd\n",
    "import numpy as np\n",
    "import matplotlib.pyplot as plt\n",
    "%matplotlib inline\n",
    "import seaborn as sns"
   ]
  },
  {
   "cell_type": "markdown",
   "id": "a533b21a-494d-49e5-a056-7af01b9ee6b0",
   "metadata": {},
   "source": [
    "### Data Collection:\n",
    "We have collected the data by cloning from the github"
   ]
  },
  {
   "cell_type": "code",
   "execution_count": 2,
   "id": "5cb85801-40fc-4ed2-aea3-5d83ea252a75",
   "metadata": {
    "ExecuteTime": {
     "end_time": "2025-05-21T04:19:15.470868Z",
     "start_time": "2025-05-21T04:19:15.322184Z"
    }
   },
   "outputs": [
    {
     "name": "stderr",
     "output_type": "stream",
     "text": [
      "fatal: destination path 'datasets' already exists and is not an empty directory.\n"
     ]
    }
   ],
   "source": [
    "!git clone https://github.com/AshishJangra27/datasets"
   ]
  },
  {
   "cell_type": "code",
   "execution_count": 3,
   "id": "8339bb86-2d2e-4a2b-b840-ca24f7553fe4",
   "metadata": {
    "ExecuteTime": {
     "end_time": "2025-05-21T04:19:15.660437Z",
     "start_time": "2025-05-21T04:19:15.654356Z"
    }
   },
   "outputs": [
    {
     "name": "stdout",
     "output_type": "stream",
     "text": [
      "Contents of the existing datasets directory:\n",
      "['.git', 'Airbnb', 'Cooking Labels', 'Cricket Players', 'Gaana', 'GFG Articles', 'Goodread Books', 'Hindi Corpus', 'IMDB Celeb', 'IMDB Movies', 'Job Postings', 'LICENSE', 'Myntra Products', 'OpenBook', 'README.md', 'Sherlock', 'Sneaker Sales', 'Swiggy Restaurants']\n"
     ]
    }
   ],
   "source": [
    "import os\n",
    "print('Contents of the existing datasets directory:')\n",
    "if os.path.exists('datasets'):\n",
    "    print(os.listdir('datasets'))"
   ]
  },
  {
   "cell_type": "code",
   "execution_count": 4,
   "id": "80003288-3016-47d0-8801-8d9aeb0db2ae",
   "metadata": {
    "ExecuteTime": {
     "end_time": "2025-05-21T04:19:16.604436Z",
     "start_time": "2025-05-21T04:19:15.678049Z"
    }
   },
   "outputs": [
    {
     "name": "stdout",
     "output_type": "stream",
     "text": [
      "files in the job posting directory: ['jobs.csv.zip']\n"
     ]
    }
   ],
   "source": [
    "job_path = 'datasets/Job Postings'\n",
    "files = os.listdir(job_path)\n",
    "print(f'files in the job posting directory: {files}')\n",
    "csv_files = [f for f in files if f.endswith('.csv.zip')]\n",
    "if csv_files:\n",
    "    data = pd.read_csv(os.path.join(job_path, csv_files[0]))\n",
    "else:\n",
    "    print('no csv files found in job postings')"
   ]
  },
  {
   "cell_type": "markdown",
   "id": "c7904f14-749d-42ec-afd1-856010ea79e4",
   "metadata": {},
   "source": [
    "### Summary Statistics/Data Exploration:\n",
    "1. Gather information about the data\n",
    "2. What are numerical and categorical variables\n",
    "3. What does the data describe\n",
    "4. How many null values per column\n",
    "5. Find the Duplicate values"
   ]
  },
  {
   "cell_type": "code",
   "execution_count": 5,
   "id": "cacb9d2f-eebe-4636-9ebe-67c8168baebd",
   "metadata": {
    "ExecuteTime": {
     "end_time": "2025-05-21T04:19:16.701546Z",
     "start_time": "2025-05-21T04:19:16.692763Z"
    }
   },
   "outputs": [
    {
     "data": {
      "text/plain": [
       "(79147, 12)"
      ]
     },
     "execution_count": 5,
     "metadata": {},
     "output_type": "execute_result"
    }
   ],
   "source": [
    "data.shape"
   ]
  },
  {
   "cell_type": "code",
   "execution_count": 6,
   "id": "d040b469-d7fe-423a-8f67-87de3c5c9e0b",
   "metadata": {
    "ExecuteTime": {
     "end_time": "2025-05-21T04:19:16.786180Z",
     "start_time": "2025-05-21T04:19:16.754634Z"
    }
   },
   "outputs": [
    {
     "data": {
      "text/html": [
       "<div>\n",
       "<style scoped>\n",
       "    .dataframe tbody tr th:only-of-type {\n",
       "        vertical-align: middle;\n",
       "    }\n",
       "\n",
       "    .dataframe tbody tr th {\n",
       "        vertical-align: top;\n",
       "    }\n",
       "\n",
       "    .dataframe thead th {\n",
       "        text-align: right;\n",
       "    }\n",
       "</style>\n",
       "<table border=\"1\" class=\"dataframe\">\n",
       "  <thead>\n",
       "    <tr style=\"text-align: right;\">\n",
       "      <th></th>\n",
       "      <th>job_id</th>\n",
       "      <th>job_role</th>\n",
       "      <th>company</th>\n",
       "      <th>experience</th>\n",
       "      <th>salary</th>\n",
       "      <th>location</th>\n",
       "      <th>rating</th>\n",
       "      <th>reviews</th>\n",
       "      <th>resposibilities</th>\n",
       "      <th>posted_on</th>\n",
       "      <th>job_link</th>\n",
       "      <th>company_link</th>\n",
       "    </tr>\n",
       "  </thead>\n",
       "  <tbody>\n",
       "    <tr>\n",
       "      <th>0</th>\n",
       "      <td>7.012301e+10</td>\n",
       "      <td>Branch Banking - Calling For Women Candidates</td>\n",
       "      <td>Hdfc Bank</td>\n",
       "      <td>1-6 Yrs</td>\n",
       "      <td>Not disclosed</td>\n",
       "      <td>Kolkata, Hyderabad/Secunderabad, Pune, Ahmedab...</td>\n",
       "      <td>4.0</td>\n",
       "      <td>39110 Reviews</td>\n",
       "      <td>Customer Service,Sales,Relationship Management</td>\n",
       "      <td>1 Day Ago</td>\n",
       "      <td>https://www.naukri.com/job-listings-branch-ban...</td>\n",
       "      <td>https://www.naukri.com/hdfc-bank-jobs-careers-213</td>\n",
       "    </tr>\n",
       "    <tr>\n",
       "      <th>1</th>\n",
       "      <td>6.012391e+10</td>\n",
       "      <td>Product Owner Senior Manager</td>\n",
       "      <td>Accenture</td>\n",
       "      <td>11-15 Yrs</td>\n",
       "      <td>Not disclosed</td>\n",
       "      <td>Kolkata, Mumbai, Hyderabad/Secunderabad, Pune,...</td>\n",
       "      <td>4.1</td>\n",
       "      <td>32129 Reviews</td>\n",
       "      <td>Product management,Market analysis,Change mana...</td>\n",
       "      <td>1 Day Ago</td>\n",
       "      <td>https://www.naukri.com/job-listings-product-ow...</td>\n",
       "      <td>https://www.naukri.com/accenture-jobs-careers-...</td>\n",
       "    </tr>\n",
       "    <tr>\n",
       "      <th>2</th>\n",
       "      <td>6.012391e+10</td>\n",
       "      <td>Employee Relations and Policies Associate Manager</td>\n",
       "      <td>Accenture</td>\n",
       "      <td>3-7 Yrs</td>\n",
       "      <td>Not disclosed</td>\n",
       "      <td>Kolkata, Mumbai, Hyderabad/Secunderabad, Pune,...</td>\n",
       "      <td>4.1</td>\n",
       "      <td>32129 Reviews</td>\n",
       "      <td>Business process,Change management,Team manage...</td>\n",
       "      <td>1 Day Ago</td>\n",
       "      <td>https://www.naukri.com/job-listings-employee-r...</td>\n",
       "      <td>https://www.naukri.com/accenture-jobs-careers-...</td>\n",
       "    </tr>\n",
       "    <tr>\n",
       "      <th>3</th>\n",
       "      <td>6.012391e+10</td>\n",
       "      <td>Employee Relations and Policies Specialist</td>\n",
       "      <td>Accenture</td>\n",
       "      <td>3-7 Yrs</td>\n",
       "      <td>Not disclosed</td>\n",
       "      <td>Kolkata, Mumbai, Hyderabad/Secunderabad, Pune,...</td>\n",
       "      <td>4.1</td>\n",
       "      <td>32129 Reviews</td>\n",
       "      <td>Business process,Change management,Team manage...</td>\n",
       "      <td>1 Day Ago</td>\n",
       "      <td>https://www.naukri.com/job-listings-employee-r...</td>\n",
       "      <td>https://www.naukri.com/accenture-jobs-careers-...</td>\n",
       "    </tr>\n",
       "    <tr>\n",
       "      <th>4</th>\n",
       "      <td>6.012301e+10</td>\n",
       "      <td>SAP BO Consultant</td>\n",
       "      <td>Mindtree</td>\n",
       "      <td>5-7 Yrs</td>\n",
       "      <td>Not disclosed</td>\n",
       "      <td>Hybrid - Kolkata, Hyderabad/Secunderabad, Pune...</td>\n",
       "      <td>4.1</td>\n",
       "      <td>3759 Reviews</td>\n",
       "      <td>SAP BO,PL / SQL,Oracle SQL,SAP Business Object...</td>\n",
       "      <td>1 Day Ago</td>\n",
       "      <td>https://www.naukri.com/job-listings-sap-bo-con...</td>\n",
       "      <td>https://www.naukri.com/mindtree-jobs-careers-3...</td>\n",
       "    </tr>\n",
       "  </tbody>\n",
       "</table>\n",
       "</div>"
      ],
      "text/plain": [
       "         job_id                                           job_role    company  \\\n",
       "0  7.012301e+10      Branch Banking - Calling For Women Candidates  Hdfc Bank   \n",
       "1  6.012391e+10                       Product Owner Senior Manager  Accenture   \n",
       "2  6.012391e+10  Employee Relations and Policies Associate Manager  Accenture   \n",
       "3  6.012391e+10         Employee Relations and Policies Specialist  Accenture   \n",
       "4  6.012301e+10                                  SAP BO Consultant   Mindtree   \n",
       "\n",
       "  experience         salary  \\\n",
       "0    1-6 Yrs  Not disclosed   \n",
       "1  11-15 Yrs  Not disclosed   \n",
       "2    3-7 Yrs  Not disclosed   \n",
       "3    3-7 Yrs  Not disclosed   \n",
       "4    5-7 Yrs  Not disclosed   \n",
       "\n",
       "                                            location  rating        reviews  \\\n",
       "0  Kolkata, Hyderabad/Secunderabad, Pune, Ahmedab...     4.0  39110 Reviews   \n",
       "1  Kolkata, Mumbai, Hyderabad/Secunderabad, Pune,...     4.1  32129 Reviews   \n",
       "2  Kolkata, Mumbai, Hyderabad/Secunderabad, Pune,...     4.1  32129 Reviews   \n",
       "3  Kolkata, Mumbai, Hyderabad/Secunderabad, Pune,...     4.1  32129 Reviews   \n",
       "4  Hybrid - Kolkata, Hyderabad/Secunderabad, Pune...     4.1   3759 Reviews   \n",
       "\n",
       "                                     resposibilities  posted_on  \\\n",
       "0     Customer Service,Sales,Relationship Management  1 Day Ago   \n",
       "1  Product management,Market analysis,Change mana...  1 Day Ago   \n",
       "2  Business process,Change management,Team manage...  1 Day Ago   \n",
       "3  Business process,Change management,Team manage...  1 Day Ago   \n",
       "4  SAP BO,PL / SQL,Oracle SQL,SAP Business Object...  1 Day Ago   \n",
       "\n",
       "                                            job_link  \\\n",
       "0  https://www.naukri.com/job-listings-branch-ban...   \n",
       "1  https://www.naukri.com/job-listings-product-ow...   \n",
       "2  https://www.naukri.com/job-listings-employee-r...   \n",
       "3  https://www.naukri.com/job-listings-employee-r...   \n",
       "4  https://www.naukri.com/job-listings-sap-bo-con...   \n",
       "\n",
       "                                        company_link  \n",
       "0  https://www.naukri.com/hdfc-bank-jobs-careers-213  \n",
       "1  https://www.naukri.com/accenture-jobs-careers-...  \n",
       "2  https://www.naukri.com/accenture-jobs-careers-...  \n",
       "3  https://www.naukri.com/accenture-jobs-careers-...  \n",
       "4  https://www.naukri.com/mindtree-jobs-careers-3...  "
      ]
     },
     "execution_count": 6,
     "metadata": {},
     "output_type": "execute_result"
    }
   ],
   "source": [
    "data.head()"
   ]
  },
  {
   "cell_type": "code",
   "execution_count": 7,
   "id": "b0a6e91d-74fc-4207-a78b-69f3c4421d39",
   "metadata": {
    "ExecuteTime": {
     "end_time": "2025-05-21T04:19:16.823192Z",
     "start_time": "2025-05-21T04:19:16.817203Z"
    }
   },
   "outputs": [
    {
     "data": {
      "text/plain": [
       "Index(['job_id', 'job_role', 'company', 'experience', 'salary', 'location',\n",
       "       'rating', 'reviews', 'resposibilities', 'posted_on', 'job_link',\n",
       "       'company_link'],\n",
       "      dtype='object')"
      ]
     },
     "execution_count": 7,
     "metadata": {},
     "output_type": "execute_result"
    }
   ],
   "source": [
    "data.columns"
   ]
  },
  {
   "cell_type": "code",
   "execution_count": 8,
   "id": "d985c98b-176b-4748-95b1-8e2a8941a03f",
   "metadata": {
    "ExecuteTime": {
     "end_time": "2025-05-21T04:19:17.174959Z",
     "start_time": "2025-05-21T04:19:16.901321Z"
    }
   },
   "outputs": [
    {
     "name": "stdout",
     "output_type": "stream",
     "text": [
      "<class 'pandas.core.frame.DataFrame'>\n",
      "RangeIndex: 79147 entries, 0 to 79146\n",
      "Data columns (total 12 columns):\n",
      " #   Column           Non-Null Count  Dtype  \n",
      "---  ------           --------------  -----  \n",
      " 0   job_id           78667 non-null  float64\n",
      " 1   job_role         78667 non-null  object \n",
      " 2   company          78666 non-null  object \n",
      " 3   experience       77398 non-null  object \n",
      " 4   salary           78667 non-null  object \n",
      " 5   location         77441 non-null  object \n",
      " 6   rating           42948 non-null  float64\n",
      " 7   reviews          42948 non-null  object \n",
      " 8   resposibilities  78647 non-null  object \n",
      " 9   posted_on        78667 non-null  object \n",
      " 10  job_link         78667 non-null  object \n",
      " 11  company_link     78667 non-null  object \n",
      "dtypes: float64(2), object(10)\n",
      "memory usage: 7.2+ MB\n"
     ]
    }
   ],
   "source": [
    "data.info()"
   ]
  },
  {
   "cell_type": "code",
   "execution_count": 9,
   "id": "ab662453-02a4-4110-83d8-d6804aee139e",
   "metadata": {
    "ExecuteTime": {
     "end_time": "2025-05-21T04:19:17.419719Z",
     "start_time": "2025-05-21T04:19:17.368241Z"
    }
   },
   "outputs": [
    {
     "data": {
      "text/html": [
       "<div>\n",
       "<style scoped>\n",
       "    .dataframe tbody tr th:only-of-type {\n",
       "        vertical-align: middle;\n",
       "    }\n",
       "\n",
       "    .dataframe tbody tr th {\n",
       "        vertical-align: top;\n",
       "    }\n",
       "\n",
       "    .dataframe thead th {\n",
       "        text-align: right;\n",
       "    }\n",
       "</style>\n",
       "<table border=\"1\" class=\"dataframe\">\n",
       "  <thead>\n",
       "    <tr style=\"text-align: right;\">\n",
       "      <th></th>\n",
       "      <th>job_id</th>\n",
       "      <th>rating</th>\n",
       "    </tr>\n",
       "  </thead>\n",
       "  <tbody>\n",
       "    <tr>\n",
       "      <th>count</th>\n",
       "      <td>7.866700e+04</td>\n",
       "      <td>42948.000000</td>\n",
       "    </tr>\n",
       "    <tr>\n",
       "      <th>mean</th>\n",
       "      <td>1.255071e+11</td>\n",
       "      <td>3.940144</td>\n",
       "    </tr>\n",
       "    <tr>\n",
       "      <th>std</th>\n",
       "      <td>1.097464e+11</td>\n",
       "      <td>0.519211</td>\n",
       "    </tr>\n",
       "    <tr>\n",
       "      <th>min</th>\n",
       "      <td>1.012200e+10</td>\n",
       "      <td>1.000000</td>\n",
       "    </tr>\n",
       "    <tr>\n",
       "      <th>25%</th>\n",
       "      <td>4.012350e+10</td>\n",
       "      <td>3.700000</td>\n",
       "    </tr>\n",
       "    <tr>\n",
       "      <th>50%</th>\n",
       "      <td>6.012350e+10</td>\n",
       "      <td>4.000000</td>\n",
       "    </tr>\n",
       "    <tr>\n",
       "      <th>75%</th>\n",
       "      <td>2.610226e+11</td>\n",
       "      <td>4.200000</td>\n",
       "    </tr>\n",
       "    <tr>\n",
       "      <th>max</th>\n",
       "      <td>3.112229e+11</td>\n",
       "      <td>5.000000</td>\n",
       "    </tr>\n",
       "  </tbody>\n",
       "</table>\n",
       "</div>"
      ],
      "text/plain": [
       "             job_id        rating\n",
       "count  7.866700e+04  42948.000000\n",
       "mean   1.255071e+11      3.940144\n",
       "std    1.097464e+11      0.519211\n",
       "min    1.012200e+10      1.000000\n",
       "25%    4.012350e+10      3.700000\n",
       "50%    6.012350e+10      4.000000\n",
       "75%    2.610226e+11      4.200000\n",
       "max    3.112229e+11      5.000000"
      ]
     },
     "execution_count": 9,
     "metadata": {},
     "output_type": "execute_result"
    }
   ],
   "source": [
    "data.describe()#will work on numerical cols"
   ]
  },
  {
   "cell_type": "code",
   "execution_count": 10,
   "id": "67da7d35-5f9f-49e7-b0b0-7a6a6bf92245",
   "metadata": {
    "ExecuteTime": {
     "end_time": "2025-05-21T04:19:17.562667Z",
     "start_time": "2025-05-21T04:19:17.533829Z"
    }
   },
   "outputs": [],
   "source": [
    "null_values = [i for i in data.columns if data[i].isnull().sum() > 1]\n"
   ]
  },
  {
   "cell_type": "code",
   "execution_count": 11,
   "id": "da69df48-aea0-48a4-b5b1-17fad3ae20bc",
   "metadata": {
    "ExecuteTime": {
     "end_time": "2025-05-21T04:19:17.705421Z",
     "start_time": "2025-05-21T04:19:17.673437Z"
    }
   },
   "outputs": [
    {
     "data": {
      "text/plain": [
       "job_id               480\n",
       "job_role             480\n",
       "company              481\n",
       "experience          1749\n",
       "salary               480\n",
       "location            1706\n",
       "rating             36199\n",
       "reviews            36199\n",
       "resposibilities      500\n",
       "posted_on            480\n",
       "job_link             480\n",
       "company_link         480\n",
       "dtype: int64"
      ]
     },
     "execution_count": 11,
     "metadata": {},
     "output_type": "execute_result"
    }
   ],
   "source": [
    "data.isnull().sum()"
   ]
  },
  {
   "cell_type": "code",
   "execution_count": 12,
   "id": "b0747f31-e3fe-487a-b616-af71633f9a83",
   "metadata": {
    "ExecuteTime": {
     "end_time": "2025-05-21T04:19:17.829370Z",
     "start_time": "2025-05-21T04:19:17.797453Z"
    }
   },
   "outputs": [
    {
     "name": "stdout",
     "output_type": "stream",
     "text": [
      "job_id 0.6065%\n",
      "job_role 0.6065%\n",
      "company 0.6077%\n",
      "experience 2.2098%\n",
      "salary 0.6065%\n",
      "location 2.1555%\n",
      "rating 45.7364%\n",
      "reviews 45.7364%\n",
      "resposibilities 0.6317%\n",
      "posted_on 0.6065%\n",
      "job_link 0.6065%\n",
      "company_link 0.6065%\n"
     ]
    }
   ],
   "source": [
    "for i in null_values:\n",
    "    print(f'{i} {np.round(data[i].isnull().sum()/len(data)*100, 4)}%')"
   ]
  },
  {
   "cell_type": "code",
   "execution_count": 13,
   "id": "7d44e73e-c922-4a59-b215-f8337729348f",
   "metadata": {
    "ExecuteTime": {
     "end_time": "2025-05-21T04:19:17.942042Z",
     "start_time": "2025-05-21T04:19:17.935269Z"
    }
   },
   "outputs": [
    {
     "data": {
      "text/plain": [
       "['job_id', 'rating']"
      ]
     },
     "execution_count": 13,
     "metadata": {},
     "output_type": "execute_result"
    }
   ],
   "source": [
    "numerical_cols = [i for i in data.columns if data[i].dtypes != 'O']\n",
    "numerical_cols"
   ]
  },
  {
   "cell_type": "code",
   "execution_count": 14,
   "id": "b4c2e8e0-ce55-45f7-a6fd-490ef2b95820",
   "metadata": {
    "ExecuteTime": {
     "end_time": "2025-05-21T04:19:18.047040Z",
     "start_time": "2025-05-21T04:19:18.041240Z"
    }
   },
   "outputs": [
    {
     "data": {
      "text/plain": [
       "['job_role',\n",
       " 'company',\n",
       " 'experience',\n",
       " 'salary',\n",
       " 'location',\n",
       " 'reviews',\n",
       " 'resposibilities',\n",
       " 'posted_on',\n",
       " 'job_link',\n",
       " 'company_link']"
      ]
     },
     "execution_count": 14,
     "metadata": {},
     "output_type": "execute_result"
    }
   ],
   "source": [
    "categorical_cols = [i for i in data.columns if data[i].dtypes == 'O']\n",
    "categorical_cols "
   ]
  },
  {
   "cell_type": "code",
   "execution_count": 15,
   "id": "a1d95e53-28b8-48eb-8ace-ed0fb767718d",
   "metadata": {
    "ExecuteTime": {
     "end_time": "2025-05-21T04:19:18.120564Z",
     "start_time": "2025-05-21T04:19:18.112206Z"
    }
   },
   "outputs": [
    {
     "data": {
      "text/plain": [
       "6137"
      ]
     },
     "execution_count": 15,
     "metadata": {},
     "output_type": "execute_result"
    }
   ],
   "source": [
    "data.duplicated(subset = 'job_id').sum() #this suggests that there are some id's that have been repeated multiple times"
   ]
  },
  {
   "cell_type": "markdown",
   "id": "664982a5-ad13-473a-982a-3b29df199480",
   "metadata": {},
   "source": [
    "Observation: There are 6137 job_id , that are the same "
   ]
  },
  {
   "cell_type": "markdown",
   "id": "b31305f5-7a56-4094-b9da-1e40941d6f0b",
   "metadata": {},
   "source": [
    "**Now i will be evaluating each and every column and check for observations and changes that need to be made**\n"
   ]
  },
  {
   "cell_type": "code",
   "execution_count": 16,
   "id": "2ad1c9f3-e80d-4556-a9c1-7a2c5b6c58f9",
   "metadata": {
    "ExecuteTime": {
     "end_time": "2025-05-21T04:19:18.185273Z",
     "start_time": "2025-05-21T04:19:18.170229Z"
    }
   },
   "outputs": [
    {
     "data": {
      "text/plain": [
       "51051"
      ]
     },
     "execution_count": 16,
     "metadata": {},
     "output_type": "execute_result"
    }
   ],
   "source": [
    "len(data['job_role'].unique())\n",
    "# 51,000 unique values are too much , we need to deal_with this "
   ]
  },
  {
   "cell_type": "code",
   "execution_count": 17,
   "id": "f7094b16-cb05-40b4-aa2b-da777ef6ca0f",
   "metadata": {
    "ExecuteTime": {
     "end_time": "2025-05-21T04:19:18.261802Z",
     "start_time": "2025-05-21T04:19:18.229167Z"
    }
   },
   "outputs": [
    {
     "data": {
      "text/plain": [
       "job_role\n",
       "Business Development Executive                                     305\n",
       "Solution Architect                                                 278\n",
       "Customer Service Associate                                         277\n",
       "Sales Executive                                                    275\n",
       ".Net Fullstack Developer                                           258\n",
       "People Advisor Senior Analyst                                      256\n",
       "SAP BO Consultant                                                  255\n",
       "Business Development Manager                                       254\n",
       "Senior Java BED ( PAN India)- KG                                   254\n",
       "PowerBI Developer                                                  254\n",
       "Senior (BI) Business Intelligence Architect                        254\n",
       "Product Owner Senior Manager                                       254\n",
       "Senior Product Experience Engineer                                 254\n",
       "Unified Functional Testing/UFT Automation Testing                  254\n",
       "Branch Banking - Calling For Women Candidates                      254\n",
       "Employee Relations and Policies Specialist                         254\n",
       "Solution Designer                                                  254\n",
       "Data Science Specialist                                            254\n",
       "HR Service Delivery Senior Analyst                                 254\n",
       "Functional Architect -  Oracle Supply Chain Management (Fusion)    254\n",
       "Name: count, dtype: int64"
      ]
     },
     "execution_count": 17,
     "metadata": {},
     "output_type": "execute_result"
    }
   ],
   "source": [
    "data['job_role'].value_counts().head(20)"
   ]
  },
  {
   "cell_type": "code",
   "execution_count": 18,
   "id": "60c6484e-3e52-4eaf-a91d-8518ecc5a1ad",
   "metadata": {
    "ExecuteTime": {
     "end_time": "2025-05-21T04:19:18.333165Z",
     "start_time": "2025-05-21T04:19:18.317145Z"
    }
   },
   "outputs": [
    {
     "data": {
      "text/plain": [
       "company\n",
       "Lavya Associates          5131\n",
       "Accenture                 4446\n",
       "Tech Mahindra             1285\n",
       "Varite India Pvt. Ltd.     882\n",
       "Hucon                      852\n",
       "IBM                        656\n",
       "Megma Services             525\n",
       "Citiustech                 511\n",
       "Infosys                    505\n",
       "D'source                   502\n",
       "RCPC                       449\n",
       "Hexaware Technologies      431\n",
       "Tekpillar Services         377\n",
       "Mindtree                   368\n",
       "Capgemini                  338\n",
       "BAJAJ FINSERVE             317\n",
       "Oracle                     304\n",
       "Hdfc Bank                  300\n",
       "Deloitte                   285\n",
       "Radical Technologies       283\n",
       "Name: count, dtype: int64"
      ]
     },
     "execution_count": 18,
     "metadata": {},
     "output_type": "execute_result"
    }
   ],
   "source": [
    "data['company'].value_counts().head(20)"
   ]
  },
  {
   "cell_type": "code",
   "execution_count": 19,
   "id": "f9f0c80b-cf04-496e-9022-5b295dafa8ea",
   "metadata": {
    "ExecuteTime": {
     "end_time": "2025-05-21T04:19:18.460132Z",
     "start_time": "2025-05-21T04:19:18.453530Z"
    }
   },
   "outputs": [
    {
     "data": {
      "text/plain": [
       "231"
      ]
     },
     "execution_count": 19,
     "metadata": {},
     "output_type": "execute_result"
    }
   ],
   "source": [
    "data['experience'].nunique()"
   ]
  },
  {
   "cell_type": "code",
   "execution_count": 20,
   "id": "e3afd18e-2c63-411b-a571-b774e97027cf",
   "metadata": {
    "ExecuteTime": {
     "end_time": "2025-05-21T04:19:18.620766Z",
     "start_time": "2025-05-21T04:19:18.612057Z"
    }
   },
   "outputs": [
    {
     "data": {
      "text/plain": [
       "experience\n",
       "5-10 Yrs    8041\n",
       "3-8 Yrs     4451\n",
       "1-6 Yrs     3302\n",
       "4-9 Yrs     3186\n",
       "2-7 Yrs     3079\n",
       "0-5 Yrs     2825\n",
       "2-5 Yrs     2778\n",
       "1-3 Yrs     2706\n",
       "2-4 Yrs     2488\n",
       "4-6 Yrs     2435\n",
       "Name: count, dtype: int64"
      ]
     },
     "execution_count": 20,
     "metadata": {},
     "output_type": "execute_result"
    }
   ],
   "source": [
    "data['experience'].value_counts().head(10)\n",
    "\n",
    "#data.groupby(['experience']).size().sort_values(ascending= False).head(10)"
   ]
  },
  {
   "cell_type": "code",
   "execution_count": 21,
   "id": "a0c2072f-03b7-406f-9544-c8933bcd2989",
   "metadata": {
    "ExecuteTime": {
     "end_time": "2025-05-21T04:19:18.727764Z",
     "start_time": "2025-05-21T04:19:18.718457Z"
    }
   },
   "outputs": [
    {
     "data": {
      "text/plain": [
       "salary\n",
       "Not disclosed                45544\n",
       "6,50,000 - 9,00,000 PA.       3330\n",
       "6,00,000 - 8,00,000 PA.       1114\n",
       "5,00,000 - 10,00,000 PA.      1087\n",
       "2,50,000 - 3,50,000 PA.        599\n",
       "2,00,000 - 3,00,000 PA.        486\n",
       "3,00,000 - 5,00,000 PA.        450\n",
       "3,00,000 - 6,00,000 PA.        424\n",
       "2,00,000 - 4,00,000 PA.        382\n",
       "2,00,000 - 5,00,000 PA.        367\n",
       "3,00,000 - 4,00,000 PA.        355\n",
       "3,00,000 - 8,00,000 PA.        349\n",
       "10,00,000 - 20,00,000 PA.      346\n",
       "4,00,000 - 6,00,000 PA.        331\n",
       "50,000 - 3,00,000 PA.          328\n",
       "2,00,000 - 3,50,000 PA.        323\n",
       "7,00,000 - 17,00,000 PA.       321\n",
       "4,00,000 - 9,00,000 PA.        291\n",
       "2,50,000 - 4,00,000 PA.        281\n",
       "1,50,000 - 3,00,000 PA.        268\n",
       "Name: count, dtype: int64"
      ]
     },
     "execution_count": 21,
     "metadata": {},
     "output_type": "execute_result"
    }
   ],
   "source": [
    "data['salary'].value_counts().head(20)"
   ]
  },
  {
   "cell_type": "code",
   "execution_count": 22,
   "id": "53aa6cd9-16fa-43b4-8dfc-4a0387cea476",
   "metadata": {
    "ExecuteTime": {
     "end_time": "2025-05-21T04:19:18.851967Z",
     "start_time": "2025-05-21T04:19:18.840235Z"
    }
   },
   "outputs": [
    {
     "data": {
      "text/plain": [
       "location\n",
       "Bangalore/Bengaluru       10035\n",
       "Hyderabad/Secunderabad     3736\n",
       "Pune                       3216\n",
       "Chennai                    2953\n",
       "Mumbai                     2818\n",
       "Gurgaon/Gurugram           2733\n",
       "Noida                      1678\n",
       "Permanent Remote           1644\n",
       "Ahmedabad                  1227\n",
       "Kolkata                     923\n",
       "Name: count, dtype: int64"
      ]
     },
     "execution_count": 22,
     "metadata": {},
     "output_type": "execute_result"
    }
   ],
   "source": [
    "data['location'].value_counts().head(10)"
   ]
  },
  {
   "cell_type": "code",
   "execution_count": 23,
   "id": "7d8c81d9-b882-4af9-8e96-7ceff60412ee",
   "metadata": {
    "ExecuteTime": {
     "end_time": "2025-05-21T04:19:19.016904Z",
     "start_time": "2025-05-21T04:19:19.009938Z"
    }
   },
   "outputs": [
    {
     "data": {
      "text/plain": [
       "rating\n",
       "4.1    7931\n",
       "4.0    5239\n",
       "4.2    4007\n",
       "3.9    3995\n",
       "3.7    3487\n",
       "Name: count, dtype: int64"
      ]
     },
     "execution_count": 23,
     "metadata": {},
     "output_type": "execute_result"
    }
   ],
   "source": [
    "data['rating'].value_counts().head()"
   ]
  },
  {
   "cell_type": "markdown",
   "id": "8576e567-a8d5-4ad7-853c-baccc12a2db6",
   "metadata": {},
   "source": [
    "### Data Cleaning:\n",
    "\n",
    "1. Dealing with null values (columns)\n",
    "2. Dealing with Duplicate values\n",
    "3. Depending on the problem statement , remove the unwanted columns"
   ]
  },
  {
   "cell_type": "markdown",
   "id": "26271092-f490-452e-b978-ee4d6aeb926f",
   "metadata": {},
   "source": [
    "As per my problem at hand , i dont require a few columns such as \n",
    "1. 'posted_on'\n",
    "2. 'job_link'\n",
    "3. 'company_link'\n",
    "\n",
    "I can create a new df that can not include the columns above"
   ]
  },
  {
   "cell_type": "code",
   "execution_count": 24,
   "id": "90c23765-deaf-46cd-ab4a-0aeaadfc8a75",
   "metadata": {
    "ExecuteTime": {
     "end_time": "2025-05-21T04:19:19.200461Z",
     "start_time": "2025-05-21T04:19:19.181910Z"
    }
   },
   "outputs": [],
   "source": [
    "df = data.drop(columns = ['posted_on', 'job_link', 'company_link'])"
   ]
  },
  {
   "cell_type": "code",
   "execution_count": 25,
   "id": "dc48e2fe-66d1-42d9-ad12-ffee34cf143c",
   "metadata": {
    "ExecuteTime": {
     "end_time": "2025-05-21T04:19:19.373958Z",
     "start_time": "2025-05-21T04:19:19.369215Z"
    }
   },
   "outputs": [
    {
     "data": {
      "text/plain": [
       "(79147, 9)"
      ]
     },
     "execution_count": 25,
     "metadata": {},
     "output_type": "execute_result"
    }
   ],
   "source": [
    "df.shape"
   ]
  },
  {
   "cell_type": "markdown",
   "id": "cbd76e2d-dd54-4a74-abe0-1eb17f1ac96b",
   "metadata": {},
   "source": [
    "1. Handling Null Values\n",
    "   - handling the null values except on rating and reviews\n",
    "   - Deal with rating and reviews seperately\n",
    "   "
   ]
  },
  {
   "cell_type": "code",
   "execution_count": 26,
   "id": "84486242-58cd-4a4f-b865-29fb69eb2cdc",
   "metadata": {
    "ExecuteTime": {
     "end_time": "2025-05-21T04:19:19.459681Z",
     "start_time": "2025-05-21T04:19:19.438437Z"
    }
   },
   "outputs": [
    {
     "data": {
      "text/plain": [
       "job_id               480\n",
       "job_role             480\n",
       "company              481\n",
       "experience          1749\n",
       "salary               480\n",
       "location            1706\n",
       "rating             36199\n",
       "reviews            36199\n",
       "resposibilities      500\n",
       "dtype: int64"
      ]
     },
     "execution_count": 26,
     "metadata": {},
     "output_type": "execute_result"
    }
   ],
   "source": [
    "df.isnull().sum()"
   ]
  },
  {
   "cell_type": "code",
   "execution_count": 27,
   "id": "72331e44-14a2-4c0d-b073-86ec7db091f8",
   "metadata": {
    "ExecuteTime": {
     "end_time": "2025-05-21T04:19:19.604033Z",
     "start_time": "2025-05-21T04:19:19.581696Z"
    }
   },
   "outputs": [],
   "source": [
    "df = df.dropna(subset = ['job_id', 'resposibilities', 'company'])"
   ]
  },
  {
   "cell_type": "code",
   "execution_count": 28,
   "id": "179f384a-4f6d-4368-b565-6528e51d163c",
   "metadata": {
    "ExecuteTime": {
     "end_time": "2025-05-21T04:19:19.709934Z",
     "start_time": "2025-05-21T04:19:19.686831Z"
    }
   },
   "outputs": [
    {
     "data": {
      "text/plain": [
       "job_id                 0\n",
       "job_role               0\n",
       "company                0\n",
       "experience          1268\n",
       "salary                 0\n",
       "location            1226\n",
       "rating             35718\n",
       "reviews            35718\n",
       "resposibilities        0\n",
       "dtype: int64"
      ]
     },
     "execution_count": 28,
     "metadata": {},
     "output_type": "execute_result"
    }
   ],
   "source": [
    "df.isnull().sum()"
   ]
  },
  {
   "cell_type": "code",
   "execution_count": 29,
   "id": "159d2669-fd8f-4d8f-aca5-fde697cff36a",
   "metadata": {
    "ExecuteTime": {
     "end_time": "2025-05-21T04:19:19.822082Z",
     "start_time": "2025-05-21T04:19:19.812570Z"
    }
   },
   "outputs": [],
   "source": [
    "df['experience'] = df['experience'].fillna('5-10 Yrs')"
   ]
  },
  {
   "cell_type": "code",
   "execution_count": 30,
   "id": "3703fd28-c689-480e-9b18-89983696541a",
   "metadata": {
    "ExecuteTime": {
     "end_time": "2025-05-21T04:19:19.901263Z",
     "start_time": "2025-05-21T04:19:19.892211Z"
    }
   },
   "outputs": [],
   "source": [
    "df['location'] = df['location'].fillna('Bangalore/Bengaluru')"
   ]
  },
  {
   "cell_type": "code",
   "execution_count": 31,
   "id": "18fa74be-8dcb-405d-b4bc-6efcf2b37fca",
   "metadata": {
    "ExecuteTime": {
     "end_time": "2025-05-21T04:19:20.064162Z",
     "start_time": "2025-05-21T04:19:20.059122Z"
    }
   },
   "outputs": [],
   "source": [
    "df['rating'] = df.rating.fillna(0.0)"
   ]
  },
  {
   "cell_type": "code",
   "execution_count": 32,
   "id": "62c970ad-98df-4e48-a1df-ae2ab50d7843",
   "metadata": {
    "ExecuteTime": {
     "end_time": "2025-05-21T04:19:20.140114Z",
     "start_time": "2025-05-21T04:19:20.134815Z"
    }
   },
   "outputs": [
    {
     "data": {
      "text/plain": [
       "<bound method Series.unique of 0        39110 Reviews\n",
       "1        32129 Reviews\n",
       "2        32129 Reviews\n",
       "3        32129 Reviews\n",
       "4         3759 Reviews\n",
       "             ...      \n",
       "79142      742 Reviews\n",
       "79143     3172 Reviews\n",
       "79144     6267 Reviews\n",
       "79145    21440 Reviews\n",
       "79146    21440 Reviews\n",
       "Name: reviews, Length: 78646, dtype: object>"
      ]
     },
     "execution_count": 32,
     "metadata": {},
     "output_type": "execute_result"
    }
   ],
   "source": [
    "df.reviews.unique"
   ]
  },
  {
   "cell_type": "code",
   "execution_count": 33,
   "id": "d62763fa-0cb9-439a-85b8-4ca80108763f",
   "metadata": {
    "ExecuteTime": {
     "end_time": "2025-05-21T04:19:20.233652Z",
     "start_time": "2025-05-21T04:19:20.209889Z"
    }
   },
   "outputs": [
    {
     "data": {
      "text/plain": [
       "job_id                 0\n",
       "job_role               0\n",
       "company                0\n",
       "experience             0\n",
       "salary                 0\n",
       "location               0\n",
       "rating                 0\n",
       "reviews            35718\n",
       "resposibilities        0\n",
       "dtype: int64"
      ]
     },
     "execution_count": 33,
     "metadata": {},
     "output_type": "execute_result"
    }
   ],
   "source": [
    "df.isnull().sum()"
   ]
  },
  {
   "cell_type": "markdown",
   "id": "b453d15b-d253-493b-b5db-f67359b010ed",
   "metadata": {},
   "source": [
    "We can see that the missing values for rating and reviews are the same, so for 35718 missing ratings, there are 35718 missing reviews.\n",
    "what we can do is , instead of dropping , we can replace or fill the null values with 0.0 as rating , why ? because 0 rating - 0 reviews"
   ]
  },
  {
   "cell_type": "code",
   "execution_count": 34,
   "id": "fa2a3ba8-b17d-4d93-98ae-6bd2a4a4c75e",
   "metadata": {
    "ExecuteTime": {
     "end_time": "2025-05-21T04:19:20.318233Z",
     "start_time": "2025-05-21T04:19:20.311205Z"
    }
   },
   "outputs": [],
   "source": [
    "df['reviews'] = df.reviews.fillna('0 Reviews')"
   ]
  },
  {
   "cell_type": "code",
   "execution_count": 35,
   "id": "62a4ecff-a626-409d-808f-91f55bc89f52",
   "metadata": {
    "ExecuteTime": {
     "end_time": "2025-05-21T04:19:20.397587Z",
     "start_time": "2025-05-21T04:19:20.374634Z"
    }
   },
   "outputs": [
    {
     "data": {
      "text/plain": [
       "job_id             0\n",
       "job_role           0\n",
       "company            0\n",
       "experience         0\n",
       "salary             0\n",
       "location           0\n",
       "rating             0\n",
       "reviews            0\n",
       "resposibilities    0\n",
       "dtype: int64"
      ]
     },
     "execution_count": 35,
     "metadata": {},
     "output_type": "execute_result"
    }
   ],
   "source": [
    "df.isnull().sum()"
   ]
  },
  {
   "cell_type": "markdown",
   "id": "09807382-97dc-46ed-a2ff-f04ef9aba81f",
   "metadata": {},
   "source": [
    "2. Remove the duplicates"
   ]
  },
  {
   "cell_type": "code",
   "execution_count": 36,
   "id": "3ebeaa22-11f9-4647-8a38-a1ec526c841f",
   "metadata": {
    "ExecuteTime": {
     "end_time": "2025-05-21T04:19:20.481639Z",
     "start_time": "2025-05-21T04:19:20.465493Z"
    }
   },
   "outputs": [],
   "source": [
    "df = df.drop_duplicates(subset = 'job_id')"
   ]
  },
  {
   "cell_type": "markdown",
   "id": "49a77d8c-2402-41a2-b35b-a91eaec1466f",
   "metadata": {},
   "source": [
    "4. Clean the Experince column\n"
   ]
  },
  {
   "cell_type": "markdown",
   "id": "bbb88e9b-f2b8-4d24-9701-cd5857fb81f7",
   "metadata": {},
   "source": [
    "**Note**\n",
    ": To clean the experience column, as per the problem at hand, we have to divide the experience col into 2 half's. <br> \n",
    "One for min experience and another for max experience , and they should be in integer format to perform arithmetic operations."
   ]
  },
  {
   "cell_type": "code",
   "execution_count": 37,
   "id": "4923adb1-89a3-40cb-98fb-bda89f2a096e",
   "metadata": {
    "ExecuteTime": {
     "end_time": "2025-05-21T04:19:20.568344Z",
     "start_time": "2025-05-21T04:19:20.560312Z"
    }
   },
   "outputs": [
    {
     "data": {
      "text/plain": [
       "array(['1-6 Yrs', '11-15 Yrs', '3-7 Yrs', '5-7 Yrs', '5-10 Yrs',\n",
       "       '7-12 Yrs', '2-6 Yrs', '2-4 Yrs', '4-9 Yrs', '3-8 Yrs', '4-6 Yrs',\n",
       "       '5-9 Yrs', '10-17 Yrs', '10-13 Yrs', '6-11 Yrs', '2-7 Yrs',\n",
       "       '0-2 Yrs', '8-12 Yrs', '3-6 Yrs', '9-14 Yrs', '0-5 Yrs', '4-7 Yrs',\n",
       "       '4-8 Yrs', '8-13 Yrs', '7-11 Yrs', '3-4 Yrs', '15-22 Yrs',\n",
       "       '2-5 Yrs', '10-18 Yrs', '10-15 Yrs', '0-3 Yrs', '5-12 Yrs',\n",
       "       '10-14 Yrs', '3-5 Yrs', '6-8 Yrs', '8-10 Yrs', '12-14 Yrs',\n",
       "       '10-20 Yrs', '12-22 Yrs', '9-15 Yrs', '6-9 Yrs', '14-18 Yrs',\n",
       "       '9-12 Yrs', '6-10 Yrs', '8-11 Yrs', '17-22 Yrs', '1-5 Yrs',\n",
       "       '0-4 Yrs', '5-8 Yrs', '0-0 Yrs', '0-13 Yrs', '1-3 Yrs', '3-10 Yrs',\n",
       "       '13-20 Yrs', '12-17 Yrs', '11-16 Yrs', '15-20 Yrs', '1-4 Yrs',\n",
       "       '0-1 Yrs', '0-8 Yrs', '2-3 Yrs', '8-9 Yrs', '7-10 Yrs', '4-5 Yrs',\n",
       "       '14-20 Yrs', '7-9 Yrs', '10-12 Yrs', '10-16 Yrs', '12-15 Yrs',\n",
       "       '12-18 Yrs', '7-8 Yrs', '16-20 Yrs', '5-6 Yrs', '1-2 Yrs',\n",
       "       '9-13 Yrs', '6-7 Yrs', '8-15 Yrs', '6-12 Yrs', '3-3 Yrs',\n",
       "       '11-13 Yrs', '4-15 Yrs', '12-16 Yrs', '16-23 Yrs', '15-24 Yrs',\n",
       "       '12-20 Yrs', '11-19 Yrs', '15-19 Yrs', '13-23 Yrs', '2-9 Yrs',\n",
       "       '12-19 Yrs', '14-16 Yrs', '5-15 Yrs', '11-20 Yrs', '9-10 Yrs',\n",
       "       '11-21 Yrs', '6-15 Yrs', '13-17 Yrs', '20-25 Yrs', '14-24 Yrs',\n",
       "       '2-10 Yrs', '13-21 Yrs', '5-11 Yrs', '12-21 Yrs', '13-19 Yrs',\n",
       "       '3-12 Yrs', '14-19 Yrs', '9-11 Yrs', '13-18 Yrs', '16-25 Yrs',\n",
       "       '18-20 Yrs', '13-16 Yrs', '2-8 Yrs', '11-14 Yrs', '2-12 Yrs',\n",
       "       '11-12 Yrs', '0-6 Yrs', '0-7 Yrs', '13-15 Yrs', '11-18 Yrs',\n",
       "       '0-10 Yrs', '2-2 Yrs', '8-14 Yrs', '7-13 Yrs', '14-21 Yrs',\n",
       "       '14-22 Yrs', '18-28 Yrs', '4-11 Yrs', '3-9 Yrs', '15-17 Yrs',\n",
       "       '14-17 Yrs', '4-10 Yrs', '16-18 Yrs', '20-22 Yrs', '7-7 Yrs',\n",
       "       '20-24 Yrs', '6-13 Yrs', '15-18 Yrs', '20-30 Yrs', '6-6 Yrs',\n",
       "       '1-11 Yrs', '1-8 Yrs', '1-10 Yrs', '1-7 Yrs', '5-14 Yrs',\n",
       "       '1-1 Yrs', '5-5 Yrs', '16-26 Yrs', '14-23 Yrs', '20-27 Yrs',\n",
       "       '4-12 Yrs', '15-25 Yrs', '8-16 Yrs', '6-14 Yrs', '17-25 Yrs',\n",
       "       '12-13 Yrs', '7-14 Yrs', '18-25 Yrs', '10-11 Yrs', '8-8 Yrs',\n",
       "       '7-15 Yrs', '16-17 Yrs', '2-15 Yrs', '10-19 Yrs', '18-24 Yrs',\n",
       "       '17-20 Yrs', '3-15 Yrs', '5-20 Yrs', '15-21 Yrs', '8-20 Yrs',\n",
       "       '6-20 Yrs', '19-29 Yrs', '24-24 Yrs', '9-9 Yrs', '5-13 Yrs',\n",
       "       '2-11 Yrs', '16-22 Yrs', '0-12 Yrs', '20-21 Yrs', '15-16 Yrs',\n",
       "       '15-23 Yrs', '18-22 Yrs', '25-31 Yrs', '0-15 Yrs', '1-9 Yrs',\n",
       "       '25-30 Yrs', '26-31 Yrs', '19-20 Yrs', '22-26 Yrs', '10-10 Yrs',\n",
       "       '28-29 Yrs', '23-26 Yrs', '25-25 Yrs', '18-27 Yrs', '4-4 Yrs',\n",
       "       '1-14 Yrs', '1-12 Yrs', '1-16 Yrs', '20-20 Yrs', '14-15 Yrs',\n",
       "       '21-28 Yrs', '18-26 Yrs', '2-21 Yrs', '25-28 Yrs', '21-25 Yrs',\n",
       "       '19-25 Yrs', '17-27 Yrs', '22-31 Yrs', '17-21 Yrs', '27-29 Yrs',\n",
       "       '28-28 Yrs', '21-22 Yrs', '20-28 Yrs', '19-22 Yrs', '14-14 Yrs',\n",
       "       '26-27 Yrs', '21-27 Yrs', '15-15 Yrs', '25-26 Yrs', '16-19 Yrs',\n",
       "       '13-22 Yrs', '11-17 Yrs', '18-23 Yrs', '21-31 Yrs', '22-25 Yrs',\n",
       "       '20-26 Yrs', '19-24 Yrs', '22-28 Yrs', '21-30 Yrs', '17-24 Yrs',\n",
       "       '16-21 Yrs', '20-29 Yrs'], dtype=object)"
      ]
     },
     "execution_count": 37,
     "metadata": {},
     "output_type": "execute_result"
    }
   ],
   "source": [
    "df['experience'].unique()"
   ]
  },
  {
   "cell_type": "code",
   "execution_count": 38,
   "id": "4745d0c5-7a28-47ad-83c3-2a69c94bf8e2",
   "metadata": {
    "ExecuteTime": {
     "end_time": "2025-05-21T04:19:20.680356Z",
     "start_time": "2025-05-21T04:19:20.676877Z"
    }
   },
   "outputs": [
    {
     "name": "stdout",
     "output_type": "stream",
     "text": [
      "1-6\n",
      "11-15\n",
      "3-7\n",
      "3-7\n",
      "5-7\n",
      "5-10\n",
      "5-10\n",
      "7-12\n",
      "2-6\n",
      "3-7\n"
     ]
    }
   ],
   "source": [
    "for i in df['experience'][:10]:\n",
    "    print(i.replace('Yrs', '').split('-')[0].strip(),end = '-')\n",
    "    print(i.replace('Yrs', '').split('-')[-1].strip())\n",
    "    "
   ]
  },
  {
   "cell_type": "code",
   "execution_count": 39,
   "id": "3f60a117-cd0a-4514-ae6b-38f8a7b3fc4f",
   "metadata": {
    "ExecuteTime": {
     "end_time": "2025-05-21T04:19:20.910743Z",
     "start_time": "2025-05-21T04:19:20.772245Z"
    }
   },
   "outputs": [],
   "source": [
    "df['min_exp'] = df['experience'].str.replace('Yrs', '').str.split('-').str[0].str.strip().astype('int')\n"
   ]
  },
  {
   "cell_type": "code",
   "execution_count": 40,
   "id": "41429050-196d-498d-8822-d7c145a05628",
   "metadata": {
    "ExecuteTime": {
     "end_time": "2025-05-21T04:19:21.073396Z",
     "start_time": "2025-05-21T04:19:20.932293Z"
    }
   },
   "outputs": [],
   "source": [
    "df['max_exp'] = df['experience'].str.replace('Yrs', '').str.replace('Yr', '').str.split('-').str[-1].str.strip().astype('int')"
   ]
  },
  {
   "cell_type": "code",
   "execution_count": 41,
   "id": "45a7383d-744c-4614-ac98-e044f1aeb578",
   "metadata": {
    "ExecuteTime": {
     "end_time": "2025-05-21T04:19:21.113464Z",
     "start_time": "2025-05-21T04:19:21.091351Z"
    }
   },
   "outputs": [
    {
     "data": {
      "text/html": [
       "<div>\n",
       "<style scoped>\n",
       "    .dataframe tbody tr th:only-of-type {\n",
       "        vertical-align: middle;\n",
       "    }\n",
       "\n",
       "    .dataframe tbody tr th {\n",
       "        vertical-align: top;\n",
       "    }\n",
       "\n",
       "    .dataframe thead th {\n",
       "        text-align: right;\n",
       "    }\n",
       "</style>\n",
       "<table border=\"1\" class=\"dataframe\">\n",
       "  <thead>\n",
       "    <tr style=\"text-align: right;\">\n",
       "      <th></th>\n",
       "      <th>job_id</th>\n",
       "      <th>job_role</th>\n",
       "      <th>company</th>\n",
       "      <th>experience</th>\n",
       "      <th>salary</th>\n",
       "      <th>location</th>\n",
       "      <th>rating</th>\n",
       "      <th>reviews</th>\n",
       "      <th>resposibilities</th>\n",
       "      <th>min_exp</th>\n",
       "      <th>max_exp</th>\n",
       "    </tr>\n",
       "  </thead>\n",
       "  <tbody>\n",
       "    <tr>\n",
       "      <th>0</th>\n",
       "      <td>7.012301e+10</td>\n",
       "      <td>Branch Banking - Calling For Women Candidates</td>\n",
       "      <td>Hdfc Bank</td>\n",
       "      <td>1-6 Yrs</td>\n",
       "      <td>Not disclosed</td>\n",
       "      <td>Kolkata, Hyderabad/Secunderabad, Pune, Ahmedab...</td>\n",
       "      <td>4.0</td>\n",
       "      <td>39110 Reviews</td>\n",
       "      <td>Customer Service,Sales,Relationship Management</td>\n",
       "      <td>1</td>\n",
       "      <td>6</td>\n",
       "    </tr>\n",
       "    <tr>\n",
       "      <th>1</th>\n",
       "      <td>6.012391e+10</td>\n",
       "      <td>Product Owner Senior Manager</td>\n",
       "      <td>Accenture</td>\n",
       "      <td>11-15 Yrs</td>\n",
       "      <td>Not disclosed</td>\n",
       "      <td>Kolkata, Mumbai, Hyderabad/Secunderabad, Pune,...</td>\n",
       "      <td>4.1</td>\n",
       "      <td>32129 Reviews</td>\n",
       "      <td>Product management,Market analysis,Change mana...</td>\n",
       "      <td>11</td>\n",
       "      <td>15</td>\n",
       "    </tr>\n",
       "    <tr>\n",
       "      <th>2</th>\n",
       "      <td>6.012391e+10</td>\n",
       "      <td>Employee Relations and Policies Associate Manager</td>\n",
       "      <td>Accenture</td>\n",
       "      <td>3-7 Yrs</td>\n",
       "      <td>Not disclosed</td>\n",
       "      <td>Kolkata, Mumbai, Hyderabad/Secunderabad, Pune,...</td>\n",
       "      <td>4.1</td>\n",
       "      <td>32129 Reviews</td>\n",
       "      <td>Business process,Change management,Team manage...</td>\n",
       "      <td>3</td>\n",
       "      <td>7</td>\n",
       "    </tr>\n",
       "    <tr>\n",
       "      <th>3</th>\n",
       "      <td>6.012391e+10</td>\n",
       "      <td>Employee Relations and Policies Specialist</td>\n",
       "      <td>Accenture</td>\n",
       "      <td>3-7 Yrs</td>\n",
       "      <td>Not disclosed</td>\n",
       "      <td>Kolkata, Mumbai, Hyderabad/Secunderabad, Pune,...</td>\n",
       "      <td>4.1</td>\n",
       "      <td>32129 Reviews</td>\n",
       "      <td>Business process,Change management,Team manage...</td>\n",
       "      <td>3</td>\n",
       "      <td>7</td>\n",
       "    </tr>\n",
       "    <tr>\n",
       "      <th>4</th>\n",
       "      <td>6.012301e+10</td>\n",
       "      <td>SAP BO Consultant</td>\n",
       "      <td>Mindtree</td>\n",
       "      <td>5-7 Yrs</td>\n",
       "      <td>Not disclosed</td>\n",
       "      <td>Hybrid - Kolkata, Hyderabad/Secunderabad, Pune...</td>\n",
       "      <td>4.1</td>\n",
       "      <td>3759 Reviews</td>\n",
       "      <td>SAP BO,PL / SQL,Oracle SQL,SAP Business Object...</td>\n",
       "      <td>5</td>\n",
       "      <td>7</td>\n",
       "    </tr>\n",
       "    <tr>\n",
       "      <th>...</th>\n",
       "      <td>...</td>\n",
       "      <td>...</td>\n",
       "      <td>...</td>\n",
       "      <td>...</td>\n",
       "      <td>...</td>\n",
       "      <td>...</td>\n",
       "      <td>...</td>\n",
       "      <td>...</td>\n",
       "      <td>...</td>\n",
       "      <td>...</td>\n",
       "      <td>...</td>\n",
       "    </tr>\n",
       "    <tr>\n",
       "      <th>73762</th>\n",
       "      <td>2.012300e+10</td>\n",
       "      <td>Partner Success Executive/Edtech/Punjab</td>\n",
       "      <td>Parth Associates</td>\n",
       "      <td>1-5 Yrs</td>\n",
       "      <td>7,00,000 - 8,50,000 PA.</td>\n",
       "      <td>Jalandhar, Chandigarh, Amritsar</td>\n",
       "      <td>0.0</td>\n",
       "      <td>0 Reviews</td>\n",
       "      <td>CRM,Communication Skills,Presentation Skills,C...</td>\n",
       "      <td>1</td>\n",
       "      <td>5</td>\n",
       "    </tr>\n",
       "    <tr>\n",
       "      <th>73763</th>\n",
       "      <td>2.012300e+10</td>\n",
       "      <td>Partner Success Associate/Edtech/Punjab</td>\n",
       "      <td>Parth Associates</td>\n",
       "      <td>1-5 Yrs</td>\n",
       "      <td>7,00,000 - 8,50,000 PA.</td>\n",
       "      <td>Ludhiana, Patiala, Moga</td>\n",
       "      <td>0.0</td>\n",
       "      <td>0 Reviews</td>\n",
       "      <td>CRM,Communication Skills,Presentation Skills,C...</td>\n",
       "      <td>1</td>\n",
       "      <td>5</td>\n",
       "    </tr>\n",
       "    <tr>\n",
       "      <th>73764</th>\n",
       "      <td>2.312220e+11</td>\n",
       "      <td>Hiring For International Voice Process | Gurga...</td>\n",
       "      <td>First Step Solutions</td>\n",
       "      <td>1-4 Yrs</td>\n",
       "      <td>3,00,000 - 4,50,000 PA.</td>\n",
       "      <td>New Delhi, Gurgaon/Gurugram</td>\n",
       "      <td>0.0</td>\n",
       "      <td>0 Reviews</td>\n",
       "      <td>Customer Service,US Process,Hospitality,Custom...</td>\n",
       "      <td>1</td>\n",
       "      <td>4</td>\n",
       "    </tr>\n",
       "    <tr>\n",
       "      <th>73765</th>\n",
       "      <td>1.712200e+11</td>\n",
       "      <td>Fresher Engineer</td>\n",
       "      <td>Sofcon</td>\n",
       "      <td>0-2 Yrs</td>\n",
       "      <td>Not disclosed</td>\n",
       "      <td>Kota, Udaipur, Banswara, Bhiwadi, Jaipur, Alwa...</td>\n",
       "      <td>2.8</td>\n",
       "      <td>3 Reviews</td>\n",
       "      <td>ENGINEERING,B Tech Fresher,AutoCAD,Degree,PLC,...</td>\n",
       "      <td>0</td>\n",
       "      <td>2</td>\n",
       "    </tr>\n",
       "    <tr>\n",
       "      <th>73766</th>\n",
       "      <td>7.102201e+10</td>\n",
       "      <td>Anatomy Trainer - Part Time / Full time</td>\n",
       "      <td>Indian Healthcare BPO</td>\n",
       "      <td>1-6 Yrs</td>\n",
       "      <td>Not disclosed</td>\n",
       "      <td>Hybrid - Pondicherry/Puducherry, Salem, Chennai</td>\n",
       "      <td>0.0</td>\n",
       "      <td>0 Reviews</td>\n",
       "      <td>Lecturer Activities,Nursing Education,Trainer,...</td>\n",
       "      <td>1</td>\n",
       "      <td>6</td>\n",
       "    </tr>\n",
       "  </tbody>\n",
       "</table>\n",
       "<p>72988 rows × 11 columns</p>\n",
       "</div>"
      ],
      "text/plain": [
       "             job_id                                           job_role  \\\n",
       "0      7.012301e+10      Branch Banking - Calling For Women Candidates   \n",
       "1      6.012391e+10                       Product Owner Senior Manager   \n",
       "2      6.012391e+10  Employee Relations and Policies Associate Manager   \n",
       "3      6.012391e+10         Employee Relations and Policies Specialist   \n",
       "4      6.012301e+10                                  SAP BO Consultant   \n",
       "...             ...                                                ...   \n",
       "73762  2.012300e+10            Partner Success Executive/Edtech/Punjab   \n",
       "73763  2.012300e+10            Partner Success Associate/Edtech/Punjab   \n",
       "73764  2.312220e+11  Hiring For International Voice Process | Gurga...   \n",
       "73765  1.712200e+11                                   Fresher Engineer   \n",
       "73766  7.102201e+10            Anatomy Trainer - Part Time / Full time   \n",
       "\n",
       "                     company experience                   salary  \\\n",
       "0                  Hdfc Bank    1-6 Yrs            Not disclosed   \n",
       "1                  Accenture  11-15 Yrs            Not disclosed   \n",
       "2                  Accenture    3-7 Yrs            Not disclosed   \n",
       "3                  Accenture    3-7 Yrs            Not disclosed   \n",
       "4                   Mindtree    5-7 Yrs            Not disclosed   \n",
       "...                      ...        ...                      ...   \n",
       "73762       Parth Associates    1-5 Yrs  7,00,000 - 8,50,000 PA.   \n",
       "73763       Parth Associates    1-5 Yrs  7,00,000 - 8,50,000 PA.   \n",
       "73764   First Step Solutions    1-4 Yrs  3,00,000 - 4,50,000 PA.   \n",
       "73765                 Sofcon    0-2 Yrs            Not disclosed   \n",
       "73766  Indian Healthcare BPO    1-6 Yrs            Not disclosed   \n",
       "\n",
       "                                                location  rating  \\\n",
       "0      Kolkata, Hyderabad/Secunderabad, Pune, Ahmedab...     4.0   \n",
       "1      Kolkata, Mumbai, Hyderabad/Secunderabad, Pune,...     4.1   \n",
       "2      Kolkata, Mumbai, Hyderabad/Secunderabad, Pune,...     4.1   \n",
       "3      Kolkata, Mumbai, Hyderabad/Secunderabad, Pune,...     4.1   \n",
       "4      Hybrid - Kolkata, Hyderabad/Secunderabad, Pune...     4.1   \n",
       "...                                                  ...     ...   \n",
       "73762                    Jalandhar, Chandigarh, Amritsar     0.0   \n",
       "73763                            Ludhiana, Patiala, Moga     0.0   \n",
       "73764                        New Delhi, Gurgaon/Gurugram     0.0   \n",
       "73765  Kota, Udaipur, Banswara, Bhiwadi, Jaipur, Alwa...     2.8   \n",
       "73766    Hybrid - Pondicherry/Puducherry, Salem, Chennai     0.0   \n",
       "\n",
       "             reviews                                    resposibilities  \\\n",
       "0      39110 Reviews     Customer Service,Sales,Relationship Management   \n",
       "1      32129 Reviews  Product management,Market analysis,Change mana...   \n",
       "2      32129 Reviews  Business process,Change management,Team manage...   \n",
       "3      32129 Reviews  Business process,Change management,Team manage...   \n",
       "4       3759 Reviews  SAP BO,PL / SQL,Oracle SQL,SAP Business Object...   \n",
       "...              ...                                                ...   \n",
       "73762      0 Reviews  CRM,Communication Skills,Presentation Skills,C...   \n",
       "73763      0 Reviews  CRM,Communication Skills,Presentation Skills,C...   \n",
       "73764      0 Reviews  Customer Service,US Process,Hospitality,Custom...   \n",
       "73765      3 Reviews  ENGINEERING,B Tech Fresher,AutoCAD,Degree,PLC,...   \n",
       "73766      0 Reviews  Lecturer Activities,Nursing Education,Trainer,...   \n",
       "\n",
       "       min_exp  max_exp  \n",
       "0            1        6  \n",
       "1           11       15  \n",
       "2            3        7  \n",
       "3            3        7  \n",
       "4            5        7  \n",
       "...        ...      ...  \n",
       "73762        1        5  \n",
       "73763        1        5  \n",
       "73764        1        4  \n",
       "73765        0        2  \n",
       "73766        1        6  \n",
       "\n",
       "[72988 rows x 11 columns]"
      ]
     },
     "execution_count": 41,
     "metadata": {},
     "output_type": "execute_result"
    }
   ],
   "source": [
    "df"
   ]
  },
  {
   "cell_type": "markdown",
   "id": "ffe07612-41d2-4f28-8993-37a6c67adaa8",
   "metadata": {},
   "source": [
    "5. Clean the Salary column"
   ]
  },
  {
   "cell_type": "code",
   "execution_count": 42,
   "id": "9b48a3b2-3233-40ac-a1e8-0646dac89e95",
   "metadata": {
    "ExecuteTime": {
     "end_time": "2025-05-21T04:19:21.204736Z",
     "start_time": "2025-05-21T04:19:21.191076Z"
    }
   },
   "outputs": [
    {
     "data": {
      "text/plain": [
       "array(['Not disclosed', '700000', '1000000', '400000', '250000',\n",
       "       '2500000', '1300000', '850000', '425000', '550000', '800000',\n",
       "       '50000', '475000', '600000', '500000', '1800000', '200000',\n",
       "       '2000000', '300000', '1500000', '900000', '2250000',\n",
       "       '9.5 Cr and above', '950000', '1200000', '100000', '350000',\n",
       "       '175000', '225000', '650000', '325000', '375000', '1400000',\n",
       "       '150000', '60000', '3000000', '1700000', '450000', '750000',\n",
       "       '4000000', '125000', '3500000', '275000', '50000000', '1600000',\n",
       "       'Any Graduate', '80000', '10000', '1100000', '40000000', '90000',\n",
       "       '500000 (Including Variable: 20.0%)', '2750000', '70000000',\n",
       "       '1900000', '5500000', '35000000', 'Less than 50000', '15000',\n",
       "       'Any Postgraduate Any Graduate', '70000', '20000000',\n",
       "       'Graduation Not Required', '85000000', '10000000',\n",
       "       'M.Tech MCA MS/M.Sc(Science) B.Tech/B.E.', '80000000', '6000000',\n",
       "       '15000000', '3750000', 'CA MBA/PGDM M.Com B.Com', '65000000',\n",
       "       '5000000', '60000000', '27500000', '30000000', 'MBA/PGDM',\n",
       "       '4500000', 'MBBS', 'B.Tech/B.E. BCA', 'MS/M.Sc(Science) M.A',\n",
       "       'MCA B.Tech/B.E.', '90000000', 'MS/M.Sc(Science) MBA/PGDM M.A',\n",
       "       '3250000', '8000000', '9000000', '17500000', '42500000', '7000000',\n",
       "       'Less than 5000', '5000', '32500000', '7500000', '75000000',\n",
       "       '22500000', '400000 (Including Variable: 50.0%)', '37500000'],\n",
       "      dtype=object)"
      ]
     },
     "execution_count": 42,
     "metadata": {},
     "output_type": "execute_result"
    }
   ],
   "source": [
    "df['clean salary'] = df['salary'].str.replace(' PA.', '').str.replace(',', '').str.split('-').str[0].str.strip()\n",
    "df['clean salary'].unique()"
   ]
  },
  {
   "cell_type": "code",
   "execution_count": 43,
   "id": "9dcb75bd-b61e-4aca-8745-05127cd9b43f",
   "metadata": {},
   "outputs": [
    {
     "data": {
      "text/plain": [
       "array(['Not disclosed', '700000', '1000000', '400000', '250000',\n",
       "       '2500000', '1300000', '850000', '425000', '550000', '800000',\n",
       "       '50000', '475000', '600000', '500000', '1800000', '200000',\n",
       "       '2000000', '300000', '1500000', '900000', '2250000', '950000',\n",
       "       '1200000', '100000', '350000', '175000', '225000', '650000',\n",
       "       '325000', '375000', '1400000', '150000', '60000', '3000000',\n",
       "       '1700000', '450000', '750000', '4000000', '125000', '3500000',\n",
       "       '275000', '50000000', '1600000', 'Any Graduate', '80000', '10000',\n",
       "       '1100000', '40000000', '90000',\n",
       "       '500000 (Including Variable: 20.0%)', '2750000', '70000000',\n",
       "       '1900000', '5500000', '35000000', '15000',\n",
       "       'Any Postgraduate Any Graduate', '70000', '20000000',\n",
       "       'Graduation Not Required', '85000000', '10000000',\n",
       "       'M.Tech MCA MS/M.Sc(Science) B.Tech/B.E.', '80000000', '6000000',\n",
       "       '15000000', '3750000', 'CA MBA/PGDM M.Com B.Com', '65000000',\n",
       "       '5000000', '60000000', '27500000', '30000000', 'MBA/PGDM',\n",
       "       '4500000', 'MBBS', 'B.Tech/B.E. BCA', 'MS/M.Sc(Science) M.A',\n",
       "       'MCA B.Tech/B.E.', '90000000', 'MS/M.Sc(Science) MBA/PGDM M.A',\n",
       "       '3250000', '8000000', '9000000', '17500000', '42500000', '7000000',\n",
       "       '5000', '32500000', '7500000', '75000000', '22500000',\n",
       "       '400000 (Including Variable: 50.0%)', '37500000'], dtype=object)"
      ]
     },
     "execution_count": 43,
     "metadata": {},
     "output_type": "execute_result"
    }
   ],
   "source": [
    "df = df[(df['clean salary'] != '9.5 Cr and above') & (df['clean salary'] != 'Less than 5000') &  (df['clean salary'] != 'Less than 50000')]\n",
    "df['clean salary'].unique()"
   ]
  },
  {
   "cell_type": "code",
   "execution_count": 44,
   "id": "08340744-fa6d-4913-b8c4-9d39d1b4d24d",
   "metadata": {},
   "outputs": [
    {
     "name": "stderr",
     "output_type": "stream",
     "text": [
      "C:\\Users\\moham\\AppData\\Local\\Temp\\ipykernel_24220\\2891854389.py:1: SettingWithCopyWarning: \n",
      "A value is trying to be set on a copy of a slice from a DataFrame.\n",
      "Try using .loc[row_indexer,col_indexer] = value instead\n",
      "\n",
      "See the caveats in the documentation: https://pandas.pydata.org/pandas-docs/stable/user_guide/indexing.html#returning-a-view-versus-a-copy\n",
      "  df['min_salary'] = df['clean salary'].str.split('(').str[0].str.strip()\n"
     ]
    },
    {
     "data": {
      "text/plain": [
       "array(['Not disclosed', '700000', '1000000', '400000', '250000',\n",
       "       '2500000', '1300000', '850000', '425000', '550000', '800000',\n",
       "       '50000', '475000', '600000', '500000', '1800000', '200000',\n",
       "       '2000000', '300000', '1500000', '900000', '2250000', '950000',\n",
       "       '1200000', '100000', '350000', '175000', '225000', '650000',\n",
       "       '325000', '375000', '1400000', '150000', '60000', '3000000',\n",
       "       '1700000', '450000', '750000', '4000000', '125000', '3500000',\n",
       "       '275000', '50000000', '1600000', 'Any Graduate', '80000', '10000',\n",
       "       '1100000', '40000000', '90000', '2750000', '70000000', '1900000',\n",
       "       '5500000', '35000000', '15000', 'Any Postgraduate Any Graduate',\n",
       "       '70000', '20000000', 'Graduation Not Required', '85000000',\n",
       "       '10000000', 'M.Tech MCA MS/M.Sc', '80000000', '6000000',\n",
       "       '15000000', '3750000', 'CA MBA/PGDM M.Com B.Com', '65000000',\n",
       "       '5000000', '60000000', '27500000', '30000000', 'MBA/PGDM',\n",
       "       '4500000', 'MBBS', 'B.Tech/B.E. BCA', 'MS/M.Sc', 'MCA B.Tech/B.E.',\n",
       "       '90000000', '3250000', '8000000', '9000000', '17500000',\n",
       "       '42500000', '7000000', '5000', '32500000', '7500000', '75000000',\n",
       "       '22500000', '37500000'], dtype=object)"
      ]
     },
     "execution_count": 44,
     "metadata": {},
     "output_type": "execute_result"
    }
   ],
   "source": [
    "df['min_salary'] = df['clean salary'].str.split('(').str[0].str.strip()\n",
    "df['min_salary'].unique()"
   ]
  },
  {
   "cell_type": "code",
   "execution_count": 45,
   "id": "5690aacd-6708-496a-8370-f52434faebab",
   "metadata": {},
   "outputs": [
    {
     "name": "stderr",
     "output_type": "stream",
     "text": [
      "C:\\Users\\moham\\AppData\\Local\\Temp\\ipykernel_24220\\1188611455.py:1: SettingWithCopyWarning: \n",
      "A value is trying to be set on a copy of a slice from a DataFrame.\n",
      "Try using .loc[row_indexer,col_indexer] = value instead\n",
      "\n",
      "See the caveats in the documentation: https://pandas.pydata.org/pandas-docs/stable/user_guide/indexing.html#returning-a-view-versus-a-copy\n",
      "  df['min_salary']= df['min_salary'].replace(['Any Graduate', 'Any Postgraduate Any Graduate', 'Graduation Not Required', 'M.Tech MCA MS/M.Sc', 'CA MBA/PGDM M.Com B.Com','MBBS', 'B.Tech/B.E. BCA', 'MS/M.Sc', 'MCA B.Tech/B.E.'], 'Not disclosed')\n"
     ]
    }
   ],
   "source": [
    "df['min_salary']= df['min_salary'].replace(['Any Graduate', 'Any Postgraduate Any Graduate', 'Graduation Not Required', 'M.Tech MCA MS/M.Sc', 'CA MBA/PGDM M.Com B.Com','MBBS', 'B.Tech/B.E. BCA', 'MS/M.Sc', 'MCA B.Tech/B.E.'], 'Not disclosed')"
   ]
  },
  {
   "cell_type": "code",
   "execution_count": 46,
   "id": "34a5538c-4c98-4f39-8683-1f56b2411c7e",
   "metadata": {},
   "outputs": [
    {
     "data": {
      "text/plain": [
       "array(['Not disclosed', '700000', '1000000', '400000', '250000',\n",
       "       '2500000', '1300000', '850000', '425000', '550000', '800000',\n",
       "       '50000', '475000', '600000', '500000', '1800000', '200000',\n",
       "       '2000000', '300000', '1500000', '900000', '2250000', '950000',\n",
       "       '1200000', '100000', '350000', '175000', '225000', '650000',\n",
       "       '325000', '375000', '1400000', '150000', '60000', '3000000',\n",
       "       '1700000', '450000', '750000', '4000000', '125000', '3500000',\n",
       "       '275000', '50000000', '1600000', '80000', '10000', '1100000',\n",
       "       '40000000', '90000', '2750000', '70000000', '1900000', '5500000',\n",
       "       '35000000', '15000', '70000', '20000000', '85000000', '10000000',\n",
       "       '80000000', '6000000', '15000000', '3750000', '65000000',\n",
       "       '5000000', '60000000', '27500000', '30000000', 'MBA/PGDM',\n",
       "       '4500000', '90000000', '3250000', '8000000', '9000000', '17500000',\n",
       "       '42500000', '7000000', '5000', '32500000', '7500000', '75000000',\n",
       "       '22500000', '37500000'], dtype=object)"
      ]
     },
     "execution_count": 46,
     "metadata": {},
     "output_type": "execute_result"
    }
   ],
   "source": [
    "df['min_salary'].unique()"
   ]
  },
  {
   "cell_type": "code",
   "execution_count": 47,
   "id": "fc8d8631-59f2-4bbd-a805-235106dd634f",
   "metadata": {},
   "outputs": [],
   "source": [
    "del df['clean salary']"
   ]
  },
  {
   "cell_type": "code",
   "execution_count": 48,
   "id": "1c050a65-6bb0-40df-ae61-df6957a563ba",
   "metadata": {},
   "outputs": [],
   "source": [
    "del df['experience']"
   ]
  },
  {
   "cell_type": "code",
   "execution_count": 49,
   "id": "ed129064-7596-4f18-b5d1-fb77b571dd2d",
   "metadata": {},
   "outputs": [
    {
     "name": "stderr",
     "output_type": "stream",
     "text": [
      "C:\\Users\\moham\\AppData\\Local\\Temp\\ipykernel_24220\\2177875179.py:1: SettingWithCopyWarning: \n",
      "A value is trying to be set on a copy of a slice from a DataFrame.\n",
      "Try using .loc[row_indexer,col_indexer] = value instead\n",
      "\n",
      "See the caveats in the documentation: https://pandas.pydata.org/pandas-docs/stable/user_guide/indexing.html#returning-a-view-versus-a-copy\n",
      "  df['clean salary'] = df['salary'].str.replace(' PA.', '').str.replace(',','').str.split('-').str[1].str.strip()\n"
     ]
    }
   ],
   "source": [
    "df['clean salary'] = df['salary'].str.replace(' PA.', '').str.replace(',','').str.split('-').str[1].str.strip()\n",
    "\n",
    "\n"
   ]
  },
  {
   "cell_type": "code",
   "execution_count": 50,
   "id": "2f74c1b5-a5d1-4ed3-af93-64f2f56fb227",
   "metadata": {},
   "outputs": [],
   "source": [
    "df = df[(df['clean salary'] != '9.5 Cr and above')]"
   ]
  },
  {
   "cell_type": "code",
   "execution_count": 51,
   "id": "7deb42e8-5d9f-4844-a611-474bcfa1ca62",
   "metadata": {},
   "outputs": [
    {
     "data": {
      "text/plain": [
       "array([nan, '1700000', '2000000', '900000', '350000', '2750000',\n",
       "       '2250000', '1850000', '450000', '1550000', '1400000', '1800000',\n",
       "       '300000', '800000', '1200000', '1500000', '1600000', '700000',\n",
       "       '3000000', '650000', '600000', '1900000', '2500000', '3500000',\n",
       "       '850000', '1300000', '90000', '475000', '750000', '500000',\n",
       "       '425000', '250000', '1650000', '400000', '70000', '1000000',\n",
       "       '325000', '200000', '4000000', '550000', '150000', '275000',\n",
       "       '2400000', '1100000', '375000', '4500000', '675000', '2200000',\n",
       "       '225000', '2300000', '5000000', '975000', '3250000', '6500000',\n",
       "       '175000', '3300000', '950000', '3100000', '825000', '80000',\n",
       "       '15000', '100000', '60000000', '125000', '4250000', '725000',\n",
       "       '60000', '2100000', '50000000', '90000000', '9000000', '1750000',\n",
       "       '37500000', '25000', '3200000', '7000000', '1950000', '6000000',\n",
       "       '625000', '30000000', '925000', '3750000', '8000000', '775000',\n",
       "       '10000000', '85000000', '8500000', '75000000', '875000',\n",
       "       '40000000', '45000000', '80000000', '9500000', '5500000',\n",
       "       '70000000', '7500000', '17500000', '12500000', '4750000',\n",
       "       '20000000', '10000', '15000000', '32500000', '25000000',\n",
       "       '65000000'], dtype=object)"
      ]
     },
     "execution_count": 51,
     "metadata": {},
     "output_type": "execute_result"
    }
   ],
   "source": [
    "df['max_salary'] = df['clean salary'].str.split('(').str[0].str.strip()\n",
    "df['max_salary'].unique()"
   ]
  },
  {
   "cell_type": "code",
   "execution_count": 52,
   "id": "f61b8125-6e95-4513-bb8e-16e592c1922f",
   "metadata": {},
   "outputs": [
    {
     "data": {
      "text/plain": [
       "array([nan, '1700000', '2000000', '900000', '350000', '2750000',\n",
       "       '2250000', '1850000', '450000', '1550000', '1400000', '1800000',\n",
       "       '300000', '800000', '1200000', '1500000', '1600000', '700000',\n",
       "       '3000000', '650000', '600000', '1900000', '2500000', '3500000',\n",
       "       '850000', '1300000', '90000', '475000', '750000', '500000',\n",
       "       '425000', '250000', '1650000', '400000', '70000', '1000000',\n",
       "       '325000', '200000', '4000000', '550000', '150000', '275000',\n",
       "       '2400000', '1100000', '375000', '4500000', '675000', '2200000',\n",
       "       '225000', '2300000', '5000000', '975000', '3250000', '6500000',\n",
       "       '175000', '3300000', '950000', '3100000', '825000', '80000',\n",
       "       '15000', '100000', '60000000', '125000', '4250000', '725000',\n",
       "       '60000', '2100000', '50000000', '90000000', '9000000', '1750000',\n",
       "       '37500000', '25000', '3200000', '7000000', '1950000', '6000000',\n",
       "       '625000', '30000000', '925000', '3750000', '8000000', '775000',\n",
       "       '10000000', '85000000', '8500000', '75000000', '875000',\n",
       "       '40000000', '45000000', '80000000', '9500000', '5500000',\n",
       "       '70000000', '7500000', '17500000', '12500000', '4750000',\n",
       "       '20000000', '10000', '15000000', '32500000', '25000000',\n",
       "       '65000000'], dtype=object)"
      ]
     },
     "execution_count": 52,
     "metadata": {},
     "output_type": "execute_result"
    }
   ],
   "source": [
    "df['max_salary'].unique()"
   ]
  },
  {
   "cell_type": "code",
   "execution_count": 53,
   "id": "13547a74-94a2-4c00-b19c-393097ca2246",
   "metadata": {},
   "outputs": [],
   "source": [
    "df['max_salary'] = df['max_salary'].fillna('Not disclosed')"
   ]
  },
  {
   "cell_type": "code",
   "execution_count": 54,
   "id": "9e3840d8-64b7-43fc-91e4-f0baec4877ed",
   "metadata": {},
   "outputs": [
    {
     "data": {
      "text/plain": [
       "array(['Not disclosed', '1700000', '2000000', '900000', '350000',\n",
       "       '2750000', '2250000', '1850000', '450000', '1550000', '1400000',\n",
       "       '1800000', '300000', '800000', '1200000', '1500000', '1600000',\n",
       "       '700000', '3000000', '650000', '600000', '1900000', '2500000',\n",
       "       '3500000', '850000', '1300000', '90000', '475000', '750000',\n",
       "       '500000', '425000', '250000', '1650000', '400000', '70000',\n",
       "       '1000000', '325000', '200000', '4000000', '550000', '150000',\n",
       "       '275000', '2400000', '1100000', '375000', '4500000', '675000',\n",
       "       '2200000', '225000', '2300000', '5000000', '975000', '3250000',\n",
       "       '6500000', '175000', '3300000', '950000', '3100000', '825000',\n",
       "       '80000', '15000', '100000', '60000000', '125000', '4250000',\n",
       "       '725000', '60000', '2100000', '50000000', '90000000', '9000000',\n",
       "       '1750000', '37500000', '25000', '3200000', '7000000', '1950000',\n",
       "       '6000000', '625000', '30000000', '925000', '3750000', '8000000',\n",
       "       '775000', '10000000', '85000000', '8500000', '75000000', '875000',\n",
       "       '40000000', '45000000', '80000000', '9500000', '5500000',\n",
       "       '70000000', '7500000', '17500000', '12500000', '4750000',\n",
       "       '20000000', '10000', '15000000', '32500000', '25000000',\n",
       "       '65000000'], dtype=object)"
      ]
     },
     "execution_count": 54,
     "metadata": {},
     "output_type": "execute_result"
    }
   ],
   "source": [
    "df['max_salary'].unique()"
   ]
  },
  {
   "cell_type": "code",
   "execution_count": 55,
   "id": "b7a5cf04-9013-4d60-89aa-8b203c0113dc",
   "metadata": {},
   "outputs": [],
   "source": [
    "del df['clean salary']"
   ]
  },
  {
   "cell_type": "code",
   "execution_count": 56,
   "id": "b559559f-cc96-4175-aa3f-4eca3b4eb3aa",
   "metadata": {},
   "outputs": [],
   "source": [
    "del df['salary']"
   ]
  },
  {
   "cell_type": "markdown",
   "id": "53f5aca1-849b-479b-b826-fa1141fb303d",
   "metadata": {},
   "source": [
    "6. Clean the location column"
   ]
  },
  {
   "cell_type": "code",
   "execution_count": 57,
   "id": "ae5642ce-f8bf-4fb5-9719-33b0b6c53d02",
   "metadata": {
    "ExecuteTime": {
     "end_time": "2025-05-21T04:19:21.362243Z",
     "start_time": "2025-05-21T04:19:21.349146Z"
    }
   },
   "outputs": [
    {
     "data": {
      "text/plain": [
       "array(['Kolkata, Hyderabad/Secunderabad, Pune, Ahmedabad, Chennai, Bangalore/Bengaluru, Delhi / NCR, Mumbai (All Areas), rajasthan',\n",
       "       'Kolkata, Mumbai, Hyderabad/Secunderabad, Pune, Chennai, Bangalore/Bengaluru, delhi ncr',\n",
       "       'Hybrid - Kolkata, Hyderabad/Secunderabad, Pune, Chennai, Coimbatore, Bangalore/Bengaluru, Delhi / NCR, Mumbai (All Areas)',\n",
       "       ..., 'Ludhiana, Patiala, Moga',\n",
       "       'Kota, Udaipur, Banswara, Bhiwadi, Jaipur, Alwar, Jaisalmer, Bikaner, Jodhpur',\n",
       "       'Hybrid - Pondicherry/Puducherry, Salem, Chennai'], dtype=object)"
      ]
     },
     "execution_count": 57,
     "metadata": {},
     "output_type": "execute_result"
    }
   ],
   "source": [
    "df['location'].unique()"
   ]
  },
  {
   "cell_type": "code",
   "execution_count": 58,
   "id": "89b02780-8347-48ea-9c6a-272ef7389d86",
   "metadata": {
    "ExecuteTime": {
     "end_time": "2025-05-21T07:17:03.508762Z",
     "start_time": "2025-05-21T07:17:03.416247Z"
    }
   },
   "outputs": [],
   "source": [
    "df['clean_location'] = df['location'].str.replace('(All Areas)', '').str.replace(',', '').str.replace('/', ' ').str.strip().str.split(' ')"
   ]
  },
  {
   "cell_type": "code",
   "execution_count": 59,
   "id": "5bf0b30e94818aab",
   "metadata": {
    "ExecuteTime": {
     "end_time": "2025-05-21T07:18:09.615424Z",
     "start_time": "2025-05-21T07:18:09.608296Z"
    }
   },
   "outputs": [
    {
     "data": {
      "text/plain": [
       "0        [Kolkata, Hyderabad, Secunderabad, Pune, Ahmed...\n",
       "1        [Kolkata, Mumbai, Hyderabad, Secunderabad, Pun...\n",
       "2        [Kolkata, Mumbai, Hyderabad, Secunderabad, Pun...\n",
       "3        [Kolkata, Mumbai, Hyderabad, Secunderabad, Pun...\n",
       "4        [Hybrid, -, Kolkata, Hyderabad, Secunderabad, ...\n",
       "                               ...                        \n",
       "73762                    [Jalandhar, Chandigarh, Amritsar]\n",
       "73763                            [Ludhiana, Patiala, Moga]\n",
       "73764                      [New, Delhi, Gurgaon, Gurugram]\n",
       "73765    [Kota, Udaipur, Banswara, Bhiwadi, Jaipur, Alw...\n",
       "73766    [Hybrid, -, Pondicherry, Puducherry, Salem, Ch...\n",
       "Name: clean_location, Length: 72967, dtype: object"
      ]
     },
     "execution_count": 59,
     "metadata": {},
     "output_type": "execute_result"
    }
   ],
   "source": [
    "df['clean_location']"
   ]
  },
  {
   "cell_type": "markdown",
   "id": "2346fdbc-c53d-4c53-9396-ce9c232a40ee",
   "metadata": {},
   "source": [
    "7. Clean the rating and reviews columns"
   ]
  },
  {
   "cell_type": "code",
   "execution_count": 60,
   "id": "7f8cf68c-bf63-4b92-9e70-c11a0a0f98e6",
   "metadata": {},
   "outputs": [],
   "source": [
    "df['reviews'] = df['reviews'].str.split(' ').str[0].astype('int')"
   ]
  },
  {
   "cell_type": "markdown",
   "id": "e8fef39f-241e-4789-8126-628df157deaa",
   "metadata": {},
   "source": [
    "8. Change the data type of job_id"
   ]
  },
  {
   "cell_type": "code",
   "execution_count": 61,
   "id": "48e1135a-e759-443d-8f67-af4daa9575a2",
   "metadata": {
    "ExecuteTime": {
     "end_time": "2025-05-21T04:19:21.918776Z",
     "start_time": "2025-05-21T04:19:21.895058Z"
    }
   },
   "outputs": [],
   "source": [
    "df['job_id'] = df['job_id'].astype('int64').astype(str)"
   ]
  },
  {
   "cell_type": "markdown",
   "id": "751c796a-dcf7-41a8-8b09-8f1721b9f254",
   "metadata": {},
   "source": [
    "### Analyze Data\n",
    "\n",
    "Answer the Questions by showing appropriate Visuals and analyse the data\n",
    "   - total Number of jobs\n",
    "   -  total number of companies\n",
    "   -  top 5 companies\n",
    "       - based on rating\n",
    "       - on reviews\n",
    "       - salary\n",
    "       - no of job posting\n",
    "       - no of different locations\n",
    "    \n",
    "   -  Skills needed for almost all the jobs\n",
    "   -  skills needed to get hired in the HDFC bank\n",
    "   -  skills needed to become a data analyst\n",
    "   -  no of jobs as per year's of experience\n",
    "   -  avg salary as per year's of experience"
   ]
  },
  {
   "cell_type": "markdown",
   "id": "68fff5df-0080-47af-af10-fbb1cd48efd0",
   "metadata": {},
   "source": [
    "1. Number of job's as per experience"
   ]
  },
  {
   "cell_type": "code",
   "execution_count": 62,
   "id": "e9b71921b627a784",
   "metadata": {
    "ExecuteTime": {
     "end_time": "2025-05-21T10:06:00.718432Z",
     "start_time": "2025-05-21T10:06:00.663229Z"
    }
   },
   "outputs": [
    {
     "name": "stdout",
     "output_type": "stream",
     "text": [
      "-----------------------------------\n",
      "total jobs       72967\n",
      "total Companies  15310\n",
      "-----------------------------------\n"
     ]
    }
   ],
   "source": [
    "print('-'*35)\n",
    "print('total jobs      ', df['job_id'].nunique())\n",
    "print('total Companies ', df['company'].nunique())\n",
    "print('-'*35)"
   ]
  },
  {
   "cell_type": "markdown",
   "id": "ce98a4c5a65160ac",
   "metadata": {},
   "source": [
    "### Top 5 Companies (Review)"
   ]
  },
  {
   "cell_type": "markdown",
   "id": "32d69e78-08c6-4c4f-9dde-9d36adcf4c24",
   "metadata": {},
   "source": [
    "Weighted avg of review and ratings. This is done for better understand companies based on reviews & ratings"
   ]
  },
  {
   "cell_type": "code",
   "execution_count": 104,
   "id": "b5ad0b07-158b-4c52-8101-f1b9007b1baa",
   "metadata": {},
   "outputs": [],
   "source": [
    "df['rating_review_filter'] = (df['rating']*0.1) + (df['reviews']*0.9)"
   ]
  },
  {
   "cell_type": "code",
   "execution_count": 105,
   "id": "aa242aea-4fc2-44c5-8c5e-f0196729d203",
   "metadata": {},
   "outputs": [
    {
     "data": {
      "application/vnd.plotly.v1+json": {
       "config": {
        "plotlyServerURL": "https://plot.ly"
       },
       "data": [
        {
         "customdata": [
          [
           45147.090000000004,
           1
          ],
          [
           39305.21000000001,
           0.7539152376017828
          ],
          [
           35199.4,
           0.5809611066880658
          ],
          [
           30132.4,
           0.36751757633965615
          ],
          [
           28916.510000000002,
           0.31629913266187293
          ],
          [
           21637.31,
           0.009668355848740292
          ],
          [
           21637.31,
           0.009668355848740292
          ],
          [
           21637.31,
           0.009668355848740292
          ],
          [
           21620.21,
           0.008948031323585709
          ],
          [
           21407.79,
           0
          ]
         ],
         "domain": {
          "x": [
           0,
           1
          ],
          "y": [
           0,
           1
          ]
         },
         "hoverinfo": "label+percent+value",
         "hovertemplate": "company=%{label}<br>filter=%{customdata[0]}<br>color=%{customdata[1]}<extra></extra>",
         "labels": [
          "Tata Consultancy Services (TCS)",
          "Reliance Industries (RIL)",
          "Hdfc Bank",
          "Icici Bank",
          "Accenture",
          "Larsen & Toubro (L&T)",
          "L & T Infrastructure Engineering Limited",
          "L&T Infrastructure Engineering Limited",
          "L&T Technology Services",
          "Capgemini"
         ],
         "legendgroup": "",
         "marker": {
          "colors": [
           "rgb(8,48,107)",
           "rgb(8,81,156)",
           "rgb(33,113,181)",
           "rgb(66,146,198)",
           "rgb(107,174,214)",
           "rgb(158,202,225)",
           "rgb(158,202,225)",
           "rgb(158,202,225)",
           "rgb(198,219,239)",
           "rgb(222,235,247)"
          ]
         },
         "name": "",
         "pull": [
          0.05,
          0,
          0,
          0,
          0,
          0,
          0,
          0,
          0,
          0
         ],
         "showlegend": true,
         "textinfo": "percent",
         "textposition": "outside",
         "type": "pie",
         "values": [
          45147.090000000004,
          39305.21000000001,
          35199.4,
          30132.4,
          28916.510000000002,
          21637.31,
          21637.31,
          21637.31,
          21620.21,
          21407.79
         ]
        }
       ],
       "layout": {
        "autosize": true,
        "legend": {
         "tracegroupgap": 0
        },
        "margin": {
         "b": 20,
         "l": 20,
         "r": 20,
         "t": 80
        },
        "piecolorway": [
         "rgb(8,48,107)",
         "rgb(8,81,156)",
         "rgb(33,113,181)",
         "rgb(66,146,198)",
         "rgb(107,174,214)",
         "rgb(158,202,225)",
         "rgb(198,219,239)",
         "rgb(222,235,247)",
         "rgb(247,251,255)"
        ],
        "showlegend": true,
        "template": {
         "data": {
          "bar": [
           {
            "error_x": {
             "color": "#2a3f5f"
            },
            "error_y": {
             "color": "#2a3f5f"
            },
            "marker": {
             "line": {
              "color": "#E5ECF6",
              "width": 0.5
             },
             "pattern": {
              "fillmode": "overlay",
              "size": 10,
              "solidity": 0.2
             }
            },
            "type": "bar"
           }
          ],
          "barpolar": [
           {
            "marker": {
             "line": {
              "color": "#E5ECF6",
              "width": 0.5
             },
             "pattern": {
              "fillmode": "overlay",
              "size": 10,
              "solidity": 0.2
             }
            },
            "type": "barpolar"
           }
          ],
          "carpet": [
           {
            "aaxis": {
             "endlinecolor": "#2a3f5f",
             "gridcolor": "white",
             "linecolor": "white",
             "minorgridcolor": "white",
             "startlinecolor": "#2a3f5f"
            },
            "baxis": {
             "endlinecolor": "#2a3f5f",
             "gridcolor": "white",
             "linecolor": "white",
             "minorgridcolor": "white",
             "startlinecolor": "#2a3f5f"
            },
            "type": "carpet"
           }
          ],
          "choropleth": [
           {
            "colorbar": {
             "outlinewidth": 0,
             "ticks": ""
            },
            "type": "choropleth"
           }
          ],
          "contour": [
           {
            "colorbar": {
             "outlinewidth": 0,
             "ticks": ""
            },
            "colorscale": [
             [
              0,
              "#0d0887"
             ],
             [
              0.1111111111111111,
              "#46039f"
             ],
             [
              0.2222222222222222,
              "#7201a8"
             ],
             [
              0.3333333333333333,
              "#9c179e"
             ],
             [
              0.4444444444444444,
              "#bd3786"
             ],
             [
              0.5555555555555556,
              "#d8576b"
             ],
             [
              0.6666666666666666,
              "#ed7953"
             ],
             [
              0.7777777777777778,
              "#fb9f3a"
             ],
             [
              0.8888888888888888,
              "#fdca26"
             ],
             [
              1,
              "#f0f921"
             ]
            ],
            "type": "contour"
           }
          ],
          "contourcarpet": [
           {
            "colorbar": {
             "outlinewidth": 0,
             "ticks": ""
            },
            "type": "contourcarpet"
           }
          ],
          "heatmap": [
           {
            "colorbar": {
             "outlinewidth": 0,
             "ticks": ""
            },
            "colorscale": [
             [
              0,
              "#0d0887"
             ],
             [
              0.1111111111111111,
              "#46039f"
             ],
             [
              0.2222222222222222,
              "#7201a8"
             ],
             [
              0.3333333333333333,
              "#9c179e"
             ],
             [
              0.4444444444444444,
              "#bd3786"
             ],
             [
              0.5555555555555556,
              "#d8576b"
             ],
             [
              0.6666666666666666,
              "#ed7953"
             ],
             [
              0.7777777777777778,
              "#fb9f3a"
             ],
             [
              0.8888888888888888,
              "#fdca26"
             ],
             [
              1,
              "#f0f921"
             ]
            ],
            "type": "heatmap"
           }
          ],
          "heatmapgl": [
           {
            "colorbar": {
             "outlinewidth": 0,
             "ticks": ""
            },
            "colorscale": [
             [
              0,
              "#0d0887"
             ],
             [
              0.1111111111111111,
              "#46039f"
             ],
             [
              0.2222222222222222,
              "#7201a8"
             ],
             [
              0.3333333333333333,
              "#9c179e"
             ],
             [
              0.4444444444444444,
              "#bd3786"
             ],
             [
              0.5555555555555556,
              "#d8576b"
             ],
             [
              0.6666666666666666,
              "#ed7953"
             ],
             [
              0.7777777777777778,
              "#fb9f3a"
             ],
             [
              0.8888888888888888,
              "#fdca26"
             ],
             [
              1,
              "#f0f921"
             ]
            ],
            "type": "heatmapgl"
           }
          ],
          "histogram": [
           {
            "marker": {
             "pattern": {
              "fillmode": "overlay",
              "size": 10,
              "solidity": 0.2
             }
            },
            "type": "histogram"
           }
          ],
          "histogram2d": [
           {
            "colorbar": {
             "outlinewidth": 0,
             "ticks": ""
            },
            "colorscale": [
             [
              0,
              "#0d0887"
             ],
             [
              0.1111111111111111,
              "#46039f"
             ],
             [
              0.2222222222222222,
              "#7201a8"
             ],
             [
              0.3333333333333333,
              "#9c179e"
             ],
             [
              0.4444444444444444,
              "#bd3786"
             ],
             [
              0.5555555555555556,
              "#d8576b"
             ],
             [
              0.6666666666666666,
              "#ed7953"
             ],
             [
              0.7777777777777778,
              "#fb9f3a"
             ],
             [
              0.8888888888888888,
              "#fdca26"
             ],
             [
              1,
              "#f0f921"
             ]
            ],
            "type": "histogram2d"
           }
          ],
          "histogram2dcontour": [
           {
            "colorbar": {
             "outlinewidth": 0,
             "ticks": ""
            },
            "colorscale": [
             [
              0,
              "#0d0887"
             ],
             [
              0.1111111111111111,
              "#46039f"
             ],
             [
              0.2222222222222222,
              "#7201a8"
             ],
             [
              0.3333333333333333,
              "#9c179e"
             ],
             [
              0.4444444444444444,
              "#bd3786"
             ],
             [
              0.5555555555555556,
              "#d8576b"
             ],
             [
              0.6666666666666666,
              "#ed7953"
             ],
             [
              0.7777777777777778,
              "#fb9f3a"
             ],
             [
              0.8888888888888888,
              "#fdca26"
             ],
             [
              1,
              "#f0f921"
             ]
            ],
            "type": "histogram2dcontour"
           }
          ],
          "mesh3d": [
           {
            "colorbar": {
             "outlinewidth": 0,
             "ticks": ""
            },
            "type": "mesh3d"
           }
          ],
          "parcoords": [
           {
            "line": {
             "colorbar": {
              "outlinewidth": 0,
              "ticks": ""
             }
            },
            "type": "parcoords"
           }
          ],
          "pie": [
           {
            "automargin": true,
            "type": "pie"
           }
          ],
          "scatter": [
           {
            "fillpattern": {
             "fillmode": "overlay",
             "size": 10,
             "solidity": 0.2
            },
            "type": "scatter"
           }
          ],
          "scatter3d": [
           {
            "line": {
             "colorbar": {
              "outlinewidth": 0,
              "ticks": ""
             }
            },
            "marker": {
             "colorbar": {
              "outlinewidth": 0,
              "ticks": ""
             }
            },
            "type": "scatter3d"
           }
          ],
          "scattercarpet": [
           {
            "marker": {
             "colorbar": {
              "outlinewidth": 0,
              "ticks": ""
             }
            },
            "type": "scattercarpet"
           }
          ],
          "scattergeo": [
           {
            "marker": {
             "colorbar": {
              "outlinewidth": 0,
              "ticks": ""
             }
            },
            "type": "scattergeo"
           }
          ],
          "scattergl": [
           {
            "marker": {
             "colorbar": {
              "outlinewidth": 0,
              "ticks": ""
             }
            },
            "type": "scattergl"
           }
          ],
          "scattermapbox": [
           {
            "marker": {
             "colorbar": {
              "outlinewidth": 0,
              "ticks": ""
             }
            },
            "type": "scattermapbox"
           }
          ],
          "scatterpolar": [
           {
            "marker": {
             "colorbar": {
              "outlinewidth": 0,
              "ticks": ""
             }
            },
            "type": "scatterpolar"
           }
          ],
          "scatterpolargl": [
           {
            "marker": {
             "colorbar": {
              "outlinewidth": 0,
              "ticks": ""
             }
            },
            "type": "scatterpolargl"
           }
          ],
          "scatterternary": [
           {
            "marker": {
             "colorbar": {
              "outlinewidth": 0,
              "ticks": ""
             }
            },
            "type": "scatterternary"
           }
          ],
          "surface": [
           {
            "colorbar": {
             "outlinewidth": 0,
             "ticks": ""
            },
            "colorscale": [
             [
              0,
              "#0d0887"
             ],
             [
              0.1111111111111111,
              "#46039f"
             ],
             [
              0.2222222222222222,
              "#7201a8"
             ],
             [
              0.3333333333333333,
              "#9c179e"
             ],
             [
              0.4444444444444444,
              "#bd3786"
             ],
             [
              0.5555555555555556,
              "#d8576b"
             ],
             [
              0.6666666666666666,
              "#ed7953"
             ],
             [
              0.7777777777777778,
              "#fb9f3a"
             ],
             [
              0.8888888888888888,
              "#fdca26"
             ],
             [
              1,
              "#f0f921"
             ]
            ],
            "type": "surface"
           }
          ],
          "table": [
           {
            "cells": {
             "fill": {
              "color": "#EBF0F8"
             },
             "line": {
              "color": "white"
             }
            },
            "header": {
             "fill": {
              "color": "#C8D4E3"
             },
             "line": {
              "color": "white"
             }
            },
            "type": "table"
           }
          ]
         },
         "layout": {
          "annotationdefaults": {
           "arrowcolor": "#2a3f5f",
           "arrowhead": 0,
           "arrowwidth": 1
          },
          "autotypenumbers": "strict",
          "coloraxis": {
           "colorbar": {
            "outlinewidth": 0,
            "ticks": ""
           }
          },
          "colorscale": {
           "diverging": [
            [
             0,
             "#8e0152"
            ],
            [
             0.1,
             "#c51b7d"
            ],
            [
             0.2,
             "#de77ae"
            ],
            [
             0.3,
             "#f1b6da"
            ],
            [
             0.4,
             "#fde0ef"
            ],
            [
             0.5,
             "#f7f7f7"
            ],
            [
             0.6,
             "#e6f5d0"
            ],
            [
             0.7,
             "#b8e186"
            ],
            [
             0.8,
             "#7fbc41"
            ],
            [
             0.9,
             "#4d9221"
            ],
            [
             1,
             "#276419"
            ]
           ],
           "sequential": [
            [
             0,
             "#0d0887"
            ],
            [
             0.1111111111111111,
             "#46039f"
            ],
            [
             0.2222222222222222,
             "#7201a8"
            ],
            [
             0.3333333333333333,
             "#9c179e"
            ],
            [
             0.4444444444444444,
             "#bd3786"
            ],
            [
             0.5555555555555556,
             "#d8576b"
            ],
            [
             0.6666666666666666,
             "#ed7953"
            ],
            [
             0.7777777777777778,
             "#fb9f3a"
            ],
            [
             0.8888888888888888,
             "#fdca26"
            ],
            [
             1,
             "#f0f921"
            ]
           ],
           "sequentialminus": [
            [
             0,
             "#0d0887"
            ],
            [
             0.1111111111111111,
             "#46039f"
            ],
            [
             0.2222222222222222,
             "#7201a8"
            ],
            [
             0.3333333333333333,
             "#9c179e"
            ],
            [
             0.4444444444444444,
             "#bd3786"
            ],
            [
             0.5555555555555556,
             "#d8576b"
            ],
            [
             0.6666666666666666,
             "#ed7953"
            ],
            [
             0.7777777777777778,
             "#fb9f3a"
            ],
            [
             0.8888888888888888,
             "#fdca26"
            ],
            [
             1,
             "#f0f921"
            ]
           ]
          },
          "colorway": [
           "#636efa",
           "#EF553B",
           "#00cc96",
           "#ab63fa",
           "#FFA15A",
           "#19d3f3",
           "#FF6692",
           "#B6E880",
           "#FF97FF",
           "#FECB52"
          ],
          "font": {
           "color": "#2a3f5f"
          },
          "geo": {
           "bgcolor": "white",
           "lakecolor": "white",
           "landcolor": "#E5ECF6",
           "showlakes": true,
           "showland": true,
           "subunitcolor": "white"
          },
          "hoverlabel": {
           "align": "left"
          },
          "hovermode": "closest",
          "mapbox": {
           "style": "light"
          },
          "paper_bgcolor": "white",
          "plot_bgcolor": "#E5ECF6",
          "polar": {
           "angularaxis": {
            "gridcolor": "white",
            "linecolor": "white",
            "ticks": ""
           },
           "bgcolor": "#E5ECF6",
           "radialaxis": {
            "gridcolor": "white",
            "linecolor": "white",
            "ticks": ""
           }
          },
          "scene": {
           "xaxis": {
            "backgroundcolor": "#E5ECF6",
            "gridcolor": "white",
            "gridwidth": 2,
            "linecolor": "white",
            "showbackground": true,
            "ticks": "",
            "zerolinecolor": "white"
           },
           "yaxis": {
            "backgroundcolor": "#E5ECF6",
            "gridcolor": "white",
            "gridwidth": 2,
            "linecolor": "white",
            "showbackground": true,
            "ticks": "",
            "zerolinecolor": "white"
           },
           "zaxis": {
            "backgroundcolor": "#E5ECF6",
            "gridcolor": "white",
            "gridwidth": 2,
            "linecolor": "white",
            "showbackground": true,
            "ticks": "",
            "zerolinecolor": "white"
           }
          },
          "shapedefaults": {
           "line": {
            "color": "#2a3f5f"
           }
          },
          "ternary": {
           "aaxis": {
            "gridcolor": "white",
            "linecolor": "white",
            "ticks": ""
           },
           "baxis": {
            "gridcolor": "white",
            "linecolor": "white",
            "ticks": ""
           },
           "bgcolor": "#E5ECF6",
           "caxis": {
            "gridcolor": "white",
            "linecolor": "white",
            "ticks": ""
           }
          },
          "title": {
           "x": 0.05
          },
          "xaxis": {
           "automargin": true,
           "gridcolor": "white",
           "linecolor": "white",
           "ticks": "",
           "title": {
            "standoff": 15
           },
           "zerolinecolor": "white",
           "zerolinewidth": 2
          },
          "yaxis": {
           "automargin": true,
           "gridcolor": "white",
           "linecolor": "white",
           "ticks": "",
           "title": {
            "standoff": 15
           },
           "zerolinecolor": "white",
           "zerolinewidth": 2
          }
         }
        },
        "title": {
         "font": {
          "family": "monospace"
         },
         "text": "Top 10 Companies Based on Ratings and Reviews",
         "x": 0.5
        }
       }
      },
      "image/png": "[encoded data removed]",
      "text/html": [
       "<div>                            <div id=\"7a27d001-97be-4ea3-969a-bf6bad8ea436\" class=\"plotly-graph-div\" style=\"height:525px; width:100%;\"></div>            <script type=\"text/javascript\">                require([\"plotly\"], function(Plotly) {                    window.PLOTLYENV=window.PLOTLYENV || {};                                    if (document.getElementById(\"7a27d001-97be-4ea3-969a-bf6bad8ea436\")) {                    Plotly.newPlot(                        \"7a27d001-97be-4ea3-969a-bf6bad8ea436\",                        [{\"customdata\":[[45147.090000000004,1.0],[39305.21000000001,0.7539152376017828],[35199.4,0.5809611066880658],[30132.4,0.36751757633965615],[28916.510000000002,0.31629913266187293],[21637.31,0.009668355848740292],[21637.31,0.009668355848740292],[21637.31,0.009668355848740292],[21620.21,0.008948031323585709],[21407.79,0.0]],\"domain\":{\"x\":[0.0,1.0],\"y\":[0.0,1.0]},\"hovertemplate\":\"company=%{label}\\u003cbr\\u003efilter=%{customdata[0]}\\u003cbr\\u003ecolor=%{customdata[1]}\\u003cextra\\u003e\\u003c\\u002fextra\\u003e\",\"labels\":[\"Tata Consultancy Services (TCS)\",\"Reliance Industries (RIL)\",\"Hdfc Bank\",\"Icici Bank\",\"Accenture\",\"Larsen & Toubro (L&T)\",\"L & T Infrastructure Engineering Limited\",\"L&T Infrastructure Engineering Limited\",\"L&T Technology Services\",\"Capgemini\"],\"legendgroup\":\"\",\"marker\":{\"colors\":[\"rgb(8,48,107)\",\"rgb(8,81,156)\",\"rgb(33,113,181)\",\"rgb(66,146,198)\",\"rgb(107,174,214)\",\"rgb(158,202,225)\",\"rgb(158,202,225)\",\"rgb(158,202,225)\",\"rgb(198,219,239)\",\"rgb(222,235,247)\"]},\"name\":\"\",\"showlegend\":true,\"values\":[45147.090000000004,39305.21000000001,35199.4,30132.4,28916.510000000002,21637.31,21637.31,21637.31,21620.21,21407.79],\"type\":\"pie\",\"hoverinfo\":\"label+percent+value\",\"pull\":[0.05,0,0,0,0,0,0,0,0,0],\"textinfo\":\"percent\",\"textposition\":\"outside\"}],                        {\"template\":{\"data\":{\"histogram2dcontour\":[{\"type\":\"histogram2dcontour\",\"colorbar\":{\"outlinewidth\":0,\"ticks\":\"\"},\"colorscale\":[[0.0,\"#0d0887\"],[0.1111111111111111,\"#46039f\"],[0.2222222222222222,\"#7201a8\"],[0.3333333333333333,\"#9c179e\"],[0.4444444444444444,\"#bd3786\"],[0.5555555555555556,\"#d8576b\"],[0.6666666666666666,\"#ed7953\"],[0.7777777777777778,\"#fb9f3a\"],[0.8888888888888888,\"#fdca26\"],[1.0,\"#f0f921\"]]}],\"choropleth\":[{\"type\":\"choropleth\",\"colorbar\":{\"outlinewidth\":0,\"ticks\":\"\"}}],\"histogram2d\":[{\"type\":\"histogram2d\",\"colorbar\":{\"outlinewidth\":0,\"ticks\":\"\"},\"colorscale\":[[0.0,\"#0d0887\"],[0.1111111111111111,\"#46039f\"],[0.2222222222222222,\"#7201a8\"],[0.3333333333333333,\"#9c179e\"],[0.4444444444444444,\"#bd3786\"],[0.5555555555555556,\"#d8576b\"],[0.6666666666666666,\"#ed7953\"],[0.7777777777777778,\"#fb9f3a\"],[0.8888888888888888,\"#fdca26\"],[1.0,\"#f0f921\"]]}],\"heatmap\":[{\"type\":\"heatmap\",\"colorbar\":{\"outlinewidth\":0,\"ticks\":\"\"},\"colorscale\":[[0.0,\"#0d0887\"],[0.1111111111111111,\"#46039f\"],[0.2222222222222222,\"#7201a8\"],[0.3333333333333333,\"#9c179e\"],[0.4444444444444444,\"#bd3786\"],[0.5555555555555556,\"#d8576b\"],[0.6666666666666666,\"#ed7953\"],[0.7777777777777778,\"#fb9f3a\"],[0.8888888888888888,\"#fdca26\"],[1.0,\"#f0f921\"]]}],\"heatmapgl\":[{\"type\":\"heatmapgl\",\"colorbar\":{\"outlinewidth\":0,\"ticks\":\"\"},\"colorscale\":[[0.0,\"#0d0887\"],[0.1111111111111111,\"#46039f\"],[0.2222222222222222,\"#7201a8\"],[0.3333333333333333,\"#9c179e\"],[0.4444444444444444,\"#bd3786\"],[0.5555555555555556,\"#d8576b\"],[0.6666666666666666,\"#ed7953\"],[0.7777777777777778,\"#fb9f3a\"],[0.8888888888888888,\"#fdca26\"],[1.0,\"#f0f921\"]]}],\"contourcarpet\":[{\"type\":\"contourcarpet\",\"colorbar\":{\"outlinewidth\":0,\"ticks\":\"\"}}],\"contour\":[{\"type\":\"contour\",\"colorbar\":{\"outlinewidth\":0,\"ticks\":\"\"},\"colorscale\":[[0.0,\"#0d0887\"],[0.1111111111111111,\"#46039f\"],[0.2222222222222222,\"#7201a8\"],[0.3333333333333333,\"#9c179e\"],[0.4444444444444444,\"#bd3786\"],[0.5555555555555556,\"#d8576b\"],[0.6666666666666666,\"#ed7953\"],[0.7777777777777778,\"#fb9f3a\"],[0.8888888888888888,\"#fdca26\"],[1.0,\"#f0f921\"]]}],\"surface\":[{\"type\":\"surface\",\"colorbar\":{\"outlinewidth\":0,\"ticks\":\"\"},\"colorscale\":[[0.0,\"#0d0887\"],[0.1111111111111111,\"#46039f\"],[0.2222222222222222,\"#7201a8\"],[0.3333333333333333,\"#9c179e\"],[0.4444444444444444,\"#bd3786\"],[0.5555555555555556,\"#d8576b\"],[0.6666666666666666,\"#ed7953\"],[0.7777777777777778,\"#fb9f3a\"],[0.8888888888888888,\"#fdca26\"],[1.0,\"#f0f921\"]]}],\"mesh3d\":[{\"type\":\"mesh3d\",\"colorbar\":{\"outlinewidth\":0,\"ticks\":\"\"}}],\"scatter\":[{\"fillpattern\":{\"fillmode\":\"overlay\",\"size\":10,\"solidity\":0.2},\"type\":\"scatter\"}],\"parcoords\":[{\"type\":\"parcoords\",\"line\":{\"colorbar\":{\"outlinewidth\":0,\"ticks\":\"\"}}}],\"scatterpolargl\":[{\"type\":\"scatterpolargl\",\"marker\":{\"colorbar\":{\"outlinewidth\":0,\"ticks\":\"\"}}}],\"bar\":[{\"error_x\":{\"color\":\"#2a3f5f\"},\"error_y\":{\"color\":\"#2a3f5f\"},\"marker\":{\"line\":{\"color\":\"#E5ECF6\",\"width\":0.5},\"pattern\":{\"fillmode\":\"overlay\",\"size\":10,\"solidity\":0.2}},\"type\":\"bar\"}],\"scattergeo\":[{\"type\":\"scattergeo\",\"marker\":{\"colorbar\":{\"outlinewidth\":0,\"ticks\":\"\"}}}],\"scatterpolar\":[{\"type\":\"scatterpolar\",\"marker\":{\"colorbar\":{\"outlinewidth\":0,\"ticks\":\"\"}}}],\"histogram\":[{\"marker\":{\"pattern\":{\"fillmode\":\"overlay\",\"size\":10,\"solidity\":0.2}},\"type\":\"histogram\"}],\"scattergl\":[{\"type\":\"scattergl\",\"marker\":{\"colorbar\":{\"outlinewidth\":0,\"ticks\":\"\"}}}],\"scatter3d\":[{\"type\":\"scatter3d\",\"line\":{\"colorbar\":{\"outlinewidth\":0,\"ticks\":\"\"}},\"marker\":{\"colorbar\":{\"outlinewidth\":0,\"ticks\":\"\"}}}],\"scattermapbox\":[{\"type\":\"scattermapbox\",\"marker\":{\"colorbar\":{\"outlinewidth\":0,\"ticks\":\"\"}}}],\"scatterternary\":[{\"type\":\"scatterternary\",\"marker\":{\"colorbar\":{\"outlinewidth\":0,\"ticks\":\"\"}}}],\"scattercarpet\":[{\"type\":\"scattercarpet\",\"marker\":{\"colorbar\":{\"outlinewidth\":0,\"ticks\":\"\"}}}],\"carpet\":[{\"aaxis\":{\"endlinecolor\":\"#2a3f5f\",\"gridcolor\":\"white\",\"linecolor\":\"white\",\"minorgridcolor\":\"white\",\"startlinecolor\":\"#2a3f5f\"},\"baxis\":{\"endlinecolor\":\"#2a3f5f\",\"gridcolor\":\"white\",\"linecolor\":\"white\",\"minorgridcolor\":\"white\",\"startlinecolor\":\"#2a3f5f\"},\"type\":\"carpet\"}],\"table\":[{\"cells\":{\"fill\":{\"color\":\"#EBF0F8\"},\"line\":{\"color\":\"white\"}},\"header\":{\"fill\":{\"color\":\"#C8D4E3\"},\"line\":{\"color\":\"white\"}},\"type\":\"table\"}],\"barpolar\":[{\"marker\":{\"line\":{\"color\":\"#E5ECF6\",\"width\":0.5},\"pattern\":{\"fillmode\":\"overlay\",\"size\":10,\"solidity\":0.2}},\"type\":\"barpolar\"}],\"pie\":[{\"automargin\":true,\"type\":\"pie\"}]},\"layout\":{\"autotypenumbers\":\"strict\",\"colorway\":[\"#636efa\",\"#EF553B\",\"#00cc96\",\"#ab63fa\",\"#FFA15A\",\"#19d3f3\",\"#FF6692\",\"#B6E880\",\"#FF97FF\",\"#FECB52\"],\"font\":{\"color\":\"#2a3f5f\"},\"hovermode\":\"closest\",\"hoverlabel\":{\"align\":\"left\"},\"paper_bgcolor\":\"white\",\"plot_bgcolor\":\"#E5ECF6\",\"polar\":{\"bgcolor\":\"#E5ECF6\",\"angularaxis\":{\"gridcolor\":\"white\",\"linecolor\":\"white\",\"ticks\":\"\"},\"radialaxis\":{\"gridcolor\":\"white\",\"linecolor\":\"white\",\"ticks\":\"\"}},\"ternary\":{\"bgcolor\":\"#E5ECF6\",\"aaxis\":{\"gridcolor\":\"white\",\"linecolor\":\"white\",\"ticks\":\"\"},\"baxis\":{\"gridcolor\":\"white\",\"linecolor\":\"white\",\"ticks\":\"\"},\"caxis\":{\"gridcolor\":\"white\",\"linecolor\":\"white\",\"ticks\":\"\"}},\"coloraxis\":{\"colorbar\":{\"outlinewidth\":0,\"ticks\":\"\"}},\"colorscale\":{\"sequential\":[[0.0,\"#0d0887\"],[0.1111111111111111,\"#46039f\"],[0.2222222222222222,\"#7201a8\"],[0.3333333333333333,\"#9c179e\"],[0.4444444444444444,\"#bd3786\"],[0.5555555555555556,\"#d8576b\"],[0.6666666666666666,\"#ed7953\"],[0.7777777777777778,\"#fb9f3a\"],[0.8888888888888888,\"#fdca26\"],[1.0,\"#f0f921\"]],\"sequentialminus\":[[0.0,\"#0d0887\"],[0.1111111111111111,\"#46039f\"],[0.2222222222222222,\"#7201a8\"],[0.3333333333333333,\"#9c179e\"],[0.4444444444444444,\"#bd3786\"],[0.5555555555555556,\"#d8576b\"],[0.6666666666666666,\"#ed7953\"],[0.7777777777777778,\"#fb9f3a\"],[0.8888888888888888,\"#fdca26\"],[1.0,\"#f0f921\"]],\"diverging\":[[0,\"#8e0152\"],[0.1,\"#c51b7d\"],[0.2,\"#de77ae\"],[0.3,\"#f1b6da\"],[0.4,\"#fde0ef\"],[0.5,\"#f7f7f7\"],[0.6,\"#e6f5d0\"],[0.7,\"#b8e186\"],[0.8,\"#7fbc41\"],[0.9,\"#4d9221\"],[1,\"#276419\"]]},\"xaxis\":{\"gridcolor\":\"white\",\"linecolor\":\"white\",\"ticks\":\"\",\"title\":{\"standoff\":15},\"zerolinecolor\":\"white\",\"automargin\":true,\"zerolinewidth\":2},\"yaxis\":{\"gridcolor\":\"white\",\"linecolor\":\"white\",\"ticks\":\"\",\"title\":{\"standoff\":15},\"zerolinecolor\":\"white\",\"automargin\":true,\"zerolinewidth\":2},\"scene\":{\"xaxis\":{\"backgroundcolor\":\"#E5ECF6\",\"gridcolor\":\"white\",\"linecolor\":\"white\",\"showbackground\":true,\"ticks\":\"\",\"zerolinecolor\":\"white\",\"gridwidth\":2},\"yaxis\":{\"backgroundcolor\":\"#E5ECF6\",\"gridcolor\":\"white\",\"linecolor\":\"white\",\"showbackground\":true,\"ticks\":\"\",\"zerolinecolor\":\"white\",\"gridwidth\":2},\"zaxis\":{\"backgroundcolor\":\"#E5ECF6\",\"gridcolor\":\"white\",\"linecolor\":\"white\",\"showbackground\":true,\"ticks\":\"\",\"zerolinecolor\":\"white\",\"gridwidth\":2}},\"shapedefaults\":{\"line\":{\"color\":\"#2a3f5f\"}},\"annotationdefaults\":{\"arrowcolor\":\"#2a3f5f\",\"arrowhead\":0,\"arrowwidth\":1},\"geo\":{\"bgcolor\":\"white\",\"landcolor\":\"#E5ECF6\",\"subunitcolor\":\"white\",\"showland\":true,\"showlakes\":true,\"lakecolor\":\"white\"},\"title\":{\"x\":0.05},\"mapbox\":{\"style\":\"light\"}}},\"legend\":{\"tracegroupgap\":0},\"title\":{\"text\":\"Top 10 Companies Based on Ratings and Reviews\",\"font\":{\"family\":\"monospace\"},\"x\":0.5},\"piecolorway\":[\"rgb(8,48,107)\",\"rgb(8,81,156)\",\"rgb(33,113,181)\",\"rgb(66,146,198)\",\"rgb(107,174,214)\",\"rgb(158,202,225)\",\"rgb(198,219,239)\",\"rgb(222,235,247)\",\"rgb(247,251,255)\"],\"margin\":{\"t\":80,\"b\":20,\"l\":20,\"r\":20},\"showlegend\":true},                        {\"responsive\": true}                    ).then(function(){\n",
       "                            \n",
       "var gd = document.getElementById('7a27d001-97be-4ea3-969a-bf6bad8ea436');\n",
       "var x = new MutationObserver(function (mutations, observer) {{\n",
       "        var display = window.getComputedStyle(gd).display;\n",
       "        if (!display || display === 'none') {{\n",
       "            console.log([gd, 'removed!']);\n",
       "            Plotly.purge(gd);\n",
       "            observer.disconnect();\n",
       "        }}\n",
       "}});\n",
       "\n",
       "// Listen for the removal of the full notebook cells\n",
       "var notebookContainer = gd.closest('#notebook-container');\n",
       "if (notebookContainer) {{\n",
       "    x.observe(notebookContainer, {childList: true});\n",
       "}}\n",
       "\n",
       "// Listen for the clearing of the current output cell\n",
       "var outputEl = gd.closest('.output');\n",
       "if (outputEl) {{\n",
       "    x.observe(outputEl, {childList: true});\n",
       "}}\n",
       "\n",
       "                        })                };                });            </script>        </div>"
      ]
     },
     "metadata": {},
     "output_type": "display_data"
    }
   ],
   "source": [
    "import plotly.express as px\n",
    "import pandas as pd\n",
    "\n",
    "# Assuming 'df' is your DataFrame and it has been defined earlier\n",
    "filter = df.groupby(['company'])['rating_review_filter'].min().sort_values(ascending=False).head(10)\n",
    "filter = filter.reset_index()\n",
    "filter.columns = ['company', 'filter']\n",
    "\n",
    "# Normalize the color values to range from 0 to 1\n",
    "filter['color'] = (filter['filter'] - filter['filter'].min()) / (filter['filter'].max() - filter['filter'].min())\n",
    "\n",
    "# Create an interactive pie chart with Plotly\n",
    "fig = px.pie(\n",
    "    filter,\n",
    "    values='filter',\n",
    "    names='company',\n",
    "    title='Top 10 Companies Based on Ratings and Reviews',\n",
    "    color='color',  # Use the normalized color for the pie slices\n",
    "    color_discrete_sequence=px.colors.sequential.Blues_r,  # Using reversed blues color scheme\n",
    "    hover_data=['filter']  # Show filter value on hover\n",
    ")\n",
    "\n",
    "# Update layout for better appearance\n",
    "fig.update_layout(\n",
    "    title_font_family=\"monospace\",\n",
    "    title_x=0.5,  # Center the title\n",
    "    margin=dict(t=80, b=20, l=20, r=20)\n",
    ")\n",
    "\n",
    "# Make the chart interactive with labels outside and percentages inside\n",
    "fig.update_traces(\n",
    "    textposition='outside',  # Put labels outside\n",
    "    textinfo='percent',      # Show only percentages inside\n",
    "    hoverinfo='label+percent+value',\n",
    "    pull=[0.05 if i == 0 else 0 for i in range(len(filter))]  # Pull out the first slice slightly\n",
    ")\n",
    "\n",
    "# Add the labels to the legend instead of on the pie\n",
    "fig.update_layout(showlegend=True)\n",
    "\n",
    "# Show the figure\n",
    "fig.show()\n"
   ]
  },
  {
   "cell_type": "markdown",
   "id": "14107470-0a78-47e9-9ead-a24c3f54db01",
   "metadata": {},
   "source": [
    "### Companies hiring for data analyst\n"
   ]
  },
  {
   "cell_type": "code",
   "execution_count": 106,
   "id": "5ad46556-adee-4998-ab06-24b4bf6309bd",
   "metadata": {},
   "outputs": [
    {
     "data": {
      "text/plain": [
       "59"
      ]
     },
     "execution_count": 106,
     "metadata": {},
     "output_type": "execute_result"
    }
   ],
   "source": [
    "data_analyst_df = df[df['job_role'] == 'Data Analyst']\n",
    "len(data_analyst_df)"
   ]
  },
  {
   "cell_type": "code",
   "execution_count": 107,
   "id": "b8c0fda4-7d95-4bc9-9451-ab4dbb6015d1",
   "metadata": {},
   "outputs": [
    {
     "data": {
      "text/html": [
       "<div>\n",
       "<style scoped>\n",
       "    .dataframe tbody tr th:only-of-type {\n",
       "        vertical-align: middle;\n",
       "    }\n",
       "\n",
       "    .dataframe tbody tr th {\n",
       "        vertical-align: top;\n",
       "    }\n",
       "\n",
       "    .dataframe thead th {\n",
       "        text-align: right;\n",
       "    }\n",
       "</style>\n",
       "<table border=\"1\" class=\"dataframe\">\n",
       "  <thead>\n",
       "    <tr style=\"text-align: right;\">\n",
       "      <th></th>\n",
       "      <th>company</th>\n",
       "      <th>job_role</th>\n",
       "    </tr>\n",
       "  </thead>\n",
       "  <tbody>\n",
       "    <tr>\n",
       "      <th>24</th>\n",
       "      <td>NatWest Markets</td>\n",
       "      <td>2</td>\n",
       "    </tr>\n",
       "    <tr>\n",
       "      <th>5</th>\n",
       "      <td>CliqHR Recruitment Services</td>\n",
       "      <td>2</td>\n",
       "    </tr>\n",
       "    <tr>\n",
       "      <th>23</th>\n",
       "      <td>Megma Services</td>\n",
       "      <td>2</td>\n",
       "    </tr>\n",
       "    <tr>\n",
       "      <th>33</th>\n",
       "      <td>Quess It Staffing</td>\n",
       "      <td>2</td>\n",
       "    </tr>\n",
       "    <tr>\n",
       "      <th>44</th>\n",
       "      <td>Target</td>\n",
       "      <td>2</td>\n",
       "    </tr>\n",
       "    <tr>\n",
       "      <th>36</th>\n",
       "      <td>Radical Technologies</td>\n",
       "      <td>2</td>\n",
       "    </tr>\n",
       "    <tr>\n",
       "      <th>0</th>\n",
       "      <td>24dimensions</td>\n",
       "      <td>1</td>\n",
       "    </tr>\n",
       "    <tr>\n",
       "      <th>39</th>\n",
       "      <td>S&amp;P Global Inc.</td>\n",
       "      <td>1</td>\n",
       "    </tr>\n",
       "    <tr>\n",
       "      <th>30</th>\n",
       "      <td>Prohub Technologies</td>\n",
       "      <td>1</td>\n",
       "    </tr>\n",
       "    <tr>\n",
       "      <th>31</th>\n",
       "      <td>PubMatic</td>\n",
       "      <td>1</td>\n",
       "    </tr>\n",
       "  </tbody>\n",
       "</table>\n",
       "</div>"
      ],
      "text/plain": [
       "                        company  job_role\n",
       "24              NatWest Markets         2\n",
       "5   CliqHR Recruitment Services         2\n",
       "23               Megma Services         2\n",
       "33            Quess It Staffing         2\n",
       "44                       Target         2\n",
       "36         Radical Technologies         2\n",
       "0                  24dimensions         1\n",
       "39              S&P Global Inc.         1\n",
       "30          Prohub Technologies         1\n",
       "31                     PubMatic         1"
      ]
     },
     "execution_count": 107,
     "metadata": {},
     "output_type": "execute_result"
    }
   ],
   "source": [
    "data_analyst_df.groupby(['company'])['job_role'].size().reset_index().sort_values(by = 'job_role', ascending = False)[:10]"
   ]
  },
  {
   "cell_type": "code",
   "execution_count": 103,
   "id": "740aed2c-bf7c-41f8-a831-a227c97744ab",
   "metadata": {},
   "outputs": [
    {
     "data": {
      "text/html": [
       "<div>\n",
       "<style scoped>\n",
       "    .dataframe tbody tr th:only-of-type {\n",
       "        vertical-align: middle;\n",
       "    }\n",
       "\n",
       "    .dataframe tbody tr th {\n",
       "        vertical-align: top;\n",
       "    }\n",
       "\n",
       "    .dataframe thead th {\n",
       "        text-align: right;\n",
       "    }\n",
       "</style>\n",
       "<table border=\"1\" class=\"dataframe\">\n",
       "  <thead>\n",
       "    <tr style=\"text-align: right;\">\n",
       "      <th></th>\n",
       "      <th>company</th>\n",
       "      <th>rating_review_filter</th>\n",
       "    </tr>\n",
       "  </thead>\n",
       "  <tbody>\n",
       "    <tr>\n",
       "      <th>13180</th>\n",
       "      <td>Tata Consultancy Services (TCS)</td>\n",
       "      <td>0.001116</td>\n",
       "    </tr>\n",
       "    <tr>\n",
       "      <th>10826</th>\n",
       "      <td>Reliance Industries (RIL)</td>\n",
       "      <td>0.001022</td>\n",
       "    </tr>\n",
       "    <tr>\n",
       "      <th>5595</th>\n",
       "      <td>Hdfc Bank</td>\n",
       "      <td>0.000893</td>\n",
       "    </tr>\n",
       "    <tr>\n",
       "      <th>6091</th>\n",
       "      <td>Icici Bank</td>\n",
       "      <td>0.000764</td>\n",
       "    </tr>\n",
       "    <tr>\n",
       "      <th>377</th>\n",
       "      <td>Accenture</td>\n",
       "      <td>0.000752</td>\n",
       "    </tr>\n",
       "    <tr>\n",
       "      <th>7416</th>\n",
       "      <td>L &amp; T Infrastructure Engineering Limited</td>\n",
       "      <td>0.000562</td>\n",
       "    </tr>\n",
       "    <tr>\n",
       "      <th>7422</th>\n",
       "      <td>L&amp;T Infrastructure Engineering Limited</td>\n",
       "      <td>0.000562</td>\n",
       "    </tr>\n",
       "    <tr>\n",
       "      <th>7511</th>\n",
       "      <td>Larsen &amp; Toubro (L&amp;T)</td>\n",
       "      <td>0.000562</td>\n",
       "    </tr>\n",
       "    <tr>\n",
       "      <th>7423</th>\n",
       "      <td>L&amp;T Technology Services</td>\n",
       "      <td>0.000562</td>\n",
       "    </tr>\n",
       "    <tr>\n",
       "      <th>2479</th>\n",
       "      <td>Capgemini</td>\n",
       "      <td>0.000529</td>\n",
       "    </tr>\n",
       "  </tbody>\n",
       "</table>\n",
       "</div>"
      ],
      "text/plain": [
       "                                        company  rating_review_filter\n",
       "13180           Tata Consultancy Services (TCS)              0.001116\n",
       "10826                 Reliance Industries (RIL)              0.001022\n",
       "5595                                  Hdfc Bank              0.000893\n",
       "6091                                 Icici Bank              0.000764\n",
       "377                                   Accenture              0.000752\n",
       "7416   L & T Infrastructure Engineering Limited              0.000562\n",
       "7422     L&T Infrastructure Engineering Limited              0.000562\n",
       "7511                      Larsen & Toubro (L&T)              0.000562\n",
       "7423                    L&T Technology Services              0.000562\n",
       "2479                                  Capgemini              0.000529"
      ]
     },
     "execution_count": 103,
     "metadata": {},
     "output_type": "execute_result"
    }
   ],
   "source": [
    "df.groupby(['company'])['rating_review_filter'].min().reset_index().sort_values(by = 'rating_review_filter', ascending = False).head(10)"
   ]
  },
  {
   "cell_type": "markdown",
   "id": "52f54023-e4ef-4d40-9bb2-cff74b795ba0",
   "metadata": {},
   "source": [
    "### Skills needed for almost all the jobs"
   ]
  },
  {
   "cell_type": "code",
   "execution_count": 108,
   "id": "6b24db0a-236d-453e-9c77-a38a4b15bf1c",
   "metadata": {},
   "outputs": [],
   "source": [
    "# we need to find which responsibility has the highest frequency"
   ]
  },
  {
   "cell_type": "code",
   "execution_count": 109,
   "id": "beab9354-0e1f-46ee-a1ca-4c2c27f8bd78",
   "metadata": {},
   "outputs": [],
   "source": [
    "df.rename(columns = {'resposibilities': 'responsibilities'}, inplace = True)"
   ]
  },
  {
   "cell_type": "markdown",
   "id": "d16964d0-d864-46cb-8b0c-95d04c578053",
   "metadata": {},
   "source": [
    "according to the data most of the common skills needed for jobs on Naukri are shown below"
   ]
  },
  {
   "cell_type": "code",
   "execution_count": 110,
   "id": "0027ee91-139f-4a85-a9d3-94ce5ef85338",
   "metadata": {},
   "outputs": [
    {
     "data": {
      "application/vnd.plotly.v1+json": {
       "config": {
        "plotlyServerURL": "https://plot.ly"
       },
       "data": [
        {
         "alignmentgroup": "True",
         "hovertemplate": "skills=%{x}<br>count of occurances=%{marker.color}<extra></extra>",
         "legendgroup": "",
         "marker": {
          "color": [
           5851,
           3482,
           3450,
           3310,
           3276,
           3177,
           2617,
           2607,
           2549,
           2513,
           2456,
           2435,
           2258,
           2257,
           2170
          ],
          "coloraxis": "coloraxis",
          "pattern": {
           "shape": ""
          }
         },
         "name": "",
         "offsetgroup": "",
         "orientation": "v",
         "showlegend": false,
         "textposition": "auto",
         "type": "bar",
         "x": [
          "sales",
          "communication",
          "agency",
          "tied",
          "customer service",
          "training",
          "team handling",
          "javascript",
          "agency channel",
          "java",
          "analytical",
          "business development",
          "communication skills",
          "bfsi",
          "consulting"
         ],
         "xaxis": "x",
         "y": [
          5851,
          3482,
          3450,
          3310,
          3276,
          3177,
          2617,
          2607,
          2549,
          2513,
          2456,
          2435,
          2258,
          2257,
          2170
         ],
         "yaxis": "y"
        }
       ],
       "layout": {
        "autosize": true,
        "barmode": "relative",
        "coloraxis": {
         "colorbar": {
          "title": {
           "text": "count of occurances"
          }
         },
         "colorscale": [
          [
           0,
           "rgb(247,251,255)"
          ],
          [
           0.125,
           "rgb(222,235,247)"
          ],
          [
           0.25,
           "rgb(198,219,239)"
          ],
          [
           0.375,
           "rgb(158,202,225)"
          ],
          [
           0.5,
           "rgb(107,174,214)"
          ],
          [
           0.625,
           "rgb(66,146,198)"
          ],
          [
           0.75,
           "rgb(33,113,181)"
          ],
          [
           0.875,
           "rgb(8,81,156)"
          ],
          [
           1,
           "rgb(8,48,107)"
          ]
         ]
        },
        "legend": {
         "tracegroupgap": 0
        },
        "template": {
         "data": {
          "bar": [
           {
            "error_x": {
             "color": "#2a3f5f"
            },
            "error_y": {
             "color": "#2a3f5f"
            },
            "marker": {
             "line": {
              "color": "#E5ECF6",
              "width": 0.5
             },
             "pattern": {
              "fillmode": "overlay",
              "size": 10,
              "solidity": 0.2
             }
            },
            "type": "bar"
           }
          ],
          "barpolar": [
           {
            "marker": {
             "line": {
              "color": "#E5ECF6",
              "width": 0.5
             },
             "pattern": {
              "fillmode": "overlay",
              "size": 10,
              "solidity": 0.2
             }
            },
            "type": "barpolar"
           }
          ],
          "carpet": [
           {
            "aaxis": {
             "endlinecolor": "#2a3f5f",
             "gridcolor": "white",
             "linecolor": "white",
             "minorgridcolor": "white",
             "startlinecolor": "#2a3f5f"
            },
            "baxis": {
             "endlinecolor": "#2a3f5f",
             "gridcolor": "white",
             "linecolor": "white",
             "minorgridcolor": "white",
             "startlinecolor": "#2a3f5f"
            },
            "type": "carpet"
           }
          ],
          "choropleth": [
           {
            "colorbar": {
             "outlinewidth": 0,
             "ticks": ""
            },
            "type": "choropleth"
           }
          ],
          "contour": [
           {
            "colorbar": {
             "outlinewidth": 0,
             "ticks": ""
            },
            "colorscale": [
             [
              0,
              "#0d0887"
             ],
             [
              0.1111111111111111,
              "#46039f"
             ],
             [
              0.2222222222222222,
              "#7201a8"
             ],
             [
              0.3333333333333333,
              "#9c179e"
             ],
             [
              0.4444444444444444,
              "#bd3786"
             ],
             [
              0.5555555555555556,
              "#d8576b"
             ],
             [
              0.6666666666666666,
              "#ed7953"
             ],
             [
              0.7777777777777778,
              "#fb9f3a"
             ],
             [
              0.8888888888888888,
              "#fdca26"
             ],
             [
              1,
              "#f0f921"
             ]
            ],
            "type": "contour"
           }
          ],
          "contourcarpet": [
           {
            "colorbar": {
             "outlinewidth": 0,
             "ticks": ""
            },
            "type": "contourcarpet"
           }
          ],
          "heatmap": [
           {
            "colorbar": {
             "outlinewidth": 0,
             "ticks": ""
            },
            "colorscale": [
             [
              0,
              "#0d0887"
             ],
             [
              0.1111111111111111,
              "#46039f"
             ],
             [
              0.2222222222222222,
              "#7201a8"
             ],
             [
              0.3333333333333333,
              "#9c179e"
             ],
             [
              0.4444444444444444,
              "#bd3786"
             ],
             [
              0.5555555555555556,
              "#d8576b"
             ],
             [
              0.6666666666666666,
              "#ed7953"
             ],
             [
              0.7777777777777778,
              "#fb9f3a"
             ],
             [
              0.8888888888888888,
              "#fdca26"
             ],
             [
              1,
              "#f0f921"
             ]
            ],
            "type": "heatmap"
           }
          ],
          "heatmapgl": [
           {
            "colorbar": {
             "outlinewidth": 0,
             "ticks": ""
            },
            "colorscale": [
             [
              0,
              "#0d0887"
             ],
             [
              0.1111111111111111,
              "#46039f"
             ],
             [
              0.2222222222222222,
              "#7201a8"
             ],
             [
              0.3333333333333333,
              "#9c179e"
             ],
             [
              0.4444444444444444,
              "#bd3786"
             ],
             [
              0.5555555555555556,
              "#d8576b"
             ],
             [
              0.6666666666666666,
              "#ed7953"
             ],
             [
              0.7777777777777778,
              "#fb9f3a"
             ],
             [
              0.8888888888888888,
              "#fdca26"
             ],
             [
              1,
              "#f0f921"
             ]
            ],
            "type": "heatmapgl"
           }
          ],
          "histogram": [
           {
            "marker": {
             "pattern": {
              "fillmode": "overlay",
              "size": 10,
              "solidity": 0.2
             }
            },
            "type": "histogram"
           }
          ],
          "histogram2d": [
           {
            "colorbar": {
             "outlinewidth": 0,
             "ticks": ""
            },
            "colorscale": [
             [
              0,
              "#0d0887"
             ],
             [
              0.1111111111111111,
              "#46039f"
             ],
             [
              0.2222222222222222,
              "#7201a8"
             ],
             [
              0.3333333333333333,
              "#9c179e"
             ],
             [
              0.4444444444444444,
              "#bd3786"
             ],
             [
              0.5555555555555556,
              "#d8576b"
             ],
             [
              0.6666666666666666,
              "#ed7953"
             ],
             [
              0.7777777777777778,
              "#fb9f3a"
             ],
             [
              0.8888888888888888,
              "#fdca26"
             ],
             [
              1,
              "#f0f921"
             ]
            ],
            "type": "histogram2d"
           }
          ],
          "histogram2dcontour": [
           {
            "colorbar": {
             "outlinewidth": 0,
             "ticks": ""
            },
            "colorscale": [
             [
              0,
              "#0d0887"
             ],
             [
              0.1111111111111111,
              "#46039f"
             ],
             [
              0.2222222222222222,
              "#7201a8"
             ],
             [
              0.3333333333333333,
              "#9c179e"
             ],
             [
              0.4444444444444444,
              "#bd3786"
             ],
             [
              0.5555555555555556,
              "#d8576b"
             ],
             [
              0.6666666666666666,
              "#ed7953"
             ],
             [
              0.7777777777777778,
              "#fb9f3a"
             ],
             [
              0.8888888888888888,
              "#fdca26"
             ],
             [
              1,
              "#f0f921"
             ]
            ],
            "type": "histogram2dcontour"
           }
          ],
          "mesh3d": [
           {
            "colorbar": {
             "outlinewidth": 0,
             "ticks": ""
            },
            "type": "mesh3d"
           }
          ],
          "parcoords": [
           {
            "line": {
             "colorbar": {
              "outlinewidth": 0,
              "ticks": ""
             }
            },
            "type": "parcoords"
           }
          ],
          "pie": [
           {
            "automargin": true,
            "type": "pie"
           }
          ],
          "scatter": [
           {
            "fillpattern": {
             "fillmode": "overlay",
             "size": 10,
             "solidity": 0.2
            },
            "type": "scatter"
           }
          ],
          "scatter3d": [
           {
            "line": {
             "colorbar": {
              "outlinewidth": 0,
              "ticks": ""
             }
            },
            "marker": {
             "colorbar": {
              "outlinewidth": 0,
              "ticks": ""
             }
            },
            "type": "scatter3d"
           }
          ],
          "scattercarpet": [
           {
            "marker": {
             "colorbar": {
              "outlinewidth": 0,
              "ticks": ""
             }
            },
            "type": "scattercarpet"
           }
          ],
          "scattergeo": [
           {
            "marker": {
             "colorbar": {
              "outlinewidth": 0,
              "ticks": ""
             }
            },
            "type": "scattergeo"
           }
          ],
          "scattergl": [
           {
            "marker": {
             "colorbar": {
              "outlinewidth": 0,
              "ticks": ""
             }
            },
            "type": "scattergl"
           }
          ],
          "scattermapbox": [
           {
            "marker": {
             "colorbar": {
              "outlinewidth": 0,
              "ticks": ""
             }
            },
            "type": "scattermapbox"
           }
          ],
          "scatterpolar": [
           {
            "marker": {
             "colorbar": {
              "outlinewidth": 0,
              "ticks": ""
             }
            },
            "type": "scatterpolar"
           }
          ],
          "scatterpolargl": [
           {
            "marker": {
             "colorbar": {
              "outlinewidth": 0,
              "ticks": ""
             }
            },
            "type": "scatterpolargl"
           }
          ],
          "scatterternary": [
           {
            "marker": {
             "colorbar": {
              "outlinewidth": 0,
              "ticks": ""
             }
            },
            "type": "scatterternary"
           }
          ],
          "surface": [
           {
            "colorbar": {
             "outlinewidth": 0,
             "ticks": ""
            },
            "colorscale": [
             [
              0,
              "#0d0887"
             ],
             [
              0.1111111111111111,
              "#46039f"
             ],
             [
              0.2222222222222222,
              "#7201a8"
             ],
             [
              0.3333333333333333,
              "#9c179e"
             ],
             [
              0.4444444444444444,
              "#bd3786"
             ],
             [
              0.5555555555555556,
              "#d8576b"
             ],
             [
              0.6666666666666666,
              "#ed7953"
             ],
             [
              0.7777777777777778,
              "#fb9f3a"
             ],
             [
              0.8888888888888888,
              "#fdca26"
             ],
             [
              1,
              "#f0f921"
             ]
            ],
            "type": "surface"
           }
          ],
          "table": [
           {
            "cells": {
             "fill": {
              "color": "#EBF0F8"
             },
             "line": {
              "color": "white"
             }
            },
            "header": {
             "fill": {
              "color": "#C8D4E3"
             },
             "line": {
              "color": "white"
             }
            },
            "type": "table"
           }
          ]
         },
         "layout": {
          "annotationdefaults": {
           "arrowcolor": "#2a3f5f",
           "arrowhead": 0,
           "arrowwidth": 1
          },
          "autotypenumbers": "strict",
          "coloraxis": {
           "colorbar": {
            "outlinewidth": 0,
            "ticks": ""
           }
          },
          "colorscale": {
           "diverging": [
            [
             0,
             "#8e0152"
            ],
            [
             0.1,
             "#c51b7d"
            ],
            [
             0.2,
             "#de77ae"
            ],
            [
             0.3,
             "#f1b6da"
            ],
            [
             0.4,
             "#fde0ef"
            ],
            [
             0.5,
             "#f7f7f7"
            ],
            [
             0.6,
             "#e6f5d0"
            ],
            [
             0.7,
             "#b8e186"
            ],
            [
             0.8,
             "#7fbc41"
            ],
            [
             0.9,
             "#4d9221"
            ],
            [
             1,
             "#276419"
            ]
           ],
           "sequential": [
            [
             0,
             "#0d0887"
            ],
            [
             0.1111111111111111,
             "#46039f"
            ],
            [
             0.2222222222222222,
             "#7201a8"
            ],
            [
             0.3333333333333333,
             "#9c179e"
            ],
            [
             0.4444444444444444,
             "#bd3786"
            ],
            [
             0.5555555555555556,
             "#d8576b"
            ],
            [
             0.6666666666666666,
             "#ed7953"
            ],
            [
             0.7777777777777778,
             "#fb9f3a"
            ],
            [
             0.8888888888888888,
             "#fdca26"
            ],
            [
             1,
             "#f0f921"
            ]
           ],
           "sequentialminus": [
            [
             0,
             "#0d0887"
            ],
            [
             0.1111111111111111,
             "#46039f"
            ],
            [
             0.2222222222222222,
             "#7201a8"
            ],
            [
             0.3333333333333333,
             "#9c179e"
            ],
            [
             0.4444444444444444,
             "#bd3786"
            ],
            [
             0.5555555555555556,
             "#d8576b"
            ],
            [
             0.6666666666666666,
             "#ed7953"
            ],
            [
             0.7777777777777778,
             "#fb9f3a"
            ],
            [
             0.8888888888888888,
             "#fdca26"
            ],
            [
             1,
             "#f0f921"
            ]
           ]
          },
          "colorway": [
           "#636efa",
           "#EF553B",
           "#00cc96",
           "#ab63fa",
           "#FFA15A",
           "#19d3f3",
           "#FF6692",
           "#B6E880",
           "#FF97FF",
           "#FECB52"
          ],
          "font": {
           "color": "#2a3f5f"
          },
          "geo": {
           "bgcolor": "white",
           "lakecolor": "white",
           "landcolor": "#E5ECF6",
           "showlakes": true,
           "showland": true,
           "subunitcolor": "white"
          },
          "hoverlabel": {
           "align": "left"
          },
          "hovermode": "closest",
          "mapbox": {
           "style": "light"
          },
          "paper_bgcolor": "white",
          "plot_bgcolor": "#E5ECF6",
          "polar": {
           "angularaxis": {
            "gridcolor": "white",
            "linecolor": "white",
            "ticks": ""
           },
           "bgcolor": "#E5ECF6",
           "radialaxis": {
            "gridcolor": "white",
            "linecolor": "white",
            "ticks": ""
           }
          },
          "scene": {
           "xaxis": {
            "backgroundcolor": "#E5ECF6",
            "gridcolor": "white",
            "gridwidth": 2,
            "linecolor": "white",
            "showbackground": true,
            "ticks": "",
            "zerolinecolor": "white"
           },
           "yaxis": {
            "backgroundcolor": "#E5ECF6",
            "gridcolor": "white",
            "gridwidth": 2,
            "linecolor": "white",
            "showbackground": true,
            "ticks": "",
            "zerolinecolor": "white"
           },
           "zaxis": {
            "backgroundcolor": "#E5ECF6",
            "gridcolor": "white",
            "gridwidth": 2,
            "linecolor": "white",
            "showbackground": true,
            "ticks": "",
            "zerolinecolor": "white"
           }
          },
          "shapedefaults": {
           "line": {
            "color": "#2a3f5f"
           }
          },
          "ternary": {
           "aaxis": {
            "gridcolor": "white",
            "linecolor": "white",
            "ticks": ""
           },
           "baxis": {
            "gridcolor": "white",
            "linecolor": "white",
            "ticks": ""
           },
           "bgcolor": "#E5ECF6",
           "caxis": {
            "gridcolor": "white",
            "linecolor": "white",
            "ticks": ""
           }
          },
          "title": {
           "x": 0.05
          },
          "xaxis": {
           "automargin": true,
           "gridcolor": "white",
           "linecolor": "white",
           "ticks": "",
           "title": {
            "standoff": 15
           },
           "zerolinecolor": "white",
           "zerolinewidth": 2
          },
          "yaxis": {
           "automargin": true,
           "gridcolor": "white",
           "linecolor": "white",
           "ticks": "",
           "title": {
            "standoff": 15
           },
           "zerolinecolor": "white",
           "zerolinewidth": 2
          }
         }
        },
        "title": {
         "text": "Most demanding skills across all the job roles"
        },
        "xaxis": {
         "anchor": "y",
         "autorange": true,
         "domain": [
          0,
          1
         ],
         "range": [
          -0.5,
          14.5
         ],
         "title": {
          "text": "skills"
         },
         "type": "category"
        },
        "yaxis": {
         "anchor": "x",
         "autorange": true,
         "domain": [
          0,
          1
         ],
         "range": [
          0,
          6158.9473684210525
         ],
         "title": {
          "text": "count of occurances"
         },
         "type": "linear"
        }
       }
      },
      "image/png": "[encoded data removed]",
      "text/html": [
       "<div>                            <div id=\"e379cb3d-d882-4d67-8e54-8f08afbb52b6\" class=\"plotly-graph-div\" style=\"height:525px; width:100%;\"></div>            <script type=\"text/javascript\">                require([\"plotly\"], function(Plotly) {                    window.PLOTLYENV=window.PLOTLYENV || {};                                    if (document.getElementById(\"e379cb3d-d882-4d67-8e54-8f08afbb52b6\")) {                    Plotly.newPlot(                        \"e379cb3d-d882-4d67-8e54-8f08afbb52b6\",                        [{\"alignmentgroup\":\"True\",\"hovertemplate\":\"skills=%{x}\\u003cbr\\u003ecount of occurances=%{marker.color}\\u003cextra\\u003e\\u003c\\u002fextra\\u003e\",\"legendgroup\":\"\",\"marker\":{\"color\":[5851,3482,3450,3310,3276,3177,2617,2607,2549,2513,2456,2435,2258,2257,2170],\"coloraxis\":\"coloraxis\",\"pattern\":{\"shape\":\"\"}},\"name\":\"\",\"offsetgroup\":\"\",\"orientation\":\"v\",\"showlegend\":false,\"textposition\":\"auto\",\"x\":[\"sales\",\"communication\",\"agency\",\"tied\",\"customer service\",\"training\",\"team handling\",\"javascript\",\"agency channel\",\"java\",\"analytical\",\"business development\",\"communication skills\",\"bfsi\",\"consulting\"],\"xaxis\":\"x\",\"y\":[5851,3482,3450,3310,3276,3177,2617,2607,2549,2513,2456,2435,2258,2257,2170],\"yaxis\":\"y\",\"type\":\"bar\"}],                        {\"template\":{\"data\":{\"histogram2dcontour\":[{\"type\":\"histogram2dcontour\",\"colorbar\":{\"outlinewidth\":0,\"ticks\":\"\"},\"colorscale\":[[0.0,\"#0d0887\"],[0.1111111111111111,\"#46039f\"],[0.2222222222222222,\"#7201a8\"],[0.3333333333333333,\"#9c179e\"],[0.4444444444444444,\"#bd3786\"],[0.5555555555555556,\"#d8576b\"],[0.6666666666666666,\"#ed7953\"],[0.7777777777777778,\"#fb9f3a\"],[0.8888888888888888,\"#fdca26\"],[1.0,\"#f0f921\"]]}],\"choropleth\":[{\"type\":\"choropleth\",\"colorbar\":{\"outlinewidth\":0,\"ticks\":\"\"}}],\"histogram2d\":[{\"type\":\"histogram2d\",\"colorbar\":{\"outlinewidth\":0,\"ticks\":\"\"},\"colorscale\":[[0.0,\"#0d0887\"],[0.1111111111111111,\"#46039f\"],[0.2222222222222222,\"#7201a8\"],[0.3333333333333333,\"#9c179e\"],[0.4444444444444444,\"#bd3786\"],[0.5555555555555556,\"#d8576b\"],[0.6666666666666666,\"#ed7953\"],[0.7777777777777778,\"#fb9f3a\"],[0.8888888888888888,\"#fdca26\"],[1.0,\"#f0f921\"]]}],\"heatmap\":[{\"type\":\"heatmap\",\"colorbar\":{\"outlinewidth\":0,\"ticks\":\"\"},\"colorscale\":[[0.0,\"#0d0887\"],[0.1111111111111111,\"#46039f\"],[0.2222222222222222,\"#7201a8\"],[0.3333333333333333,\"#9c179e\"],[0.4444444444444444,\"#bd3786\"],[0.5555555555555556,\"#d8576b\"],[0.6666666666666666,\"#ed7953\"],[0.7777777777777778,\"#fb9f3a\"],[0.8888888888888888,\"#fdca26\"],[1.0,\"#f0f921\"]]}],\"heatmapgl\":[{\"type\":\"heatmapgl\",\"colorbar\":{\"outlinewidth\":0,\"ticks\":\"\"},\"colorscale\":[[0.0,\"#0d0887\"],[0.1111111111111111,\"#46039f\"],[0.2222222222222222,\"#7201a8\"],[0.3333333333333333,\"#9c179e\"],[0.4444444444444444,\"#bd3786\"],[0.5555555555555556,\"#d8576b\"],[0.6666666666666666,\"#ed7953\"],[0.7777777777777778,\"#fb9f3a\"],[0.8888888888888888,\"#fdca26\"],[1.0,\"#f0f921\"]]}],\"contourcarpet\":[{\"type\":\"contourcarpet\",\"colorbar\":{\"outlinewidth\":0,\"ticks\":\"\"}}],\"contour\":[{\"type\":\"contour\",\"colorbar\":{\"outlinewidth\":0,\"ticks\":\"\"},\"colorscale\":[[0.0,\"#0d0887\"],[0.1111111111111111,\"#46039f\"],[0.2222222222222222,\"#7201a8\"],[0.3333333333333333,\"#9c179e\"],[0.4444444444444444,\"#bd3786\"],[0.5555555555555556,\"#d8576b\"],[0.6666666666666666,\"#ed7953\"],[0.7777777777777778,\"#fb9f3a\"],[0.8888888888888888,\"#fdca26\"],[1.0,\"#f0f921\"]]}],\"surface\":[{\"type\":\"surface\",\"colorbar\":{\"outlinewidth\":0,\"ticks\":\"\"},\"colorscale\":[[0.0,\"#0d0887\"],[0.1111111111111111,\"#46039f\"],[0.2222222222222222,\"#7201a8\"],[0.3333333333333333,\"#9c179e\"],[0.4444444444444444,\"#bd3786\"],[0.5555555555555556,\"#d8576b\"],[0.6666666666666666,\"#ed7953\"],[0.7777777777777778,\"#fb9f3a\"],[0.8888888888888888,\"#fdca26\"],[1.0,\"#f0f921\"]]}],\"mesh3d\":[{\"type\":\"mesh3d\",\"colorbar\":{\"outlinewidth\":0,\"ticks\":\"\"}}],\"scatter\":[{\"fillpattern\":{\"fillmode\":\"overlay\",\"size\":10,\"solidity\":0.2},\"type\":\"scatter\"}],\"parcoords\":[{\"type\":\"parcoords\",\"line\":{\"colorbar\":{\"outlinewidth\":0,\"ticks\":\"\"}}}],\"scatterpolargl\":[{\"type\":\"scatterpolargl\",\"marker\":{\"colorbar\":{\"outlinewidth\":0,\"ticks\":\"\"}}}],\"bar\":[{\"error_x\":{\"color\":\"#2a3f5f\"},\"error_y\":{\"color\":\"#2a3f5f\"},\"marker\":{\"line\":{\"color\":\"#E5ECF6\",\"width\":0.5},\"pattern\":{\"fillmode\":\"overlay\",\"size\":10,\"solidity\":0.2}},\"type\":\"bar\"}],\"scattergeo\":[{\"type\":\"scattergeo\",\"marker\":{\"colorbar\":{\"outlinewidth\":0,\"ticks\":\"\"}}}],\"scatterpolar\":[{\"type\":\"scatterpolar\",\"marker\":{\"colorbar\":{\"outlinewidth\":0,\"ticks\":\"\"}}}],\"histogram\":[{\"marker\":{\"pattern\":{\"fillmode\":\"overlay\",\"size\":10,\"solidity\":0.2}},\"type\":\"histogram\"}],\"scattergl\":[{\"type\":\"scattergl\",\"marker\":{\"colorbar\":{\"outlinewidth\":0,\"ticks\":\"\"}}}],\"scatter3d\":[{\"type\":\"scatter3d\",\"line\":{\"colorbar\":{\"outlinewidth\":0,\"ticks\":\"\"}},\"marker\":{\"colorbar\":{\"outlinewidth\":0,\"ticks\":\"\"}}}],\"scattermapbox\":[{\"type\":\"scattermapbox\",\"marker\":{\"colorbar\":{\"outlinewidth\":0,\"ticks\":\"\"}}}],\"scatterternary\":[{\"type\":\"scatterternary\",\"marker\":{\"colorbar\":{\"outlinewidth\":0,\"ticks\":\"\"}}}],\"scattercarpet\":[{\"type\":\"scattercarpet\",\"marker\":{\"colorbar\":{\"outlinewidth\":0,\"ticks\":\"\"}}}],\"carpet\":[{\"aaxis\":{\"endlinecolor\":\"#2a3f5f\",\"gridcolor\":\"white\",\"linecolor\":\"white\",\"minorgridcolor\":\"white\",\"startlinecolor\":\"#2a3f5f\"},\"baxis\":{\"endlinecolor\":\"#2a3f5f\",\"gridcolor\":\"white\",\"linecolor\":\"white\",\"minorgridcolor\":\"white\",\"startlinecolor\":\"#2a3f5f\"},\"type\":\"carpet\"}],\"table\":[{\"cells\":{\"fill\":{\"color\":\"#EBF0F8\"},\"line\":{\"color\":\"white\"}},\"header\":{\"fill\":{\"color\":\"#C8D4E3\"},\"line\":{\"color\":\"white\"}},\"type\":\"table\"}],\"barpolar\":[{\"marker\":{\"line\":{\"color\":\"#E5ECF6\",\"width\":0.5},\"pattern\":{\"fillmode\":\"overlay\",\"size\":10,\"solidity\":0.2}},\"type\":\"barpolar\"}],\"pie\":[{\"automargin\":true,\"type\":\"pie\"}]},\"layout\":{\"autotypenumbers\":\"strict\",\"colorway\":[\"#636efa\",\"#EF553B\",\"#00cc96\",\"#ab63fa\",\"#FFA15A\",\"#19d3f3\",\"#FF6692\",\"#B6E880\",\"#FF97FF\",\"#FECB52\"],\"font\":{\"color\":\"#2a3f5f\"},\"hovermode\":\"closest\",\"hoverlabel\":{\"align\":\"left\"},\"paper_bgcolor\":\"white\",\"plot_bgcolor\":\"#E5ECF6\",\"polar\":{\"bgcolor\":\"#E5ECF6\",\"angularaxis\":{\"gridcolor\":\"white\",\"linecolor\":\"white\",\"ticks\":\"\"},\"radialaxis\":{\"gridcolor\":\"white\",\"linecolor\":\"white\",\"ticks\":\"\"}},\"ternary\":{\"bgcolor\":\"#E5ECF6\",\"aaxis\":{\"gridcolor\":\"white\",\"linecolor\":\"white\",\"ticks\":\"\"},\"baxis\":{\"gridcolor\":\"white\",\"linecolor\":\"white\",\"ticks\":\"\"},\"caxis\":{\"gridcolor\":\"white\",\"linecolor\":\"white\",\"ticks\":\"\"}},\"coloraxis\":{\"colorbar\":{\"outlinewidth\":0,\"ticks\":\"\"}},\"colorscale\":{\"sequential\":[[0.0,\"#0d0887\"],[0.1111111111111111,\"#46039f\"],[0.2222222222222222,\"#7201a8\"],[0.3333333333333333,\"#9c179e\"],[0.4444444444444444,\"#bd3786\"],[0.5555555555555556,\"#d8576b\"],[0.6666666666666666,\"#ed7953\"],[0.7777777777777778,\"#fb9f3a\"],[0.8888888888888888,\"#fdca26\"],[1.0,\"#f0f921\"]],\"sequentialminus\":[[0.0,\"#0d0887\"],[0.1111111111111111,\"#46039f\"],[0.2222222222222222,\"#7201a8\"],[0.3333333333333333,\"#9c179e\"],[0.4444444444444444,\"#bd3786\"],[0.5555555555555556,\"#d8576b\"],[0.6666666666666666,\"#ed7953\"],[0.7777777777777778,\"#fb9f3a\"],[0.8888888888888888,\"#fdca26\"],[1.0,\"#f0f921\"]],\"diverging\":[[0,\"#8e0152\"],[0.1,\"#c51b7d\"],[0.2,\"#de77ae\"],[0.3,\"#f1b6da\"],[0.4,\"#fde0ef\"],[0.5,\"#f7f7f7\"],[0.6,\"#e6f5d0\"],[0.7,\"#b8e186\"],[0.8,\"#7fbc41\"],[0.9,\"#4d9221\"],[1,\"#276419\"]]},\"xaxis\":{\"gridcolor\":\"white\",\"linecolor\":\"white\",\"ticks\":\"\",\"title\":{\"standoff\":15},\"zerolinecolor\":\"white\",\"automargin\":true,\"zerolinewidth\":2},\"yaxis\":{\"gridcolor\":\"white\",\"linecolor\":\"white\",\"ticks\":\"\",\"title\":{\"standoff\":15},\"zerolinecolor\":\"white\",\"automargin\":true,\"zerolinewidth\":2},\"scene\":{\"xaxis\":{\"backgroundcolor\":\"#E5ECF6\",\"gridcolor\":\"white\",\"linecolor\":\"white\",\"showbackground\":true,\"ticks\":\"\",\"zerolinecolor\":\"white\",\"gridwidth\":2},\"yaxis\":{\"backgroundcolor\":\"#E5ECF6\",\"gridcolor\":\"white\",\"linecolor\":\"white\",\"showbackground\":true,\"ticks\":\"\",\"zerolinecolor\":\"white\",\"gridwidth\":2},\"zaxis\":{\"backgroundcolor\":\"#E5ECF6\",\"gridcolor\":\"white\",\"linecolor\":\"white\",\"showbackground\":true,\"ticks\":\"\",\"zerolinecolor\":\"white\",\"gridwidth\":2}},\"shapedefaults\":{\"line\":{\"color\":\"#2a3f5f\"}},\"annotationdefaults\":{\"arrowcolor\":\"#2a3f5f\",\"arrowhead\":0,\"arrowwidth\":1},\"geo\":{\"bgcolor\":\"white\",\"landcolor\":\"#E5ECF6\",\"subunitcolor\":\"white\",\"showland\":true,\"showlakes\":true,\"lakecolor\":\"white\"},\"title\":{\"x\":0.05},\"mapbox\":{\"style\":\"light\"}}},\"xaxis\":{\"anchor\":\"y\",\"domain\":[0.0,1.0],\"title\":{\"text\":\"skills\"}},\"yaxis\":{\"anchor\":\"x\",\"domain\":[0.0,1.0],\"title\":{\"text\":\"count of occurances\"}},\"coloraxis\":{\"colorbar\":{\"title\":{\"text\":\"count of occurances\"}},\"colorscale\":[[0.0,\"rgb(247,251,255)\"],[0.125,\"rgb(222,235,247)\"],[0.25,\"rgb(198,219,239)\"],[0.375,\"rgb(158,202,225)\"],[0.5,\"rgb(107,174,214)\"],[0.625,\"rgb(66,146,198)\"],[0.75,\"rgb(33,113,181)\"],[0.875,\"rgb(8,81,156)\"],[1.0,\"rgb(8,48,107)\"]]},\"legend\":{\"tracegroupgap\":0},\"title\":{\"text\":\"Most demanding skills across all the job roles\"},\"barmode\":\"relative\"},                        {\"responsive\": true}                    ).then(function(){\n",
       "                            \n",
       "var gd = document.getElementById('e379cb3d-d882-4d67-8e54-8f08afbb52b6');\n",
       "var x = new MutationObserver(function (mutations, observer) {{\n",
       "        var display = window.getComputedStyle(gd).display;\n",
       "        if (!display || display === 'none') {{\n",
       "            console.log([gd, 'removed!']);\n",
       "            Plotly.purge(gd);\n",
       "            observer.disconnect();\n",
       "        }}\n",
       "}});\n",
       "\n",
       "// Listen for the removal of the full notebook cells\n",
       "var notebookContainer = gd.closest('#notebook-container');\n",
       "if (notebookContainer) {{\n",
       "    x.observe(notebookContainer, {childList: true});\n",
       "}}\n",
       "\n",
       "// Listen for the clearing of the current output cell\n",
       "var outputEl = gd.closest('.output');\n",
       "if (outputEl) {{\n",
       "    x.observe(outputEl, {childList: true});\n",
       "}}\n",
       "\n",
       "                        })                };                });            </script>        </div>"
      ]
     },
     "metadata": {},
     "output_type": "display_data"
    }
   ],
   "source": [
    "import plotly.express as px\n",
    "skills_df_1 = df['responsibilities'].str.lower().str.split(',').explode().value_counts().head(15)\n",
    "skills_df_1 = skills_df_1.reset_index()\n",
    "skills_df_1.columns = ['skills', 'count']\n",
    "fig = px.bar(skills_df_1 , x = 'skills', y = 'count', title = 'Most demanding skills across all the job roles' , color = 'count', labels = {'count': 'count of occurances'}, color_continuous_scale=px.colors.sequential.Blues)\n",
    "fig.show()"
   ]
  },
  {
   "cell_type": "markdown",
   "id": "2281a242-11d6-4150-8089-cadca3f7b843",
   "metadata": {},
   "source": [
    "### Skills needed to hired into hdfc bank"
   ]
  },
  {
   "cell_type": "code",
   "execution_count": 111,
   "id": "7899a28b-21ae-4c3b-8650-0ef51e745185",
   "metadata": {},
   "outputs": [],
   "source": [
    "df_hdfc = df[df['company'] == 'Hdfc Bank']\n"
   ]
  },
  {
   "cell_type": "code",
   "execution_count": 112,
   "id": "b9785f58-2710-4641-8500-af75ebfbed44",
   "metadata": {},
   "outputs": [
    {
     "data": {
      "application/vnd.plotly.v1+json": {
       "config": {
        "plotlyServerURL": "https://plot.ly"
       },
       "data": [
        {
         "alignmentgroup": "True",
         "hovertemplate": "skills=%{x}<br>count=%{marker.color}<extra></extra>",
         "legendgroup": "",
         "marker": {
          "color": [
           8,
           7,
           6,
           6,
           5,
           4,
           4,
           4,
           4,
           3
          ],
          "coloraxis": "coloraxis",
          "pattern": {
           "shape": ""
          }
         },
         "name": "",
         "offsetgroup": "",
         "orientation": "v",
         "showlegend": false,
         "textposition": "auto",
         "type": "bar",
         "x": [
          "portfolio management",
          "cross selling",
          "relationship management",
          "sales",
          "banking",
          "customer service",
          "retail branch banking",
          "hni client handling",
          "casa",
          "finance"
         ],
         "xaxis": "x",
         "y": [
          8,
          7,
          6,
          6,
          5,
          4,
          4,
          4,
          4,
          3
         ],
         "yaxis": "y"
        }
       ],
       "layout": {
        "autosize": true,
        "barmode": "relative",
        "coloraxis": {
         "colorbar": {
          "title": {
           "text": "count"
          }
         },
         "colorscale": [
          [
           0,
           "rgb(247,251,255)"
          ],
          [
           0.125,
           "rgb(222,235,247)"
          ],
          [
           0.25,
           "rgb(198,219,239)"
          ],
          [
           0.375,
           "rgb(158,202,225)"
          ],
          [
           0.5,
           "rgb(107,174,214)"
          ],
          [
           0.625,
           "rgb(66,146,198)"
          ],
          [
           0.75,
           "rgb(33,113,181)"
          ],
          [
           0.875,
           "rgb(8,81,156)"
          ],
          [
           1,
           "rgb(8,48,107)"
          ]
         ]
        },
        "legend": {
         "tracegroupgap": 0
        },
        "template": {
         "data": {
          "bar": [
           {
            "error_x": {
             "color": "#2a3f5f"
            },
            "error_y": {
             "color": "#2a3f5f"
            },
            "marker": {
             "line": {
              "color": "#E5ECF6",
              "width": 0.5
             },
             "pattern": {
              "fillmode": "overlay",
              "size": 10,
              "solidity": 0.2
             }
            },
            "type": "bar"
           }
          ],
          "barpolar": [
           {
            "marker": {
             "line": {
              "color": "#E5ECF6",
              "width": 0.5
             },
             "pattern": {
              "fillmode": "overlay",
              "size": 10,
              "solidity": 0.2
             }
            },
            "type": "barpolar"
           }
          ],
          "carpet": [
           {
            "aaxis": {
             "endlinecolor": "#2a3f5f",
             "gridcolor": "white",
             "linecolor": "white",
             "minorgridcolor": "white",
             "startlinecolor": "#2a3f5f"
            },
            "baxis": {
             "endlinecolor": "#2a3f5f",
             "gridcolor": "white",
             "linecolor": "white",
             "minorgridcolor": "white",
             "startlinecolor": "#2a3f5f"
            },
            "type": "carpet"
           }
          ],
          "choropleth": [
           {
            "colorbar": {
             "outlinewidth": 0,
             "ticks": ""
            },
            "type": "choropleth"
           }
          ],
          "contour": [
           {
            "colorbar": {
             "outlinewidth": 0,
             "ticks": ""
            },
            "colorscale": [
             [
              0,
              "#0d0887"
             ],
             [
              0.1111111111111111,
              "#46039f"
             ],
             [
              0.2222222222222222,
              "#7201a8"
             ],
             [
              0.3333333333333333,
              "#9c179e"
             ],
             [
              0.4444444444444444,
              "#bd3786"
             ],
             [
              0.5555555555555556,
              "#d8576b"
             ],
             [
              0.6666666666666666,
              "#ed7953"
             ],
             [
              0.7777777777777778,
              "#fb9f3a"
             ],
             [
              0.8888888888888888,
              "#fdca26"
             ],
             [
              1,
              "#f0f921"
             ]
            ],
            "type": "contour"
           }
          ],
          "contourcarpet": [
           {
            "colorbar": {
             "outlinewidth": 0,
             "ticks": ""
            },
            "type": "contourcarpet"
           }
          ],
          "heatmap": [
           {
            "colorbar": {
             "outlinewidth": 0,
             "ticks": ""
            },
            "colorscale": [
             [
              0,
              "#0d0887"
             ],
             [
              0.1111111111111111,
              "#46039f"
             ],
             [
              0.2222222222222222,
              "#7201a8"
             ],
             [
              0.3333333333333333,
              "#9c179e"
             ],
             [
              0.4444444444444444,
              "#bd3786"
             ],
             [
              0.5555555555555556,
              "#d8576b"
             ],
             [
              0.6666666666666666,
              "#ed7953"
             ],
             [
              0.7777777777777778,
              "#fb9f3a"
             ],
             [
              0.8888888888888888,
              "#fdca26"
             ],
             [
              1,
              "#f0f921"
             ]
            ],
            "type": "heatmap"
           }
          ],
          "heatmapgl": [
           {
            "colorbar": {
             "outlinewidth": 0,
             "ticks": ""
            },
            "colorscale": [
             [
              0,
              "#0d0887"
             ],
             [
              0.1111111111111111,
              "#46039f"
             ],
             [
              0.2222222222222222,
              "#7201a8"
             ],
             [
              0.3333333333333333,
              "#9c179e"
             ],
             [
              0.4444444444444444,
              "#bd3786"
             ],
             [
              0.5555555555555556,
              "#d8576b"
             ],
             [
              0.6666666666666666,
              "#ed7953"
             ],
             [
              0.7777777777777778,
              "#fb9f3a"
             ],
             [
              0.8888888888888888,
              "#fdca26"
             ],
             [
              1,
              "#f0f921"
             ]
            ],
            "type": "heatmapgl"
           }
          ],
          "histogram": [
           {
            "marker": {
             "pattern": {
              "fillmode": "overlay",
              "size": 10,
              "solidity": 0.2
             }
            },
            "type": "histogram"
           }
          ],
          "histogram2d": [
           {
            "colorbar": {
             "outlinewidth": 0,
             "ticks": ""
            },
            "colorscale": [
             [
              0,
              "#0d0887"
             ],
             [
              0.1111111111111111,
              "#46039f"
             ],
             [
              0.2222222222222222,
              "#7201a8"
             ],
             [
              0.3333333333333333,
              "#9c179e"
             ],
             [
              0.4444444444444444,
              "#bd3786"
             ],
             [
              0.5555555555555556,
              "#d8576b"
             ],
             [
              0.6666666666666666,
              "#ed7953"
             ],
             [
              0.7777777777777778,
              "#fb9f3a"
             ],
             [
              0.8888888888888888,
              "#fdca26"
             ],
             [
              1,
              "#f0f921"
             ]
            ],
            "type": "histogram2d"
           }
          ],
          "histogram2dcontour": [
           {
            "colorbar": {
             "outlinewidth": 0,
             "ticks": ""
            },
            "colorscale": [
             [
              0,
              "#0d0887"
             ],
             [
              0.1111111111111111,
              "#46039f"
             ],
             [
              0.2222222222222222,
              "#7201a8"
             ],
             [
              0.3333333333333333,
              "#9c179e"
             ],
             [
              0.4444444444444444,
              "#bd3786"
             ],
             [
              0.5555555555555556,
              "#d8576b"
             ],
             [
              0.6666666666666666,
              "#ed7953"
             ],
             [
              0.7777777777777778,
              "#fb9f3a"
             ],
             [
              0.8888888888888888,
              "#fdca26"
             ],
             [
              1,
              "#f0f921"
             ]
            ],
            "type": "histogram2dcontour"
           }
          ],
          "mesh3d": [
           {
            "colorbar": {
             "outlinewidth": 0,
             "ticks": ""
            },
            "type": "mesh3d"
           }
          ],
          "parcoords": [
           {
            "line": {
             "colorbar": {
              "outlinewidth": 0,
              "ticks": ""
             }
            },
            "type": "parcoords"
           }
          ],
          "pie": [
           {
            "automargin": true,
            "type": "pie"
           }
          ],
          "scatter": [
           {
            "fillpattern": {
             "fillmode": "overlay",
             "size": 10,
             "solidity": 0.2
            },
            "type": "scatter"
           }
          ],
          "scatter3d": [
           {
            "line": {
             "colorbar": {
              "outlinewidth": 0,
              "ticks": ""
             }
            },
            "marker": {
             "colorbar": {
              "outlinewidth": 0,
              "ticks": ""
             }
            },
            "type": "scatter3d"
           }
          ],
          "scattercarpet": [
           {
            "marker": {
             "colorbar": {
              "outlinewidth": 0,
              "ticks": ""
             }
            },
            "type": "scattercarpet"
           }
          ],
          "scattergeo": [
           {
            "marker": {
             "colorbar": {
              "outlinewidth": 0,
              "ticks": ""
             }
            },
            "type": "scattergeo"
           }
          ],
          "scattergl": [
           {
            "marker": {
             "colorbar": {
              "outlinewidth": 0,
              "ticks": ""
             }
            },
            "type": "scattergl"
           }
          ],
          "scattermapbox": [
           {
            "marker": {
             "colorbar": {
              "outlinewidth": 0,
              "ticks": ""
             }
            },
            "type": "scattermapbox"
           }
          ],
          "scatterpolar": [
           {
            "marker": {
             "colorbar": {
              "outlinewidth": 0,
              "ticks": ""
             }
            },
            "type": "scatterpolar"
           }
          ],
          "scatterpolargl": [
           {
            "marker": {
             "colorbar": {
              "outlinewidth": 0,
              "ticks": ""
             }
            },
            "type": "scatterpolargl"
           }
          ],
          "scatterternary": [
           {
            "marker": {
             "colorbar": {
              "outlinewidth": 0,
              "ticks": ""
             }
            },
            "type": "scatterternary"
           }
          ],
          "surface": [
           {
            "colorbar": {
             "outlinewidth": 0,
             "ticks": ""
            },
            "colorscale": [
             [
              0,
              "#0d0887"
             ],
             [
              0.1111111111111111,
              "#46039f"
             ],
             [
              0.2222222222222222,
              "#7201a8"
             ],
             [
              0.3333333333333333,
              "#9c179e"
             ],
             [
              0.4444444444444444,
              "#bd3786"
             ],
             [
              0.5555555555555556,
              "#d8576b"
             ],
             [
              0.6666666666666666,
              "#ed7953"
             ],
             [
              0.7777777777777778,
              "#fb9f3a"
             ],
             [
              0.8888888888888888,
              "#fdca26"
             ],
             [
              1,
              "#f0f921"
             ]
            ],
            "type": "surface"
           }
          ],
          "table": [
           {
            "cells": {
             "fill": {
              "color": "#EBF0F8"
             },
             "line": {
              "color": "white"
             }
            },
            "header": {
             "fill": {
              "color": "#C8D4E3"
             },
             "line": {
              "color": "white"
             }
            },
            "type": "table"
           }
          ]
         },
         "layout": {
          "annotationdefaults": {
           "arrowcolor": "#2a3f5f",
           "arrowhead": 0,
           "arrowwidth": 1
          },
          "autotypenumbers": "strict",
          "coloraxis": {
           "colorbar": {
            "outlinewidth": 0,
            "ticks": ""
           }
          },
          "colorscale": {
           "diverging": [
            [
             0,
             "#8e0152"
            ],
            [
             0.1,
             "#c51b7d"
            ],
            [
             0.2,
             "#de77ae"
            ],
            [
             0.3,
             "#f1b6da"
            ],
            [
             0.4,
             "#fde0ef"
            ],
            [
             0.5,
             "#f7f7f7"
            ],
            [
             0.6,
             "#e6f5d0"
            ],
            [
             0.7,
             "#b8e186"
            ],
            [
             0.8,
             "#7fbc41"
            ],
            [
             0.9,
             "#4d9221"
            ],
            [
             1,
             "#276419"
            ]
           ],
           "sequential": [
            [
             0,
             "#0d0887"
            ],
            [
             0.1111111111111111,
             "#46039f"
            ],
            [
             0.2222222222222222,
             "#7201a8"
            ],
            [
             0.3333333333333333,
             "#9c179e"
            ],
            [
             0.4444444444444444,
             "#bd3786"
            ],
            [
             0.5555555555555556,
             "#d8576b"
            ],
            [
             0.6666666666666666,
             "#ed7953"
            ],
            [
             0.7777777777777778,
             "#fb9f3a"
            ],
            [
             0.8888888888888888,
             "#fdca26"
            ],
            [
             1,
             "#f0f921"
            ]
           ],
           "sequentialminus": [
            [
             0,
             "#0d0887"
            ],
            [
             0.1111111111111111,
             "#46039f"
            ],
            [
             0.2222222222222222,
             "#7201a8"
            ],
            [
             0.3333333333333333,
             "#9c179e"
            ],
            [
             0.4444444444444444,
             "#bd3786"
            ],
            [
             0.5555555555555556,
             "#d8576b"
            ],
            [
             0.6666666666666666,
             "#ed7953"
            ],
            [
             0.7777777777777778,
             "#fb9f3a"
            ],
            [
             0.8888888888888888,
             "#fdca26"
            ],
            [
             1,
             "#f0f921"
            ]
           ]
          },
          "colorway": [
           "#636efa",
           "#EF553B",
           "#00cc96",
           "#ab63fa",
           "#FFA15A",
           "#19d3f3",
           "#FF6692",
           "#B6E880",
           "#FF97FF",
           "#FECB52"
          ],
          "font": {
           "color": "#2a3f5f"
          },
          "geo": {
           "bgcolor": "white",
           "lakecolor": "white",
           "landcolor": "#E5ECF6",
           "showlakes": true,
           "showland": true,
           "subunitcolor": "white"
          },
          "hoverlabel": {
           "align": "left"
          },
          "hovermode": "closest",
          "mapbox": {
           "style": "light"
          },
          "paper_bgcolor": "white",
          "plot_bgcolor": "#E5ECF6",
          "polar": {
           "angularaxis": {
            "gridcolor": "white",
            "linecolor": "white",
            "ticks": ""
           },
           "bgcolor": "#E5ECF6",
           "radialaxis": {
            "gridcolor": "white",
            "linecolor": "white",
            "ticks": ""
           }
          },
          "scene": {
           "xaxis": {
            "backgroundcolor": "#E5ECF6",
            "gridcolor": "white",
            "gridwidth": 2,
            "linecolor": "white",
            "showbackground": true,
            "ticks": "",
            "zerolinecolor": "white"
           },
           "yaxis": {
            "backgroundcolor": "#E5ECF6",
            "gridcolor": "white",
            "gridwidth": 2,
            "linecolor": "white",
            "showbackground": true,
            "ticks": "",
            "zerolinecolor": "white"
           },
           "zaxis": {
            "backgroundcolor": "#E5ECF6",
            "gridcolor": "white",
            "gridwidth": 2,
            "linecolor": "white",
            "showbackground": true,
            "ticks": "",
            "zerolinecolor": "white"
           }
          },
          "shapedefaults": {
           "line": {
            "color": "#2a3f5f"
           }
          },
          "ternary": {
           "aaxis": {
            "gridcolor": "white",
            "linecolor": "white",
            "ticks": ""
           },
           "baxis": {
            "gridcolor": "white",
            "linecolor": "white",
            "ticks": ""
           },
           "bgcolor": "#E5ECF6",
           "caxis": {
            "gridcolor": "white",
            "linecolor": "white",
            "ticks": ""
           }
          },
          "title": {
           "x": 0.05
          },
          "xaxis": {
           "automargin": true,
           "gridcolor": "white",
           "linecolor": "white",
           "ticks": "",
           "title": {
            "standoff": 15
           },
           "zerolinecolor": "white",
           "zerolinewidth": 2
          },
          "yaxis": {
           "automargin": true,
           "gridcolor": "white",
           "linecolor": "white",
           "ticks": "",
           "title": {
            "standoff": 15
           },
           "zerolinecolor": "white",
           "zerolinewidth": 2
          }
         }
        },
        "title": {
         "text": "skills needed for getting hired in HDFC"
        },
        "xaxis": {
         "anchor": "y",
         "autorange": true,
         "domain": [
          0,
          1
         ],
         "range": [
          -0.5,
          9.5
         ],
         "title": {
          "text": "skills"
         },
         "type": "category"
        },
        "yaxis": {
         "anchor": "x",
         "autorange": true,
         "domain": [
          0,
          1
         ],
         "range": [
          0,
          8.421052631578947
         ],
         "title": {
          "text": "count"
         },
         "type": "linear"
        }
       }
      },
      "image/png": "[encoded data removed]",
      "text/html": [
       "<div>                            <div id=\"08d66764-969a-43ba-8e84-edb11246ce9e\" class=\"plotly-graph-div\" style=\"height:525px; width:100%;\"></div>            <script type=\"text/javascript\">                require([\"plotly\"], function(Plotly) {                    window.PLOTLYENV=window.PLOTLYENV || {};                                    if (document.getElementById(\"08d66764-969a-43ba-8e84-edb11246ce9e\")) {                    Plotly.newPlot(                        \"08d66764-969a-43ba-8e84-edb11246ce9e\",                        [{\"alignmentgroup\":\"True\",\"hovertemplate\":\"skills=%{x}\\u003cbr\\u003ecount=%{marker.color}\\u003cextra\\u003e\\u003c\\u002fextra\\u003e\",\"legendgroup\":\"\",\"marker\":{\"color\":[8,7,6,6,5,4,4,4,4,3],\"coloraxis\":\"coloraxis\",\"pattern\":{\"shape\":\"\"}},\"name\":\"\",\"offsetgroup\":\"\",\"orientation\":\"v\",\"showlegend\":false,\"textposition\":\"auto\",\"x\":[\"portfolio management\",\"cross selling\",\"relationship management\",\"sales\",\"banking\",\"customer service\",\"retail branch banking\",\"hni client handling\",\"casa\",\"finance\"],\"xaxis\":\"x\",\"y\":[8,7,6,6,5,4,4,4,4,3],\"yaxis\":\"y\",\"type\":\"bar\"}],                        {\"template\":{\"data\":{\"histogram2dcontour\":[{\"type\":\"histogram2dcontour\",\"colorbar\":{\"outlinewidth\":0,\"ticks\":\"\"},\"colorscale\":[[0.0,\"#0d0887\"],[0.1111111111111111,\"#46039f\"],[0.2222222222222222,\"#7201a8\"],[0.3333333333333333,\"#9c179e\"],[0.4444444444444444,\"#bd3786\"],[0.5555555555555556,\"#d8576b\"],[0.6666666666666666,\"#ed7953\"],[0.7777777777777778,\"#fb9f3a\"],[0.8888888888888888,\"#fdca26\"],[1.0,\"#f0f921\"]]}],\"choropleth\":[{\"type\":\"choropleth\",\"colorbar\":{\"outlinewidth\":0,\"ticks\":\"\"}}],\"histogram2d\":[{\"type\":\"histogram2d\",\"colorbar\":{\"outlinewidth\":0,\"ticks\":\"\"},\"colorscale\":[[0.0,\"#0d0887\"],[0.1111111111111111,\"#46039f\"],[0.2222222222222222,\"#7201a8\"],[0.3333333333333333,\"#9c179e\"],[0.4444444444444444,\"#bd3786\"],[0.5555555555555556,\"#d8576b\"],[0.6666666666666666,\"#ed7953\"],[0.7777777777777778,\"#fb9f3a\"],[0.8888888888888888,\"#fdca26\"],[1.0,\"#f0f921\"]]}],\"heatmap\":[{\"type\":\"heatmap\",\"colorbar\":{\"outlinewidth\":0,\"ticks\":\"\"},\"colorscale\":[[0.0,\"#0d0887\"],[0.1111111111111111,\"#46039f\"],[0.2222222222222222,\"#7201a8\"],[0.3333333333333333,\"#9c179e\"],[0.4444444444444444,\"#bd3786\"],[0.5555555555555556,\"#d8576b\"],[0.6666666666666666,\"#ed7953\"],[0.7777777777777778,\"#fb9f3a\"],[0.8888888888888888,\"#fdca26\"],[1.0,\"#f0f921\"]]}],\"heatmapgl\":[{\"type\":\"heatmapgl\",\"colorbar\":{\"outlinewidth\":0,\"ticks\":\"\"},\"colorscale\":[[0.0,\"#0d0887\"],[0.1111111111111111,\"#46039f\"],[0.2222222222222222,\"#7201a8\"],[0.3333333333333333,\"#9c179e\"],[0.4444444444444444,\"#bd3786\"],[0.5555555555555556,\"#d8576b\"],[0.6666666666666666,\"#ed7953\"],[0.7777777777777778,\"#fb9f3a\"],[0.8888888888888888,\"#fdca26\"],[1.0,\"#f0f921\"]]}],\"contourcarpet\":[{\"type\":\"contourcarpet\",\"colorbar\":{\"outlinewidth\":0,\"ticks\":\"\"}}],\"contour\":[{\"type\":\"contour\",\"colorbar\":{\"outlinewidth\":0,\"ticks\":\"\"},\"colorscale\":[[0.0,\"#0d0887\"],[0.1111111111111111,\"#46039f\"],[0.2222222222222222,\"#7201a8\"],[0.3333333333333333,\"#9c179e\"],[0.4444444444444444,\"#bd3786\"],[0.5555555555555556,\"#d8576b\"],[0.6666666666666666,\"#ed7953\"],[0.7777777777777778,\"#fb9f3a\"],[0.8888888888888888,\"#fdca26\"],[1.0,\"#f0f921\"]]}],\"surface\":[{\"type\":\"surface\",\"colorbar\":{\"outlinewidth\":0,\"ticks\":\"\"},\"colorscale\":[[0.0,\"#0d0887\"],[0.1111111111111111,\"#46039f\"],[0.2222222222222222,\"#7201a8\"],[0.3333333333333333,\"#9c179e\"],[0.4444444444444444,\"#bd3786\"],[0.5555555555555556,\"#d8576b\"],[0.6666666666666666,\"#ed7953\"],[0.7777777777777778,\"#fb9f3a\"],[0.8888888888888888,\"#fdca26\"],[1.0,\"#f0f921\"]]}],\"mesh3d\":[{\"type\":\"mesh3d\",\"colorbar\":{\"outlinewidth\":0,\"ticks\":\"\"}}],\"scatter\":[{\"fillpattern\":{\"fillmode\":\"overlay\",\"size\":10,\"solidity\":0.2},\"type\":\"scatter\"}],\"parcoords\":[{\"type\":\"parcoords\",\"line\":{\"colorbar\":{\"outlinewidth\":0,\"ticks\":\"\"}}}],\"scatterpolargl\":[{\"type\":\"scatterpolargl\",\"marker\":{\"colorbar\":{\"outlinewidth\":0,\"ticks\":\"\"}}}],\"bar\":[{\"error_x\":{\"color\":\"#2a3f5f\"},\"error_y\":{\"color\":\"#2a3f5f\"},\"marker\":{\"line\":{\"color\":\"#E5ECF6\",\"width\":0.5},\"pattern\":{\"fillmode\":\"overlay\",\"size\":10,\"solidity\":0.2}},\"type\":\"bar\"}],\"scattergeo\":[{\"type\":\"scattergeo\",\"marker\":{\"colorbar\":{\"outlinewidth\":0,\"ticks\":\"\"}}}],\"scatterpolar\":[{\"type\":\"scatterpolar\",\"marker\":{\"colorbar\":{\"outlinewidth\":0,\"ticks\":\"\"}}}],\"histogram\":[{\"marker\":{\"pattern\":{\"fillmode\":\"overlay\",\"size\":10,\"solidity\":0.2}},\"type\":\"histogram\"}],\"scattergl\":[{\"type\":\"scattergl\",\"marker\":{\"colorbar\":{\"outlinewidth\":0,\"ticks\":\"\"}}}],\"scatter3d\":[{\"type\":\"scatter3d\",\"line\":{\"colorbar\":{\"outlinewidth\":0,\"ticks\":\"\"}},\"marker\":{\"colorbar\":{\"outlinewidth\":0,\"ticks\":\"\"}}}],\"scattermapbox\":[{\"type\":\"scattermapbox\",\"marker\":{\"colorbar\":{\"outlinewidth\":0,\"ticks\":\"\"}}}],\"scatterternary\":[{\"type\":\"scatterternary\",\"marker\":{\"colorbar\":{\"outlinewidth\":0,\"ticks\":\"\"}}}],\"scattercarpet\":[{\"type\":\"scattercarpet\",\"marker\":{\"colorbar\":{\"outlinewidth\":0,\"ticks\":\"\"}}}],\"carpet\":[{\"aaxis\":{\"endlinecolor\":\"#2a3f5f\",\"gridcolor\":\"white\",\"linecolor\":\"white\",\"minorgridcolor\":\"white\",\"startlinecolor\":\"#2a3f5f\"},\"baxis\":{\"endlinecolor\":\"#2a3f5f\",\"gridcolor\":\"white\",\"linecolor\":\"white\",\"minorgridcolor\":\"white\",\"startlinecolor\":\"#2a3f5f\"},\"type\":\"carpet\"}],\"table\":[{\"cells\":{\"fill\":{\"color\":\"#EBF0F8\"},\"line\":{\"color\":\"white\"}},\"header\":{\"fill\":{\"color\":\"#C8D4E3\"},\"line\":{\"color\":\"white\"}},\"type\":\"table\"}],\"barpolar\":[{\"marker\":{\"line\":{\"color\":\"#E5ECF6\",\"width\":0.5},\"pattern\":{\"fillmode\":\"overlay\",\"size\":10,\"solidity\":0.2}},\"type\":\"barpolar\"}],\"pie\":[{\"automargin\":true,\"type\":\"pie\"}]},\"layout\":{\"autotypenumbers\":\"strict\",\"colorway\":[\"#636efa\",\"#EF553B\",\"#00cc96\",\"#ab63fa\",\"#FFA15A\",\"#19d3f3\",\"#FF6692\",\"#B6E880\",\"#FF97FF\",\"#FECB52\"],\"font\":{\"color\":\"#2a3f5f\"},\"hovermode\":\"closest\",\"hoverlabel\":{\"align\":\"left\"},\"paper_bgcolor\":\"white\",\"plot_bgcolor\":\"#E5ECF6\",\"polar\":{\"bgcolor\":\"#E5ECF6\",\"angularaxis\":{\"gridcolor\":\"white\",\"linecolor\":\"white\",\"ticks\":\"\"},\"radialaxis\":{\"gridcolor\":\"white\",\"linecolor\":\"white\",\"ticks\":\"\"}},\"ternary\":{\"bgcolor\":\"#E5ECF6\",\"aaxis\":{\"gridcolor\":\"white\",\"linecolor\":\"white\",\"ticks\":\"\"},\"baxis\":{\"gridcolor\":\"white\",\"linecolor\":\"white\",\"ticks\":\"\"},\"caxis\":{\"gridcolor\":\"white\",\"linecolor\":\"white\",\"ticks\":\"\"}},\"coloraxis\":{\"colorbar\":{\"outlinewidth\":0,\"ticks\":\"\"}},\"colorscale\":{\"sequential\":[[0.0,\"#0d0887\"],[0.1111111111111111,\"#46039f\"],[0.2222222222222222,\"#7201a8\"],[0.3333333333333333,\"#9c179e\"],[0.4444444444444444,\"#bd3786\"],[0.5555555555555556,\"#d8576b\"],[0.6666666666666666,\"#ed7953\"],[0.7777777777777778,\"#fb9f3a\"],[0.8888888888888888,\"#fdca26\"],[1.0,\"#f0f921\"]],\"sequentialminus\":[[0.0,\"#0d0887\"],[0.1111111111111111,\"#46039f\"],[0.2222222222222222,\"#7201a8\"],[0.3333333333333333,\"#9c179e\"],[0.4444444444444444,\"#bd3786\"],[0.5555555555555556,\"#d8576b\"],[0.6666666666666666,\"#ed7953\"],[0.7777777777777778,\"#fb9f3a\"],[0.8888888888888888,\"#fdca26\"],[1.0,\"#f0f921\"]],\"diverging\":[[0,\"#8e0152\"],[0.1,\"#c51b7d\"],[0.2,\"#de77ae\"],[0.3,\"#f1b6da\"],[0.4,\"#fde0ef\"],[0.5,\"#f7f7f7\"],[0.6,\"#e6f5d0\"],[0.7,\"#b8e186\"],[0.8,\"#7fbc41\"],[0.9,\"#4d9221\"],[1,\"#276419\"]]},\"xaxis\":{\"gridcolor\":\"white\",\"linecolor\":\"white\",\"ticks\":\"\",\"title\":{\"standoff\":15},\"zerolinecolor\":\"white\",\"automargin\":true,\"zerolinewidth\":2},\"yaxis\":{\"gridcolor\":\"white\",\"linecolor\":\"white\",\"ticks\":\"\",\"title\":{\"standoff\":15},\"zerolinecolor\":\"white\",\"automargin\":true,\"zerolinewidth\":2},\"scene\":{\"xaxis\":{\"backgroundcolor\":\"#E5ECF6\",\"gridcolor\":\"white\",\"linecolor\":\"white\",\"showbackground\":true,\"ticks\":\"\",\"zerolinecolor\":\"white\",\"gridwidth\":2},\"yaxis\":{\"backgroundcolor\":\"#E5ECF6\",\"gridcolor\":\"white\",\"linecolor\":\"white\",\"showbackground\":true,\"ticks\":\"\",\"zerolinecolor\":\"white\",\"gridwidth\":2},\"zaxis\":{\"backgroundcolor\":\"#E5ECF6\",\"gridcolor\":\"white\",\"linecolor\":\"white\",\"showbackground\":true,\"ticks\":\"\",\"zerolinecolor\":\"white\",\"gridwidth\":2}},\"shapedefaults\":{\"line\":{\"color\":\"#2a3f5f\"}},\"annotationdefaults\":{\"arrowcolor\":\"#2a3f5f\",\"arrowhead\":0,\"arrowwidth\":1},\"geo\":{\"bgcolor\":\"white\",\"landcolor\":\"#E5ECF6\",\"subunitcolor\":\"white\",\"showland\":true,\"showlakes\":true,\"lakecolor\":\"white\"},\"title\":{\"x\":0.05},\"mapbox\":{\"style\":\"light\"}}},\"xaxis\":{\"anchor\":\"y\",\"domain\":[0.0,1.0],\"title\":{\"text\":\"skills\"}},\"yaxis\":{\"anchor\":\"x\",\"domain\":[0.0,1.0],\"title\":{\"text\":\"count\"}},\"coloraxis\":{\"colorbar\":{\"title\":{\"text\":\"count\"}},\"colorscale\":[[0.0,\"rgb(247,251,255)\"],[0.125,\"rgb(222,235,247)\"],[0.25,\"rgb(198,219,239)\"],[0.375,\"rgb(158,202,225)\"],[0.5,\"rgb(107,174,214)\"],[0.625,\"rgb(66,146,198)\"],[0.75,\"rgb(33,113,181)\"],[0.875,\"rgb(8,81,156)\"],[1.0,\"rgb(8,48,107)\"]]},\"legend\":{\"tracegroupgap\":0},\"title\":{\"text\":\"skills needed for getting hired in HDFC\"},\"barmode\":\"relative\"},                        {\"responsive\": true}                    ).then(function(){\n",
       "                            \n",
       "var gd = document.getElementById('08d66764-969a-43ba-8e84-edb11246ce9e');\n",
       "var x = new MutationObserver(function (mutations, observer) {{\n",
       "        var display = window.getComputedStyle(gd).display;\n",
       "        if (!display || display === 'none') {{\n",
       "            console.log([gd, 'removed!']);\n",
       "            Plotly.purge(gd);\n",
       "            observer.disconnect();\n",
       "        }}\n",
       "}});\n",
       "\n",
       "// Listen for the removal of the full notebook cells\n",
       "var notebookContainer = gd.closest('#notebook-container');\n",
       "if (notebookContainer) {{\n",
       "    x.observe(notebookContainer, {childList: true});\n",
       "}}\n",
       "\n",
       "// Listen for the clearing of the current output cell\n",
       "var outputEl = gd.closest('.output');\n",
       "if (outputEl) {{\n",
       "    x.observe(outputEl, {childList: true});\n",
       "}}\n",
       "\n",
       "                        })                };                });            </script>        </div>"
      ]
     },
     "metadata": {},
     "output_type": "display_data"
    }
   ],
   "source": [
    "# df_hdfc['responsibilities'].str.lower().str.split(',').explode().value_counts().head(10).plot(kind = 'bar')\n",
    "import pandas as pd\n",
    "import plotly.express as px\n",
    "\n",
    "\n",
    "\n",
    "# Process the data\n",
    "responsibilities_counts = df_hdfc['responsibilities'].str.lower().str.split(',').explode().value_counts().head(10)\n",
    "skills_df_2 = responsibilities_counts.reset_index()\n",
    "skills_df_2.columns = ['skills', 'count']\n",
    "fig = px.bar(skills_df_2,x = 'skills', y= 'count', title = 'skills needed for getting hired in HDFC', labels = {'Count': 'Count of occurences'}, color = 'count', color_continuous_scale = px.colors.sequential.Blues)\n",
    "fig.show()\n"
   ]
  },
  {
   "cell_type": "markdown",
   "id": "c0d44a3e-9338-43b1-a477-432a7a9fa9d2",
   "metadata": {},
   "source": [
    "### Skills needed to hired as Data Analyst"
   ]
  },
  {
   "cell_type": "code",
   "execution_count": 113,
   "id": "e88d996f-ba8e-4926-a851-10dcd23b2a86",
   "metadata": {},
   "outputs": [],
   "source": [
    "df_data_analyst = df[df['job_role'] == 'Data Analyst']"
   ]
  },
  {
   "cell_type": "code",
   "execution_count": 114,
   "id": "8404fc32-45db-49e5-8996-e4c08e974214",
   "metadata": {},
   "outputs": [],
   "source": [
    "data_analyst_skills = df_data_analyst['responsibilities'].str.lower().str.split(',').explode().value_counts()[:10]"
   ]
  },
  {
   "cell_type": "code",
   "execution_count": 115,
   "id": "91e291c4-62bf-4fd7-a0d9-ad82d5293e34",
   "metadata": {},
   "outputs": [],
   "source": [
    "values = data_analyst_skills.values"
   ]
  },
  {
   "cell_type": "code",
   "execution_count": 116,
   "id": "60cffbda-d887-4789-ab8f-551eb03d7646",
   "metadata": {},
   "outputs": [],
   "source": [
    "index = data_analyst_skills.index"
   ]
  },
  {
   "cell_type": "code",
   "execution_count": 117,
   "id": "8507b43c-9e88-4472-bcd1-ffef310a9ae9",
   "metadata": {},
   "outputs": [
    {
     "data": {
      "application/vnd.plotly.v1+json": {
       "config": {
        "plotlyServerURL": "https://plot.ly"
       },
       "data": [
        {
         "customdata": [
          [
           28
          ],
          [
           21
          ],
          [
           15
          ],
          [
           13
          ],
          [
           13
          ],
          [
           11
          ],
          [
           10
          ],
          [
           8
          ],
          [
           7
          ],
          [
           6
          ]
         ],
         "domain": {
          "x": [
           0,
           1
          ],
          "y": [
           0,
           1
          ]
         },
         "hoverinfo": "label+percent+value",
         "hovertemplate": "Skill=%{label}<br>Count=%{customdata[0]}<extra></extra>",
         "labels": [
          "data analysis",
          "sql",
          "excel",
          "power bi",
          "data analyst",
          "tableau",
          "python",
          "data analytics",
          "data management",
          "communication"
         ],
         "legendgroup": "",
         "name": "",
         "pull": [
          0.05,
          0,
          0,
          0,
          0,
          0,
          0,
          0,
          0,
          0
         ],
         "showlegend": true,
         "textinfo": "percent",
         "textposition": "outside",
         "type": "pie",
         "values": [
          28,
          21,
          15,
          13,
          13,
          11,
          10,
          8,
          7,
          6
         ]
        }
       ],
       "layout": {
        "autosize": true,
        "legend": {
         "tracegroupgap": 0
        },
        "margin": {
         "b": 20,
         "l": 20,
         "r": 20,
         "t": 80
        },
        "piecolorway": [
         "rgb(8,48,107)",
         "rgb(8,81,156)",
         "rgb(33,113,181)",
         "rgb(66,146,198)",
         "rgb(107,174,214)",
         "rgb(158,202,225)",
         "rgb(198,219,239)",
         "rgb(222,235,247)",
         "rgb(247,251,255)"
        ],
        "showlegend": true,
        "template": {
         "data": {
          "bar": [
           {
            "error_x": {
             "color": "#2a3f5f"
            },
            "error_y": {
             "color": "#2a3f5f"
            },
            "marker": {
             "line": {
              "color": "#E5ECF6",
              "width": 0.5
             },
             "pattern": {
              "fillmode": "overlay",
              "size": 10,
              "solidity": 0.2
             }
            },
            "type": "bar"
           }
          ],
          "barpolar": [
           {
            "marker": {
             "line": {
              "color": "#E5ECF6",
              "width": 0.5
             },
             "pattern": {
              "fillmode": "overlay",
              "size": 10,
              "solidity": 0.2
             }
            },
            "type": "barpolar"
           }
          ],
          "carpet": [
           {
            "aaxis": {
             "endlinecolor": "#2a3f5f",
             "gridcolor": "white",
             "linecolor": "white",
             "minorgridcolor": "white",
             "startlinecolor": "#2a3f5f"
            },
            "baxis": {
             "endlinecolor": "#2a3f5f",
             "gridcolor": "white",
             "linecolor": "white",
             "minorgridcolor": "white",
             "startlinecolor": "#2a3f5f"
            },
            "type": "carpet"
           }
          ],
          "choropleth": [
           {
            "colorbar": {
             "outlinewidth": 0,
             "ticks": ""
            },
            "type": "choropleth"
           }
          ],
          "contour": [
           {
            "colorbar": {
             "outlinewidth": 0,
             "ticks": ""
            },
            "colorscale": [
             [
              0,
              "#0d0887"
             ],
             [
              0.1111111111111111,
              "#46039f"
             ],
             [
              0.2222222222222222,
              "#7201a8"
             ],
             [
              0.3333333333333333,
              "#9c179e"
             ],
             [
              0.4444444444444444,
              "#bd3786"
             ],
             [
              0.5555555555555556,
              "#d8576b"
             ],
             [
              0.6666666666666666,
              "#ed7953"
             ],
             [
              0.7777777777777778,
              "#fb9f3a"
             ],
             [
              0.8888888888888888,
              "#fdca26"
             ],
             [
              1,
              "#f0f921"
             ]
            ],
            "type": "contour"
           }
          ],
          "contourcarpet": [
           {
            "colorbar": {
             "outlinewidth": 0,
             "ticks": ""
            },
            "type": "contourcarpet"
           }
          ],
          "heatmap": [
           {
            "colorbar": {
             "outlinewidth": 0,
             "ticks": ""
            },
            "colorscale": [
             [
              0,
              "#0d0887"
             ],
             [
              0.1111111111111111,
              "#46039f"
             ],
             [
              0.2222222222222222,
              "#7201a8"
             ],
             [
              0.3333333333333333,
              "#9c179e"
             ],
             [
              0.4444444444444444,
              "#bd3786"
             ],
             [
              0.5555555555555556,
              "#d8576b"
             ],
             [
              0.6666666666666666,
              "#ed7953"
             ],
             [
              0.7777777777777778,
              "#fb9f3a"
             ],
             [
              0.8888888888888888,
              "#fdca26"
             ],
             [
              1,
              "#f0f921"
             ]
            ],
            "type": "heatmap"
           }
          ],
          "heatmapgl": [
           {
            "colorbar": {
             "outlinewidth": 0,
             "ticks": ""
            },
            "colorscale": [
             [
              0,
              "#0d0887"
             ],
             [
              0.1111111111111111,
              "#46039f"
             ],
             [
              0.2222222222222222,
              "#7201a8"
             ],
             [
              0.3333333333333333,
              "#9c179e"
             ],
             [
              0.4444444444444444,
              "#bd3786"
             ],
             [
              0.5555555555555556,
              "#d8576b"
             ],
             [
              0.6666666666666666,
              "#ed7953"
             ],
             [
              0.7777777777777778,
              "#fb9f3a"
             ],
             [
              0.8888888888888888,
              "#fdca26"
             ],
             [
              1,
              "#f0f921"
             ]
            ],
            "type": "heatmapgl"
           }
          ],
          "histogram": [
           {
            "marker": {
             "pattern": {
              "fillmode": "overlay",
              "size": 10,
              "solidity": 0.2
             }
            },
            "type": "histogram"
           }
          ],
          "histogram2d": [
           {
            "colorbar": {
             "outlinewidth": 0,
             "ticks": ""
            },
            "colorscale": [
             [
              0,
              "#0d0887"
             ],
             [
              0.1111111111111111,
              "#46039f"
             ],
             [
              0.2222222222222222,
              "#7201a8"
             ],
             [
              0.3333333333333333,
              "#9c179e"
             ],
             [
              0.4444444444444444,
              "#bd3786"
             ],
             [
              0.5555555555555556,
              "#d8576b"
             ],
             [
              0.6666666666666666,
              "#ed7953"
             ],
             [
              0.7777777777777778,
              "#fb9f3a"
             ],
             [
              0.8888888888888888,
              "#fdca26"
             ],
             [
              1,
              "#f0f921"
             ]
            ],
            "type": "histogram2d"
           }
          ],
          "histogram2dcontour": [
           {
            "colorbar": {
             "outlinewidth": 0,
             "ticks": ""
            },
            "colorscale": [
             [
              0,
              "#0d0887"
             ],
             [
              0.1111111111111111,
              "#46039f"
             ],
             [
              0.2222222222222222,
              "#7201a8"
             ],
             [
              0.3333333333333333,
              "#9c179e"
             ],
             [
              0.4444444444444444,
              "#bd3786"
             ],
             [
              0.5555555555555556,
              "#d8576b"
             ],
             [
              0.6666666666666666,
              "#ed7953"
             ],
             [
              0.7777777777777778,
              "#fb9f3a"
             ],
             [
              0.8888888888888888,
              "#fdca26"
             ],
             [
              1,
              "#f0f921"
             ]
            ],
            "type": "histogram2dcontour"
           }
          ],
          "mesh3d": [
           {
            "colorbar": {
             "outlinewidth": 0,
             "ticks": ""
            },
            "type": "mesh3d"
           }
          ],
          "parcoords": [
           {
            "line": {
             "colorbar": {
              "outlinewidth": 0,
              "ticks": ""
             }
            },
            "type": "parcoords"
           }
          ],
          "pie": [
           {
            "automargin": true,
            "type": "pie"
           }
          ],
          "scatter": [
           {
            "fillpattern": {
             "fillmode": "overlay",
             "size": 10,
             "solidity": 0.2
            },
            "type": "scatter"
           }
          ],
          "scatter3d": [
           {
            "line": {
             "colorbar": {
              "outlinewidth": 0,
              "ticks": ""
             }
            },
            "marker": {
             "colorbar": {
              "outlinewidth": 0,
              "ticks": ""
             }
            },
            "type": "scatter3d"
           }
          ],
          "scattercarpet": [
           {
            "marker": {
             "colorbar": {
              "outlinewidth": 0,
              "ticks": ""
             }
            },
            "type": "scattercarpet"
           }
          ],
          "scattergeo": [
           {
            "marker": {
             "colorbar": {
              "outlinewidth": 0,
              "ticks": ""
             }
            },
            "type": "scattergeo"
           }
          ],
          "scattergl": [
           {
            "marker": {
             "colorbar": {
              "outlinewidth": 0,
              "ticks": ""
             }
            },
            "type": "scattergl"
           }
          ],
          "scattermapbox": [
           {
            "marker": {
             "colorbar": {
              "outlinewidth": 0,
              "ticks": ""
             }
            },
            "type": "scattermapbox"
           }
          ],
          "scatterpolar": [
           {
            "marker": {
             "colorbar": {
              "outlinewidth": 0,
              "ticks": ""
             }
            },
            "type": "scatterpolar"
           }
          ],
          "scatterpolargl": [
           {
            "marker": {
             "colorbar": {
              "outlinewidth": 0,
              "ticks": ""
             }
            },
            "type": "scatterpolargl"
           }
          ],
          "scatterternary": [
           {
            "marker": {
             "colorbar": {
              "outlinewidth": 0,
              "ticks": ""
             }
            },
            "type": "scatterternary"
           }
          ],
          "surface": [
           {
            "colorbar": {
             "outlinewidth": 0,
             "ticks": ""
            },
            "colorscale": [
             [
              0,
              "#0d0887"
             ],
             [
              0.1111111111111111,
              "#46039f"
             ],
             [
              0.2222222222222222,
              "#7201a8"
             ],
             [
              0.3333333333333333,
              "#9c179e"
             ],
             [
              0.4444444444444444,
              "#bd3786"
             ],
             [
              0.5555555555555556,
              "#d8576b"
             ],
             [
              0.6666666666666666,
              "#ed7953"
             ],
             [
              0.7777777777777778,
              "#fb9f3a"
             ],
             [
              0.8888888888888888,
              "#fdca26"
             ],
             [
              1,
              "#f0f921"
             ]
            ],
            "type": "surface"
           }
          ],
          "table": [
           {
            "cells": {
             "fill": {
              "color": "#EBF0F8"
             },
             "line": {
              "color": "white"
             }
            },
            "header": {
             "fill": {
              "color": "#C8D4E3"
             },
             "line": {
              "color": "white"
             }
            },
            "type": "table"
           }
          ]
         },
         "layout": {
          "annotationdefaults": {
           "arrowcolor": "#2a3f5f",
           "arrowhead": 0,
           "arrowwidth": 1
          },
          "autotypenumbers": "strict",
          "coloraxis": {
           "colorbar": {
            "outlinewidth": 0,
            "ticks": ""
           }
          },
          "colorscale": {
           "diverging": [
            [
             0,
             "#8e0152"
            ],
            [
             0.1,
             "#c51b7d"
            ],
            [
             0.2,
             "#de77ae"
            ],
            [
             0.3,
             "#f1b6da"
            ],
            [
             0.4,
             "#fde0ef"
            ],
            [
             0.5,
             "#f7f7f7"
            ],
            [
             0.6,
             "#e6f5d0"
            ],
            [
             0.7,
             "#b8e186"
            ],
            [
             0.8,
             "#7fbc41"
            ],
            [
             0.9,
             "#4d9221"
            ],
            [
             1,
             "#276419"
            ]
           ],
           "sequential": [
            [
             0,
             "#0d0887"
            ],
            [
             0.1111111111111111,
             "#46039f"
            ],
            [
             0.2222222222222222,
             "#7201a8"
            ],
            [
             0.3333333333333333,
             "#9c179e"
            ],
            [
             0.4444444444444444,
             "#bd3786"
            ],
            [
             0.5555555555555556,
             "#d8576b"
            ],
            [
             0.6666666666666666,
             "#ed7953"
            ],
            [
             0.7777777777777778,
             "#fb9f3a"
            ],
            [
             0.8888888888888888,
             "#fdca26"
            ],
            [
             1,
             "#f0f921"
            ]
           ],
           "sequentialminus": [
            [
             0,
             "#0d0887"
            ],
            [
             0.1111111111111111,
             "#46039f"
            ],
            [
             0.2222222222222222,
             "#7201a8"
            ],
            [
             0.3333333333333333,
             "#9c179e"
            ],
            [
             0.4444444444444444,
             "#bd3786"
            ],
            [
             0.5555555555555556,
             "#d8576b"
            ],
            [
             0.6666666666666666,
             "#ed7953"
            ],
            [
             0.7777777777777778,
             "#fb9f3a"
            ],
            [
             0.8888888888888888,
             "#fdca26"
            ],
            [
             1,
             "#f0f921"
            ]
           ]
          },
          "colorway": [
           "#636efa",
           "#EF553B",
           "#00cc96",
           "#ab63fa",
           "#FFA15A",
           "#19d3f3",
           "#FF6692",
           "#B6E880",
           "#FF97FF",
           "#FECB52"
          ],
          "font": {
           "color": "#2a3f5f"
          },
          "geo": {
           "bgcolor": "white",
           "lakecolor": "white",
           "landcolor": "#E5ECF6",
           "showlakes": true,
           "showland": true,
           "subunitcolor": "white"
          },
          "hoverlabel": {
           "align": "left"
          },
          "hovermode": "closest",
          "mapbox": {
           "style": "light"
          },
          "paper_bgcolor": "white",
          "plot_bgcolor": "#E5ECF6",
          "polar": {
           "angularaxis": {
            "gridcolor": "white",
            "linecolor": "white",
            "ticks": ""
           },
           "bgcolor": "#E5ECF6",
           "radialaxis": {
            "gridcolor": "white",
            "linecolor": "white",
            "ticks": ""
           }
          },
          "scene": {
           "xaxis": {
            "backgroundcolor": "#E5ECF6",
            "gridcolor": "white",
            "gridwidth": 2,
            "linecolor": "white",
            "showbackground": true,
            "ticks": "",
            "zerolinecolor": "white"
           },
           "yaxis": {
            "backgroundcolor": "#E5ECF6",
            "gridcolor": "white",
            "gridwidth": 2,
            "linecolor": "white",
            "showbackground": true,
            "ticks": "",
            "zerolinecolor": "white"
           },
           "zaxis": {
            "backgroundcolor": "#E5ECF6",
            "gridcolor": "white",
            "gridwidth": 2,
            "linecolor": "white",
            "showbackground": true,
            "ticks": "",
            "zerolinecolor": "white"
           }
          },
          "shapedefaults": {
           "line": {
            "color": "#2a3f5f"
           }
          },
          "ternary": {
           "aaxis": {
            "gridcolor": "white",
            "linecolor": "white",
            "ticks": ""
           },
           "baxis": {
            "gridcolor": "white",
            "linecolor": "white",
            "ticks": ""
           },
           "bgcolor": "#E5ECF6",
           "caxis": {
            "gridcolor": "white",
            "linecolor": "white",
            "ticks": ""
           }
          },
          "title": {
           "x": 0.05
          },
          "xaxis": {
           "automargin": true,
           "gridcolor": "white",
           "linecolor": "white",
           "ticks": "",
           "title": {
            "standoff": 15
           },
           "zerolinecolor": "white",
           "zerolinewidth": 2
          },
          "yaxis": {
           "automargin": true,
           "gridcolor": "white",
           "linecolor": "white",
           "ticks": "",
           "title": {
            "standoff": 15
           },
           "zerolinecolor": "white",
           "zerolinewidth": 2
          }
         }
        },
        "title": {
         "font": {
          "family": "monospace"
         },
         "text": "Skills required for data analyst role as per naukri data",
         "x": 0.5
        }
       }
      },
      "image/png": "[encoded data removed]",
      "text/html": [
       "<div>                            <div id=\"7dafa166-c351-44e9-ad54-cd5094134a12\" class=\"plotly-graph-div\" style=\"height:525px; width:100%;\"></div>            <script type=\"text/javascript\">                require([\"plotly\"], function(Plotly) {                    window.PLOTLYENV=window.PLOTLYENV || {};                                    if (document.getElementById(\"7dafa166-c351-44e9-ad54-cd5094134a12\")) {                    Plotly.newPlot(                        \"7dafa166-c351-44e9-ad54-cd5094134a12\",                        [{\"customdata\":[[28],[21],[15],[13],[13],[11],[10],[8],[7],[6]],\"domain\":{\"x\":[0.0,1.0],\"y\":[0.0,1.0]},\"hovertemplate\":\"Skill=%{label}\\u003cbr\\u003eCount=%{customdata[0]}\\u003cextra\\u003e\\u003c\\u002fextra\\u003e\",\"labels\":[\"data analysis\",\"sql\",\"excel\",\"power bi\",\"data analyst\",\"tableau\",\"python\",\"data analytics\",\"data management\",\"communication\"],\"legendgroup\":\"\",\"name\":\"\",\"showlegend\":true,\"values\":[28,21,15,13,13,11,10,8,7,6],\"type\":\"pie\",\"hoverinfo\":\"label+percent+value\",\"pull\":[0.05,0,0,0,0,0,0,0,0,0],\"textinfo\":\"percent\",\"textposition\":\"outside\"}],                        {\"template\":{\"data\":{\"histogram2dcontour\":[{\"type\":\"histogram2dcontour\",\"colorbar\":{\"outlinewidth\":0,\"ticks\":\"\"},\"colorscale\":[[0.0,\"#0d0887\"],[0.1111111111111111,\"#46039f\"],[0.2222222222222222,\"#7201a8\"],[0.3333333333333333,\"#9c179e\"],[0.4444444444444444,\"#bd3786\"],[0.5555555555555556,\"#d8576b\"],[0.6666666666666666,\"#ed7953\"],[0.7777777777777778,\"#fb9f3a\"],[0.8888888888888888,\"#fdca26\"],[1.0,\"#f0f921\"]]}],\"choropleth\":[{\"type\":\"choropleth\",\"colorbar\":{\"outlinewidth\":0,\"ticks\":\"\"}}],\"histogram2d\":[{\"type\":\"histogram2d\",\"colorbar\":{\"outlinewidth\":0,\"ticks\":\"\"},\"colorscale\":[[0.0,\"#0d0887\"],[0.1111111111111111,\"#46039f\"],[0.2222222222222222,\"#7201a8\"],[0.3333333333333333,\"#9c179e\"],[0.4444444444444444,\"#bd3786\"],[0.5555555555555556,\"#d8576b\"],[0.6666666666666666,\"#ed7953\"],[0.7777777777777778,\"#fb9f3a\"],[0.8888888888888888,\"#fdca26\"],[1.0,\"#f0f921\"]]}],\"heatmap\":[{\"type\":\"heatmap\",\"colorbar\":{\"outlinewidth\":0,\"ticks\":\"\"},\"colorscale\":[[0.0,\"#0d0887\"],[0.1111111111111111,\"#46039f\"],[0.2222222222222222,\"#7201a8\"],[0.3333333333333333,\"#9c179e\"],[0.4444444444444444,\"#bd3786\"],[0.5555555555555556,\"#d8576b\"],[0.6666666666666666,\"#ed7953\"],[0.7777777777777778,\"#fb9f3a\"],[0.8888888888888888,\"#fdca26\"],[1.0,\"#f0f921\"]]}],\"heatmapgl\":[{\"type\":\"heatmapgl\",\"colorbar\":{\"outlinewidth\":0,\"ticks\":\"\"},\"colorscale\":[[0.0,\"#0d0887\"],[0.1111111111111111,\"#46039f\"],[0.2222222222222222,\"#7201a8\"],[0.3333333333333333,\"#9c179e\"],[0.4444444444444444,\"#bd3786\"],[0.5555555555555556,\"#d8576b\"],[0.6666666666666666,\"#ed7953\"],[0.7777777777777778,\"#fb9f3a\"],[0.8888888888888888,\"#fdca26\"],[1.0,\"#f0f921\"]]}],\"contourcarpet\":[{\"type\":\"contourcarpet\",\"colorbar\":{\"outlinewidth\":0,\"ticks\":\"\"}}],\"contour\":[{\"type\":\"contour\",\"colorbar\":{\"outlinewidth\":0,\"ticks\":\"\"},\"colorscale\":[[0.0,\"#0d0887\"],[0.1111111111111111,\"#46039f\"],[0.2222222222222222,\"#7201a8\"],[0.3333333333333333,\"#9c179e\"],[0.4444444444444444,\"#bd3786\"],[0.5555555555555556,\"#d8576b\"],[0.6666666666666666,\"#ed7953\"],[0.7777777777777778,\"#fb9f3a\"],[0.8888888888888888,\"#fdca26\"],[1.0,\"#f0f921\"]]}],\"surface\":[{\"type\":\"surface\",\"colorbar\":{\"outlinewidth\":0,\"ticks\":\"\"},\"colorscale\":[[0.0,\"#0d0887\"],[0.1111111111111111,\"#46039f\"],[0.2222222222222222,\"#7201a8\"],[0.3333333333333333,\"#9c179e\"],[0.4444444444444444,\"#bd3786\"],[0.5555555555555556,\"#d8576b\"],[0.6666666666666666,\"#ed7953\"],[0.7777777777777778,\"#fb9f3a\"],[0.8888888888888888,\"#fdca26\"],[1.0,\"#f0f921\"]]}],\"mesh3d\":[{\"type\":\"mesh3d\",\"colorbar\":{\"outlinewidth\":0,\"ticks\":\"\"}}],\"scatter\":[{\"fillpattern\":{\"fillmode\":\"overlay\",\"size\":10,\"solidity\":0.2},\"type\":\"scatter\"}],\"parcoords\":[{\"type\":\"parcoords\",\"line\":{\"colorbar\":{\"outlinewidth\":0,\"ticks\":\"\"}}}],\"scatterpolargl\":[{\"type\":\"scatterpolargl\",\"marker\":{\"colorbar\":{\"outlinewidth\":0,\"ticks\":\"\"}}}],\"bar\":[{\"error_x\":{\"color\":\"#2a3f5f\"},\"error_y\":{\"color\":\"#2a3f5f\"},\"marker\":{\"line\":{\"color\":\"#E5ECF6\",\"width\":0.5},\"pattern\":{\"fillmode\":\"overlay\",\"size\":10,\"solidity\":0.2}},\"type\":\"bar\"}],\"scattergeo\":[{\"type\":\"scattergeo\",\"marker\":{\"colorbar\":{\"outlinewidth\":0,\"ticks\":\"\"}}}],\"scatterpolar\":[{\"type\":\"scatterpolar\",\"marker\":{\"colorbar\":{\"outlinewidth\":0,\"ticks\":\"\"}}}],\"histogram\":[{\"marker\":{\"pattern\":{\"fillmode\":\"overlay\",\"size\":10,\"solidity\":0.2}},\"type\":\"histogram\"}],\"scattergl\":[{\"type\":\"scattergl\",\"marker\":{\"colorbar\":{\"outlinewidth\":0,\"ticks\":\"\"}}}],\"scatter3d\":[{\"type\":\"scatter3d\",\"line\":{\"colorbar\":{\"outlinewidth\":0,\"ticks\":\"\"}},\"marker\":{\"colorbar\":{\"outlinewidth\":0,\"ticks\":\"\"}}}],\"scattermapbox\":[{\"type\":\"scattermapbox\",\"marker\":{\"colorbar\":{\"outlinewidth\":0,\"ticks\":\"\"}}}],\"scatterternary\":[{\"type\":\"scatterternary\",\"marker\":{\"colorbar\":{\"outlinewidth\":0,\"ticks\":\"\"}}}],\"scattercarpet\":[{\"type\":\"scattercarpet\",\"marker\":{\"colorbar\":{\"outlinewidth\":0,\"ticks\":\"\"}}}],\"carpet\":[{\"aaxis\":{\"endlinecolor\":\"#2a3f5f\",\"gridcolor\":\"white\",\"linecolor\":\"white\",\"minorgridcolor\":\"white\",\"startlinecolor\":\"#2a3f5f\"},\"baxis\":{\"endlinecolor\":\"#2a3f5f\",\"gridcolor\":\"white\",\"linecolor\":\"white\",\"minorgridcolor\":\"white\",\"startlinecolor\":\"#2a3f5f\"},\"type\":\"carpet\"}],\"table\":[{\"cells\":{\"fill\":{\"color\":\"#EBF0F8\"},\"line\":{\"color\":\"white\"}},\"header\":{\"fill\":{\"color\":\"#C8D4E3\"},\"line\":{\"color\":\"white\"}},\"type\":\"table\"}],\"barpolar\":[{\"marker\":{\"line\":{\"color\":\"#E5ECF6\",\"width\":0.5},\"pattern\":{\"fillmode\":\"overlay\",\"size\":10,\"solidity\":0.2}},\"type\":\"barpolar\"}],\"pie\":[{\"automargin\":true,\"type\":\"pie\"}]},\"layout\":{\"autotypenumbers\":\"strict\",\"colorway\":[\"#636efa\",\"#EF553B\",\"#00cc96\",\"#ab63fa\",\"#FFA15A\",\"#19d3f3\",\"#FF6692\",\"#B6E880\",\"#FF97FF\",\"#FECB52\"],\"font\":{\"color\":\"#2a3f5f\"},\"hovermode\":\"closest\",\"hoverlabel\":{\"align\":\"left\"},\"paper_bgcolor\":\"white\",\"plot_bgcolor\":\"#E5ECF6\",\"polar\":{\"bgcolor\":\"#E5ECF6\",\"angularaxis\":{\"gridcolor\":\"white\",\"linecolor\":\"white\",\"ticks\":\"\"},\"radialaxis\":{\"gridcolor\":\"white\",\"linecolor\":\"white\",\"ticks\":\"\"}},\"ternary\":{\"bgcolor\":\"#E5ECF6\",\"aaxis\":{\"gridcolor\":\"white\",\"linecolor\":\"white\",\"ticks\":\"\"},\"baxis\":{\"gridcolor\":\"white\",\"linecolor\":\"white\",\"ticks\":\"\"},\"caxis\":{\"gridcolor\":\"white\",\"linecolor\":\"white\",\"ticks\":\"\"}},\"coloraxis\":{\"colorbar\":{\"outlinewidth\":0,\"ticks\":\"\"}},\"colorscale\":{\"sequential\":[[0.0,\"#0d0887\"],[0.1111111111111111,\"#46039f\"],[0.2222222222222222,\"#7201a8\"],[0.3333333333333333,\"#9c179e\"],[0.4444444444444444,\"#bd3786\"],[0.5555555555555556,\"#d8576b\"],[0.6666666666666666,\"#ed7953\"],[0.7777777777777778,\"#fb9f3a\"],[0.8888888888888888,\"#fdca26\"],[1.0,\"#f0f921\"]],\"sequentialminus\":[[0.0,\"#0d0887\"],[0.1111111111111111,\"#46039f\"],[0.2222222222222222,\"#7201a8\"],[0.3333333333333333,\"#9c179e\"],[0.4444444444444444,\"#bd3786\"],[0.5555555555555556,\"#d8576b\"],[0.6666666666666666,\"#ed7953\"],[0.7777777777777778,\"#fb9f3a\"],[0.8888888888888888,\"#fdca26\"],[1.0,\"#f0f921\"]],\"diverging\":[[0,\"#8e0152\"],[0.1,\"#c51b7d\"],[0.2,\"#de77ae\"],[0.3,\"#f1b6da\"],[0.4,\"#fde0ef\"],[0.5,\"#f7f7f7\"],[0.6,\"#e6f5d0\"],[0.7,\"#b8e186\"],[0.8,\"#7fbc41\"],[0.9,\"#4d9221\"],[1,\"#276419\"]]},\"xaxis\":{\"gridcolor\":\"white\",\"linecolor\":\"white\",\"ticks\":\"\",\"title\":{\"standoff\":15},\"zerolinecolor\":\"white\",\"automargin\":true,\"zerolinewidth\":2},\"yaxis\":{\"gridcolor\":\"white\",\"linecolor\":\"white\",\"ticks\":\"\",\"title\":{\"standoff\":15},\"zerolinecolor\":\"white\",\"automargin\":true,\"zerolinewidth\":2},\"scene\":{\"xaxis\":{\"backgroundcolor\":\"#E5ECF6\",\"gridcolor\":\"white\",\"linecolor\":\"white\",\"showbackground\":true,\"ticks\":\"\",\"zerolinecolor\":\"white\",\"gridwidth\":2},\"yaxis\":{\"backgroundcolor\":\"#E5ECF6\",\"gridcolor\":\"white\",\"linecolor\":\"white\",\"showbackground\":true,\"ticks\":\"\",\"zerolinecolor\":\"white\",\"gridwidth\":2},\"zaxis\":{\"backgroundcolor\":\"#E5ECF6\",\"gridcolor\":\"white\",\"linecolor\":\"white\",\"showbackground\":true,\"ticks\":\"\",\"zerolinecolor\":\"white\",\"gridwidth\":2}},\"shapedefaults\":{\"line\":{\"color\":\"#2a3f5f\"}},\"annotationdefaults\":{\"arrowcolor\":\"#2a3f5f\",\"arrowhead\":0,\"arrowwidth\":1},\"geo\":{\"bgcolor\":\"white\",\"landcolor\":\"#E5ECF6\",\"subunitcolor\":\"white\",\"showland\":true,\"showlakes\":true,\"lakecolor\":\"white\"},\"title\":{\"x\":0.05},\"mapbox\":{\"style\":\"light\"}}},\"legend\":{\"tracegroupgap\":0},\"title\":{\"text\":\"Skills required for data analyst role as per naukri data\",\"font\":{\"family\":\"monospace\"},\"x\":0.5},\"piecolorway\":[\"rgb(8,48,107)\",\"rgb(8,81,156)\",\"rgb(33,113,181)\",\"rgb(66,146,198)\",\"rgb(107,174,214)\",\"rgb(158,202,225)\",\"rgb(198,219,239)\",\"rgb(222,235,247)\",\"rgb(247,251,255)\"],\"margin\":{\"t\":80,\"b\":20,\"l\":20,\"r\":20},\"showlegend\":true},                        {\"responsive\": true}                    ).then(function(){\n",
       "                            \n",
       "var gd = document.getElementById('7dafa166-c351-44e9-ad54-cd5094134a12');\n",
       "var x = new MutationObserver(function (mutations, observer) {{\n",
       "        var display = window.getComputedStyle(gd).display;\n",
       "        if (!display || display === 'none') {{\n",
       "            console.log([gd, 'removed!']);\n",
       "            Plotly.purge(gd);\n",
       "            observer.disconnect();\n",
       "        }}\n",
       "}});\n",
       "\n",
       "// Listen for the removal of the full notebook cells\n",
       "var notebookContainer = gd.closest('#notebook-container');\n",
       "if (notebookContainer) {{\n",
       "    x.observe(notebookContainer, {childList: true});\n",
       "}}\n",
       "\n",
       "// Listen for the clearing of the current output cell\n",
       "var outputEl = gd.closest('.output');\n",
       "if (outputEl) {{\n",
       "    x.observe(outputEl, {childList: true});\n",
       "}}\n",
       "\n",
       "                        })                };                });            </script>        </div>"
      ]
     },
     "metadata": {},
     "output_type": "display_data"
    }
   ],
   "source": [
    "# import matplotlib.cm as cm\n",
    "# plt.figure(figsize= (8,6))\n",
    "# blues = plt.cm.Blues(np.linspace(0.4,0.8, len(index)))\n",
    "# plt.pie(x = values, labels = index, autopct = \"%1.1f%%\", startangle = 160, colors = blues)\n",
    "\n",
    "# plt.title('Skills required for data analyst role as per naukri data', fontname = 'monospace', pad = 30)\n",
    "# plt.axis('equal')\n",
    "# plt.tight_layout()\n",
    "# plt.show()\n",
    "\n",
    "\n",
    "import plotly.express as px\n",
    "import pandas as pd\n",
    "\n",
    "# Create a DataFrame from your data\n",
    "skills_df = pd.DataFrame({\n",
    "    'Skill': index,\n",
    "    'Count': values\n",
    "})\n",
    "\n",
    "# Create an interactive pie chart with Plotly\n",
    "fig = px.pie(\n",
    "    skills_df, \n",
    "    values='Count', \n",
    "    names='Skill',\n",
    "    title='Skills required for data analyst role as per naukri data',\n",
    "    color_discrete_sequence=px.colors.sequential.Blues_r,  # Using blues color scheme\n",
    "    hover_data=['Count']  # Show count on hover\n",
    ")\n",
    "\n",
    "# Update layout for better appearance\n",
    "fig.update_layout(\n",
    "    title_font_family=\"monospace\",\n",
    "    title_x=0.5,  # Center the title\n",
    "    margin=dict(t=80, b=20, l=20, r=20)\n",
    ")\n",
    "\n",
    "# Make the chart interactive with labels outside and percentages inside\n",
    "fig.update_traces(\n",
    "    textposition='outside',  # Put labels outside\n",
    "    textinfo='percent',      # Show only percentages inside\n",
    "    hoverinfo='label+percent+value',\n",
    "    pull=[0.05 if i == 0 else 0 for i in range(len(index))]  # Pull out the first slice slightly\n",
    ")\n",
    "\n",
    "# Add the labels to the legend instead of on the pie\n",
    "fig.update_layout(showlegend=True)\n",
    "\n",
    "fig.show()"
   ]
  },
  {
   "cell_type": "markdown",
   "id": "fee1e167-af96-4ce2-889f-31e44a44ca6e",
   "metadata": {},
   "source": [
    "Steps to data visualization:\n",
    "- get the things done\n",
    "- show the graph ||.plot\n",
    "- finalize the visualization format\n",
    "- select the appropriate colors , themes font , etc\n",
    "- seaborn and plotly to finalize it\n",
    "\n",
    "     1. Matplotlib\n",
    "     2. seaborn\n",
    "     3. plotly\n",
    "     4. dash/dask"
   ]
  },
  {
   "cell_type": "markdown",
   "id": "9c1c17d2-5a25-440d-ae42-65e9fe33dc53",
   "metadata": {},
   "source": [
    "### Further Analysis"
   ]
  },
  {
   "cell_type": "code",
   "execution_count": 118,
   "id": "7dfada04-e450-42c2-b5ec-2efc187147c9",
   "metadata": {},
   "outputs": [
    {
     "data": {
      "text/plain": [
       "Text(0.5, 1.0, 'years of experience vs Number of jobs')"
      ]
     },
     "execution_count": 118,
     "metadata": {},
     "output_type": "execute_result"
    },
    {
     "data": {
      "image/png": "[encoded data removed]",
      "text/plain": [
       "<Figure size 1200x800 with 1 Axes>"
      ]
     },
     "metadata": {},
     "output_type": "display_data"
    }
   ],
   "source": [
    "experience = []\n",
    "job_counts = []\n",
    "for exp in range(0,32):\n",
    "    experience.append(exp)\n",
    "    job_counts.append(len(df[(df['max_exp'] >= exp) & (df['min_exp'] <= exp)]))\n",
    "plt.figure(figsize = (12,8))\n",
    "plt.style.use('default')\n",
    "plt.grid(True)\n",
    "plt.bar(experience, job_counts, color = 'blue')\n",
    "plt.xlabel(\"Year's of experience\")\n",
    "plt.ylabel(\"Number of jobs\")\n",
    "plt.title(\"years of experience vs Number of jobs\", font = 'monospace')"
   ]
  },
  {
   "cell_type": "markdown",
   "id": "d36a40ec-f864-4444-a606-ae9083737b29",
   "metadata": {},
   "source": [
    "### Year's of Experience vs. Number of Jobs\n",
    "- The highest demand in the job market is for candidates with 4-6 years of experience, peaking at 5 years.\r\n",
    "- \r\n",
    "Jobs requiring 0-3 years of experience also show strong demand, indicating good opportunities for early-career professional\n",
    "-  After 6 years, the number of job opportunities gradually decreases, suggesting that mid-level positions dominate the market, while senior roles (10+ years) become progressively fewer.\n",
    "-  Niche or leadership positions for candidates with 15+ years of experience exist but are significantly limited.mited."
   ]
  },
  {
   "cell_type": "markdown",
   "id": "9bd7791e-4d40-4fe2-95ff-7ddcccea34f2",
   "metadata": {},
   "source": [
    "## Conclusion:\n",
    " the job market is centered around **mid-level experience**, with **early-career roles** also in demand. Professinals should focus on skill development within 4-6 year window to leverage maximum job opportunities"
   ]
  },
  {
   "cell_type": "markdown",
   "id": "5606c94a-aa5e-4f83-af40-a7d227b0f088",
   "metadata": {},
   "source": [
    "### Average Salary of data analyst\n"
   ]
  },
  {
   "cell_type": "code",
   "execution_count": 119,
   "id": "38c57bdc-49af-4b1c-92e5-9ca03e841d7d",
   "metadata": {},
   "outputs": [
    {
     "data": {
      "text/html": [
       "<div>\n",
       "<style scoped>\n",
       "    .dataframe tbody tr th:only-of-type {\n",
       "        vertical-align: middle;\n",
       "    }\n",
       "\n",
       "    .dataframe tbody tr th {\n",
       "        vertical-align: top;\n",
       "    }\n",
       "\n",
       "    .dataframe thead th {\n",
       "        text-align: right;\n",
       "    }\n",
       "</style>\n",
       "<table border=\"1\" class=\"dataframe\">\n",
       "  <thead>\n",
       "    <tr style=\"text-align: right;\">\n",
       "      <th></th>\n",
       "      <th>job_id</th>\n",
       "      <th>job_role</th>\n",
       "      <th>company</th>\n",
       "      <th>location</th>\n",
       "      <th>rating</th>\n",
       "      <th>reviews</th>\n",
       "      <th>responsibilities</th>\n",
       "      <th>min_exp</th>\n",
       "      <th>max_exp</th>\n",
       "      <th>min_salary</th>\n",
       "      <th>max_salary</th>\n",
       "      <th>clean_location</th>\n",
       "      <th>rating_review_filter</th>\n",
       "    </tr>\n",
       "  </thead>\n",
       "  <tbody>\n",
       "    <tr>\n",
       "      <th>78</th>\n",
       "      <td>60123007052</td>\n",
       "      <td>Data Analyst</td>\n",
       "      <td>Publicis Groupe</td>\n",
       "      <td>Pune, Ahmedabad, Gurgaon/Gurugram, Bangalore/B...</td>\n",
       "      <td>3.7</td>\n",
       "      <td>2060</td>\n",
       "      <td>Big query,Data Mining,SQL,Statistical Modeling...</td>\n",
       "      <td>3</td>\n",
       "      <td>5</td>\n",
       "      <td>800000</td>\n",
       "      <td>1200000</td>\n",
       "      <td>[Pune, Ahmedabad, Gurgaon, Gurugram, Bangalore...</td>\n",
       "      <td>1854.37</td>\n",
       "    </tr>\n",
       "    <tr>\n",
       "      <th>3299</th>\n",
       "      <td>50123007014</td>\n",
       "      <td>Data Analyst</td>\n",
       "      <td>Omniactive Health Technologies</td>\n",
       "      <td>Mumbai(Lower Parel)</td>\n",
       "      <td>4.0</td>\n",
       "      <td>121</td>\n",
       "      <td>excel,data analysis,power bi,market data,sales...</td>\n",
       "      <td>3</td>\n",
       "      <td>7</td>\n",
       "      <td>800000</td>\n",
       "      <td>1300000</td>\n",
       "      <td>[Mumbai(Lower, Parel)]</td>\n",
       "      <td>109.30</td>\n",
       "    </tr>\n",
       "    <tr>\n",
       "      <th>5648</th>\n",
       "      <td>200722010262</td>\n",
       "      <td>Data Analyst</td>\n",
       "      <td>Quickxpert Infotech</td>\n",
       "      <td>Kolkata, Indore, Hyderabad/Secunderabad, Pune,...</td>\n",
       "      <td>3.6</td>\n",
       "      <td>28</td>\n",
       "      <td>SQL,python,C++,C,it,trainee,data analyst,bcom</td>\n",
       "      <td>0</td>\n",
       "      <td>5</td>\n",
       "      <td>Not disclosed</td>\n",
       "      <td>Not disclosed</td>\n",
       "      <td>[Kolkata, Indore, Hyderabad, Secunderabad, Pun...</td>\n",
       "      <td>25.56</td>\n",
       "    </tr>\n",
       "    <tr>\n",
       "      <th>7804</th>\n",
       "      <td>291222005437</td>\n",
       "      <td>Data Analyst</td>\n",
       "      <td>GlobalLogic</td>\n",
       "      <td>Hyderabad/Secunderabad</td>\n",
       "      <td>4.0</td>\n",
       "      <td>14</td>\n",
       "      <td>2D,Lidar,labelling,Annotation,verbal communica...</td>\n",
       "      <td>1</td>\n",
       "      <td>3</td>\n",
       "      <td>250000</td>\n",
       "      <td>275000</td>\n",
       "      <td>[Hyderabad, Secunderabad]</td>\n",
       "      <td>13.00</td>\n",
       "    </tr>\n",
       "    <tr>\n",
       "      <th>13106</th>\n",
       "      <td>70123500597</td>\n",
       "      <td>Data Analyst</td>\n",
       "      <td>Target</td>\n",
       "      <td>Bangalore/Bengaluru</td>\n",
       "      <td>4.4</td>\n",
       "      <td>391</td>\n",
       "      <td>Product management,Change management,Database ...</td>\n",
       "      <td>2</td>\n",
       "      <td>4</td>\n",
       "      <td>Not disclosed</td>\n",
       "      <td>Not disclosed</td>\n",
       "      <td>[Bangalore, Bengaluru]</td>\n",
       "      <td>352.34</td>\n",
       "    </tr>\n",
       "    <tr>\n",
       "      <th>13483</th>\n",
       "      <td>60123501581</td>\n",
       "      <td>Data Analyst</td>\n",
       "      <td>Hackerearth</td>\n",
       "      <td>Bangalore/Bengaluru</td>\n",
       "      <td>4.0</td>\n",
       "      <td>23</td>\n",
       "      <td>Data analysis,Data validation,GIT,Web analytic...</td>\n",
       "      <td>2</td>\n",
       "      <td>5</td>\n",
       "      <td>Not disclosed</td>\n",
       "      <td>Not disclosed</td>\n",
       "      <td>[Bangalore, Bengaluru]</td>\n",
       "      <td>21.10</td>\n",
       "    </tr>\n",
       "    <tr>\n",
       "      <th>17019</th>\n",
       "      <td>71122001529</td>\n",
       "      <td>Data Analyst</td>\n",
       "      <td>Cointab Software</td>\n",
       "      <td>Mumbai Suburban, Mumbai (All Areas)</td>\n",
       "      <td>2.3</td>\n",
       "      <td>2</td>\n",
       "      <td>data analysis,Python,Financial Reporting,Finan...</td>\n",
       "      <td>0</td>\n",
       "      <td>2</td>\n",
       "      <td>Not disclosed</td>\n",
       "      <td>Not disclosed</td>\n",
       "      <td>[Mumbai, Suburban, Mumbai]</td>\n",
       "      <td>2.03</td>\n",
       "    </tr>\n",
       "    <tr>\n",
       "      <th>17062</th>\n",
       "      <td>70123500879</td>\n",
       "      <td>Data Analyst</td>\n",
       "      <td>Control Risks India Pvt Ltd.</td>\n",
       "      <td>Mumbai</td>\n",
       "      <td>4.2</td>\n",
       "      <td>5</td>\n",
       "      <td>Career development,Automation,Excel,Coding,Pro...</td>\n",
       "      <td>1</td>\n",
       "      <td>3</td>\n",
       "      <td>Not disclosed</td>\n",
       "      <td>Not disclosed</td>\n",
       "      <td>[Mumbai]</td>\n",
       "      <td>4.92</td>\n",
       "    </tr>\n",
       "    <tr>\n",
       "      <th>17224</th>\n",
       "      <td>60123501955</td>\n",
       "      <td>Data Analyst</td>\n",
       "      <td>Axis My India Ltd.</td>\n",
       "      <td>Mumbai</td>\n",
       "      <td>4.4</td>\n",
       "      <td>174</td>\n",
       "      <td>Data analysis,Automation,Data collection,Marke...</td>\n",
       "      <td>1</td>\n",
       "      <td>4</td>\n",
       "      <td>Not disclosed</td>\n",
       "      <td>Not disclosed</td>\n",
       "      <td>[Mumbai]</td>\n",
       "      <td>157.04</td>\n",
       "    </tr>\n",
       "    <tr>\n",
       "      <th>17439</th>\n",
       "      <td>60123005145</td>\n",
       "      <td>Data Analyst</td>\n",
       "      <td>Instinox Llp</td>\n",
       "      <td>Mumbai</td>\n",
       "      <td>0.0</td>\n",
       "      <td>0</td>\n",
       "      <td>python,data analysis,google data studio,power ...</td>\n",
       "      <td>1</td>\n",
       "      <td>3</td>\n",
       "      <td>Not disclosed</td>\n",
       "      <td>Not disclosed</td>\n",
       "      <td>[Mumbai]</td>\n",
       "      <td>0.00</td>\n",
       "    </tr>\n",
       "    <tr>\n",
       "      <th>18575</th>\n",
       "      <td>50123009765</td>\n",
       "      <td>Data Analyst</td>\n",
       "      <td>Goldenpi Technologies</td>\n",
       "      <td>Bangalore/Bengaluru(Sector 2 HSR Layout)</td>\n",
       "      <td>0.0</td>\n",
       "      <td>0</td>\n",
       "      <td>data analysis,Power Bi,advanced excel,MIS dash...</td>\n",
       "      <td>2</td>\n",
       "      <td>4</td>\n",
       "      <td>Not disclosed</td>\n",
       "      <td>Not disclosed</td>\n",
       "      <td>[Bangalore, Bengaluru(Sector, 2, HSR, Layout)]</td>\n",
       "      <td>0.00</td>\n",
       "    </tr>\n",
       "    <tr>\n",
       "      <th>18875</th>\n",
       "      <td>40123502447</td>\n",
       "      <td>Data Analyst</td>\n",
       "      <td>Kaleidofin</td>\n",
       "      <td>Chennai, Bangalore/Bengaluru</td>\n",
       "      <td>3.7</td>\n",
       "      <td>10</td>\n",
       "      <td>Data analysis,Data management,Data modeling,Pr...</td>\n",
       "      <td>2</td>\n",
       "      <td>7</td>\n",
       "      <td>Not disclosed</td>\n",
       "      <td>Not disclosed</td>\n",
       "      <td>[Chennai, Bangalore, Bengaluru]</td>\n",
       "      <td>9.37</td>\n",
       "    </tr>\n",
       "    <tr>\n",
       "      <th>18978</th>\n",
       "      <td>40123501983</td>\n",
       "      <td>Data Analyst</td>\n",
       "      <td>Target</td>\n",
       "      <td>Bangalore/Bengaluru</td>\n",
       "      <td>4.4</td>\n",
       "      <td>391</td>\n",
       "      <td>Data analysis,Automation,Dispute resolution,Da...</td>\n",
       "      <td>3</td>\n",
       "      <td>5</td>\n",
       "      <td>Not disclosed</td>\n",
       "      <td>Not disclosed</td>\n",
       "      <td>[Bangalore, Bengaluru]</td>\n",
       "      <td>352.34</td>\n",
       "    </tr>\n",
       "    <tr>\n",
       "      <th>19105</th>\n",
       "      <td>40123501090</td>\n",
       "      <td>Data Analyst</td>\n",
       "      <td>Dronebase</td>\n",
       "      <td>Bangalore/Bengaluru</td>\n",
       "      <td>0.0</td>\n",
       "      <td>0</td>\n",
       "      <td>Zoom,written,verbal communication,Google suite...</td>\n",
       "      <td>1</td>\n",
       "      <td>3</td>\n",
       "      <td>Not disclosed</td>\n",
       "      <td>Not disclosed</td>\n",
       "      <td>[Bangalore, Bengaluru]</td>\n",
       "      <td>0.00</td>\n",
       "    </tr>\n",
       "    <tr>\n",
       "      <th>19412</th>\n",
       "      <td>40123005451</td>\n",
       "      <td>Data Analyst</td>\n",
       "      <td>LKQ India</td>\n",
       "      <td>Bangalore/Bengaluru</td>\n",
       "      <td>4.1</td>\n",
       "      <td>107</td>\n",
       "      <td>POWER BI,Dash board Development,VBA Macros,Sta...</td>\n",
       "      <td>2</td>\n",
       "      <td>6</td>\n",
       "      <td>Not disclosed</td>\n",
       "      <td>Not disclosed</td>\n",
       "      <td>[Bangalore, Bengaluru]</td>\n",
       "      <td>96.71</td>\n",
       "    </tr>\n",
       "    <tr>\n",
       "      <th>20828</th>\n",
       "      <td>60123502328</td>\n",
       "      <td>Data Analyst</td>\n",
       "      <td>Nichepro Technologies Pvt.ltd.</td>\n",
       "      <td>Noida</td>\n",
       "      <td>3.1</td>\n",
       "      <td>9</td>\n",
       "      <td>Customer acquisition,Excel,MS Access,Analytica...</td>\n",
       "      <td>2</td>\n",
       "      <td>5</td>\n",
       "      <td>Not disclosed</td>\n",
       "      <td>Not disclosed</td>\n",
       "      <td>[Noida]</td>\n",
       "      <td>8.41</td>\n",
       "    </tr>\n",
       "    <tr>\n",
       "      <th>22137</th>\n",
       "      <td>40123502324</td>\n",
       "      <td>Data Analyst</td>\n",
       "      <td>Onit</td>\n",
       "      <td>Pune</td>\n",
       "      <td>4.5</td>\n",
       "      <td>10</td>\n",
       "      <td>BeautifulSoup,data analytics,Excel,SQL,Pandas,...</td>\n",
       "      <td>0</td>\n",
       "      <td>2</td>\n",
       "      <td>Not disclosed</td>\n",
       "      <td>Not disclosed</td>\n",
       "      <td>[Pune]</td>\n",
       "      <td>9.45</td>\n",
       "    </tr>\n",
       "    <tr>\n",
       "      <th>22312</th>\n",
       "      <td>60123912293</td>\n",
       "      <td>Data Analyst</td>\n",
       "      <td>CliqHR Recruitment Services</td>\n",
       "      <td>Hybrid - Hyderabad/Secunderabad, Pune, Chennai...</td>\n",
       "      <td>0.0</td>\n",
       "      <td>0</td>\n",
       "      <td>Python,data analysis,data governance,Data Analyst</td>\n",
       "      <td>4</td>\n",
       "      <td>8</td>\n",
       "      <td>Not disclosed</td>\n",
       "      <td>Not disclosed</td>\n",
       "      <td>[Hybrid, -, Hyderabad, Secunderabad, Pune, Che...</td>\n",
       "      <td>0.00</td>\n",
       "    </tr>\n",
       "    <tr>\n",
       "      <th>22318</th>\n",
       "      <td>60123911549</td>\n",
       "      <td>Data Analyst</td>\n",
       "      <td>CliqHR Recruitment Services</td>\n",
       "      <td>Hyderabad/Secunderabad, Pune, Bangalore/Bengaluru</td>\n",
       "      <td>0.0</td>\n",
       "      <td>0</td>\n",
       "      <td>Data analysis,Agile methodologies,Data / Busin...</td>\n",
       "      <td>5</td>\n",
       "      <td>10</td>\n",
       "      <td>Not disclosed</td>\n",
       "      <td>Not disclosed</td>\n",
       "      <td>[Hyderabad, Secunderabad, Pune, Bangalore, Ben...</td>\n",
       "      <td>0.00</td>\n",
       "    </tr>\n",
       "    <tr>\n",
       "      <th>23058</th>\n",
       "      <td>40123501619</td>\n",
       "      <td>Data Analyst</td>\n",
       "      <td>Quess It Staffing</td>\n",
       "      <td>Mumbai</td>\n",
       "      <td>3.6</td>\n",
       "      <td>44</td>\n",
       "      <td>Business services,Data analysis,tableau,Staffi...</td>\n",
       "      <td>2</td>\n",
       "      <td>5</td>\n",
       "      <td>Not disclosed</td>\n",
       "      <td>Not disclosed</td>\n",
       "      <td>[Mumbai]</td>\n",
       "      <td>39.96</td>\n",
       "    </tr>\n",
       "    <tr>\n",
       "      <th>23210</th>\n",
       "      <td>40123006352</td>\n",
       "      <td>Data Analyst</td>\n",
       "      <td>Ergode It Services</td>\n",
       "      <td>Navi Mumbai, Mumbai (All Areas)</td>\n",
       "      <td>3.9</td>\n",
       "      <td>215</td>\n",
       "      <td>Excel,Data Analysis,Dashboards,Data Analytics,...</td>\n",
       "      <td>0</td>\n",
       "      <td>2</td>\n",
       "      <td>Not disclosed</td>\n",
       "      <td>Not disclosed</td>\n",
       "      <td>[Navi, Mumbai, Mumbai]</td>\n",
       "      <td>193.89</td>\n",
       "    </tr>\n",
       "    <tr>\n",
       "      <th>23869</th>\n",
       "      <td>301222907372</td>\n",
       "      <td>Data Analyst</td>\n",
       "      <td>Shell</td>\n",
       "      <td>Bangalore/Bengaluru</td>\n",
       "      <td>4.4</td>\n",
       "      <td>1259</td>\n",
       "      <td>Data Analysis,Data Quality,Data Management,dat...</td>\n",
       "      <td>3</td>\n",
       "      <td>6</td>\n",
       "      <td>Not disclosed</td>\n",
       "      <td>Not disclosed</td>\n",
       "      <td>[Bangalore, Bengaluru]</td>\n",
       "      <td>1133.54</td>\n",
       "    </tr>\n",
       "    <tr>\n",
       "      <th>24850</th>\n",
       "      <td>271022006742</td>\n",
       "      <td>Data Analyst</td>\n",
       "      <td>Maruti Suzuki</td>\n",
       "      <td>Gurgaon/Gurugram</td>\n",
       "      <td>4.2</td>\n",
       "      <td>5788</td>\n",
       "      <td>data analysis,sql,r studio,database analysis,p...</td>\n",
       "      <td>3</td>\n",
       "      <td>7</td>\n",
       "      <td>Not disclosed</td>\n",
       "      <td>Not disclosed</td>\n",
       "      <td>[Gurgaon, Gurugram]</td>\n",
       "      <td>5209.62</td>\n",
       "    </tr>\n",
       "    <tr>\n",
       "      <th>25040</th>\n",
       "      <td>70123500756</td>\n",
       "      <td>Data Analyst</td>\n",
       "      <td>Arcadia</td>\n",
       "      <td>Chennai</td>\n",
       "      <td>0.0</td>\n",
       "      <td>0</td>\n",
       "      <td>MS Excel,Microsoft Office,Excel,PowerPoint,SQL...</td>\n",
       "      <td>0</td>\n",
       "      <td>2</td>\n",
       "      <td>Not disclosed</td>\n",
       "      <td>Not disclosed</td>\n",
       "      <td>[Chennai]</td>\n",
       "      <td>0.00</td>\n",
       "    </tr>\n",
       "    <tr>\n",
       "      <th>25231</th>\n",
       "      <td>60123501179</td>\n",
       "      <td>Data Analyst</td>\n",
       "      <td>S&amp;P Global Inc.</td>\n",
       "      <td>Ahmedabad</td>\n",
       "      <td>5.0</td>\n",
       "      <td>3</td>\n",
       "      <td>Word,oral,MS - office,PowerPoint,communication...</td>\n",
       "      <td>0</td>\n",
       "      <td>6</td>\n",
       "      <td>Not disclosed</td>\n",
       "      <td>Not disclosed</td>\n",
       "      <td>[Ahmedabad]</td>\n",
       "      <td>3.20</td>\n",
       "    </tr>\n",
       "    <tr>\n",
       "      <th>27303</th>\n",
       "      <td>40123500516</td>\n",
       "      <td>Data Analyst</td>\n",
       "      <td>PubMatic</td>\n",
       "      <td>Pune</td>\n",
       "      <td>4.4</td>\n",
       "      <td>58</td>\n",
       "      <td>MS Access,Business analysis,MIS,Analytical,Bil...</td>\n",
       "      <td>3</td>\n",
       "      <td>8</td>\n",
       "      <td>Not disclosed</td>\n",
       "      <td>Not disclosed</td>\n",
       "      <td>[Pune]</td>\n",
       "      <td>52.64</td>\n",
       "    </tr>\n",
       "    <tr>\n",
       "      <th>27526</th>\n",
       "      <td>30123501132</td>\n",
       "      <td>Data Analyst</td>\n",
       "      <td>Radical Technologies</td>\n",
       "      <td>Pune</td>\n",
       "      <td>0.0</td>\n",
       "      <td>0</td>\n",
       "      <td>MS SQL,Informatica,RDBMS,SSIS,Jasper BI,Tablea...</td>\n",
       "      <td>2</td>\n",
       "      <td>7</td>\n",
       "      <td>Not disclosed</td>\n",
       "      <td>Not disclosed</td>\n",
       "      <td>[Pune]</td>\n",
       "      <td>0.00</td>\n",
       "    </tr>\n",
       "    <tr>\n",
       "      <th>27695</th>\n",
       "      <td>20123501773</td>\n",
       "      <td>Data Analyst</td>\n",
       "      <td>Radical Technologies</td>\n",
       "      <td>Pune</td>\n",
       "      <td>0.0</td>\n",
       "      <td>0</td>\n",
       "      <td>Data Analytics,Power BI,DAX,SQL,Python,SharePo...</td>\n",
       "      <td>2</td>\n",
       "      <td>4</td>\n",
       "      <td>Not disclosed</td>\n",
       "      <td>Not disclosed</td>\n",
       "      <td>[Pune]</td>\n",
       "      <td>0.00</td>\n",
       "    </tr>\n",
       "    <tr>\n",
       "      <th>27922</th>\n",
       "      <td>20123500656</td>\n",
       "      <td>Data Analyst</td>\n",
       "      <td>24dimensions</td>\n",
       "      <td>Pune</td>\n",
       "      <td>0.0</td>\n",
       "      <td>0</td>\n",
       "      <td>Operations management,Team Lead Operations,onl...</td>\n",
       "      <td>7</td>\n",
       "      <td>10</td>\n",
       "      <td>Not disclosed</td>\n",
       "      <td>Not disclosed</td>\n",
       "      <td>[Pune]</td>\n",
       "      <td>0.00</td>\n",
       "    </tr>\n",
       "    <tr>\n",
       "      <th>28472</th>\n",
       "      <td>291222501104</td>\n",
       "      <td>Data Analyst</td>\n",
       "      <td>Vashi Integrated Solutions</td>\n",
       "      <td>Mumbai</td>\n",
       "      <td>4.0</td>\n",
       "      <td>136</td>\n",
       "      <td>Business objects,SAS,Process improvement,XML,J...</td>\n",
       "      <td>2</td>\n",
       "      <td>7</td>\n",
       "      <td>Not disclosed</td>\n",
       "      <td>Not disclosed</td>\n",
       "      <td>[Mumbai]</td>\n",
       "      <td>122.80</td>\n",
       "    </tr>\n",
       "    <tr>\n",
       "      <th>30983</th>\n",
       "      <td>70123004000</td>\n",
       "      <td>Data Analyst</td>\n",
       "      <td>Pragmath</td>\n",
       "      <td>Permanent Remote</td>\n",
       "      <td>0.0</td>\n",
       "      <td>0</td>\n",
       "      <td>Excel,Data Analysis,SQL,Business Intelligence,...</td>\n",
       "      <td>2</td>\n",
       "      <td>4</td>\n",
       "      <td>500000</td>\n",
       "      <td>750000</td>\n",
       "      <td>[Permanent, Remote]</td>\n",
       "      <td>0.00</td>\n",
       "    </tr>\n",
       "    <tr>\n",
       "      <th>31381</th>\n",
       "      <td>60123502074</td>\n",
       "      <td>Data Analyst</td>\n",
       "      <td>Redwind Technology</td>\n",
       "      <td>Surat</td>\n",
       "      <td>0.0</td>\n",
       "      <td>0</td>\n",
       "      <td>Data analysis,Coding,Process improvement,data ...</td>\n",
       "      <td>1</td>\n",
       "      <td>4</td>\n",
       "      <td>Not disclosed</td>\n",
       "      <td>Not disclosed</td>\n",
       "      <td>[Surat]</td>\n",
       "      <td>0.00</td>\n",
       "    </tr>\n",
       "    <tr>\n",
       "      <th>31436</th>\n",
       "      <td>60123501578</td>\n",
       "      <td>Data Analyst</td>\n",
       "      <td>Futures First</td>\n",
       "      <td>Jaipur</td>\n",
       "      <td>3.5</td>\n",
       "      <td>52</td>\n",
       "      <td>Data analysis,Linux,Simulation,Data structures...</td>\n",
       "      <td>1</td>\n",
       "      <td>3</td>\n",
       "      <td>Not disclosed</td>\n",
       "      <td>Not disclosed</td>\n",
       "      <td>[Jaipur]</td>\n",
       "      <td>47.15</td>\n",
       "    </tr>\n",
       "    <tr>\n",
       "      <th>31540</th>\n",
       "      <td>60123500903</td>\n",
       "      <td>Data Analyst</td>\n",
       "      <td>Webhelp India</td>\n",
       "      <td>Gurgaon/Gurugram</td>\n",
       "      <td>4.1</td>\n",
       "      <td>380</td>\n",
       "      <td>MS - Excel,data modelling,Advance Excel,writte...</td>\n",
       "      <td>1</td>\n",
       "      <td>3</td>\n",
       "      <td>Not disclosed</td>\n",
       "      <td>Not disclosed</td>\n",
       "      <td>[Gurgaon, Gurugram]</td>\n",
       "      <td>342.41</td>\n",
       "    </tr>\n",
       "    <tr>\n",
       "      <th>31683</th>\n",
       "      <td>60123500343</td>\n",
       "      <td>Data Analyst</td>\n",
       "      <td>Feathersoft Info Solutions</td>\n",
       "      <td>Kochi/Cochin</td>\n",
       "      <td>4.1</td>\n",
       "      <td>25</td>\n",
       "      <td>R,data analytics,written,Power BI,Tableau,SQL,...</td>\n",
       "      <td>1</td>\n",
       "      <td>2</td>\n",
       "      <td>Not disclosed</td>\n",
       "      <td>Not disclosed</td>\n",
       "      <td>[Kochi, Cochin]</td>\n",
       "      <td>22.91</td>\n",
       "    </tr>\n",
       "    <tr>\n",
       "      <th>32096</th>\n",
       "      <td>60123007830</td>\n",
       "      <td>Data Analyst</td>\n",
       "      <td>Lemniscate Technologies</td>\n",
       "      <td>Faridabad</td>\n",
       "      <td>4.4</td>\n",
       "      <td>3</td>\n",
       "      <td>Quantum,DV,spss,Advanced Excel,excel,It Knowle...</td>\n",
       "      <td>2</td>\n",
       "      <td>3</td>\n",
       "      <td>Not disclosed</td>\n",
       "      <td>Not disclosed</td>\n",
       "      <td>[Faridabad]</td>\n",
       "      <td>3.14</td>\n",
       "    </tr>\n",
       "    <tr>\n",
       "      <th>32458</th>\n",
       "      <td>50123908135</td>\n",
       "      <td>Data Analyst</td>\n",
       "      <td>Webhelp</td>\n",
       "      <td>Gurgaon/Gurugram, Gurgaon</td>\n",
       "      <td>4.1</td>\n",
       "      <td>380</td>\n",
       "      <td>power query,Data analyst,Communication Skills,...</td>\n",
       "      <td>2</td>\n",
       "      <td>5</td>\n",
       "      <td>Not disclosed</td>\n",
       "      <td>Not disclosed</td>\n",
       "      <td>[Gurgaon, Gurugram, Gurgaon]</td>\n",
       "      <td>342.41</td>\n",
       "    </tr>\n",
       "    <tr>\n",
       "      <th>32998</th>\n",
       "      <td>40123502218</td>\n",
       "      <td>Data Analyst</td>\n",
       "      <td>Bluebox Infosoft</td>\n",
       "      <td>Vadodara</td>\n",
       "      <td>4.7</td>\n",
       "      <td>9</td>\n",
       "      <td>Word,verbal,MS Office,written,Excel,CRM,commun...</td>\n",
       "      <td>0</td>\n",
       "      <td>3</td>\n",
       "      <td>Not disclosed</td>\n",
       "      <td>Not disclosed</td>\n",
       "      <td>[Vadodara]</td>\n",
       "      <td>8.57</td>\n",
       "    </tr>\n",
       "    <tr>\n",
       "      <th>34186</th>\n",
       "      <td>50123501765</td>\n",
       "      <td>Data Analyst</td>\n",
       "      <td>Transunion</td>\n",
       "      <td>Hyderabad/Secunderabad</td>\n",
       "      <td>4.3</td>\n",
       "      <td>144</td>\n",
       "      <td>Linux,Tableau,analysis,GCP,communication,MS - ...</td>\n",
       "      <td>3</td>\n",
       "      <td>4</td>\n",
       "      <td>Not disclosed</td>\n",
       "      <td>Not disclosed</td>\n",
       "      <td>[Hyderabad, Secunderabad]</td>\n",
       "      <td>130.03</td>\n",
       "    </tr>\n",
       "    <tr>\n",
       "      <th>34689</th>\n",
       "      <td>30123011623</td>\n",
       "      <td>Data Analyst</td>\n",
       "      <td>Forwood Safety</td>\n",
       "      <td>Permanent Remote</td>\n",
       "      <td>4.7</td>\n",
       "      <td>9</td>\n",
       "      <td>Power Bi,Tableau,AWS quicksight,Athena,Redshift</td>\n",
       "      <td>3</td>\n",
       "      <td>7</td>\n",
       "      <td>Not disclosed</td>\n",
       "      <td>Not disclosed</td>\n",
       "      <td>[Permanent, Remote]</td>\n",
       "      <td>8.57</td>\n",
       "    </tr>\n",
       "    <tr>\n",
       "      <th>35374</th>\n",
       "      <td>291222502048</td>\n",
       "      <td>Data Analyst</td>\n",
       "      <td>Quess It Staffing</td>\n",
       "      <td>Pune</td>\n",
       "      <td>3.6</td>\n",
       "      <td>44</td>\n",
       "      <td>Business services,Web technologies,Data manage...</td>\n",
       "      <td>2</td>\n",
       "      <td>5</td>\n",
       "      <td>Not disclosed</td>\n",
       "      <td>Not disclosed</td>\n",
       "      <td>[Pune]</td>\n",
       "      <td>39.96</td>\n",
       "    </tr>\n",
       "    <tr>\n",
       "      <th>35617</th>\n",
       "      <td>30123008681</td>\n",
       "      <td>Data Analyst</td>\n",
       "      <td>Rewise Analytics &amp; Technologies</td>\n",
       "      <td>Pune</td>\n",
       "      <td>3.5</td>\n",
       "      <td>27</td>\n",
       "      <td>SQL,excel,Tableau,Power Bi</td>\n",
       "      <td>2</td>\n",
       "      <td>6</td>\n",
       "      <td>Not disclosed</td>\n",
       "      <td>Not disclosed</td>\n",
       "      <td>[Pune]</td>\n",
       "      <td>24.65</td>\n",
       "    </tr>\n",
       "    <tr>\n",
       "      <th>36591</th>\n",
       "      <td>50123912898</td>\n",
       "      <td>Data Analyst</td>\n",
       "      <td>Varite India Pvt. Ltd.</td>\n",
       "      <td>Bangalore/Bengaluru</td>\n",
       "      <td>0.0</td>\n",
       "      <td>0</td>\n",
       "      <td>SQL,functional specifications,backup managemen...</td>\n",
       "      <td>3</td>\n",
       "      <td>5</td>\n",
       "      <td>Not disclosed</td>\n",
       "      <td>Not disclosed</td>\n",
       "      <td>[Bangalore, Bengaluru]</td>\n",
       "      <td>0.00</td>\n",
       "    </tr>\n",
       "    <tr>\n",
       "      <th>43704</th>\n",
       "      <td>50123500779</td>\n",
       "      <td>Data Analyst</td>\n",
       "      <td>NatWest Markets</td>\n",
       "      <td>Chennai</td>\n",
       "      <td>4.1</td>\n",
       "      <td>157</td>\n",
       "      <td>Data analysis,Data migration,Data management,D...</td>\n",
       "      <td>2</td>\n",
       "      <td>5</td>\n",
       "      <td>Not disclosed</td>\n",
       "      <td>Not disclosed</td>\n",
       "      <td>[Chennai]</td>\n",
       "      <td>141.71</td>\n",
       "    </tr>\n",
       "    <tr>\n",
       "      <th>43705</th>\n",
       "      <td>50123500778</td>\n",
       "      <td>Data Analyst</td>\n",
       "      <td>NatWest Markets</td>\n",
       "      <td>Gurgaon/Gurugram</td>\n",
       "      <td>4.1</td>\n",
       "      <td>157</td>\n",
       "      <td>Data analysis,Data migration,Data management,D...</td>\n",
       "      <td>2</td>\n",
       "      <td>5</td>\n",
       "      <td>Not disclosed</td>\n",
       "      <td>Not disclosed</td>\n",
       "      <td>[Gurgaon, Gurugram]</td>\n",
       "      <td>141.71</td>\n",
       "    </tr>\n",
       "    <tr>\n",
       "      <th>46268</th>\n",
       "      <td>30123500707</td>\n",
       "      <td>Data Analyst</td>\n",
       "      <td>Smartanalyst India Pvt Ltd</td>\n",
       "      <td>Gurgaon/Gurugram</td>\n",
       "      <td>3.4</td>\n",
       "      <td>73</td>\n",
       "      <td>Consulting,Machine learning,Data structures,He...</td>\n",
       "      <td>3</td>\n",
       "      <td>8</td>\n",
       "      <td>Not disclosed</td>\n",
       "      <td>Not disclosed</td>\n",
       "      <td>[Gurgaon, Gurugram]</td>\n",
       "      <td>66.04</td>\n",
       "    </tr>\n",
       "    <tr>\n",
       "      <th>47932</th>\n",
       "      <td>20123001928</td>\n",
       "      <td>Data Analyst</td>\n",
       "      <td>RAVR INDUSTRIES PVT LTD</td>\n",
       "      <td>Pondicherry/Puducherry</td>\n",
       "      <td>0.0</td>\n",
       "      <td>0</td>\n",
       "      <td>Excel,Communication Skills,Presentation Skills...</td>\n",
       "      <td>1</td>\n",
       "      <td>5</td>\n",
       "      <td>150000</td>\n",
       "      <td>300000</td>\n",
       "      <td>[Pondicherry, Puducherry]</td>\n",
       "      <td>0.00</td>\n",
       "    </tr>\n",
       "    <tr>\n",
       "      <th>50276</th>\n",
       "      <td>60123005209</td>\n",
       "      <td>Data Analyst</td>\n",
       "      <td>Prohub Technologies</td>\n",
       "      <td>Bangalore/Bengaluru</td>\n",
       "      <td>0.0</td>\n",
       "      <td>0</td>\n",
       "      <td>Advanced Excel,Strong Analytical Skills,SQL,Ad...</td>\n",
       "      <td>1</td>\n",
       "      <td>3</td>\n",
       "      <td>50000</td>\n",
       "      <td>300000</td>\n",
       "      <td>[Bangalore, Bengaluru]</td>\n",
       "      <td>0.00</td>\n",
       "    </tr>\n",
       "    <tr>\n",
       "      <th>51868</th>\n",
       "      <td>301222908164</td>\n",
       "      <td>Data Analyst</td>\n",
       "      <td>Megma Services</td>\n",
       "      <td>Delhi / NCR</td>\n",
       "      <td>0.0</td>\n",
       "      <td>0</td>\n",
       "      <td>Data Analysis,planning,Purchase,Sales,Xcel,Tab...</td>\n",
       "      <td>2</td>\n",
       "      <td>4</td>\n",
       "      <td>Not disclosed</td>\n",
       "      <td>Not disclosed</td>\n",
       "      <td>[Delhi, , , NCR]</td>\n",
       "      <td>0.00</td>\n",
       "    </tr>\n",
       "    <tr>\n",
       "      <th>52025</th>\n",
       "      <td>301222501690</td>\n",
       "      <td>Data Analyst</td>\n",
       "      <td>Thirstycrew Solutions</td>\n",
       "      <td>Chennai</td>\n",
       "      <td>0.0</td>\n",
       "      <td>0</td>\n",
       "      <td>SQL Server DTS,SMP server,SQL Server Integrati...</td>\n",
       "      <td>4</td>\n",
       "      <td>9</td>\n",
       "      <td>Not disclosed</td>\n",
       "      <td>Not disclosed</td>\n",
       "      <td>[Chennai]</td>\n",
       "      <td>0.00</td>\n",
       "    </tr>\n",
       "    <tr>\n",
       "      <th>55294</th>\n",
       "      <td>30123004972</td>\n",
       "      <td>Data Analyst</td>\n",
       "      <td>Express Roadways</td>\n",
       "      <td>New Delhi(Rohini), Gurgaon/Gurugram</td>\n",
       "      <td>3.6</td>\n",
       "      <td>75</td>\n",
       "      <td>Macros,VLOOKUP,Formulas,Advanced Excel,Dashboa...</td>\n",
       "      <td>1</td>\n",
       "      <td>3</td>\n",
       "      <td>50000</td>\n",
       "      <td>250000</td>\n",
       "      <td>[New, Delhi(Rohini), Gurgaon, Gurugram]</td>\n",
       "      <td>67.86</td>\n",
       "    </tr>\n",
       "    <tr>\n",
       "      <th>57051</th>\n",
       "      <td>40123908165</td>\n",
       "      <td>Data Analyst</td>\n",
       "      <td>Megma Services</td>\n",
       "      <td>Mumbai</td>\n",
       "      <td>0.0</td>\n",
       "      <td>0</td>\n",
       "      <td>Data Analysis,software applications,Excel,MIS,...</td>\n",
       "      <td>1</td>\n",
       "      <td>6</td>\n",
       "      <td>Not disclosed</td>\n",
       "      <td>Not disclosed</td>\n",
       "      <td>[Mumbai]</td>\n",
       "      <td>0.00</td>\n",
       "    </tr>\n",
       "    <tr>\n",
       "      <th>60805</th>\n",
       "      <td>301222909695</td>\n",
       "      <td>Data Analyst</td>\n",
       "      <td>Alpha Orion</td>\n",
       "      <td>Mumbai</td>\n",
       "      <td>0.0</td>\n",
       "      <td>0</td>\n",
       "      <td>Data Analytics,MIS,Data Management,Data Visual...</td>\n",
       "      <td>1</td>\n",
       "      <td>4</td>\n",
       "      <td>Not disclosed</td>\n",
       "      <td>Not disclosed</td>\n",
       "      <td>[Mumbai]</td>\n",
       "      <td>0.00</td>\n",
       "    </tr>\n",
       "    <tr>\n",
       "      <th>64699</th>\n",
       "      <td>240822006673</td>\n",
       "      <td>Data Analyst</td>\n",
       "      <td>Sun Consultants</td>\n",
       "      <td>Thane</td>\n",
       "      <td>0.0</td>\n",
       "      <td>0</td>\n",
       "      <td>Excel,SQL,Data Analysis,Data Analyst</td>\n",
       "      <td>4</td>\n",
       "      <td>6</td>\n",
       "      <td>400000</td>\n",
       "      <td>800000</td>\n",
       "      <td>[Thane]</td>\n",
       "      <td>0.00</td>\n",
       "    </tr>\n",
       "    <tr>\n",
       "      <th>65752</th>\n",
       "      <td>60123005402</td>\n",
       "      <td>Data Analyst</td>\n",
       "      <td>Talchemy Solutions Llp</td>\n",
       "      <td>Noida</td>\n",
       "      <td>0.0</td>\n",
       "      <td>0</td>\n",
       "      <td>Azure Data Factory,SSIS,adf,Azure Data Warehou...</td>\n",
       "      <td>2</td>\n",
       "      <td>6</td>\n",
       "      <td>1200000</td>\n",
       "      <td>1800000</td>\n",
       "      <td>[Noida]</td>\n",
       "      <td>0.00</td>\n",
       "    </tr>\n",
       "    <tr>\n",
       "      <th>66062</th>\n",
       "      <td>50123010636</td>\n",
       "      <td>Data Analyst</td>\n",
       "      <td>The Career Next</td>\n",
       "      <td>New Delhi, Delhi / NCR, Gurgaon/Gurugram</td>\n",
       "      <td>0.0</td>\n",
       "      <td>0</td>\n",
       "      <td>data anylst,BPO,Customer Relationship,Customer...</td>\n",
       "      <td>0</td>\n",
       "      <td>3</td>\n",
       "      <td>50000</td>\n",
       "      <td>300000</td>\n",
       "      <td>[New, Delhi, Delhi, , , NCR, Gurgaon, Gurugram]</td>\n",
       "      <td>0.00</td>\n",
       "    </tr>\n",
       "    <tr>\n",
       "      <th>66565</th>\n",
       "      <td>40123011120</td>\n",
       "      <td>Data Analyst</td>\n",
       "      <td>Optimum Solutions</td>\n",
       "      <td>Chennai</td>\n",
       "      <td>0.0</td>\n",
       "      <td>0</td>\n",
       "      <td>MS Excel,Tableau,MSTR,Power BI,Spark,Dataiku,S...</td>\n",
       "      <td>3</td>\n",
       "      <td>6</td>\n",
       "      <td>Not disclosed</td>\n",
       "      <td>Not disclosed</td>\n",
       "      <td>[Chennai]</td>\n",
       "      <td>0.00</td>\n",
       "    </tr>\n",
       "    <tr>\n",
       "      <th>67068</th>\n",
       "      <td>30123005130</td>\n",
       "      <td>Data Analyst</td>\n",
       "      <td>Thrive Consulting</td>\n",
       "      <td>Noida, Gurgaon/Gurugram, Delhi / NCR</td>\n",
       "      <td>0.0</td>\n",
       "      <td>0</td>\n",
       "      <td>BPO,Excel,Data Analysis,Quality Assurance,Inte...</td>\n",
       "      <td>0</td>\n",
       "      <td>3</td>\n",
       "      <td>175000</td>\n",
       "      <td>250000</td>\n",
       "      <td>[Noida, Gurgaon, Gurugram, Delhi, , , NCR]</td>\n",
       "      <td>0.00</td>\n",
       "    </tr>\n",
       "    <tr>\n",
       "      <th>70833</th>\n",
       "      <td>50123009912</td>\n",
       "      <td>Data Analyst</td>\n",
       "      <td>Corporate Destination</td>\n",
       "      <td>Delhi / NCR</td>\n",
       "      <td>0.0</td>\n",
       "      <td>0</td>\n",
       "      <td>Power Bi,Data Visualization</td>\n",
       "      <td>8</td>\n",
       "      <td>13</td>\n",
       "      <td>1200000</td>\n",
       "      <td>1400000</td>\n",
       "      <td>[Delhi, , , NCR]</td>\n",
       "      <td>0.00</td>\n",
       "    </tr>\n",
       "  </tbody>\n",
       "</table>\n",
       "</div>"
      ],
      "text/plain": [
       "             job_id      job_role                          company  \\\n",
       "78      60123007052  Data Analyst                  Publicis Groupe   \n",
       "3299    50123007014  Data Analyst   Omniactive Health Technologies   \n",
       "5648   200722010262  Data Analyst              Quickxpert Infotech   \n",
       "7804   291222005437  Data Analyst                      GlobalLogic   \n",
       "13106   70123500597  Data Analyst                           Target   \n",
       "13483   60123501581  Data Analyst                      Hackerearth   \n",
       "17019   71122001529  Data Analyst                 Cointab Software   \n",
       "17062   70123500879  Data Analyst     Control Risks India Pvt Ltd.   \n",
       "17224   60123501955  Data Analyst               Axis My India Ltd.   \n",
       "17439   60123005145  Data Analyst                     Instinox Llp   \n",
       "18575   50123009765  Data Analyst            Goldenpi Technologies   \n",
       "18875   40123502447  Data Analyst                       Kaleidofin   \n",
       "18978   40123501983  Data Analyst                           Target   \n",
       "19105   40123501090  Data Analyst                        Dronebase   \n",
       "19412   40123005451  Data Analyst                        LKQ India   \n",
       "20828   60123502328  Data Analyst   Nichepro Technologies Pvt.ltd.   \n",
       "22137   40123502324  Data Analyst                             Onit   \n",
       "22312   60123912293  Data Analyst      CliqHR Recruitment Services   \n",
       "22318   60123911549  Data Analyst      CliqHR Recruitment Services   \n",
       "23058   40123501619  Data Analyst                Quess It Staffing   \n",
       "23210   40123006352  Data Analyst               Ergode It Services   \n",
       "23869  301222907372  Data Analyst                            Shell   \n",
       "24850  271022006742  Data Analyst                    Maruti Suzuki   \n",
       "25040   70123500756  Data Analyst                          Arcadia   \n",
       "25231   60123501179  Data Analyst                  S&P Global Inc.   \n",
       "27303   40123500516  Data Analyst                         PubMatic   \n",
       "27526   30123501132  Data Analyst             Radical Technologies   \n",
       "27695   20123501773  Data Analyst             Radical Technologies   \n",
       "27922   20123500656  Data Analyst                     24dimensions   \n",
       "28472  291222501104  Data Analyst       Vashi Integrated Solutions   \n",
       "30983   70123004000  Data Analyst                         Pragmath   \n",
       "31381   60123502074  Data Analyst               Redwind Technology   \n",
       "31436   60123501578  Data Analyst                    Futures First   \n",
       "31540   60123500903  Data Analyst                    Webhelp India   \n",
       "31683   60123500343  Data Analyst       Feathersoft Info Solutions   \n",
       "32096   60123007830  Data Analyst          Lemniscate Technologies   \n",
       "32458   50123908135  Data Analyst                          Webhelp   \n",
       "32998   40123502218  Data Analyst                 Bluebox Infosoft   \n",
       "34186   50123501765  Data Analyst                       Transunion   \n",
       "34689   30123011623  Data Analyst                   Forwood Safety   \n",
       "35374  291222502048  Data Analyst                Quess It Staffing   \n",
       "35617   30123008681  Data Analyst  Rewise Analytics & Technologies   \n",
       "36591   50123912898  Data Analyst           Varite India Pvt. Ltd.   \n",
       "43704   50123500779  Data Analyst                  NatWest Markets   \n",
       "43705   50123500778  Data Analyst                  NatWest Markets   \n",
       "46268   30123500707  Data Analyst       Smartanalyst India Pvt Ltd   \n",
       "47932   20123001928  Data Analyst          RAVR INDUSTRIES PVT LTD   \n",
       "50276   60123005209  Data Analyst              Prohub Technologies   \n",
       "51868  301222908164  Data Analyst                   Megma Services   \n",
       "52025  301222501690  Data Analyst            Thirstycrew Solutions   \n",
       "55294   30123004972  Data Analyst                 Express Roadways   \n",
       "57051   40123908165  Data Analyst                   Megma Services   \n",
       "60805  301222909695  Data Analyst                      Alpha Orion   \n",
       "64699  240822006673  Data Analyst                  Sun Consultants   \n",
       "65752   60123005402  Data Analyst           Talchemy Solutions Llp   \n",
       "66062   50123010636  Data Analyst                  The Career Next   \n",
       "66565   40123011120  Data Analyst                Optimum Solutions   \n",
       "67068   30123005130  Data Analyst                Thrive Consulting   \n",
       "70833   50123009912  Data Analyst            Corporate Destination   \n",
       "\n",
       "                                                location  rating  reviews  \\\n",
       "78     Pune, Ahmedabad, Gurgaon/Gurugram, Bangalore/B...     3.7     2060   \n",
       "3299                                 Mumbai(Lower Parel)     4.0      121   \n",
       "5648   Kolkata, Indore, Hyderabad/Secunderabad, Pune,...     3.6       28   \n",
       "7804                              Hyderabad/Secunderabad     4.0       14   \n",
       "13106                                Bangalore/Bengaluru     4.4      391   \n",
       "13483                                Bangalore/Bengaluru     4.0       23   \n",
       "17019                Mumbai Suburban, Mumbai (All Areas)     2.3        2   \n",
       "17062                                             Mumbai     4.2        5   \n",
       "17224                                             Mumbai     4.4      174   \n",
       "17439                                             Mumbai     0.0        0   \n",
       "18575           Bangalore/Bengaluru(Sector 2 HSR Layout)     0.0        0   \n",
       "18875                       Chennai, Bangalore/Bengaluru     3.7       10   \n",
       "18978                                Bangalore/Bengaluru     4.4      391   \n",
       "19105                                Bangalore/Bengaluru     0.0        0   \n",
       "19412                                Bangalore/Bengaluru     4.1      107   \n",
       "20828                                              Noida     3.1        9   \n",
       "22137                                               Pune     4.5       10   \n",
       "22312  Hybrid - Hyderabad/Secunderabad, Pune, Chennai...     0.0        0   \n",
       "22318  Hyderabad/Secunderabad, Pune, Bangalore/Bengaluru     0.0        0   \n",
       "23058                                             Mumbai     3.6       44   \n",
       "23210                    Navi Mumbai, Mumbai (All Areas)     3.9      215   \n",
       "23869                                Bangalore/Bengaluru     4.4     1259   \n",
       "24850                                   Gurgaon/Gurugram     4.2     5788   \n",
       "25040                                            Chennai     0.0        0   \n",
       "25231                                          Ahmedabad     5.0        3   \n",
       "27303                                               Pune     4.4       58   \n",
       "27526                                               Pune     0.0        0   \n",
       "27695                                               Pune     0.0        0   \n",
       "27922                                               Pune     0.0        0   \n",
       "28472                                             Mumbai     4.0      136   \n",
       "30983                                   Permanent Remote     0.0        0   \n",
       "31381                                              Surat     0.0        0   \n",
       "31436                                             Jaipur     3.5       52   \n",
       "31540                                   Gurgaon/Gurugram     4.1      380   \n",
       "31683                                       Kochi/Cochin     4.1       25   \n",
       "32096                                          Faridabad     4.4        3   \n",
       "32458                          Gurgaon/Gurugram, Gurgaon     4.1      380   \n",
       "32998                                           Vadodara     4.7        9   \n",
       "34186                             Hyderabad/Secunderabad     4.3      144   \n",
       "34689                                   Permanent Remote     4.7        9   \n",
       "35374                                               Pune     3.6       44   \n",
       "35617                                               Pune     3.5       27   \n",
       "36591                                Bangalore/Bengaluru     0.0        0   \n",
       "43704                                            Chennai     4.1      157   \n",
       "43705                                   Gurgaon/Gurugram     4.1      157   \n",
       "46268                                   Gurgaon/Gurugram     3.4       73   \n",
       "47932                             Pondicherry/Puducherry     0.0        0   \n",
       "50276                                Bangalore/Bengaluru     0.0        0   \n",
       "51868                                        Delhi / NCR     0.0        0   \n",
       "52025                                            Chennai     0.0        0   \n",
       "55294                New Delhi(Rohini), Gurgaon/Gurugram     3.6       75   \n",
       "57051                                             Mumbai     0.0        0   \n",
       "60805                                             Mumbai     0.0        0   \n",
       "64699                                              Thane     0.0        0   \n",
       "65752                                              Noida     0.0        0   \n",
       "66062           New Delhi, Delhi / NCR, Gurgaon/Gurugram     0.0        0   \n",
       "66565                                            Chennai     0.0        0   \n",
       "67068               Noida, Gurgaon/Gurugram, Delhi / NCR     0.0        0   \n",
       "70833                                        Delhi / NCR     0.0        0   \n",
       "\n",
       "                                        responsibilities  min_exp  max_exp  \\\n",
       "78     Big query,Data Mining,SQL,Statistical Modeling...        3        5   \n",
       "3299   excel,data analysis,power bi,market data,sales...        3        7   \n",
       "5648       SQL,python,C++,C,it,trainee,data analyst,bcom        0        5   \n",
       "7804   2D,Lidar,labelling,Annotation,verbal communica...        1        3   \n",
       "13106  Product management,Change management,Database ...        2        4   \n",
       "13483  Data analysis,Data validation,GIT,Web analytic...        2        5   \n",
       "17019  data analysis,Python,Financial Reporting,Finan...        0        2   \n",
       "17062  Career development,Automation,Excel,Coding,Pro...        1        3   \n",
       "17224  Data analysis,Automation,Data collection,Marke...        1        4   \n",
       "17439  python,data analysis,google data studio,power ...        1        3   \n",
       "18575  data analysis,Power Bi,advanced excel,MIS dash...        2        4   \n",
       "18875  Data analysis,Data management,Data modeling,Pr...        2        7   \n",
       "18978  Data analysis,Automation,Dispute resolution,Da...        3        5   \n",
       "19105  Zoom,written,verbal communication,Google suite...        1        3   \n",
       "19412  POWER BI,Dash board Development,VBA Macros,Sta...        2        6   \n",
       "20828  Customer acquisition,Excel,MS Access,Analytica...        2        5   \n",
       "22137  BeautifulSoup,data analytics,Excel,SQL,Pandas,...        0        2   \n",
       "22312  Python,data analysis,data governance,Data Analyst        4        8   \n",
       "22318  Data analysis,Agile methodologies,Data / Busin...        5       10   \n",
       "23058  Business services,Data analysis,tableau,Staffi...        2        5   \n",
       "23210  Excel,Data Analysis,Dashboards,Data Analytics,...        0        2   \n",
       "23869  Data Analysis,Data Quality,Data Management,dat...        3        6   \n",
       "24850  data analysis,sql,r studio,database analysis,p...        3        7   \n",
       "25040  MS Excel,Microsoft Office,Excel,PowerPoint,SQL...        0        2   \n",
       "25231  Word,oral,MS - office,PowerPoint,communication...        0        6   \n",
       "27303  MS Access,Business analysis,MIS,Analytical,Bil...        3        8   \n",
       "27526  MS SQL,Informatica,RDBMS,SSIS,Jasper BI,Tablea...        2        7   \n",
       "27695  Data Analytics,Power BI,DAX,SQL,Python,SharePo...        2        4   \n",
       "27922  Operations management,Team Lead Operations,onl...        7       10   \n",
       "28472  Business objects,SAS,Process improvement,XML,J...        2        7   \n",
       "30983  Excel,Data Analysis,SQL,Business Intelligence,...        2        4   \n",
       "31381  Data analysis,Coding,Process improvement,data ...        1        4   \n",
       "31436  Data analysis,Linux,Simulation,Data structures...        1        3   \n",
       "31540  MS - Excel,data modelling,Advance Excel,writte...        1        3   \n",
       "31683  R,data analytics,written,Power BI,Tableau,SQL,...        1        2   \n",
       "32096  Quantum,DV,spss,Advanced Excel,excel,It Knowle...        2        3   \n",
       "32458  power query,Data analyst,Communication Skills,...        2        5   \n",
       "32998  Word,verbal,MS Office,written,Excel,CRM,commun...        0        3   \n",
       "34186  Linux,Tableau,analysis,GCP,communication,MS - ...        3        4   \n",
       "34689    Power Bi,Tableau,AWS quicksight,Athena,Redshift        3        7   \n",
       "35374  Business services,Web technologies,Data manage...        2        5   \n",
       "35617                         SQL,excel,Tableau,Power Bi        2        6   \n",
       "36591  SQL,functional specifications,backup managemen...        3        5   \n",
       "43704  Data analysis,Data migration,Data management,D...        2        5   \n",
       "43705  Data analysis,Data migration,Data management,D...        2        5   \n",
       "46268  Consulting,Machine learning,Data structures,He...        3        8   \n",
       "47932  Excel,Communication Skills,Presentation Skills...        1        5   \n",
       "50276  Advanced Excel,Strong Analytical Skills,SQL,Ad...        1        3   \n",
       "51868  Data Analysis,planning,Purchase,Sales,Xcel,Tab...        2        4   \n",
       "52025  SQL Server DTS,SMP server,SQL Server Integrati...        4        9   \n",
       "55294  Macros,VLOOKUP,Formulas,Advanced Excel,Dashboa...        1        3   \n",
       "57051  Data Analysis,software applications,Excel,MIS,...        1        6   \n",
       "60805  Data Analytics,MIS,Data Management,Data Visual...        1        4   \n",
       "64699               Excel,SQL,Data Analysis,Data Analyst        4        6   \n",
       "65752  Azure Data Factory,SSIS,adf,Azure Data Warehou...        2        6   \n",
       "66062  data anylst,BPO,Customer Relationship,Customer...        0        3   \n",
       "66565  MS Excel,Tableau,MSTR,Power BI,Spark,Dataiku,S...        3        6   \n",
       "67068  BPO,Excel,Data Analysis,Quality Assurance,Inte...        0        3   \n",
       "70833                        Power Bi,Data Visualization        8       13   \n",
       "\n",
       "          min_salary     max_salary  \\\n",
       "78            800000        1200000   \n",
       "3299          800000        1300000   \n",
       "5648   Not disclosed  Not disclosed   \n",
       "7804          250000         275000   \n",
       "13106  Not disclosed  Not disclosed   \n",
       "13483  Not disclosed  Not disclosed   \n",
       "17019  Not disclosed  Not disclosed   \n",
       "17062  Not disclosed  Not disclosed   \n",
       "17224  Not disclosed  Not disclosed   \n",
       "17439  Not disclosed  Not disclosed   \n",
       "18575  Not disclosed  Not disclosed   \n",
       "18875  Not disclosed  Not disclosed   \n",
       "18978  Not disclosed  Not disclosed   \n",
       "19105  Not disclosed  Not disclosed   \n",
       "19412  Not disclosed  Not disclosed   \n",
       "20828  Not disclosed  Not disclosed   \n",
       "22137  Not disclosed  Not disclosed   \n",
       "22312  Not disclosed  Not disclosed   \n",
       "22318  Not disclosed  Not disclosed   \n",
       "23058  Not disclosed  Not disclosed   \n",
       "23210  Not disclosed  Not disclosed   \n",
       "23869  Not disclosed  Not disclosed   \n",
       "24850  Not disclosed  Not disclosed   \n",
       "25040  Not disclosed  Not disclosed   \n",
       "25231  Not disclosed  Not disclosed   \n",
       "27303  Not disclosed  Not disclosed   \n",
       "27526  Not disclosed  Not disclosed   \n",
       "27695  Not disclosed  Not disclosed   \n",
       "27922  Not disclosed  Not disclosed   \n",
       "28472  Not disclosed  Not disclosed   \n",
       "30983         500000         750000   \n",
       "31381  Not disclosed  Not disclosed   \n",
       "31436  Not disclosed  Not disclosed   \n",
       "31540  Not disclosed  Not disclosed   \n",
       "31683  Not disclosed  Not disclosed   \n",
       "32096  Not disclosed  Not disclosed   \n",
       "32458  Not disclosed  Not disclosed   \n",
       "32998  Not disclosed  Not disclosed   \n",
       "34186  Not disclosed  Not disclosed   \n",
       "34689  Not disclosed  Not disclosed   \n",
       "35374  Not disclosed  Not disclosed   \n",
       "35617  Not disclosed  Not disclosed   \n",
       "36591  Not disclosed  Not disclosed   \n",
       "43704  Not disclosed  Not disclosed   \n",
       "43705  Not disclosed  Not disclosed   \n",
       "46268  Not disclosed  Not disclosed   \n",
       "47932         150000         300000   \n",
       "50276          50000         300000   \n",
       "51868  Not disclosed  Not disclosed   \n",
       "52025  Not disclosed  Not disclosed   \n",
       "55294          50000         250000   \n",
       "57051  Not disclosed  Not disclosed   \n",
       "60805  Not disclosed  Not disclosed   \n",
       "64699         400000         800000   \n",
       "65752        1200000        1800000   \n",
       "66062          50000         300000   \n",
       "66565  Not disclosed  Not disclosed   \n",
       "67068         175000         250000   \n",
       "70833        1200000        1400000   \n",
       "\n",
       "                                          clean_location  rating_review_filter  \n",
       "78     [Pune, Ahmedabad, Gurgaon, Gurugram, Bangalore...               1854.37  \n",
       "3299                              [Mumbai(Lower, Parel)]                109.30  \n",
       "5648   [Kolkata, Indore, Hyderabad, Secunderabad, Pun...                 25.56  \n",
       "7804                           [Hyderabad, Secunderabad]                 13.00  \n",
       "13106                             [Bangalore, Bengaluru]                352.34  \n",
       "13483                             [Bangalore, Bengaluru]                 21.10  \n",
       "17019                         [Mumbai, Suburban, Mumbai]                  2.03  \n",
       "17062                                           [Mumbai]                  4.92  \n",
       "17224                                           [Mumbai]                157.04  \n",
       "17439                                           [Mumbai]                  0.00  \n",
       "18575     [Bangalore, Bengaluru(Sector, 2, HSR, Layout)]                  0.00  \n",
       "18875                    [Chennai, Bangalore, Bengaluru]                  9.37  \n",
       "18978                             [Bangalore, Bengaluru]                352.34  \n",
       "19105                             [Bangalore, Bengaluru]                  0.00  \n",
       "19412                             [Bangalore, Bengaluru]                 96.71  \n",
       "20828                                            [Noida]                  8.41  \n",
       "22137                                             [Pune]                  9.45  \n",
       "22312  [Hybrid, -, Hyderabad, Secunderabad, Pune, Che...                  0.00  \n",
       "22318  [Hyderabad, Secunderabad, Pune, Bangalore, Ben...                  0.00  \n",
       "23058                                           [Mumbai]                 39.96  \n",
       "23210                             [Navi, Mumbai, Mumbai]                193.89  \n",
       "23869                             [Bangalore, Bengaluru]               1133.54  \n",
       "24850                                [Gurgaon, Gurugram]               5209.62  \n",
       "25040                                          [Chennai]                  0.00  \n",
       "25231                                        [Ahmedabad]                  3.20  \n",
       "27303                                             [Pune]                 52.64  \n",
       "27526                                             [Pune]                  0.00  \n",
       "27695                                             [Pune]                  0.00  \n",
       "27922                                             [Pune]                  0.00  \n",
       "28472                                           [Mumbai]                122.80  \n",
       "30983                                [Permanent, Remote]                  0.00  \n",
       "31381                                            [Surat]                  0.00  \n",
       "31436                                           [Jaipur]                 47.15  \n",
       "31540                                [Gurgaon, Gurugram]                342.41  \n",
       "31683                                    [Kochi, Cochin]                 22.91  \n",
       "32096                                        [Faridabad]                  3.14  \n",
       "32458                       [Gurgaon, Gurugram, Gurgaon]                342.41  \n",
       "32998                                         [Vadodara]                  8.57  \n",
       "34186                          [Hyderabad, Secunderabad]                130.03  \n",
       "34689                                [Permanent, Remote]                  8.57  \n",
       "35374                                             [Pune]                 39.96  \n",
       "35617                                             [Pune]                 24.65  \n",
       "36591                             [Bangalore, Bengaluru]                  0.00  \n",
       "43704                                          [Chennai]                141.71  \n",
       "43705                                [Gurgaon, Gurugram]                141.71  \n",
       "46268                                [Gurgaon, Gurugram]                 66.04  \n",
       "47932                          [Pondicherry, Puducherry]                  0.00  \n",
       "50276                             [Bangalore, Bengaluru]                  0.00  \n",
       "51868                                   [Delhi, , , NCR]                  0.00  \n",
       "52025                                          [Chennai]                  0.00  \n",
       "55294            [New, Delhi(Rohini), Gurgaon, Gurugram]                 67.86  \n",
       "57051                                           [Mumbai]                  0.00  \n",
       "60805                                           [Mumbai]                  0.00  \n",
       "64699                                            [Thane]                  0.00  \n",
       "65752                                            [Noida]                  0.00  \n",
       "66062    [New, Delhi, Delhi, , , NCR, Gurgaon, Gurugram]                  0.00  \n",
       "66565                                          [Chennai]                  0.00  \n",
       "67068         [Noida, Gurgaon, Gurugram, Delhi, , , NCR]                  0.00  \n",
       "70833                                   [Delhi, , , NCR]                  0.00  "
      ]
     },
     "execution_count": 119,
     "metadata": {},
     "output_type": "execute_result"
    }
   ],
   "source": [
    "df_data_analyst = df[df['job_role'] == 'Data Analyst']\n",
    "df_data_analyst"
   ]
  },
  {
   "cell_type": "code",
   "execution_count": 120,
   "id": "99b0a317-61fd-40f7-875f-600a0f3b151f",
   "metadata": {},
   "outputs": [
    {
     "data": {
      "text/plain": [
       "606250.0"
      ]
     },
     "execution_count": 120,
     "metadata": {},
     "output_type": "execute_result"
    }
   ],
   "source": [
    "filtered_df = df_data_analyst[(df_data_analyst['min_salary'] != 'Not disclosed') & (df_data_analyst['max_salary'] != 'Not disclosed')]\n",
    "midpoint_salaries = (filtered_df['min_salary'].astype('int') + filtered_df['max_salary'].astype('int')) / 2\n",
    "avg_salary = midpoint_salaries.mean()\n",
    "avg_salary"
   ]
  },
  {
   "cell_type": "markdown",
   "id": "84c6a007-f63e-43b8-8af7-41cfe0cec27a",
   "metadata": {},
   "source": [
    "## Average Salary by every company\n"
   ]
  },
  {
   "cell_type": "code",
   "execution_count": 121,
   "id": "58cb8f99-0d68-4a59-9ca7-c373ea3ed027",
   "metadata": {},
   "outputs": [],
   "source": [
    "df['min_salary'] = df['min_salary'].replace('MBA/PGDM', 'Not disclosed')"
   ]
  },
  {
   "cell_type": "code",
   "execution_count": 122,
   "id": "6d8de616-175d-4f89-aa06-500cb22e7295",
   "metadata": {},
   "outputs": [],
   "source": [
    "new_df = df[(df['min_salary'] != 'Not disclosed') & (['max_salary'] != 'Not disclosed')]"
   ]
  },
  {
   "cell_type": "code",
   "execution_count": 123,
   "id": "f8981516-0357-4deb-93ef-399aa971df27",
   "metadata": {},
   "outputs": [
    {
     "name": "stderr",
     "output_type": "stream",
     "text": [
      "C:\\Users\\moham\\AppData\\Local\\Temp\\ipykernel_24220\\4198627637.py:7: SettingWithCopyWarning:\n",
      "\n",
      "\n",
      "A value is trying to be set on a copy of a slice from a DataFrame.\n",
      "Try using .loc[row_indexer,col_indexer] = value instead\n",
      "\n",
      "See the caveats in the documentation: https://pandas.pydata.org/pandas-docs/stable/user_guide/indexing.html#returning-a-view-versus-a-copy\n",
      "\n"
     ]
    },
    {
     "data": {
      "application/vnd.plotly.v1+json": {
       "config": {
        "plotlyServerURL": "https://plot.ly"
       },
       "data": [
        {
         "alignmentgroup": "True",
         "hovertemplate": "company=%{x}<br>Average Salary=%{marker.color}<extra></extra>",
         "legendgroup": "",
         "marker": {
          "color": [
           60000000,
           60000000,
           50000000,
           40000000,
           30030000,
           30000000,
           27500000,
           25050000,
           20000000,
           17500000
          ],
          "coloraxis": "coloraxis",
          "pattern": {
           "shape": ""
          }
         },
         "name": "",
         "offsetgroup": "",
         "orientation": "v",
         "showlegend": false,
         "textposition": "auto",
         "type": "bar",
         "x": [
          "Tuaman Engineering",
          "Arbolus Technologies India",
          "Career Vision Hr Services",
          "Bodhitreemovement Services",
          "Fuso Glass India",
          "Corporate Interiors",
          "Rddtree Technologies Llp",
          "DM Healthcare Llc",
          "Anon Automation",
          "CPL Electricals India Pvt Ltd"
         ],
         "xaxis": "x",
         "y": [
          60000000,
          60000000,
          50000000,
          40000000,
          30030000,
          30000000,
          27500000,
          25050000,
          20000000,
          17500000
         ],
         "yaxis": "y"
        }
       ],
       "layout": {
        "autosize": true,
        "barmode": "relative",
        "coloraxis": {
         "colorbar": {
          "title": {
           "text": "Average Salary"
          }
         },
         "colorscale": [
          [
           0,
           "rgb(247,251,255)"
          ],
          [
           0.125,
           "rgb(222,235,247)"
          ],
          [
           0.25,
           "rgb(198,219,239)"
          ],
          [
           0.375,
           "rgb(158,202,225)"
          ],
          [
           0.5,
           "rgb(107,174,214)"
          ],
          [
           0.625,
           "rgb(66,146,198)"
          ],
          [
           0.75,
           "rgb(33,113,181)"
          ],
          [
           0.875,
           "rgb(8,81,156)"
          ],
          [
           1,
           "rgb(8,48,107)"
          ]
         ]
        },
        "legend": {
         "tracegroupgap": 0
        },
        "margin": {
         "b": 20,
         "l": 20,
         "r": 20,
         "t": 80
        },
        "template": {
         "data": {
          "bar": [
           {
            "error_x": {
             "color": "#2a3f5f"
            },
            "error_y": {
             "color": "#2a3f5f"
            },
            "marker": {
             "line": {
              "color": "#E5ECF6",
              "width": 0.5
             },
             "pattern": {
              "fillmode": "overlay",
              "size": 10,
              "solidity": 0.2
             }
            },
            "type": "bar"
           }
          ],
          "barpolar": [
           {
            "marker": {
             "line": {
              "color": "#E5ECF6",
              "width": 0.5
             },
             "pattern": {
              "fillmode": "overlay",
              "size": 10,
              "solidity": 0.2
             }
            },
            "type": "barpolar"
           }
          ],
          "carpet": [
           {
            "aaxis": {
             "endlinecolor": "#2a3f5f",
             "gridcolor": "white",
             "linecolor": "white",
             "minorgridcolor": "white",
             "startlinecolor": "#2a3f5f"
            },
            "baxis": {
             "endlinecolor": "#2a3f5f",
             "gridcolor": "white",
             "linecolor": "white",
             "minorgridcolor": "white",
             "startlinecolor": "#2a3f5f"
            },
            "type": "carpet"
           }
          ],
          "choropleth": [
           {
            "colorbar": {
             "outlinewidth": 0,
             "ticks": ""
            },
            "type": "choropleth"
           }
          ],
          "contour": [
           {
            "colorbar": {
             "outlinewidth": 0,
             "ticks": ""
            },
            "colorscale": [
             [
              0,
              "#0d0887"
             ],
             [
              0.1111111111111111,
              "#46039f"
             ],
             [
              0.2222222222222222,
              "#7201a8"
             ],
             [
              0.3333333333333333,
              "#9c179e"
             ],
             [
              0.4444444444444444,
              "#bd3786"
             ],
             [
              0.5555555555555556,
              "#d8576b"
             ],
             [
              0.6666666666666666,
              "#ed7953"
             ],
             [
              0.7777777777777778,
              "#fb9f3a"
             ],
             [
              0.8888888888888888,
              "#fdca26"
             ],
             [
              1,
              "#f0f921"
             ]
            ],
            "type": "contour"
           }
          ],
          "contourcarpet": [
           {
            "colorbar": {
             "outlinewidth": 0,
             "ticks": ""
            },
            "type": "contourcarpet"
           }
          ],
          "heatmap": [
           {
            "colorbar": {
             "outlinewidth": 0,
             "ticks": ""
            },
            "colorscale": [
             [
              0,
              "#0d0887"
             ],
             [
              0.1111111111111111,
              "#46039f"
             ],
             [
              0.2222222222222222,
              "#7201a8"
             ],
             [
              0.3333333333333333,
              "#9c179e"
             ],
             [
              0.4444444444444444,
              "#bd3786"
             ],
             [
              0.5555555555555556,
              "#d8576b"
             ],
             [
              0.6666666666666666,
              "#ed7953"
             ],
             [
              0.7777777777777778,
              "#fb9f3a"
             ],
             [
              0.8888888888888888,
              "#fdca26"
             ],
             [
              1,
              "#f0f921"
             ]
            ],
            "type": "heatmap"
           }
          ],
          "heatmapgl": [
           {
            "colorbar": {
             "outlinewidth": 0,
             "ticks": ""
            },
            "colorscale": [
             [
              0,
              "#0d0887"
             ],
             [
              0.1111111111111111,
              "#46039f"
             ],
             [
              0.2222222222222222,
              "#7201a8"
             ],
             [
              0.3333333333333333,
              "#9c179e"
             ],
             [
              0.4444444444444444,
              "#bd3786"
             ],
             [
              0.5555555555555556,
              "#d8576b"
             ],
             [
              0.6666666666666666,
              "#ed7953"
             ],
             [
              0.7777777777777778,
              "#fb9f3a"
             ],
             [
              0.8888888888888888,
              "#fdca26"
             ],
             [
              1,
              "#f0f921"
             ]
            ],
            "type": "heatmapgl"
           }
          ],
          "histogram": [
           {
            "marker": {
             "pattern": {
              "fillmode": "overlay",
              "size": 10,
              "solidity": 0.2
             }
            },
            "type": "histogram"
           }
          ],
          "histogram2d": [
           {
            "colorbar": {
             "outlinewidth": 0,
             "ticks": ""
            },
            "colorscale": [
             [
              0,
              "#0d0887"
             ],
             [
              0.1111111111111111,
              "#46039f"
             ],
             [
              0.2222222222222222,
              "#7201a8"
             ],
             [
              0.3333333333333333,
              "#9c179e"
             ],
             [
              0.4444444444444444,
              "#bd3786"
             ],
             [
              0.5555555555555556,
              "#d8576b"
             ],
             [
              0.6666666666666666,
              "#ed7953"
             ],
             [
              0.7777777777777778,
              "#fb9f3a"
             ],
             [
              0.8888888888888888,
              "#fdca26"
             ],
             [
              1,
              "#f0f921"
             ]
            ],
            "type": "histogram2d"
           }
          ],
          "histogram2dcontour": [
           {
            "colorbar": {
             "outlinewidth": 0,
             "ticks": ""
            },
            "colorscale": [
             [
              0,
              "#0d0887"
             ],
             [
              0.1111111111111111,
              "#46039f"
             ],
             [
              0.2222222222222222,
              "#7201a8"
             ],
             [
              0.3333333333333333,
              "#9c179e"
             ],
             [
              0.4444444444444444,
              "#bd3786"
             ],
             [
              0.5555555555555556,
              "#d8576b"
             ],
             [
              0.6666666666666666,
              "#ed7953"
             ],
             [
              0.7777777777777778,
              "#fb9f3a"
             ],
             [
              0.8888888888888888,
              "#fdca26"
             ],
             [
              1,
              "#f0f921"
             ]
            ],
            "type": "histogram2dcontour"
           }
          ],
          "mesh3d": [
           {
            "colorbar": {
             "outlinewidth": 0,
             "ticks": ""
            },
            "type": "mesh3d"
           }
          ],
          "parcoords": [
           {
            "line": {
             "colorbar": {
              "outlinewidth": 0,
              "ticks": ""
             }
            },
            "type": "parcoords"
           }
          ],
          "pie": [
           {
            "automargin": true,
            "type": "pie"
           }
          ],
          "scatter": [
           {
            "fillpattern": {
             "fillmode": "overlay",
             "size": 10,
             "solidity": 0.2
            },
            "type": "scatter"
           }
          ],
          "scatter3d": [
           {
            "line": {
             "colorbar": {
              "outlinewidth": 0,
              "ticks": ""
             }
            },
            "marker": {
             "colorbar": {
              "outlinewidth": 0,
              "ticks": ""
             }
            },
            "type": "scatter3d"
           }
          ],
          "scattercarpet": [
           {
            "marker": {
             "colorbar": {
              "outlinewidth": 0,
              "ticks": ""
             }
            },
            "type": "scattercarpet"
           }
          ],
          "scattergeo": [
           {
            "marker": {
             "colorbar": {
              "outlinewidth": 0,
              "ticks": ""
             }
            },
            "type": "scattergeo"
           }
          ],
          "scattergl": [
           {
            "marker": {
             "colorbar": {
              "outlinewidth": 0,
              "ticks": ""
             }
            },
            "type": "scattergl"
           }
          ],
          "scattermapbox": [
           {
            "marker": {
             "colorbar": {
              "outlinewidth": 0,
              "ticks": ""
             }
            },
            "type": "scattermapbox"
           }
          ],
          "scatterpolar": [
           {
            "marker": {
             "colorbar": {
              "outlinewidth": 0,
              "ticks": ""
             }
            },
            "type": "scatterpolar"
           }
          ],
          "scatterpolargl": [
           {
            "marker": {
             "colorbar": {
              "outlinewidth": 0,
              "ticks": ""
             }
            },
            "type": "scatterpolargl"
           }
          ],
          "scatterternary": [
           {
            "marker": {
             "colorbar": {
              "outlinewidth": 0,
              "ticks": ""
             }
            },
            "type": "scatterternary"
           }
          ],
          "surface": [
           {
            "colorbar": {
             "outlinewidth": 0,
             "ticks": ""
            },
            "colorscale": [
             [
              0,
              "#0d0887"
             ],
             [
              0.1111111111111111,
              "#46039f"
             ],
             [
              0.2222222222222222,
              "#7201a8"
             ],
             [
              0.3333333333333333,
              "#9c179e"
             ],
             [
              0.4444444444444444,
              "#bd3786"
             ],
             [
              0.5555555555555556,
              "#d8576b"
             ],
             [
              0.6666666666666666,
              "#ed7953"
             ],
             [
              0.7777777777777778,
              "#fb9f3a"
             ],
             [
              0.8888888888888888,
              "#fdca26"
             ],
             [
              1,
              "#f0f921"
             ]
            ],
            "type": "surface"
           }
          ],
          "table": [
           {
            "cells": {
             "fill": {
              "color": "#EBF0F8"
             },
             "line": {
              "color": "white"
             }
            },
            "header": {
             "fill": {
              "color": "#C8D4E3"
             },
             "line": {
              "color": "white"
             }
            },
            "type": "table"
           }
          ]
         },
         "layout": {
          "annotationdefaults": {
           "arrowcolor": "#2a3f5f",
           "arrowhead": 0,
           "arrowwidth": 1
          },
          "autotypenumbers": "strict",
          "coloraxis": {
           "colorbar": {
            "outlinewidth": 0,
            "ticks": ""
           }
          },
          "colorscale": {
           "diverging": [
            [
             0,
             "#8e0152"
            ],
            [
             0.1,
             "#c51b7d"
            ],
            [
             0.2,
             "#de77ae"
            ],
            [
             0.3,
             "#f1b6da"
            ],
            [
             0.4,
             "#fde0ef"
            ],
            [
             0.5,
             "#f7f7f7"
            ],
            [
             0.6,
             "#e6f5d0"
            ],
            [
             0.7,
             "#b8e186"
            ],
            [
             0.8,
             "#7fbc41"
            ],
            [
             0.9,
             "#4d9221"
            ],
            [
             1,
             "#276419"
            ]
           ],
           "sequential": [
            [
             0,
             "#0d0887"
            ],
            [
             0.1111111111111111,
             "#46039f"
            ],
            [
             0.2222222222222222,
             "#7201a8"
            ],
            [
             0.3333333333333333,
             "#9c179e"
            ],
            [
             0.4444444444444444,
             "#bd3786"
            ],
            [
             0.5555555555555556,
             "#d8576b"
            ],
            [
             0.6666666666666666,
             "#ed7953"
            ],
            [
             0.7777777777777778,
             "#fb9f3a"
            ],
            [
             0.8888888888888888,
             "#fdca26"
            ],
            [
             1,
             "#f0f921"
            ]
           ],
           "sequentialminus": [
            [
             0,
             "#0d0887"
            ],
            [
             0.1111111111111111,
             "#46039f"
            ],
            [
             0.2222222222222222,
             "#7201a8"
            ],
            [
             0.3333333333333333,
             "#9c179e"
            ],
            [
             0.4444444444444444,
             "#bd3786"
            ],
            [
             0.5555555555555556,
             "#d8576b"
            ],
            [
             0.6666666666666666,
             "#ed7953"
            ],
            [
             0.7777777777777778,
             "#fb9f3a"
            ],
            [
             0.8888888888888888,
             "#fdca26"
            ],
            [
             1,
             "#f0f921"
            ]
           ]
          },
          "colorway": [
           "#636efa",
           "#EF553B",
           "#00cc96",
           "#ab63fa",
           "#FFA15A",
           "#19d3f3",
           "#FF6692",
           "#B6E880",
           "#FF97FF",
           "#FECB52"
          ],
          "font": {
           "color": "#2a3f5f"
          },
          "geo": {
           "bgcolor": "white",
           "lakecolor": "white",
           "landcolor": "#E5ECF6",
           "showlakes": true,
           "showland": true,
           "subunitcolor": "white"
          },
          "hoverlabel": {
           "align": "left"
          },
          "hovermode": "closest",
          "mapbox": {
           "style": "light"
          },
          "paper_bgcolor": "white",
          "plot_bgcolor": "#E5ECF6",
          "polar": {
           "angularaxis": {
            "gridcolor": "white",
            "linecolor": "white",
            "ticks": ""
           },
           "bgcolor": "#E5ECF6",
           "radialaxis": {
            "gridcolor": "white",
            "linecolor": "white",
            "ticks": ""
           }
          },
          "scene": {
           "xaxis": {
            "backgroundcolor": "#E5ECF6",
            "gridcolor": "white",
            "gridwidth": 2,
            "linecolor": "white",
            "showbackground": true,
            "ticks": "",
            "zerolinecolor": "white"
           },
           "yaxis": {
            "backgroundcolor": "#E5ECF6",
            "gridcolor": "white",
            "gridwidth": 2,
            "linecolor": "white",
            "showbackground": true,
            "ticks": "",
            "zerolinecolor": "white"
           },
           "zaxis": {
            "backgroundcolor": "#E5ECF6",
            "gridcolor": "white",
            "gridwidth": 2,
            "linecolor": "white",
            "showbackground": true,
            "ticks": "",
            "zerolinecolor": "white"
           }
          },
          "shapedefaults": {
           "line": {
            "color": "#2a3f5f"
           }
          },
          "ternary": {
           "aaxis": {
            "gridcolor": "white",
            "linecolor": "white",
            "ticks": ""
           },
           "baxis": {
            "gridcolor": "white",
            "linecolor": "white",
            "ticks": ""
           },
           "bgcolor": "#E5ECF6",
           "caxis": {
            "gridcolor": "white",
            "linecolor": "white",
            "ticks": ""
           }
          },
          "title": {
           "x": 0.05
          },
          "xaxis": {
           "automargin": true,
           "gridcolor": "white",
           "linecolor": "white",
           "ticks": "",
           "title": {
            "standoff": 15
           },
           "zerolinecolor": "white",
           "zerolinewidth": 2
          },
          "yaxis": {
           "automargin": true,
           "gridcolor": "white",
           "linecolor": "white",
           "ticks": "",
           "title": {
            "standoff": 15
           },
           "zerolinecolor": "white",
           "zerolinewidth": 2
          }
         }
        },
        "title": {
         "font": {
          "family": "monospace"
         },
         "text": "Average Salary by Company",
         "x": 0.5
        },
        "xaxis": {
         "anchor": "y",
         "autorange": true,
         "domain": [
          0,
          1
         ],
         "range": [
          -0.5,
          9.5
         ],
         "title": {
          "text": "company"
         },
         "type": "category"
        },
        "yaxis": {
         "anchor": "x",
         "autorange": true,
         "domain": [
          0,
          1
         ],
         "range": [
          0,
          63157894.7368421
         ],
         "title": {
          "text": "Average Salary"
         },
         "type": "linear"
        }
       }
      },
      "image/png": "[encoded data removed]",
      "text/html": [
       "<div>                            <div id=\"19e4ddaf-4534-4250-91e9-94b079d8f9a6\" class=\"plotly-graph-div\" style=\"height:525px; width:100%;\"></div>            <script type=\"text/javascript\">                require([\"plotly\"], function(Plotly) {                    window.PLOTLYENV=window.PLOTLYENV || {};                                    if (document.getElementById(\"19e4ddaf-4534-4250-91e9-94b079d8f9a6\")) {                    Plotly.newPlot(                        \"19e4ddaf-4534-4250-91e9-94b079d8f9a6\",                        [{\"alignmentgroup\":\"True\",\"hovertemplate\":\"company=%{x}\\u003cbr\\u003eAverage Salary=%{marker.color}\\u003cextra\\u003e\\u003c\\u002fextra\\u003e\",\"legendgroup\":\"\",\"marker\":{\"color\":[60000000.0,60000000.0,50000000.0,40000000.0,30030000.0,30000000.0,27500000.0,25050000.0,20000000.0,17500000.0],\"coloraxis\":\"coloraxis\",\"pattern\":{\"shape\":\"\"}},\"name\":\"\",\"offsetgroup\":\"\",\"orientation\":\"v\",\"showlegend\":false,\"textposition\":\"auto\",\"x\":[\"Tuaman Engineering\",\"Arbolus Technologies India\",\"Career Vision Hr Services\",\"Bodhitreemovement Services\",\"Fuso Glass India\",\"Corporate Interiors\",\"Rddtree Technologies Llp\",\"DM Healthcare Llc\",\"Anon Automation\",\"CPL Electricals India Pvt Ltd\"],\"xaxis\":\"x\",\"y\":[60000000.0,60000000.0,50000000.0,40000000.0,30030000.0,30000000.0,27500000.0,25050000.0,20000000.0,17500000.0],\"yaxis\":\"y\",\"type\":\"bar\"}],                        {\"template\":{\"data\":{\"histogram2dcontour\":[{\"type\":\"histogram2dcontour\",\"colorbar\":{\"outlinewidth\":0,\"ticks\":\"\"},\"colorscale\":[[0.0,\"#0d0887\"],[0.1111111111111111,\"#46039f\"],[0.2222222222222222,\"#7201a8\"],[0.3333333333333333,\"#9c179e\"],[0.4444444444444444,\"#bd3786\"],[0.5555555555555556,\"#d8576b\"],[0.6666666666666666,\"#ed7953\"],[0.7777777777777778,\"#fb9f3a\"],[0.8888888888888888,\"#fdca26\"],[1.0,\"#f0f921\"]]}],\"choropleth\":[{\"type\":\"choropleth\",\"colorbar\":{\"outlinewidth\":0,\"ticks\":\"\"}}],\"histogram2d\":[{\"type\":\"histogram2d\",\"colorbar\":{\"outlinewidth\":0,\"ticks\":\"\"},\"colorscale\":[[0.0,\"#0d0887\"],[0.1111111111111111,\"#46039f\"],[0.2222222222222222,\"#7201a8\"],[0.3333333333333333,\"#9c179e\"],[0.4444444444444444,\"#bd3786\"],[0.5555555555555556,\"#d8576b\"],[0.6666666666666666,\"#ed7953\"],[0.7777777777777778,\"#fb9f3a\"],[0.8888888888888888,\"#fdca26\"],[1.0,\"#f0f921\"]]}],\"heatmap\":[{\"type\":\"heatmap\",\"colorbar\":{\"outlinewidth\":0,\"ticks\":\"\"},\"colorscale\":[[0.0,\"#0d0887\"],[0.1111111111111111,\"#46039f\"],[0.2222222222222222,\"#7201a8\"],[0.3333333333333333,\"#9c179e\"],[0.4444444444444444,\"#bd3786\"],[0.5555555555555556,\"#d8576b\"],[0.6666666666666666,\"#ed7953\"],[0.7777777777777778,\"#fb9f3a\"],[0.8888888888888888,\"#fdca26\"],[1.0,\"#f0f921\"]]}],\"heatmapgl\":[{\"type\":\"heatmapgl\",\"colorbar\":{\"outlinewidth\":0,\"ticks\":\"\"},\"colorscale\":[[0.0,\"#0d0887\"],[0.1111111111111111,\"#46039f\"],[0.2222222222222222,\"#7201a8\"],[0.3333333333333333,\"#9c179e\"],[0.4444444444444444,\"#bd3786\"],[0.5555555555555556,\"#d8576b\"],[0.6666666666666666,\"#ed7953\"],[0.7777777777777778,\"#fb9f3a\"],[0.8888888888888888,\"#fdca26\"],[1.0,\"#f0f921\"]]}],\"contourcarpet\":[{\"type\":\"contourcarpet\",\"colorbar\":{\"outlinewidth\":0,\"ticks\":\"\"}}],\"contour\":[{\"type\":\"contour\",\"colorbar\":{\"outlinewidth\":0,\"ticks\":\"\"},\"colorscale\":[[0.0,\"#0d0887\"],[0.1111111111111111,\"#46039f\"],[0.2222222222222222,\"#7201a8\"],[0.3333333333333333,\"#9c179e\"],[0.4444444444444444,\"#bd3786\"],[0.5555555555555556,\"#d8576b\"],[0.6666666666666666,\"#ed7953\"],[0.7777777777777778,\"#fb9f3a\"],[0.8888888888888888,\"#fdca26\"],[1.0,\"#f0f921\"]]}],\"surface\":[{\"type\":\"surface\",\"colorbar\":{\"outlinewidth\":0,\"ticks\":\"\"},\"colorscale\":[[0.0,\"#0d0887\"],[0.1111111111111111,\"#46039f\"],[0.2222222222222222,\"#7201a8\"],[0.3333333333333333,\"#9c179e\"],[0.4444444444444444,\"#bd3786\"],[0.5555555555555556,\"#d8576b\"],[0.6666666666666666,\"#ed7953\"],[0.7777777777777778,\"#fb9f3a\"],[0.8888888888888888,\"#fdca26\"],[1.0,\"#f0f921\"]]}],\"mesh3d\":[{\"type\":\"mesh3d\",\"colorbar\":{\"outlinewidth\":0,\"ticks\":\"\"}}],\"scatter\":[{\"fillpattern\":{\"fillmode\":\"overlay\",\"size\":10,\"solidity\":0.2},\"type\":\"scatter\"}],\"parcoords\":[{\"type\":\"parcoords\",\"line\":{\"colorbar\":{\"outlinewidth\":0,\"ticks\":\"\"}}}],\"scatterpolargl\":[{\"type\":\"scatterpolargl\",\"marker\":{\"colorbar\":{\"outlinewidth\":0,\"ticks\":\"\"}}}],\"bar\":[{\"error_x\":{\"color\":\"#2a3f5f\"},\"error_y\":{\"color\":\"#2a3f5f\"},\"marker\":{\"line\":{\"color\":\"#E5ECF6\",\"width\":0.5},\"pattern\":{\"fillmode\":\"overlay\",\"size\":10,\"solidity\":0.2}},\"type\":\"bar\"}],\"scattergeo\":[{\"type\":\"scattergeo\",\"marker\":{\"colorbar\":{\"outlinewidth\":0,\"ticks\":\"\"}}}],\"scatterpolar\":[{\"type\":\"scatterpolar\",\"marker\":{\"colorbar\":{\"outlinewidth\":0,\"ticks\":\"\"}}}],\"histogram\":[{\"marker\":{\"pattern\":{\"fillmode\":\"overlay\",\"size\":10,\"solidity\":0.2}},\"type\":\"histogram\"}],\"scattergl\":[{\"type\":\"scattergl\",\"marker\":{\"colorbar\":{\"outlinewidth\":0,\"ticks\":\"\"}}}],\"scatter3d\":[{\"type\":\"scatter3d\",\"line\":{\"colorbar\":{\"outlinewidth\":0,\"ticks\":\"\"}},\"marker\":{\"colorbar\":{\"outlinewidth\":0,\"ticks\":\"\"}}}],\"scattermapbox\":[{\"type\":\"scattermapbox\",\"marker\":{\"colorbar\":{\"outlinewidth\":0,\"ticks\":\"\"}}}],\"scatterternary\":[{\"type\":\"scatterternary\",\"marker\":{\"colorbar\":{\"outlinewidth\":0,\"ticks\":\"\"}}}],\"scattercarpet\":[{\"type\":\"scattercarpet\",\"marker\":{\"colorbar\":{\"outlinewidth\":0,\"ticks\":\"\"}}}],\"carpet\":[{\"aaxis\":{\"endlinecolor\":\"#2a3f5f\",\"gridcolor\":\"white\",\"linecolor\":\"white\",\"minorgridcolor\":\"white\",\"startlinecolor\":\"#2a3f5f\"},\"baxis\":{\"endlinecolor\":\"#2a3f5f\",\"gridcolor\":\"white\",\"linecolor\":\"white\",\"minorgridcolor\":\"white\",\"startlinecolor\":\"#2a3f5f\"},\"type\":\"carpet\"}],\"table\":[{\"cells\":{\"fill\":{\"color\":\"#EBF0F8\"},\"line\":{\"color\":\"white\"}},\"header\":{\"fill\":{\"color\":\"#C8D4E3\"},\"line\":{\"color\":\"white\"}},\"type\":\"table\"}],\"barpolar\":[{\"marker\":{\"line\":{\"color\":\"#E5ECF6\",\"width\":0.5},\"pattern\":{\"fillmode\":\"overlay\",\"size\":10,\"solidity\":0.2}},\"type\":\"barpolar\"}],\"pie\":[{\"automargin\":true,\"type\":\"pie\"}]},\"layout\":{\"autotypenumbers\":\"strict\",\"colorway\":[\"#636efa\",\"#EF553B\",\"#00cc96\",\"#ab63fa\",\"#FFA15A\",\"#19d3f3\",\"#FF6692\",\"#B6E880\",\"#FF97FF\",\"#FECB52\"],\"font\":{\"color\":\"#2a3f5f\"},\"hovermode\":\"closest\",\"hoverlabel\":{\"align\":\"left\"},\"paper_bgcolor\":\"white\",\"plot_bgcolor\":\"#E5ECF6\",\"polar\":{\"bgcolor\":\"#E5ECF6\",\"angularaxis\":{\"gridcolor\":\"white\",\"linecolor\":\"white\",\"ticks\":\"\"},\"radialaxis\":{\"gridcolor\":\"white\",\"linecolor\":\"white\",\"ticks\":\"\"}},\"ternary\":{\"bgcolor\":\"#E5ECF6\",\"aaxis\":{\"gridcolor\":\"white\",\"linecolor\":\"white\",\"ticks\":\"\"},\"baxis\":{\"gridcolor\":\"white\",\"linecolor\":\"white\",\"ticks\":\"\"},\"caxis\":{\"gridcolor\":\"white\",\"linecolor\":\"white\",\"ticks\":\"\"}},\"coloraxis\":{\"colorbar\":{\"outlinewidth\":0,\"ticks\":\"\"}},\"colorscale\":{\"sequential\":[[0.0,\"#0d0887\"],[0.1111111111111111,\"#46039f\"],[0.2222222222222222,\"#7201a8\"],[0.3333333333333333,\"#9c179e\"],[0.4444444444444444,\"#bd3786\"],[0.5555555555555556,\"#d8576b\"],[0.6666666666666666,\"#ed7953\"],[0.7777777777777778,\"#fb9f3a\"],[0.8888888888888888,\"#fdca26\"],[1.0,\"#f0f921\"]],\"sequentialminus\":[[0.0,\"#0d0887\"],[0.1111111111111111,\"#46039f\"],[0.2222222222222222,\"#7201a8\"],[0.3333333333333333,\"#9c179e\"],[0.4444444444444444,\"#bd3786\"],[0.5555555555555556,\"#d8576b\"],[0.6666666666666666,\"#ed7953\"],[0.7777777777777778,\"#fb9f3a\"],[0.8888888888888888,\"#fdca26\"],[1.0,\"#f0f921\"]],\"diverging\":[[0,\"#8e0152\"],[0.1,\"#c51b7d\"],[0.2,\"#de77ae\"],[0.3,\"#f1b6da\"],[0.4,\"#fde0ef\"],[0.5,\"#f7f7f7\"],[0.6,\"#e6f5d0\"],[0.7,\"#b8e186\"],[0.8,\"#7fbc41\"],[0.9,\"#4d9221\"],[1,\"#276419\"]]},\"xaxis\":{\"gridcolor\":\"white\",\"linecolor\":\"white\",\"ticks\":\"\",\"title\":{\"standoff\":15},\"zerolinecolor\":\"white\",\"automargin\":true,\"zerolinewidth\":2},\"yaxis\":{\"gridcolor\":\"white\",\"linecolor\":\"white\",\"ticks\":\"\",\"title\":{\"standoff\":15},\"zerolinecolor\":\"white\",\"automargin\":true,\"zerolinewidth\":2},\"scene\":{\"xaxis\":{\"backgroundcolor\":\"#E5ECF6\",\"gridcolor\":\"white\",\"linecolor\":\"white\",\"showbackground\":true,\"ticks\":\"\",\"zerolinecolor\":\"white\",\"gridwidth\":2},\"yaxis\":{\"backgroundcolor\":\"#E5ECF6\",\"gridcolor\":\"white\",\"linecolor\":\"white\",\"showbackground\":true,\"ticks\":\"\",\"zerolinecolor\":\"white\",\"gridwidth\":2},\"zaxis\":{\"backgroundcolor\":\"#E5ECF6\",\"gridcolor\":\"white\",\"linecolor\":\"white\",\"showbackground\":true,\"ticks\":\"\",\"zerolinecolor\":\"white\",\"gridwidth\":2}},\"shapedefaults\":{\"line\":{\"color\":\"#2a3f5f\"}},\"annotationdefaults\":{\"arrowcolor\":\"#2a3f5f\",\"arrowhead\":0,\"arrowwidth\":1},\"geo\":{\"bgcolor\":\"white\",\"landcolor\":\"#E5ECF6\",\"subunitcolor\":\"white\",\"showland\":true,\"showlakes\":true,\"lakecolor\":\"white\"},\"title\":{\"x\":0.05},\"mapbox\":{\"style\":\"light\"}}},\"xaxis\":{\"anchor\":\"y\",\"domain\":[0.0,1.0],\"title\":{\"text\":\"company\"}},\"yaxis\":{\"anchor\":\"x\",\"domain\":[0.0,1.0],\"title\":{\"text\":\"Average Salary\"}},\"coloraxis\":{\"colorbar\":{\"title\":{\"text\":\"Average Salary\"}},\"colorscale\":[[0.0,\"rgb(247,251,255)\"],[0.125,\"rgb(222,235,247)\"],[0.25,\"rgb(198,219,239)\"],[0.375,\"rgb(158,202,225)\"],[0.5,\"rgb(107,174,214)\"],[0.625,\"rgb(66,146,198)\"],[0.75,\"rgb(33,113,181)\"],[0.875,\"rgb(8,81,156)\"],[1.0,\"rgb(8,48,107)\"]]},\"legend\":{\"tracegroupgap\":0},\"title\":{\"text\":\"Average Salary by Company\",\"font\":{\"family\":\"monospace\"},\"x\":0.5},\"barmode\":\"relative\",\"margin\":{\"t\":80,\"b\":20,\"l\":20,\"r\":20}},                        {\"responsive\": true}                    ).then(function(){\n",
       "                            \n",
       "var gd = document.getElementById('19e4ddaf-4534-4250-91e9-94b079d8f9a6');\n",
       "var x = new MutationObserver(function (mutations, observer) {{\n",
       "        var display = window.getComputedStyle(gd).display;\n",
       "        if (!display || display === 'none') {{\n",
       "            console.log([gd, 'removed!']);\n",
       "            Plotly.purge(gd);\n",
       "            observer.disconnect();\n",
       "        }}\n",
       "}});\n",
       "\n",
       "// Listen for the removal of the full notebook cells\n",
       "var notebookContainer = gd.closest('#notebook-container');\n",
       "if (notebookContainer) {{\n",
       "    x.observe(notebookContainer, {childList: true});\n",
       "}}\n",
       "\n",
       "// Listen for the clearing of the current output cell\n",
       "var outputEl = gd.closest('.output');\n",
       "if (outputEl) {{\n",
       "    x.observe(outputEl, {childList: true});\n",
       "}}\n",
       "\n",
       "                        })                };                });            </script>        </div>"
      ]
     },
     "metadata": {},
     "output_type": "display_data"
    }
   ],
   "source": [
    "import pandas as pd\n",
    "import matplotlib.pyplot as plt\n",
    "import plotly.express as px\n",
    "\n",
    "# Assuming new_df is already defined and contains the relevant data\n",
    "# Convert 'min_salary' to integer\n",
    "new_df['min_salary'] = new_df['min_salary'].astype(int)\n",
    "\n",
    "# Calculate the average minimum salary by company\n",
    "top_companies = new_df.groupby('company')['min_salary'].mean().sort_values(ascending=False).reset_index().head(10)\n",
    "top_companies.columns = ['company', 'salary']\n",
    "\n",
    "# Plotting the results\n",
    "fig = px.bar(top_companies, \n",
    "             x='company', \n",
    "             y='salary', \n",
    "             title='Average Salary by Company', \n",
    "             labels={'salary': 'Average Salary'}, \n",
    "             color='salary', \n",
    "             color_continuous_scale=px.colors.sequential.Blues)  # Use continuous color scale\n",
    "\n",
    "# Update layout for better appearance\n",
    "fig.update_layout(\n",
    "    title_font_family=\"monospace\",\n",
    "    title_x=0.5,  # Center the title\n",
    "    margin=dict(t=80, b=20, l=20, r=20)\n",
    ")\n",
    "\n",
    "fig.show()\n"
   ]
  },
  {
   "cell_type": "code",
   "execution_count": 124,
   "id": "7d1b7a76-5ae9-4a3c-be96-8fee9f0fdfcd",
   "metadata": {},
   "outputs": [
    {
     "data": {
      "text/html": [
       "<div>\n",
       "<style scoped>\n",
       "    .dataframe tbody tr th:only-of-type {\n",
       "        vertical-align: middle;\n",
       "    }\n",
       "\n",
       "    .dataframe tbody tr th {\n",
       "        vertical-align: top;\n",
       "    }\n",
       "\n",
       "    .dataframe thead th {\n",
       "        text-align: right;\n",
       "    }\n",
       "</style>\n",
       "<table border=\"1\" class=\"dataframe\">\n",
       "  <thead>\n",
       "    <tr style=\"text-align: right;\">\n",
       "      <th></th>\n",
       "      <th>job_id</th>\n",
       "      <th>job_role</th>\n",
       "      <th>company</th>\n",
       "      <th>location</th>\n",
       "      <th>rating</th>\n",
       "      <th>reviews</th>\n",
       "      <th>responsibilities</th>\n",
       "      <th>min_exp</th>\n",
       "      <th>max_exp</th>\n",
       "      <th>min_salary</th>\n",
       "      <th>max_salary</th>\n",
       "      <th>clean_location</th>\n",
       "      <th>rating_review_filter</th>\n",
       "    </tr>\n",
       "  </thead>\n",
       "  <tbody>\n",
       "    <tr>\n",
       "      <th>0</th>\n",
       "      <td>70123006070</td>\n",
       "      <td>Branch Banking - Calling For Women Candidates</td>\n",
       "      <td>Hdfc Bank</td>\n",
       "      <td>Kolkata, Hyderabad/Secunderabad, Pune, Ahmedab...</td>\n",
       "      <td>4.0</td>\n",
       "      <td>39110</td>\n",
       "      <td>Customer Service,Sales,Relationship Management</td>\n",
       "      <td>1</td>\n",
       "      <td>6</td>\n",
       "      <td>Not disclosed</td>\n",
       "      <td>Not disclosed</td>\n",
       "      <td>[Kolkata, Hyderabad, Secunderabad, Pune, Ahmed...</td>\n",
       "      <td>35199.40</td>\n",
       "    </tr>\n",
       "    <tr>\n",
       "      <th>1</th>\n",
       "      <td>60123905908</td>\n",
       "      <td>Product Owner Senior Manager</td>\n",
       "      <td>Accenture</td>\n",
       "      <td>Kolkata, Mumbai, Hyderabad/Secunderabad, Pune,...</td>\n",
       "      <td>4.1</td>\n",
       "      <td>32129</td>\n",
       "      <td>Product management,Market analysis,Change mana...</td>\n",
       "      <td>11</td>\n",
       "      <td>15</td>\n",
       "      <td>Not disclosed</td>\n",
       "      <td>Not disclosed</td>\n",
       "      <td>[Kolkata, Mumbai, Hyderabad, Secunderabad, Pun...</td>\n",
       "      <td>28916.51</td>\n",
       "    </tr>\n",
       "    <tr>\n",
       "      <th>2</th>\n",
       "      <td>60123905898</td>\n",
       "      <td>Employee Relations and Policies Associate Manager</td>\n",
       "      <td>Accenture</td>\n",
       "      <td>Kolkata, Mumbai, Hyderabad/Secunderabad, Pune,...</td>\n",
       "      <td>4.1</td>\n",
       "      <td>32129</td>\n",
       "      <td>Business process,Change management,Team manage...</td>\n",
       "      <td>3</td>\n",
       "      <td>7</td>\n",
       "      <td>Not disclosed</td>\n",
       "      <td>Not disclosed</td>\n",
       "      <td>[Kolkata, Mumbai, Hyderabad, Secunderabad, Pun...</td>\n",
       "      <td>28916.51</td>\n",
       "    </tr>\n",
       "    <tr>\n",
       "      <th>3</th>\n",
       "      <td>60123905897</td>\n",
       "      <td>Employee Relations and Policies Specialist</td>\n",
       "      <td>Accenture</td>\n",
       "      <td>Kolkata, Mumbai, Hyderabad/Secunderabad, Pune,...</td>\n",
       "      <td>4.1</td>\n",
       "      <td>32129</td>\n",
       "      <td>Business process,Change management,Team manage...</td>\n",
       "      <td>3</td>\n",
       "      <td>7</td>\n",
       "      <td>Not disclosed</td>\n",
       "      <td>Not disclosed</td>\n",
       "      <td>[Kolkata, Mumbai, Hyderabad, Secunderabad, Pun...</td>\n",
       "      <td>28916.51</td>\n",
       "    </tr>\n",
       "    <tr>\n",
       "      <th>4</th>\n",
       "      <td>60123008332</td>\n",
       "      <td>SAP BO Consultant</td>\n",
       "      <td>Mindtree</td>\n",
       "      <td>Hybrid - Kolkata, Hyderabad/Secunderabad, Pune...</td>\n",
       "      <td>4.1</td>\n",
       "      <td>3759</td>\n",
       "      <td>SAP BO,PL / SQL,Oracle SQL,SAP Business Object...</td>\n",
       "      <td>5</td>\n",
       "      <td>7</td>\n",
       "      <td>Not disclosed</td>\n",
       "      <td>Not disclosed</td>\n",
       "      <td>[Hybrid, -, Kolkata, Hyderabad, Secunderabad, ...</td>\n",
       "      <td>3383.51</td>\n",
       "    </tr>\n",
       "    <tr>\n",
       "      <th>...</th>\n",
       "      <td>...</td>\n",
       "      <td>...</td>\n",
       "      <td>...</td>\n",
       "      <td>...</td>\n",
       "      <td>...</td>\n",
       "      <td>...</td>\n",
       "      <td>...</td>\n",
       "      <td>...</td>\n",
       "      <td>...</td>\n",
       "      <td>...</td>\n",
       "      <td>...</td>\n",
       "      <td>...</td>\n",
       "      <td>...</td>\n",
       "    </tr>\n",
       "    <tr>\n",
       "      <th>73762</th>\n",
       "      <td>20123002989</td>\n",
       "      <td>Partner Success Executive/Edtech/Punjab</td>\n",
       "      <td>Parth Associates</td>\n",
       "      <td>Jalandhar, Chandigarh, Amritsar</td>\n",
       "      <td>0.0</td>\n",
       "      <td>0</td>\n",
       "      <td>CRM,Communication Skills,Presentation Skills,C...</td>\n",
       "      <td>1</td>\n",
       "      <td>5</td>\n",
       "      <td>700000</td>\n",
       "      <td>850000</td>\n",
       "      <td>[Jalandhar, Chandigarh, Amritsar]</td>\n",
       "      <td>0.00</td>\n",
       "    </tr>\n",
       "    <tr>\n",
       "      <th>73763</th>\n",
       "      <td>20123002957</td>\n",
       "      <td>Partner Success Associate/Edtech/Punjab</td>\n",
       "      <td>Parth Associates</td>\n",
       "      <td>Ludhiana, Patiala, Moga</td>\n",
       "      <td>0.0</td>\n",
       "      <td>0</td>\n",
       "      <td>CRM,Communication Skills,Presentation Skills,C...</td>\n",
       "      <td>1</td>\n",
       "      <td>5</td>\n",
       "      <td>700000</td>\n",
       "      <td>850000</td>\n",
       "      <td>[Ludhiana, Patiala, Moga]</td>\n",
       "      <td>0.00</td>\n",
       "    </tr>\n",
       "    <tr>\n",
       "      <th>73764</th>\n",
       "      <td>231222003986</td>\n",
       "      <td>Hiring For International Voice Process | Gurga...</td>\n",
       "      <td>First Step Solutions</td>\n",
       "      <td>New Delhi, Gurgaon/Gurugram</td>\n",
       "      <td>0.0</td>\n",
       "      <td>0</td>\n",
       "      <td>Customer Service,US Process,Hospitality,Custom...</td>\n",
       "      <td>1</td>\n",
       "      <td>4</td>\n",
       "      <td>300000</td>\n",
       "      <td>450000</td>\n",
       "      <td>[New, Delhi, Gurgaon, Gurugram]</td>\n",
       "      <td>0.00</td>\n",
       "    </tr>\n",
       "    <tr>\n",
       "      <th>73765</th>\n",
       "      <td>171220001449</td>\n",
       "      <td>Fresher Engineer</td>\n",
       "      <td>Sofcon</td>\n",
       "      <td>Kota, Udaipur, Banswara, Bhiwadi, Jaipur, Alwa...</td>\n",
       "      <td>2.8</td>\n",
       "      <td>3</td>\n",
       "      <td>ENGINEERING,B Tech Fresher,AutoCAD,Degree,PLC,...</td>\n",
       "      <td>0</td>\n",
       "      <td>2</td>\n",
       "      <td>Not disclosed</td>\n",
       "      <td>Not disclosed</td>\n",
       "      <td>[Kota, Udaipur, Banswara, Bhiwadi, Jaipur, Alw...</td>\n",
       "      <td>2.98</td>\n",
       "    </tr>\n",
       "    <tr>\n",
       "      <th>73766</th>\n",
       "      <td>71022008732</td>\n",
       "      <td>Anatomy Trainer - Part Time / Full time</td>\n",
       "      <td>Indian Healthcare BPO</td>\n",
       "      <td>Hybrid - Pondicherry/Puducherry, Salem, Chennai</td>\n",
       "      <td>0.0</td>\n",
       "      <td>0</td>\n",
       "      <td>Lecturer Activities,Nursing Education,Trainer,...</td>\n",
       "      <td>1</td>\n",
       "      <td>6</td>\n",
       "      <td>Not disclosed</td>\n",
       "      <td>Not disclosed</td>\n",
       "      <td>[Hybrid, -, Pondicherry, Puducherry, Salem, Ch...</td>\n",
       "      <td>0.00</td>\n",
       "    </tr>\n",
       "  </tbody>\n",
       "</table>\n",
       "<p>72967 rows × 13 columns</p>\n",
       "</div>"
      ],
      "text/plain": [
       "             job_id                                           job_role  \\\n",
       "0       70123006070      Branch Banking - Calling For Women Candidates   \n",
       "1       60123905908                       Product Owner Senior Manager   \n",
       "2       60123905898  Employee Relations and Policies Associate Manager   \n",
       "3       60123905897         Employee Relations and Policies Specialist   \n",
       "4       60123008332                                  SAP BO Consultant   \n",
       "...             ...                                                ...   \n",
       "73762   20123002989            Partner Success Executive/Edtech/Punjab   \n",
       "73763   20123002957            Partner Success Associate/Edtech/Punjab   \n",
       "73764  231222003986  Hiring For International Voice Process | Gurga...   \n",
       "73765  171220001449                                   Fresher Engineer   \n",
       "73766   71022008732            Anatomy Trainer - Part Time / Full time   \n",
       "\n",
       "                     company  \\\n",
       "0                  Hdfc Bank   \n",
       "1                  Accenture   \n",
       "2                  Accenture   \n",
       "3                  Accenture   \n",
       "4                   Mindtree   \n",
       "...                      ...   \n",
       "73762       Parth Associates   \n",
       "73763       Parth Associates   \n",
       "73764   First Step Solutions   \n",
       "73765                 Sofcon   \n",
       "73766  Indian Healthcare BPO   \n",
       "\n",
       "                                                location  rating  reviews  \\\n",
       "0      Kolkata, Hyderabad/Secunderabad, Pune, Ahmedab...     4.0    39110   \n",
       "1      Kolkata, Mumbai, Hyderabad/Secunderabad, Pune,...     4.1    32129   \n",
       "2      Kolkata, Mumbai, Hyderabad/Secunderabad, Pune,...     4.1    32129   \n",
       "3      Kolkata, Mumbai, Hyderabad/Secunderabad, Pune,...     4.1    32129   \n",
       "4      Hybrid - Kolkata, Hyderabad/Secunderabad, Pune...     4.1     3759   \n",
       "...                                                  ...     ...      ...   \n",
       "73762                    Jalandhar, Chandigarh, Amritsar     0.0        0   \n",
       "73763                            Ludhiana, Patiala, Moga     0.0        0   \n",
       "73764                        New Delhi, Gurgaon/Gurugram     0.0        0   \n",
       "73765  Kota, Udaipur, Banswara, Bhiwadi, Jaipur, Alwa...     2.8        3   \n",
       "73766    Hybrid - Pondicherry/Puducherry, Salem, Chennai     0.0        0   \n",
       "\n",
       "                                        responsibilities  min_exp  max_exp  \\\n",
       "0         Customer Service,Sales,Relationship Management        1        6   \n",
       "1      Product management,Market analysis,Change mana...       11       15   \n",
       "2      Business process,Change management,Team manage...        3        7   \n",
       "3      Business process,Change management,Team manage...        3        7   \n",
       "4      SAP BO,PL / SQL,Oracle SQL,SAP Business Object...        5        7   \n",
       "...                                                  ...      ...      ...   \n",
       "73762  CRM,Communication Skills,Presentation Skills,C...        1        5   \n",
       "73763  CRM,Communication Skills,Presentation Skills,C...        1        5   \n",
       "73764  Customer Service,US Process,Hospitality,Custom...        1        4   \n",
       "73765  ENGINEERING,B Tech Fresher,AutoCAD,Degree,PLC,...        0        2   \n",
       "73766  Lecturer Activities,Nursing Education,Trainer,...        1        6   \n",
       "\n",
       "          min_salary     max_salary  \\\n",
       "0      Not disclosed  Not disclosed   \n",
       "1      Not disclosed  Not disclosed   \n",
       "2      Not disclosed  Not disclosed   \n",
       "3      Not disclosed  Not disclosed   \n",
       "4      Not disclosed  Not disclosed   \n",
       "...              ...            ...   \n",
       "73762         700000         850000   \n",
       "73763         700000         850000   \n",
       "73764         300000         450000   \n",
       "73765  Not disclosed  Not disclosed   \n",
       "73766  Not disclosed  Not disclosed   \n",
       "\n",
       "                                          clean_location  rating_review_filter  \n",
       "0      [Kolkata, Hyderabad, Secunderabad, Pune, Ahmed...              35199.40  \n",
       "1      [Kolkata, Mumbai, Hyderabad, Secunderabad, Pun...              28916.51  \n",
       "2      [Kolkata, Mumbai, Hyderabad, Secunderabad, Pun...              28916.51  \n",
       "3      [Kolkata, Mumbai, Hyderabad, Secunderabad, Pun...              28916.51  \n",
       "4      [Hybrid, -, Kolkata, Hyderabad, Secunderabad, ...               3383.51  \n",
       "...                                                  ...                   ...  \n",
       "73762                  [Jalandhar, Chandigarh, Amritsar]                  0.00  \n",
       "73763                          [Ludhiana, Patiala, Moga]                  0.00  \n",
       "73764                    [New, Delhi, Gurgaon, Gurugram]                  0.00  \n",
       "73765  [Kota, Udaipur, Banswara, Bhiwadi, Jaipur, Alw...                  2.98  \n",
       "73766  [Hybrid, -, Pondicherry, Puducherry, Salem, Ch...                  0.00  \n",
       "\n",
       "[72967 rows x 13 columns]"
      ]
     },
     "execution_count": 124,
     "metadata": {},
     "output_type": "execute_result"
    }
   ],
   "source": [
    "df"
   ]
  },
  {
   "cell_type": "code",
   "execution_count": 125,
   "id": "2d34c5a2-2c20-4762-a9e7-823f3cd1c439",
   "metadata": {},
   "outputs": [
    {
     "name": "stdout",
     "output_type": "stream",
     "text": [
      "        location  count\n",
      "0      ahmedabad   2438\n",
      "1      bangalore  35485\n",
      "2        chennai   6814\n",
      "3          delhi   6536\n",
      "4        gurgaon   5356\n",
      "5       gurugram   5135\n",
      "6         hybrid   3532\n",
      "7      hyderabad   8207\n",
      "8        kolkata   2307\n",
      "9         mumbai   9734\n",
      "10           ncr   4207\n",
      "11           new   2515\n",
      "12         noida   4120\n",
      "13     permanent   1622\n",
      "14          pune   7067\n",
      "15        remote   1625\n",
      "16  secunderabad   7612\n"
     ]
    }
   ],
   "source": [
    "# Assuming 'df' is your DataFrame and 'clean_location' is a column in it\n",
    "locations = df['clean_location'].explode().value_counts().head(20).reset_index()\n",
    "locations.columns = ['location', 'count']\n",
    "\n",
    "# Process each location\n",
    "for i in locations.index:\n",
    "    location = locations.at[i, 'location']\n",
    "    \n",
    "    # Convert to lowercase\n",
    "    location = location.lower()\n",
    "    \n",
    "    # Replace specific values\n",
    "    location = location.replace('bengaluru', 'bangalore')  # Replace 'bengaluru' with 'bangalore'\n",
    "    location = location.replace('-', ' ')  # Replace hyphens with a space (or remove them)\n",
    "    \n",
    "    # Update the DataFrame with the modified location\n",
    "    locations.at[i, 'location'] = location.strip()  # Strip any leading/trailing whitespace\n",
    "\n",
    "# Remove rows with blank locations\n",
    "locations = locations[locations['location'] != '']\n",
    "locations = locations.groupby('location', as_index=False).sum()\n",
    "locations = locations.reset_index(drop = True)\n",
    "\n",
    "# Print the updated locations\n",
    "print(locations)\n"
   ]
  },
  {
   "cell_type": "code",
   "execution_count": 126,
   "id": "637b0053-1b94-47e9-a13c-1e0cf00221fb",
   "metadata": {},
   "outputs": [],
   "source": [
    "locations = locations.reset_index(drop = True)\n",
    "locations = locations.sort_values(by = 'count', ascending = False)"
   ]
  },
  {
   "cell_type": "code",
   "execution_count": 127,
   "id": "a88b2fb4-ce63-47af-8c30-8f743616c531",
   "metadata": {},
   "outputs": [
    {
     "data": {
      "application/vnd.plotly.v1+json": {
       "config": {
        "plotlyServerURL": "https://plot.ly"
       },
       "data": [
        {
         "alignmentgroup": "True",
         "hovertemplate": "location=%{x}<br>count=%{marker.color}<extra></extra>",
         "legendgroup": "",
         "marker": {
          "color": [
           35485,
           9734,
           8207,
           7612,
           7067,
           6814,
           6536,
           5356,
           5135,
           4207,
           4120,
           3532,
           2515,
           2438,
           2307,
           1625,
           1622
          ],
          "coloraxis": "coloraxis",
          "pattern": {
           "shape": ""
          }
         },
         "name": "",
         "offsetgroup": "",
         "orientation": "v",
         "showlegend": false,
         "textposition": "auto",
         "type": "bar",
         "x": [
          "bangalore",
          "mumbai",
          "hyderabad",
          "secunderabad",
          "pune",
          "chennai",
          "delhi",
          "gurgaon",
          "gurugram",
          "ncr",
          "noida",
          "hybrid",
          "new",
          "ahmedabad",
          "kolkata",
          "remote",
          "permanent"
         ],
         "xaxis": "x",
         "y": [
          35485,
          9734,
          8207,
          7612,
          7067,
          6814,
          6536,
          5356,
          5135,
          4207,
          4120,
          3532,
          2515,
          2438,
          2307,
          1625,
          1622
         ],
         "yaxis": "y"
        }
       ],
       "layout": {
        "autosize": true,
        "barmode": "relative",
        "coloraxis": {
         "colorbar": {
          "title": {
           "text": "count"
          }
         },
         "colorscale": [
          [
           0,
           "rgb(247,251,255)"
          ],
          [
           0.125,
           "rgb(222,235,247)"
          ],
          [
           0.25,
           "rgb(198,219,239)"
          ],
          [
           0.375,
           "rgb(158,202,225)"
          ],
          [
           0.5,
           "rgb(107,174,214)"
          ],
          [
           0.625,
           "rgb(66,146,198)"
          ],
          [
           0.75,
           "rgb(33,113,181)"
          ],
          [
           0.875,
           "rgb(8,81,156)"
          ],
          [
           1,
           "rgb(8,48,107)"
          ]
         ]
        },
        "legend": {
         "tracegroupgap": 0
        },
        "template": {
         "data": {
          "bar": [
           {
            "error_x": {
             "color": "#2a3f5f"
            },
            "error_y": {
             "color": "#2a3f5f"
            },
            "marker": {
             "line": {
              "color": "#E5ECF6",
              "width": 0.5
             },
             "pattern": {
              "fillmode": "overlay",
              "size": 10,
              "solidity": 0.2
             }
            },
            "type": "bar"
           }
          ],
          "barpolar": [
           {
            "marker": {
             "line": {
              "color": "#E5ECF6",
              "width": 0.5
             },
             "pattern": {
              "fillmode": "overlay",
              "size": 10,
              "solidity": 0.2
             }
            },
            "type": "barpolar"
           }
          ],
          "carpet": [
           {
            "aaxis": {
             "endlinecolor": "#2a3f5f",
             "gridcolor": "white",
             "linecolor": "white",
             "minorgridcolor": "white",
             "startlinecolor": "#2a3f5f"
            },
            "baxis": {
             "endlinecolor": "#2a3f5f",
             "gridcolor": "white",
             "linecolor": "white",
             "minorgridcolor": "white",
             "startlinecolor": "#2a3f5f"
            },
            "type": "carpet"
           }
          ],
          "choropleth": [
           {
            "colorbar": {
             "outlinewidth": 0,
             "ticks": ""
            },
            "type": "choropleth"
           }
          ],
          "contour": [
           {
            "colorbar": {
             "outlinewidth": 0,
             "ticks": ""
            },
            "colorscale": [
             [
              0,
              "#0d0887"
             ],
             [
              0.1111111111111111,
              "#46039f"
             ],
             [
              0.2222222222222222,
              "#7201a8"
             ],
             [
              0.3333333333333333,
              "#9c179e"
             ],
             [
              0.4444444444444444,
              "#bd3786"
             ],
             [
              0.5555555555555556,
              "#d8576b"
             ],
             [
              0.6666666666666666,
              "#ed7953"
             ],
             [
              0.7777777777777778,
              "#fb9f3a"
             ],
             [
              0.8888888888888888,
              "#fdca26"
             ],
             [
              1,
              "#f0f921"
             ]
            ],
            "type": "contour"
           }
          ],
          "contourcarpet": [
           {
            "colorbar": {
             "outlinewidth": 0,
             "ticks": ""
            },
            "type": "contourcarpet"
           }
          ],
          "heatmap": [
           {
            "colorbar": {
             "outlinewidth": 0,
             "ticks": ""
            },
            "colorscale": [
             [
              0,
              "#0d0887"
             ],
             [
              0.1111111111111111,
              "#46039f"
             ],
             [
              0.2222222222222222,
              "#7201a8"
             ],
             [
              0.3333333333333333,
              "#9c179e"
             ],
             [
              0.4444444444444444,
              "#bd3786"
             ],
             [
              0.5555555555555556,
              "#d8576b"
             ],
             [
              0.6666666666666666,
              "#ed7953"
             ],
             [
              0.7777777777777778,
              "#fb9f3a"
             ],
             [
              0.8888888888888888,
              "#fdca26"
             ],
             [
              1,
              "#f0f921"
             ]
            ],
            "type": "heatmap"
           }
          ],
          "heatmapgl": [
           {
            "colorbar": {
             "outlinewidth": 0,
             "ticks": ""
            },
            "colorscale": [
             [
              0,
              "#0d0887"
             ],
             [
              0.1111111111111111,
              "#46039f"
             ],
             [
              0.2222222222222222,
              "#7201a8"
             ],
             [
              0.3333333333333333,
              "#9c179e"
             ],
             [
              0.4444444444444444,
              "#bd3786"
             ],
             [
              0.5555555555555556,
              "#d8576b"
             ],
             [
              0.6666666666666666,
              "#ed7953"
             ],
             [
              0.7777777777777778,
              "#fb9f3a"
             ],
             [
              0.8888888888888888,
              "#fdca26"
             ],
             [
              1,
              "#f0f921"
             ]
            ],
            "type": "heatmapgl"
           }
          ],
          "histogram": [
           {
            "marker": {
             "pattern": {
              "fillmode": "overlay",
              "size": 10,
              "solidity": 0.2
             }
            },
            "type": "histogram"
           }
          ],
          "histogram2d": [
           {
            "colorbar": {
             "outlinewidth": 0,
             "ticks": ""
            },
            "colorscale": [
             [
              0,
              "#0d0887"
             ],
             [
              0.1111111111111111,
              "#46039f"
             ],
             [
              0.2222222222222222,
              "#7201a8"
             ],
             [
              0.3333333333333333,
              "#9c179e"
             ],
             [
              0.4444444444444444,
              "#bd3786"
             ],
             [
              0.5555555555555556,
              "#d8576b"
             ],
             [
              0.6666666666666666,
              "#ed7953"
             ],
             [
              0.7777777777777778,
              "#fb9f3a"
             ],
             [
              0.8888888888888888,
              "#fdca26"
             ],
             [
              1,
              "#f0f921"
             ]
            ],
            "type": "histogram2d"
           }
          ],
          "histogram2dcontour": [
           {
            "colorbar": {
             "outlinewidth": 0,
             "ticks": ""
            },
            "colorscale": [
             [
              0,
              "#0d0887"
             ],
             [
              0.1111111111111111,
              "#46039f"
             ],
             [
              0.2222222222222222,
              "#7201a8"
             ],
             [
              0.3333333333333333,
              "#9c179e"
             ],
             [
              0.4444444444444444,
              "#bd3786"
             ],
             [
              0.5555555555555556,
              "#d8576b"
             ],
             [
              0.6666666666666666,
              "#ed7953"
             ],
             [
              0.7777777777777778,
              "#fb9f3a"
             ],
             [
              0.8888888888888888,
              "#fdca26"
             ],
             [
              1,
              "#f0f921"
             ]
            ],
            "type": "histogram2dcontour"
           }
          ],
          "mesh3d": [
           {
            "colorbar": {
             "outlinewidth": 0,
             "ticks": ""
            },
            "type": "mesh3d"
           }
          ],
          "parcoords": [
           {
            "line": {
             "colorbar": {
              "outlinewidth": 0,
              "ticks": ""
             }
            },
            "type": "parcoords"
           }
          ],
          "pie": [
           {
            "automargin": true,
            "type": "pie"
           }
          ],
          "scatter": [
           {
            "fillpattern": {
             "fillmode": "overlay",
             "size": 10,
             "solidity": 0.2
            },
            "type": "scatter"
           }
          ],
          "scatter3d": [
           {
            "line": {
             "colorbar": {
              "outlinewidth": 0,
              "ticks": ""
             }
            },
            "marker": {
             "colorbar": {
              "outlinewidth": 0,
              "ticks": ""
             }
            },
            "type": "scatter3d"
           }
          ],
          "scattercarpet": [
           {
            "marker": {
             "colorbar": {
              "outlinewidth": 0,
              "ticks": ""
             }
            },
            "type": "scattercarpet"
           }
          ],
          "scattergeo": [
           {
            "marker": {
             "colorbar": {
              "outlinewidth": 0,
              "ticks": ""
             }
            },
            "type": "scattergeo"
           }
          ],
          "scattergl": [
           {
            "marker": {
             "colorbar": {
              "outlinewidth": 0,
              "ticks": ""
             }
            },
            "type": "scattergl"
           }
          ],
          "scattermapbox": [
           {
            "marker": {
             "colorbar": {
              "outlinewidth": 0,
              "ticks": ""
             }
            },
            "type": "scattermapbox"
           }
          ],
          "scatterpolar": [
           {
            "marker": {
             "colorbar": {
              "outlinewidth": 0,
              "ticks": ""
             }
            },
            "type": "scatterpolar"
           }
          ],
          "scatterpolargl": [
           {
            "marker": {
             "colorbar": {
              "outlinewidth": 0,
              "ticks": ""
             }
            },
            "type": "scatterpolargl"
           }
          ],
          "scatterternary": [
           {
            "marker": {
             "colorbar": {
              "outlinewidth": 0,
              "ticks": ""
             }
            },
            "type": "scatterternary"
           }
          ],
          "surface": [
           {
            "colorbar": {
             "outlinewidth": 0,
             "ticks": ""
            },
            "colorscale": [
             [
              0,
              "#0d0887"
             ],
             [
              0.1111111111111111,
              "#46039f"
             ],
             [
              0.2222222222222222,
              "#7201a8"
             ],
             [
              0.3333333333333333,
              "#9c179e"
             ],
             [
              0.4444444444444444,
              "#bd3786"
             ],
             [
              0.5555555555555556,
              "#d8576b"
             ],
             [
              0.6666666666666666,
              "#ed7953"
             ],
             [
              0.7777777777777778,
              "#fb9f3a"
             ],
             [
              0.8888888888888888,
              "#fdca26"
             ],
             [
              1,
              "#f0f921"
             ]
            ],
            "type": "surface"
           }
          ],
          "table": [
           {
            "cells": {
             "fill": {
              "color": "#EBF0F8"
             },
             "line": {
              "color": "white"
             }
            },
            "header": {
             "fill": {
              "color": "#C8D4E3"
             },
             "line": {
              "color": "white"
             }
            },
            "type": "table"
           }
          ]
         },
         "layout": {
          "annotationdefaults": {
           "arrowcolor": "#2a3f5f",
           "arrowhead": 0,
           "arrowwidth": 1
          },
          "autotypenumbers": "strict",
          "coloraxis": {
           "colorbar": {
            "outlinewidth": 0,
            "ticks": ""
           }
          },
          "colorscale": {
           "diverging": [
            [
             0,
             "#8e0152"
            ],
            [
             0.1,
             "#c51b7d"
            ],
            [
             0.2,
             "#de77ae"
            ],
            [
             0.3,
             "#f1b6da"
            ],
            [
             0.4,
             "#fde0ef"
            ],
            [
             0.5,
             "#f7f7f7"
            ],
            [
             0.6,
             "#e6f5d0"
            ],
            [
             0.7,
             "#b8e186"
            ],
            [
             0.8,
             "#7fbc41"
            ],
            [
             0.9,
             "#4d9221"
            ],
            [
             1,
             "#276419"
            ]
           ],
           "sequential": [
            [
             0,
             "#0d0887"
            ],
            [
             0.1111111111111111,
             "#46039f"
            ],
            [
             0.2222222222222222,
             "#7201a8"
            ],
            [
             0.3333333333333333,
             "#9c179e"
            ],
            [
             0.4444444444444444,
             "#bd3786"
            ],
            [
             0.5555555555555556,
             "#d8576b"
            ],
            [
             0.6666666666666666,
             "#ed7953"
            ],
            [
             0.7777777777777778,
             "#fb9f3a"
            ],
            [
             0.8888888888888888,
             "#fdca26"
            ],
            [
             1,
             "#f0f921"
            ]
           ],
           "sequentialminus": [
            [
             0,
             "#0d0887"
            ],
            [
             0.1111111111111111,
             "#46039f"
            ],
            [
             0.2222222222222222,
             "#7201a8"
            ],
            [
             0.3333333333333333,
             "#9c179e"
            ],
            [
             0.4444444444444444,
             "#bd3786"
            ],
            [
             0.5555555555555556,
             "#d8576b"
            ],
            [
             0.6666666666666666,
             "#ed7953"
            ],
            [
             0.7777777777777778,
             "#fb9f3a"
            ],
            [
             0.8888888888888888,
             "#fdca26"
            ],
            [
             1,
             "#f0f921"
            ]
           ]
          },
          "colorway": [
           "#636efa",
           "#EF553B",
           "#00cc96",
           "#ab63fa",
           "#FFA15A",
           "#19d3f3",
           "#FF6692",
           "#B6E880",
           "#FF97FF",
           "#FECB52"
          ],
          "font": {
           "color": "#2a3f5f"
          },
          "geo": {
           "bgcolor": "white",
           "lakecolor": "white",
           "landcolor": "#E5ECF6",
           "showlakes": true,
           "showland": true,
           "subunitcolor": "white"
          },
          "hoverlabel": {
           "align": "left"
          },
          "hovermode": "closest",
          "mapbox": {
           "style": "light"
          },
          "paper_bgcolor": "white",
          "plot_bgcolor": "#E5ECF6",
          "polar": {
           "angularaxis": {
            "gridcolor": "white",
            "linecolor": "white",
            "ticks": ""
           },
           "bgcolor": "#E5ECF6",
           "radialaxis": {
            "gridcolor": "white",
            "linecolor": "white",
            "ticks": ""
           }
          },
          "scene": {
           "xaxis": {
            "backgroundcolor": "#E5ECF6",
            "gridcolor": "white",
            "gridwidth": 2,
            "linecolor": "white",
            "showbackground": true,
            "ticks": "",
            "zerolinecolor": "white"
           },
           "yaxis": {
            "backgroundcolor": "#E5ECF6",
            "gridcolor": "white",
            "gridwidth": 2,
            "linecolor": "white",
            "showbackground": true,
            "ticks": "",
            "zerolinecolor": "white"
           },
           "zaxis": {
            "backgroundcolor": "#E5ECF6",
            "gridcolor": "white",
            "gridwidth": 2,
            "linecolor": "white",
            "showbackground": true,
            "ticks": "",
            "zerolinecolor": "white"
           }
          },
          "shapedefaults": {
           "line": {
            "color": "#2a3f5f"
           }
          },
          "ternary": {
           "aaxis": {
            "gridcolor": "white",
            "linecolor": "white",
            "ticks": ""
           },
           "baxis": {
            "gridcolor": "white",
            "linecolor": "white",
            "ticks": ""
           },
           "bgcolor": "#E5ECF6",
           "caxis": {
            "gridcolor": "white",
            "linecolor": "white",
            "ticks": ""
           }
          },
          "title": {
           "x": 0.05
          },
          "xaxis": {
           "automargin": true,
           "gridcolor": "white",
           "linecolor": "white",
           "ticks": "",
           "title": {
            "standoff": 15
           },
           "zerolinecolor": "white",
           "zerolinewidth": 2
          },
          "yaxis": {
           "automargin": true,
           "gridcolor": "white",
           "linecolor": "white",
           "ticks": "",
           "title": {
            "standoff": 15
           },
           "zerolinecolor": "white",
           "zerolinewidth": 2
          }
         }
        },
        "title": {
         "text": "Companies preferred location"
        },
        "xaxis": {
         "anchor": "y",
         "autorange": true,
         "domain": [
          0,
          1
         ],
         "range": [
          -0.5,
          16.5
         ],
         "title": {
          "text": "location"
         },
         "type": "category"
        },
        "yaxis": {
         "anchor": "x",
         "autorange": true,
         "domain": [
          0,
          1
         ],
         "range": [
          0,
          37352.63157894737
         ],
         "title": {
          "text": "count"
         },
         "type": "linear"
        }
       }
      },
      "image/png": "[encoded data removed]",
      "text/html": [
       "<div>                            <div id=\"1ac38ebe-dc72-44de-aad2-320cbc8034fc\" class=\"plotly-graph-div\" style=\"height:525px; width:100%;\"></div>            <script type=\"text/javascript\">                require([\"plotly\"], function(Plotly) {                    window.PLOTLYENV=window.PLOTLYENV || {};                                    if (document.getElementById(\"1ac38ebe-dc72-44de-aad2-320cbc8034fc\")) {                    Plotly.newPlot(                        \"1ac38ebe-dc72-44de-aad2-320cbc8034fc\",                        [{\"alignmentgroup\":\"True\",\"hovertemplate\":\"location=%{x}\\u003cbr\\u003ecount=%{marker.color}\\u003cextra\\u003e\\u003c\\u002fextra\\u003e\",\"legendgroup\":\"\",\"marker\":{\"color\":[35485,9734,8207,7612,7067,6814,6536,5356,5135,4207,4120,3532,2515,2438,2307,1625,1622],\"coloraxis\":\"coloraxis\",\"pattern\":{\"shape\":\"\"}},\"name\":\"\",\"offsetgroup\":\"\",\"orientation\":\"v\",\"showlegend\":false,\"textposition\":\"auto\",\"x\":[\"bangalore\",\"mumbai\",\"hyderabad\",\"secunderabad\",\"pune\",\"chennai\",\"delhi\",\"gurgaon\",\"gurugram\",\"ncr\",\"noida\",\"hybrid\",\"new\",\"ahmedabad\",\"kolkata\",\"remote\",\"permanent\"],\"xaxis\":\"x\",\"y\":[35485,9734,8207,7612,7067,6814,6536,5356,5135,4207,4120,3532,2515,2438,2307,1625,1622],\"yaxis\":\"y\",\"type\":\"bar\"}],                        {\"template\":{\"data\":{\"histogram2dcontour\":[{\"type\":\"histogram2dcontour\",\"colorbar\":{\"outlinewidth\":0,\"ticks\":\"\"},\"colorscale\":[[0.0,\"#0d0887\"],[0.1111111111111111,\"#46039f\"],[0.2222222222222222,\"#7201a8\"],[0.3333333333333333,\"#9c179e\"],[0.4444444444444444,\"#bd3786\"],[0.5555555555555556,\"#d8576b\"],[0.6666666666666666,\"#ed7953\"],[0.7777777777777778,\"#fb9f3a\"],[0.8888888888888888,\"#fdca26\"],[1.0,\"#f0f921\"]]}],\"choropleth\":[{\"type\":\"choropleth\",\"colorbar\":{\"outlinewidth\":0,\"ticks\":\"\"}}],\"histogram2d\":[{\"type\":\"histogram2d\",\"colorbar\":{\"outlinewidth\":0,\"ticks\":\"\"},\"colorscale\":[[0.0,\"#0d0887\"],[0.1111111111111111,\"#46039f\"],[0.2222222222222222,\"#7201a8\"],[0.3333333333333333,\"#9c179e\"],[0.4444444444444444,\"#bd3786\"],[0.5555555555555556,\"#d8576b\"],[0.6666666666666666,\"#ed7953\"],[0.7777777777777778,\"#fb9f3a\"],[0.8888888888888888,\"#fdca26\"],[1.0,\"#f0f921\"]]}],\"heatmap\":[{\"type\":\"heatmap\",\"colorbar\":{\"outlinewidth\":0,\"ticks\":\"\"},\"colorscale\":[[0.0,\"#0d0887\"],[0.1111111111111111,\"#46039f\"],[0.2222222222222222,\"#7201a8\"],[0.3333333333333333,\"#9c179e\"],[0.4444444444444444,\"#bd3786\"],[0.5555555555555556,\"#d8576b\"],[0.6666666666666666,\"#ed7953\"],[0.7777777777777778,\"#fb9f3a\"],[0.8888888888888888,\"#fdca26\"],[1.0,\"#f0f921\"]]}],\"heatmapgl\":[{\"type\":\"heatmapgl\",\"colorbar\":{\"outlinewidth\":0,\"ticks\":\"\"},\"colorscale\":[[0.0,\"#0d0887\"],[0.1111111111111111,\"#46039f\"],[0.2222222222222222,\"#7201a8\"],[0.3333333333333333,\"#9c179e\"],[0.4444444444444444,\"#bd3786\"],[0.5555555555555556,\"#d8576b\"],[0.6666666666666666,\"#ed7953\"],[0.7777777777777778,\"#fb9f3a\"],[0.8888888888888888,\"#fdca26\"],[1.0,\"#f0f921\"]]}],\"contourcarpet\":[{\"type\":\"contourcarpet\",\"colorbar\":{\"outlinewidth\":0,\"ticks\":\"\"}}],\"contour\":[{\"type\":\"contour\",\"colorbar\":{\"outlinewidth\":0,\"ticks\":\"\"},\"colorscale\":[[0.0,\"#0d0887\"],[0.1111111111111111,\"#46039f\"],[0.2222222222222222,\"#7201a8\"],[0.3333333333333333,\"#9c179e\"],[0.4444444444444444,\"#bd3786\"],[0.5555555555555556,\"#d8576b\"],[0.6666666666666666,\"#ed7953\"],[0.7777777777777778,\"#fb9f3a\"],[0.8888888888888888,\"#fdca26\"],[1.0,\"#f0f921\"]]}],\"surface\":[{\"type\":\"surface\",\"colorbar\":{\"outlinewidth\":0,\"ticks\":\"\"},\"colorscale\":[[0.0,\"#0d0887\"],[0.1111111111111111,\"#46039f\"],[0.2222222222222222,\"#7201a8\"],[0.3333333333333333,\"#9c179e\"],[0.4444444444444444,\"#bd3786\"],[0.5555555555555556,\"#d8576b\"],[0.6666666666666666,\"#ed7953\"],[0.7777777777777778,\"#fb9f3a\"],[0.8888888888888888,\"#fdca26\"],[1.0,\"#f0f921\"]]}],\"mesh3d\":[{\"type\":\"mesh3d\",\"colorbar\":{\"outlinewidth\":0,\"ticks\":\"\"}}],\"scatter\":[{\"fillpattern\":{\"fillmode\":\"overlay\",\"size\":10,\"solidity\":0.2},\"type\":\"scatter\"}],\"parcoords\":[{\"type\":\"parcoords\",\"line\":{\"colorbar\":{\"outlinewidth\":0,\"ticks\":\"\"}}}],\"scatterpolargl\":[{\"type\":\"scatterpolargl\",\"marker\":{\"colorbar\":{\"outlinewidth\":0,\"ticks\":\"\"}}}],\"bar\":[{\"error_x\":{\"color\":\"#2a3f5f\"},\"error_y\":{\"color\":\"#2a3f5f\"},\"marker\":{\"line\":{\"color\":\"#E5ECF6\",\"width\":0.5},\"pattern\":{\"fillmode\":\"overlay\",\"size\":10,\"solidity\":0.2}},\"type\":\"bar\"}],\"scattergeo\":[{\"type\":\"scattergeo\",\"marker\":{\"colorbar\":{\"outlinewidth\":0,\"ticks\":\"\"}}}],\"scatterpolar\":[{\"type\":\"scatterpolar\",\"marker\":{\"colorbar\":{\"outlinewidth\":0,\"ticks\":\"\"}}}],\"histogram\":[{\"marker\":{\"pattern\":{\"fillmode\":\"overlay\",\"size\":10,\"solidity\":0.2}},\"type\":\"histogram\"}],\"scattergl\":[{\"type\":\"scattergl\",\"marker\":{\"colorbar\":{\"outlinewidth\":0,\"ticks\":\"\"}}}],\"scatter3d\":[{\"type\":\"scatter3d\",\"line\":{\"colorbar\":{\"outlinewidth\":0,\"ticks\":\"\"}},\"marker\":{\"colorbar\":{\"outlinewidth\":0,\"ticks\":\"\"}}}],\"scattermapbox\":[{\"type\":\"scattermapbox\",\"marker\":{\"colorbar\":{\"outlinewidth\":0,\"ticks\":\"\"}}}],\"scatterternary\":[{\"type\":\"scatterternary\",\"marker\":{\"colorbar\":{\"outlinewidth\":0,\"ticks\":\"\"}}}],\"scattercarpet\":[{\"type\":\"scattercarpet\",\"marker\":{\"colorbar\":{\"outlinewidth\":0,\"ticks\":\"\"}}}],\"carpet\":[{\"aaxis\":{\"endlinecolor\":\"#2a3f5f\",\"gridcolor\":\"white\",\"linecolor\":\"white\",\"minorgridcolor\":\"white\",\"startlinecolor\":\"#2a3f5f\"},\"baxis\":{\"endlinecolor\":\"#2a3f5f\",\"gridcolor\":\"white\",\"linecolor\":\"white\",\"minorgridcolor\":\"white\",\"startlinecolor\":\"#2a3f5f\"},\"type\":\"carpet\"}],\"table\":[{\"cells\":{\"fill\":{\"color\":\"#EBF0F8\"},\"line\":{\"color\":\"white\"}},\"header\":{\"fill\":{\"color\":\"#C8D4E3\"},\"line\":{\"color\":\"white\"}},\"type\":\"table\"}],\"barpolar\":[{\"marker\":{\"line\":{\"color\":\"#E5ECF6\",\"width\":0.5},\"pattern\":{\"fillmode\":\"overlay\",\"size\":10,\"solidity\":0.2}},\"type\":\"barpolar\"}],\"pie\":[{\"automargin\":true,\"type\":\"pie\"}]},\"layout\":{\"autotypenumbers\":\"strict\",\"colorway\":[\"#636efa\",\"#EF553B\",\"#00cc96\",\"#ab63fa\",\"#FFA15A\",\"#19d3f3\",\"#FF6692\",\"#B6E880\",\"#FF97FF\",\"#FECB52\"],\"font\":{\"color\":\"#2a3f5f\"},\"hovermode\":\"closest\",\"hoverlabel\":{\"align\":\"left\"},\"paper_bgcolor\":\"white\",\"plot_bgcolor\":\"#E5ECF6\",\"polar\":{\"bgcolor\":\"#E5ECF6\",\"angularaxis\":{\"gridcolor\":\"white\",\"linecolor\":\"white\",\"ticks\":\"\"},\"radialaxis\":{\"gridcolor\":\"white\",\"linecolor\":\"white\",\"ticks\":\"\"}},\"ternary\":{\"bgcolor\":\"#E5ECF6\",\"aaxis\":{\"gridcolor\":\"white\",\"linecolor\":\"white\",\"ticks\":\"\"},\"baxis\":{\"gridcolor\":\"white\",\"linecolor\":\"white\",\"ticks\":\"\"},\"caxis\":{\"gridcolor\":\"white\",\"linecolor\":\"white\",\"ticks\":\"\"}},\"coloraxis\":{\"colorbar\":{\"outlinewidth\":0,\"ticks\":\"\"}},\"colorscale\":{\"sequential\":[[0.0,\"#0d0887\"],[0.1111111111111111,\"#46039f\"],[0.2222222222222222,\"#7201a8\"],[0.3333333333333333,\"#9c179e\"],[0.4444444444444444,\"#bd3786\"],[0.5555555555555556,\"#d8576b\"],[0.6666666666666666,\"#ed7953\"],[0.7777777777777778,\"#fb9f3a\"],[0.8888888888888888,\"#fdca26\"],[1.0,\"#f0f921\"]],\"sequentialminus\":[[0.0,\"#0d0887\"],[0.1111111111111111,\"#46039f\"],[0.2222222222222222,\"#7201a8\"],[0.3333333333333333,\"#9c179e\"],[0.4444444444444444,\"#bd3786\"],[0.5555555555555556,\"#d8576b\"],[0.6666666666666666,\"#ed7953\"],[0.7777777777777778,\"#fb9f3a\"],[0.8888888888888888,\"#fdca26\"],[1.0,\"#f0f921\"]],\"diverging\":[[0,\"#8e0152\"],[0.1,\"#c51b7d\"],[0.2,\"#de77ae\"],[0.3,\"#f1b6da\"],[0.4,\"#fde0ef\"],[0.5,\"#f7f7f7\"],[0.6,\"#e6f5d0\"],[0.7,\"#b8e186\"],[0.8,\"#7fbc41\"],[0.9,\"#4d9221\"],[1,\"#276419\"]]},\"xaxis\":{\"gridcolor\":\"white\",\"linecolor\":\"white\",\"ticks\":\"\",\"title\":{\"standoff\":15},\"zerolinecolor\":\"white\",\"automargin\":true,\"zerolinewidth\":2},\"yaxis\":{\"gridcolor\":\"white\",\"linecolor\":\"white\",\"ticks\":\"\",\"title\":{\"standoff\":15},\"zerolinecolor\":\"white\",\"automargin\":true,\"zerolinewidth\":2},\"scene\":{\"xaxis\":{\"backgroundcolor\":\"#E5ECF6\",\"gridcolor\":\"white\",\"linecolor\":\"white\",\"showbackground\":true,\"ticks\":\"\",\"zerolinecolor\":\"white\",\"gridwidth\":2},\"yaxis\":{\"backgroundcolor\":\"#E5ECF6\",\"gridcolor\":\"white\",\"linecolor\":\"white\",\"showbackground\":true,\"ticks\":\"\",\"zerolinecolor\":\"white\",\"gridwidth\":2},\"zaxis\":{\"backgroundcolor\":\"#E5ECF6\",\"gridcolor\":\"white\",\"linecolor\":\"white\",\"showbackground\":true,\"ticks\":\"\",\"zerolinecolor\":\"white\",\"gridwidth\":2}},\"shapedefaults\":{\"line\":{\"color\":\"#2a3f5f\"}},\"annotationdefaults\":{\"arrowcolor\":\"#2a3f5f\",\"arrowhead\":0,\"arrowwidth\":1},\"geo\":{\"bgcolor\":\"white\",\"landcolor\":\"#E5ECF6\",\"subunitcolor\":\"white\",\"showland\":true,\"showlakes\":true,\"lakecolor\":\"white\"},\"title\":{\"x\":0.05},\"mapbox\":{\"style\":\"light\"}}},\"xaxis\":{\"anchor\":\"y\",\"domain\":[0.0,1.0],\"title\":{\"text\":\"location\"}},\"yaxis\":{\"anchor\":\"x\",\"domain\":[0.0,1.0],\"title\":{\"text\":\"count\"}},\"coloraxis\":{\"colorbar\":{\"title\":{\"text\":\"count\"}},\"colorscale\":[[0.0,\"rgb(247,251,255)\"],[0.125,\"rgb(222,235,247)\"],[0.25,\"rgb(198,219,239)\"],[0.375,\"rgb(158,202,225)\"],[0.5,\"rgb(107,174,214)\"],[0.625,\"rgb(66,146,198)\"],[0.75,\"rgb(33,113,181)\"],[0.875,\"rgb(8,81,156)\"],[1.0,\"rgb(8,48,107)\"]]},\"legend\":{\"tracegroupgap\":0},\"title\":{\"text\":\"Companies preferred location\"},\"barmode\":\"relative\"},                        {\"responsive\": true}                    ).then(function(){\n",
       "                            \n",
       "var gd = document.getElementById('1ac38ebe-dc72-44de-aad2-320cbc8034fc');\n",
       "var x = new MutationObserver(function (mutations, observer) {{\n",
       "        var display = window.getComputedStyle(gd).display;\n",
       "        if (!display || display === 'none') {{\n",
       "            console.log([gd, 'removed!']);\n",
       "            Plotly.purge(gd);\n",
       "            observer.disconnect();\n",
       "        }}\n",
       "}});\n",
       "\n",
       "// Listen for the removal of the full notebook cells\n",
       "var notebookContainer = gd.closest('#notebook-container');\n",
       "if (notebookContainer) {{\n",
       "    x.observe(notebookContainer, {childList: true});\n",
       "}}\n",
       "\n",
       "// Listen for the clearing of the current output cell\n",
       "var outputEl = gd.closest('.output');\n",
       "if (outputEl) {{\n",
       "    x.observe(outputEl, {childList: true});\n",
       "}}\n",
       "\n",
       "                        })                };                });            </script>        </div>"
      ]
     },
     "metadata": {},
     "output_type": "display_data"
    }
   ],
   "source": [
    "fig = px.bar(locations , x = 'location' , y = 'count' ,labels = {'count': 'count'}, title = 'Companies preferred location', color = 'count',color_continuous_scale = px.colors.sequential.Blues)\n",
    "fig.show()"
   ]
  }
 ],
 "metadata": {
  "kernelspec": {
   "display_name": "Python [conda env:base] *",
   "language": "python",
   "name": "conda-base-py"
  },
  "language_info": {
   "codemirror_mode": {
    "name": "ipython",
    "version": 3
   },
   "file_extension": ".py",
   "mimetype": "text/x-python",
   "name": "python",
   "nbconvert_exporter": "python",
   "pygments_lexer": "ipython3",
   "version": "3.12.4"
  }
 },
 "nbformat": 4,
 "nbformat_minor": 5
}
